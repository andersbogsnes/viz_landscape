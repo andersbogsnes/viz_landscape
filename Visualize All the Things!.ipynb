{
 "cells": [
  {
   "cell_type": "markdown",
   "metadata": {},
   "source": [
    "# Visualize all the Things! Building a visualization in all the major Python plotting libraries\n",
    "\n",
    "![python_drawing](images/python_plot.png)\n",
    "_Stolen from digitalocean.com_\n",
    "\n",
    "There's a ton of new developments in the Python visualization space - it seems like new libraries are popping up left and right!\n",
    "\n",
    "Here I will give you a quick intro to each of these four libraries, and build the same dashboard in each of them, so you can get a feel for the differences between them.\n",
    "\n",
    "As a **Bonus Episode** I productionised two live dashboards, so you can see for yourself all the cool new tricks in the toolbox!\n",
    "\n",
    "# Table of Contents\n",
    "\n",
    "## Matplotlib\n",
    "- [Matplotlib Intro](./Matplotlib/Matplotlib_Intro.ipynb)\n",
    "- [Matplotlib Demo](./Matplotlib/Matplotlib_Demo.ipynb)\n",
    "- [Matplotlib Dashboard](./Matplotlib/Matplotlib_Dashboard.ipynb)\n",
    "\n",
    "## Altair\n",
    "- [Altair Intro](./Altair/Altair_Intro.ipynb)\n",
    "- [Altair Demo](./Altair/Altair_Demo.ipynb)\n",
    "- [Altair Dashboard](./Altair/Altair_Dashboard.ipynb)\n",
    "\n",
    "## Bokeh\n",
    "- [Bokeh Intro](./Bokeh/Bokeh_Intro.ipynb)\n",
    "- [Bokeh Demo](./Bokeh/Bokeh_Demo.ipynb)\n",
    "- [Bokeh Dashboard](./Bokeh/Bokeh_Dashboard.ipynb)\n",
    "\n",
    "## Plotly\n",
    "- [Plotly Intro](./Plotly/Plotly_Intro.ipynb)\n",
    "- [Plotly Demo](./Plotly/Plotly_Demo.ipynb)\n",
    "- [Plotly Dashboard](./Plotly/Plotly_Dashboard.ipynb)\n",
    "\n",
    "\n",
    "## Live Dashboards!\n",
    "I'm paying for the database, since free tier only has 10,000 rows :-( So this will probably get taken down soon!\n",
    "- [Live Bokeh Dashboard!](https://stormy-gorge-57254.herokuapp.com/)\n",
    "- [Live Bokeh Dashboard repo](https://github.com/andersbogsnes/bokeh_app)\n",
    "\n",
    "\n",
    "- [Live Dash Dashboard!](https://whispering-shore-35320.herokuapp.com/)\n",
    "- [Live Dash Dashboard repo](https://github.com/andersbogsnes/dash_app)"
   ]
  },
  {
   "cell_type": "code",
   "execution_count": null,
   "metadata": {},
   "outputs": [],
   "source": []
  }
 ],
 "metadata": {
  "kernelspec": {
   "display_name": "Python 3",
   "language": "python",
   "name": "python3"
  },
  "language_info": {
   "codemirror_mode": {
    "name": "ipython",
    "version": 3
   },
   "file_extension": ".py",
   "mimetype": "text/x-python",
   "name": "python",
   "nbconvert_exporter": "python",
   "pygments_lexer": "ipython3",
   "version": "3.7.3"
  }
 },
 "nbformat": 4,
 "nbformat_minor": 4
}
