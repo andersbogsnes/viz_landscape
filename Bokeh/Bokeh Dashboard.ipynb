{
 "cells": [
  {
   "cell_type": "code",
   "execution_count": 57,
   "metadata": {},
   "outputs": [],
   "source": [
    "import os\n",
    "import sys\n",
    "\n",
    "sys.path.insert(0, os.path.dirname(os.getcwd()))"
   ]
  },
  {
   "cell_type": "code",
   "execution_count": 58,
   "metadata": {},
   "outputs": [],
   "source": [
    "from bokeh.plotting import figure, show, output_notebook, output_file\n",
    "from bokeh.models import ColumnDataSource, HoverTool, Span, BoxSelectTool, LabelSet, LinearColorMapper\n",
    "from bokeh.transform import transform\n",
    "from bokeh.palettes import Viridis11\n",
    "from bokeh.layouts import gridplot, layout\n",
    "from load_data import load_data\n",
    "from config import RED\n",
    "\n",
    "output_file('bokeh_dashboard.html')"
   ]
  },
  {
   "cell_type": "code",
   "execution_count": 59,
   "metadata": {},
   "outputs": [],
   "source": [
    "df = load_data()"
   ]
  },
  {
   "cell_type": "code",
   "execution_count": 60,
   "metadata": {},
   "outputs": [],
   "source": [
    "num_offenses_df = (df.resample('M', on='OCCURRED_ON_DATE').SHOOTING\n",
    "                .agg(num_offenses=\"count\", \n",
    "                     shootings=\"sum\")\n",
    "               )\n",
    "\n",
    "num_offenses_source = ColumnDataSource(num_offenses_df)\n",
    "\n",
    "top10_groups = df.OFFENSE_CODE_GROUP.value_counts().iloc[:10].sort_values(ascending=True).reset_index().rename(columns={\"index\": \"code_group\", \"OFFENSE_CODE_GROUP\": \"counts\"})\n",
    "top10_source = ColumnDataSource(top10_groups)\n",
    "\n",
    "per_day_hour = df.assign(HOUR=lambda x: x.HOUR.astype(str)).groupby(['DAY_OF_WEEK', 'HOUR']).size().rename('counts').reset_index()\n",
    "per_day_hour_source = ColumnDataSource(per_day_hour)\n",
    "\n",
    "day_of_week = ['Monday', 'Tuesday', 'Wednesday', 'Thursday', 'Friday', 'Saturday', 'Sunday']\n",
    "hours = [str(x) for x in range(0, 24)]"
   ]
  },
  {
   "cell_type": "code",
   "execution_count": 61,
   "metadata": {},
   "outputs": [],
   "source": [
    "offenses_tooltip = HoverTool(\n",
    "    tooltips=[('Date', '@OCCURRED_ON_DATE{%b %Y}'),\n",
    "              ('Number of Offenses', '@num_offenses')],\n",
    "    formatters={'OCCURRED_ON_DATE': 'datetime'},\n",
    "    mode=\"vline\"\n",
    ")\n",
    "\n",
    "num_offenses = figure(x_axis_type=\"datetime\", title=\"Number of Offenses per Month\")\n",
    "num_offenses.line(x='OCCURRED_ON_DATE', y='num_offenses', source=num_offenses_source, color=RED, line_width=1.5)\n",
    "num_offenses.add_tools(offenses_tooltip)\n",
    "num_offenses.circle(x='OCCURRED_ON_DATE', y='num_offenses', source=num_offenses_source, color=\"black\", size=4)\n",
    "num_offenses.yaxis.axis_label = 'Number of Offenses'\n",
    "mean_line = Span(location=num_offenses_source.data['num_offenses'].mean(), dimension='width', line_color=RED, line_dash=[8, 3])\n",
    "num_offenses.add_layout(mean_line)"
   ]
  },
  {
   "cell_type": "code",
   "execution_count": 62,
   "metadata": {},
   "outputs": [],
   "source": [
    "shootings_tooltip = HoverTool(\n",
    "    tooltips=[('Date', '@OCCURRED_ON_DATE{%b %Y}'),\n",
    "              ('Number of Shootings', '@shootings')],\n",
    "    formatters={'OCCURRED_ON_DATE': 'datetime'},\n",
    "    mode=\"vline\"\n",
    ")\n",
    "\n",
    "num_shootings = figure(x_axis_type=\"datetime\", title=\"Number of Shootings per Month\")\n",
    "num_shootings.add_tools(shootings_tooltip)\n",
    "num_shootings.line(x='OCCURRED_ON_DATE', y='shootings', source=num_offenses_source, color=RED, line_width=1.5)\n",
    "num_shootings.circle(x='OCCURRED_ON_DATE', y='shootings', source=num_offenses_source, color=\"black\", size=4)\n",
    "num_shootings.yaxis.axis_label = \"Number of Shootings\"\n",
    "mean_shootings = Span(location=num_offenses_source.data[\"shootings\"].mean(), dimension=\"width\", line_color=RED, line_dash=[8, 3])\n",
    "num_shootings.add_layout(mean_shootings)"
   ]
  },
  {
   "cell_type": "code",
   "execution_count": 63,
   "metadata": {},
   "outputs": [],
   "source": [
    "top10 = figure(y_range=top10_groups.code_group, title=\"Top 10 Offence Code Groups\")\n",
    "top10.hbar(right=\"counts\", y=\"code_group\", height=0.8, source=top10_source)\n",
    "labels = LabelSet(x=\"counts\", y=\"code_group\", text=\"counts\", source=top10_source, x_offset=5, y_offset=-10, text_font_size='1em')\n",
    "top10.add_layout(labels)\n",
    "top10.plot_width=800"
   ]
  },
  {
   "cell_type": "code",
   "execution_count": 64,
   "metadata": {},
   "outputs": [],
   "source": [
    "mapper = LinearColorMapper(palette=Viridis11, low=per_day_hour.counts.min(), high=per_day_hour.counts.max())\n",
    "heatmap = figure(title=\"Number of Offenses per Hour and Day Of Week\", x_range=day_of_week, y_range=hours, tools=\"hover\")\n",
    "heatmap.hover.tooltips = [(\"Day of Week\", \"@DAY_OF_WEEK\"),\n",
    "                         (\"Hour of Day\", \"@HOUR\"),\n",
    "                         (\"Number of Offenses\", \"@counts\")]\n",
    "heatmap.rect(x='DAY_OF_WEEK', y='HOUR', source=per_day_hour_source, width=1, height=1, fill_color=transform('counts', mapper), line_color=None)\n",
    "\n",
    "heatmap.axis.axis_line_color = None\n",
    "heatmap.axis.major_tick_line_color = None\n",
    "heatmap.axis.major_label_text_font_size = \"8pt\"\n",
    "heatmap.axis.major_label_standoff = 0"
   ]
  },
  {
   "cell_type": "code",
   "execution_count": 65,
   "metadata": {},
   "outputs": [],
   "source": [
    "# dashboard = gridplot([num_offenses, num_shootings, top10, heatmap], ncols=2, plot_width=600)"
   ]
  },
  {
   "cell_type": "code",
   "execution_count": 69,
   "metadata": {},
   "outputs": [],
   "source": [
    "dashboard = layout([[num_offenses, num_shootings], [top10], [heatmap]], sizing_mode='stretch_width')"
   ]
  },
  {
   "cell_type": "code",
   "execution_count": 70,
   "metadata": {},
   "outputs": [
    {
     "data": {
      "text/html": [
       "\n",
       "\n",
       "\n",
       "\n",
       "\n",
       "\n",
       "  <div class=\"bk-root\" id=\"cc99d143-93a0-4252-8ee3-d715b0436fdc\" data-root-id=\"10814\"></div>\n"
      ]
     },
     "metadata": {},
     "output_type": "display_data"
    },
    {
     "data": {
      "application/javascript": [
       "(function(root) {\n",
       "  function embed_document(root) {\n",
       "    \n",
       "  var docs_json = {\"66c3b7ba-f4ad-47c8-a1b5-c19afc4aa925\":{\"roots\":{\"references\":[{\"attributes\":{\"children\":[{\"id\":\"10811\",\"type\":\"Row\"},{\"id\":\"10812\",\"type\":\"Row\"},{\"id\":\"10813\",\"type\":\"Row\"}],\"sizing_mode\":\"stretch_width\"},\"id\":\"10814\",\"type\":\"Column\"},{\"attributes\":{\"overlay\":{\"id\":\"9940\",\"type\":\"BoxAnnotation\"}},\"id\":\"9491\",\"type\":\"BoxZoomTool\"},{\"attributes\":{},\"id\":\"9492\",\"type\":\"SaveTool\"},{\"attributes\":{},\"id\":\"9490\",\"type\":\"WheelZoomTool\"},{\"attributes\":{},\"id\":\"9957\",\"type\":\"Selection\"},{\"attributes\":{\"base\":24,\"mantissas\":[1,2,4,6,8,12],\"max_interval\":43200000.0,\"min_interval\":3600000.0,\"num_minor_ticks\":0},\"id\":\"9928\",\"type\":\"AdaptiveTicker\"},{\"attributes\":{\"high\":3254,\"low\":370,\"palette\":[\"#440154\",\"#482374\",\"#404387\",\"#345E8D\",\"#29788E\",\"#208F8C\",\"#22A784\",\"#42BE71\",\"#79D151\",\"#BADE27\",\"#FDE724\"]},\"id\":\"9554\",\"type\":\"LinearColorMapper\"},{\"attributes\":{\"days\":[1,2,3,4,5,6,7,8,9,10,11,12,13,14,15,16,17,18,19,20,21,22,23,24,25,26,27,28,29,30,31]},\"id\":\"9929\",\"type\":\"DaysTicker\"},{\"attributes\":{\"below\":[{\"id\":\"9566\",\"type\":\"CategoricalAxis\"}],\"center\":[{\"id\":\"9569\",\"type\":\"Grid\"},{\"id\":\"9573\",\"type\":\"Grid\"}],\"left\":[{\"id\":\"9570\",\"type\":\"CategoricalAxis\"}],\"renderers\":[{\"id\":\"9581\",\"type\":\"GlyphRenderer\"}],\"sizing_mode\":\"stretch_width\",\"title\":{\"id\":\"9556\",\"type\":\"Title\"},\"toolbar\":{\"id\":\"9575\",\"type\":\"Toolbar\"},\"x_range\":{\"id\":\"9558\",\"type\":\"FactorRange\"},\"x_scale\":{\"id\":\"9562\",\"type\":\"CategoricalScale\"},\"y_range\":{\"id\":\"9560\",\"type\":\"FactorRange\"},\"y_scale\":{\"id\":\"9564\",\"type\":\"CategoricalScale\"}},\"id\":\"9555\",\"subtype\":\"Figure\",\"type\":\"Plot\"},{\"attributes\":{\"callback\":null,\"formatters\":{\"OCCURRED_ON_DATE\":\"datetime\"},\"mode\":\"vline\",\"tooltips\":[[\"Date\",\"@OCCURRED_ON_DATE{%b %Y}\"],[\"Number of Shootings\",\"@shootings\"]]},\"id\":\"9467\",\"type\":\"HoverTool\"},{\"attributes\":{\"children\":[{\"id\":\"9555\",\"subtype\":\"Figure\",\"type\":\"Plot\"}],\"sizing_mode\":\"stretch_width\"},\"id\":\"10813\",\"type\":\"Row\"},{\"attributes\":{\"months\":[0,4,8]},\"id\":\"9935\",\"type\":\"MonthsTicker\"},{\"attributes\":{},\"id\":\"9477\",\"type\":\"LinearScale\"},{\"attributes\":{\"callback\":null,\"factors\":[\"Monday\",\"Tuesday\",\"Wednesday\",\"Thursday\",\"Friday\",\"Saturday\",\"Sunday\"]},\"id\":\"9558\",\"type\":\"FactorRange\"},{\"attributes\":{\"axis_line_color\":{\"value\":null},\"formatter\":{\"id\":\"9921\",\"type\":\"CategoricalTickFormatter\"},\"major_label_standoff\":0,\"major_label_text_font_size\":{\"value\":\"8pt\"},\"major_tick_line_color\":{\"value\":null},\"ticker\":{\"id\":\"9567\",\"type\":\"CategoricalTicker\"}},\"id\":\"9566\",\"type\":\"CategoricalAxis\"},{\"attributes\":{\"base\":60,\"mantissas\":[1,2,5,10,15,20,30],\"max_interval\":1800000.0,\"min_interval\":1000.0,\"num_minor_ticks\":0},\"id\":\"9942\",\"type\":\"AdaptiveTicker\"},{\"attributes\":{\"text\":\"Number of Offenses per Hour and Day Of Week\"},\"id\":\"9556\",\"type\":\"Title\"},{\"attributes\":{\"fill_color\":{\"field\":\"counts\",\"transform\":{\"id\":\"9554\",\"type\":\"LinearColorMapper\"}},\"height\":{\"units\":\"data\",\"value\":1},\"line_color\":{\"value\":null},\"width\":{\"units\":\"data\",\"value\":1},\"x\":{\"field\":\"DAY_OF_WEEK\"},\"y\":{\"field\":\"HOUR\"}},\"id\":\"9579\",\"type\":\"Rect\"},{\"attributes\":{\"children\":[{\"id\":\"9421\",\"subtype\":\"Figure\",\"type\":\"Plot\"},{\"id\":\"9468\",\"subtype\":\"Figure\",\"type\":\"Plot\"}],\"sizing_mode\":\"stretch_width\"},\"id\":\"10811\",\"type\":\"Row\"},{\"attributes\":{},\"id\":\"9567\",\"type\":\"CategoricalTicker\"},{\"attributes\":{\"children\":[{\"id\":\"9514\",\"subtype\":\"Figure\",\"type\":\"Plot\"}],\"sizing_mode\":\"stretch_width\"},\"id\":\"10812\",\"type\":\"Row\"},{\"attributes\":{},\"id\":\"9571\",\"type\":\"CategoricalTicker\"},{\"attributes\":{},\"id\":\"9562\",\"type\":\"CategoricalScale\"},{\"attributes\":{\"callback\":null,\"factors\":[\"0\",\"1\",\"2\",\"3\",\"4\",\"5\",\"6\",\"7\",\"8\",\"9\",\"10\",\"11\",\"12\",\"13\",\"14\",\"15\",\"16\",\"17\",\"18\",\"19\",\"20\",\"21\",\"22\",\"23\"]},\"id\":\"9560\",\"type\":\"FactorRange\"},{\"attributes\":{},\"id\":\"9493\",\"type\":\"ResetTool\"},{\"attributes\":{},\"id\":\"9937\",\"type\":\"YearsTicker\"},{\"attributes\":{\"mantissas\":[1,2,5],\"max_interval\":500.0,\"num_minor_ticks\":0},\"id\":\"9926\",\"type\":\"AdaptiveTicker\"},{\"attributes\":{},\"id\":\"9956\",\"type\":\"UnionRenderers\"},{\"attributes\":{\"axis_line_color\":{\"value\":null},\"formatter\":{\"id\":\"9923\",\"type\":\"CategoricalTickFormatter\"},\"major_label_standoff\":0,\"major_label_text_font_size\":{\"value\":\"8pt\"},\"major_tick_line_color\":{\"value\":null},\"ticker\":{\"id\":\"9571\",\"type\":\"CategoricalTicker\"}},\"id\":\"9570\",\"type\":\"CategoricalAxis\"},{\"attributes\":{\"dimension\":1,\"ticker\":{\"id\":\"9571\",\"type\":\"CategoricalTicker\"}},\"id\":\"9573\",\"type\":\"Grid\"},{\"attributes\":{\"ticker\":{\"id\":\"9567\",\"type\":\"CategoricalTicker\"}},\"id\":\"9569\",\"type\":\"Grid\"},{\"attributes\":{\"data_source\":{\"id\":\"9417\",\"type\":\"ColumnDataSource\"},\"glyph\":{\"id\":\"9509\",\"type\":\"Circle\"},\"hover_glyph\":null,\"muted_glyph\":null,\"nonselection_glyph\":{\"id\":\"9510\",\"type\":\"Circle\"},\"selection_glyph\":null,\"view\":{\"id\":\"9512\",\"type\":\"CDSView\"}},\"id\":\"9511\",\"type\":\"GlyphRenderer\"},{\"attributes\":{\"fill_alpha\":{\"value\":0.1},\"fill_color\":{\"value\":\"#1f77b4\"},\"height\":{\"units\":\"data\",\"value\":1},\"line_alpha\":{\"value\":0.1},\"line_color\":{\"value\":\"#1f77b4\"},\"width\":{\"units\":\"data\",\"value\":1},\"x\":{\"field\":\"DAY_OF_WEEK\"},\"y\":{\"field\":\"HOUR\"}},\"id\":\"9580\",\"type\":\"Rect\"},{\"attributes\":{},\"id\":\"9955\",\"type\":\"Selection\"},{\"attributes\":{\"source\":{\"id\":\"9419\",\"type\":\"ColumnDataSource\"}},\"id\":\"9582\",\"type\":\"CDSView\"},{\"attributes\":{\"days\":[1,15]},\"id\":\"9932\",\"type\":\"DaysTicker\"},{\"attributes\":{},\"id\":\"9489\",\"type\":\"PanTool\"},{\"attributes\":{},\"id\":\"9909\",\"type\":\"DatetimeTickFormatter\"},{\"attributes\":{\"callback\":null,\"tooltips\":[[\"Day of Week\",\"@DAY_OF_WEEK\"],[\"Hour of Day\",\"@HOUR\"],[\"Number of Offenses\",\"@counts\"]]},\"id\":\"9574\",\"type\":\"HoverTool\"},{\"attributes\":{\"days\":[1,8,15,22]},\"id\":\"9931\",\"type\":\"DaysTicker\"},{\"attributes\":{\"data_source\":{\"id\":\"9419\",\"type\":\"ColumnDataSource\"},\"glyph\":{\"id\":\"9579\",\"type\":\"Rect\"},\"hover_glyph\":null,\"muted_glyph\":null,\"nonselection_glyph\":{\"id\":\"9580\",\"type\":\"Rect\"},\"selection_glyph\":null,\"view\":{\"id\":\"9582\",\"type\":\"CDSView\"}},\"id\":\"9581\",\"type\":\"GlyphRenderer\"},{\"attributes\":{\"active_drag\":\"auto\",\"active_inspect\":\"auto\",\"active_multi\":null,\"active_scroll\":\"auto\",\"active_tap\":\"auto\",\"tools\":[{\"id\":\"9574\",\"type\":\"HoverTool\"}]},\"id\":\"9575\",\"type\":\"Toolbar\"},{\"attributes\":{},\"id\":\"9913\",\"type\":\"DatetimeTickFormatter\"},{\"attributes\":{\"line_color\":\"#e26855\",\"line_width\":1.5,\"x\":{\"field\":\"OCCURRED_ON_DATE\"},\"y\":{\"field\":\"num_offenses\"}},\"id\":\"9456\",\"type\":\"Line\"},{\"attributes\":{\"source\":{\"id\":\"9417\",\"type\":\"ColumnDataSource\"}},\"id\":\"9512\",\"type\":\"CDSView\"},{\"attributes\":{\"source\":{\"id\":\"9418\",\"type\":\"ColumnDataSource\"},\"text\":{\"field\":\"counts\"},\"text_font_size\":{\"value\":\"1em\"},\"x\":{\"field\":\"counts\"},\"x_offset\":{\"value\":5},\"y\":{\"field\":\"code_group\"},\"y_offset\":{\"value\":-10}},\"id\":\"9552\",\"type\":\"LabelSet\"},{\"attributes\":{\"text\":\"Top 10 Offence Code Groups\"},\"id\":\"9515\",\"type\":\"Title\"},{\"attributes\":{\"source\":{\"id\":\"9417\",\"type\":\"ColumnDataSource\"}},\"id\":\"9507\",\"type\":\"CDSView\"},{\"attributes\":{\"line_alpha\":0.1,\"line_color\":\"#1f77b4\",\"line_width\":1.5,\"x\":{\"field\":\"OCCURRED_ON_DATE\"},\"y\":{\"field\":\"shootings\"}},\"id\":\"9505\",\"type\":\"Line\"},{\"attributes\":{},\"id\":\"9535\",\"type\":\"WheelZoomTool\"},{\"attributes\":{\"callback\":null},\"id\":\"9517\",\"type\":\"DataRange1d\"},{\"attributes\":{\"callback\":null,\"data\":{\"code_group\":[\"Towed\",\"Verbal Disputes\",\"Vandalism\",\"Simple Assault\",\"Drug Violation\",\"Other\",\"Investigate Person\",\"Medical Assistance\",\"Larceny\",\"Motor Vehicle Accident Response\"],\"counts\":[11287,13099,15415,15826,16548,18075,18750,23540,25935,37132],\"index\":[0,1,2,3,4,5,6,7,8,9]},\"selected\":{\"id\":\"9955\",\"type\":\"Selection\"},\"selection_policy\":{\"id\":\"9954\",\"type\":\"UnionRenderers\"}},\"id\":\"9418\",\"type\":\"ColumnDataSource\"},{\"attributes\":{\"ticker\":{\"id\":\"9526\",\"type\":\"BasicTicker\"}},\"id\":\"9529\",\"type\":\"Grid\"},{\"attributes\":{\"callback\":null,\"factors\":[\"Towed\",\"Verbal Disputes\",\"Vandalism\",\"Simple Assault\",\"Drug Violation\",\"Other\",\"Investigate Person\",\"Medical Assistance\",\"Larceny\",\"Motor Vehicle Accident Response\"]},\"id\":\"9519\",\"type\":\"FactorRange\"},{\"attributes\":{},\"id\":\"9526\",\"type\":\"BasicTicker\"},{\"attributes\":{\"active_drag\":\"auto\",\"active_inspect\":\"auto\",\"active_multi\":null,\"active_scroll\":\"auto\",\"active_tap\":\"auto\",\"tools\":[{\"id\":\"9534\",\"type\":\"PanTool\"},{\"id\":\"9535\",\"type\":\"WheelZoomTool\"},{\"id\":\"9536\",\"type\":\"BoxZoomTool\"},{\"id\":\"9537\",\"type\":\"SaveTool\"},{\"id\":\"9538\",\"type\":\"ResetTool\"},{\"id\":\"9539\",\"type\":\"HelpTool\"}]},\"id\":\"9540\",\"type\":\"Toolbar\"},{\"attributes\":{\"callback\":null,\"formatters\":{\"OCCURRED_ON_DATE\":\"datetime\"},\"mode\":\"vline\",\"tooltips\":[[\"Date\",\"@OCCURRED_ON_DATE{%b %Y}\"],[\"Number of Offenses\",\"@num_offenses\"]]},\"id\":\"9420\",\"type\":\"HoverTool\"},{\"attributes\":{\"below\":[{\"id\":\"9432\",\"type\":\"DatetimeAxis\"}],\"center\":[{\"id\":\"9436\",\"type\":\"Grid\"},{\"id\":\"9441\",\"type\":\"Grid\"},{\"id\":\"9466\",\"type\":\"Span\"}],\"left\":[{\"id\":\"9437\",\"type\":\"LinearAxis\"}],\"renderers\":[{\"id\":\"9458\",\"type\":\"GlyphRenderer\"},{\"id\":\"9464\",\"type\":\"GlyphRenderer\"}],\"sizing_mode\":\"stretch_width\",\"title\":{\"id\":\"9422\",\"type\":\"Title\"},\"toolbar\":{\"id\":\"9448\",\"type\":\"Toolbar\"},\"x_range\":{\"id\":\"9424\",\"type\":\"DataRange1d\"},\"x_scale\":{\"id\":\"9428\",\"type\":\"LinearScale\"},\"y_range\":{\"id\":\"9426\",\"type\":\"DataRange1d\"},\"y_scale\":{\"id\":\"9430\",\"type\":\"LinearScale\"}},\"id\":\"9421\",\"subtype\":\"Figure\",\"type\":\"Plot\"},{\"attributes\":{\"data_source\":{\"id\":\"9418\",\"type\":\"ColumnDataSource\"},\"glyph\":{\"id\":\"9548\",\"type\":\"HBar\"},\"hover_glyph\":null,\"muted_glyph\":null,\"nonselection_glyph\":{\"id\":\"9549\",\"type\":\"HBar\"},\"selection_glyph\":null,\"view\":{\"id\":\"9551\",\"type\":\"CDSView\"}},\"id\":\"9550\",\"type\":\"GlyphRenderer\"},{\"attributes\":{\"line_color\":{\"value\":\"#e26855\"},\"line_dash\":[8,3],\"location\":7976.825},\"id\":\"9466\",\"type\":\"Span\"},{\"attributes\":{\"callback\":null},\"id\":\"9471\",\"type\":\"DataRange1d\"},{\"attributes\":{},\"id\":\"9521\",\"type\":\"LinearScale\"},{\"attributes\":{\"formatter\":{\"id\":\"9917\",\"type\":\"BasicTickFormatter\"},\"ticker\":{\"id\":\"9526\",\"type\":\"BasicTicker\"}},\"id\":\"9525\",\"type\":\"LinearAxis\"},{\"attributes\":{\"fill_color\":{\"value\":\"black\"},\"x\":{\"field\":\"OCCURRED_ON_DATE\"},\"y\":{\"field\":\"num_offenses\"}},\"id\":\"9462\",\"type\":\"Circle\"},{\"attributes\":{},\"id\":\"9539\",\"type\":\"HelpTool\"},{\"attributes\":{\"source\":{\"id\":\"9417\",\"type\":\"ColumnDataSource\"}},\"id\":\"9465\",\"type\":\"CDSView\"},{\"attributes\":{\"fill_color\":{\"value\":\"#1f77b4\"},\"height\":{\"value\":0.8},\"line_color\":{\"value\":\"#1f77b4\"},\"right\":{\"field\":\"counts\"},\"y\":{\"field\":\"code_group\"}},\"id\":\"9548\",\"type\":\"HBar\"},{\"attributes\":{},\"id\":\"9475\",\"type\":\"LinearScale\"},{\"attributes\":{\"days\":[1,4,7,10,13,16,19,22,25,28]},\"id\":\"9930\",\"type\":\"DaysTicker\"},{\"attributes\":{\"days\":[1,2,3,4,5,6,7,8,9,10,11,12,13,14,15,16,17,18,19,20,21,22,23,24,25,26,27,28,29,30,31]},\"id\":\"9944\",\"type\":\"DaysTicker\"},{\"attributes\":{\"data_source\":{\"id\":\"9417\",\"type\":\"ColumnDataSource\"},\"glyph\":{\"id\":\"9462\",\"type\":\"Circle\"},\"hover_glyph\":null,\"muted_glyph\":null,\"nonselection_glyph\":{\"id\":\"9463\",\"type\":\"Circle\"},\"selection_glyph\":null,\"view\":{\"id\":\"9465\",\"type\":\"CDSView\"}},\"id\":\"9464\",\"type\":\"GlyphRenderer\"},{\"attributes\":{},\"id\":\"9923\",\"type\":\"CategoricalTickFormatter\"},{\"attributes\":{\"bottom_units\":\"screen\",\"fill_alpha\":{\"value\":0.5},\"fill_color\":{\"value\":\"lightgrey\"},\"left_units\":\"screen\",\"level\":\"overlay\",\"line_alpha\":{\"value\":1.0},\"line_color\":{\"value\":\"black\"},\"line_dash\":[4,4],\"line_width\":{\"value\":2},\"render_mode\":\"css\",\"right_units\":\"screen\",\"top_units\":\"screen\"},\"id\":\"9953\",\"type\":\"BoxAnnotation\"},{\"attributes\":{\"callback\":null},\"id\":\"9424\",\"type\":\"DataRange1d\"},{\"attributes\":{\"base\":24,\"mantissas\":[1,2,4,6,8,12],\"max_interval\":43200000.0,\"min_interval\":3600000.0,\"num_minor_ticks\":0},\"id\":\"9943\",\"type\":\"AdaptiveTicker\"},{\"attributes\":{},\"id\":\"9954\",\"type\":\"UnionRenderers\"},{\"attributes\":{},\"id\":\"9523\",\"type\":\"CategoricalScale\"},{\"attributes\":{},\"id\":\"9446\",\"type\":\"ResetTool\"},{\"attributes\":{\"source\":{\"id\":\"9417\",\"type\":\"ColumnDataSource\"}},\"id\":\"9459\",\"type\":\"CDSView\"},{\"attributes\":{\"fill_alpha\":{\"value\":0.1},\"fill_color\":{\"value\":\"#1f77b4\"},\"line_alpha\":{\"value\":0.1},\"line_color\":{\"value\":\"#1f77b4\"},\"x\":{\"field\":\"OCCURRED_ON_DATE\"},\"y\":{\"field\":\"num_offenses\"}},\"id\":\"9463\",\"type\":\"Circle\"},{\"attributes\":{\"active_drag\":\"auto\",\"active_inspect\":\"auto\",\"active_multi\":null,\"active_scroll\":\"auto\",\"active_tap\":\"auto\",\"tools\":[{\"id\":\"9442\",\"type\":\"PanTool\"},{\"id\":\"9443\",\"type\":\"WheelZoomTool\"},{\"id\":\"9444\",\"type\":\"BoxZoomTool\"},{\"id\":\"9445\",\"type\":\"SaveTool\"},{\"id\":\"9446\",\"type\":\"ResetTool\"},{\"id\":\"9447\",\"type\":\"HelpTool\"},{\"id\":\"9420\",\"type\":\"HoverTool\"}]},\"id\":\"9448\",\"type\":\"Toolbar\"},{\"attributes\":{},\"id\":\"9430\",\"type\":\"LinearScale\"},{\"attributes\":{\"callback\":null},\"id\":\"9426\",\"type\":\"DataRange1d\"},{\"attributes\":{\"dimension\":1,\"ticker\":{\"id\":\"9531\",\"type\":\"CategoricalTicker\"}},\"id\":\"9533\",\"type\":\"Grid\"},{\"attributes\":{},\"id\":\"9915\",\"type\":\"BasicTickFormatter\"},{\"attributes\":{\"days\":[1,8,15,22]},\"id\":\"9946\",\"type\":\"DaysTicker\"},{\"attributes\":{\"days\":[1,4,7,10,13,16,19,22,25,28]},\"id\":\"9945\",\"type\":\"DaysTicker\"},{\"attributes\":{},\"id\":\"9428\",\"type\":\"LinearScale\"},{\"attributes\":{\"fill_alpha\":{\"value\":0.1},\"fill_color\":{\"value\":\"#1f77b4\"},\"line_alpha\":{\"value\":0.1},\"line_color\":{\"value\":\"#1f77b4\"},\"x\":{\"field\":\"OCCURRED_ON_DATE\"},\"y\":{\"field\":\"shootings\"}},\"id\":\"9510\",\"type\":\"Circle\"},{\"attributes\":{},\"id\":\"9485\",\"type\":\"BasicTicker\"},{\"attributes\":{},\"id\":\"9445\",\"type\":\"SaveTool\"},{\"attributes\":{\"data_source\":{\"id\":\"9417\",\"type\":\"ColumnDataSource\"},\"glyph\":{\"id\":\"9504\",\"type\":\"Line\"},\"hover_glyph\":null,\"muted_glyph\":null,\"nonselection_glyph\":{\"id\":\"9505\",\"type\":\"Line\"},\"selection_glyph\":null,\"view\":{\"id\":\"9507\",\"type\":\"CDSView\"}},\"id\":\"9506\",\"type\":\"GlyphRenderer\"},{\"attributes\":{\"text\":\"Number of Offenses per Month\"},\"id\":\"9422\",\"type\":\"Title\"},{\"attributes\":{\"overlay\":{\"id\":\"9953\",\"type\":\"BoxAnnotation\"}},\"id\":\"9536\",\"type\":\"BoxZoomTool\"},{\"attributes\":{},\"id\":\"9447\",\"type\":\"HelpTool\"},{\"attributes\":{\"ticker\":{\"id\":\"9480\",\"type\":\"DatetimeTicker\"}},\"id\":\"9483\",\"type\":\"Grid\"},{\"attributes\":{\"axis_label\":\"Number of Shootings\",\"formatter\":{\"id\":\"9915\",\"type\":\"BasicTickFormatter\"},\"ticker\":{\"id\":\"9485\",\"type\":\"BasicTicker\"}},\"id\":\"9484\",\"type\":\"LinearAxis\"},{\"attributes\":{},\"id\":\"9564\",\"type\":\"CategoricalScale\"},{\"attributes\":{},\"id\":\"9538\",\"type\":\"ResetTool\"},{\"attributes\":{\"dimension\":1,\"ticker\":{\"id\":\"9485\",\"type\":\"BasicTicker\"}},\"id\":\"9488\",\"type\":\"Grid\"},{\"attributes\":{\"months\":[0,1,2,3,4,5,6,7,8,9,10,11]},\"id\":\"9948\",\"type\":\"MonthsTicker\"},{\"attributes\":{\"formatter\":{\"id\":\"9909\",\"type\":\"DatetimeTickFormatter\"},\"ticker\":{\"id\":\"9433\",\"type\":\"DatetimeTicker\"}},\"id\":\"9432\",\"type\":\"DatetimeAxis\"},{\"attributes\":{},\"id\":\"9534\",\"type\":\"PanTool\"},{\"attributes\":{\"mantissas\":[1,2,5],\"max_interval\":500.0,\"num_minor_ticks\":0},\"id\":\"9941\",\"type\":\"AdaptiveTicker\"},{\"attributes\":{\"axis_label\":\"Number of Offenses\",\"formatter\":{\"id\":\"9911\",\"type\":\"BasicTickFormatter\"},\"ticker\":{\"id\":\"9438\",\"type\":\"BasicTicker\"}},\"id\":\"9437\",\"type\":\"LinearAxis\"},{\"attributes\":{},\"id\":\"9919\",\"type\":\"CategoricalTickFormatter\"},{\"attributes\":{\"fill_alpha\":{\"value\":0.1},\"fill_color\":{\"value\":\"#1f77b4\"},\"height\":{\"value\":0.8},\"line_alpha\":{\"value\":0.1},\"line_color\":{\"value\":\"#1f77b4\"},\"right\":{\"field\":\"counts\"},\"y\":{\"field\":\"code_group\"}},\"id\":\"9549\",\"type\":\"HBar\"},{\"attributes\":{\"active_drag\":\"auto\",\"active_inspect\":\"auto\",\"active_multi\":null,\"active_scroll\":\"auto\",\"active_tap\":\"auto\",\"tools\":[{\"id\":\"9489\",\"type\":\"PanTool\"},{\"id\":\"9490\",\"type\":\"WheelZoomTool\"},{\"id\":\"9491\",\"type\":\"BoxZoomTool\"},{\"id\":\"9492\",\"type\":\"SaveTool\"},{\"id\":\"9493\",\"type\":\"ResetTool\"},{\"id\":\"9494\",\"type\":\"HelpTool\"},{\"id\":\"9467\",\"type\":\"HoverTool\"}]},\"id\":\"9495\",\"type\":\"Toolbar\"},{\"attributes\":{\"bottom_units\":\"screen\",\"fill_alpha\":{\"value\":0.5},\"fill_color\":{\"value\":\"lightgrey\"},\"left_units\":\"screen\",\"level\":\"overlay\",\"line_alpha\":{\"value\":1.0},\"line_color\":{\"value\":\"black\"},\"line_dash\":[4,4],\"line_width\":{\"value\":2},\"render_mode\":\"css\",\"right_units\":\"screen\",\"top_units\":\"screen\"},\"id\":\"9940\",\"type\":\"BoxAnnotation\"},{\"attributes\":{\"ticker\":{\"id\":\"9433\",\"type\":\"DatetimeTicker\"}},\"id\":\"9436\",\"type\":\"Grid\"},{\"attributes\":{},\"id\":\"9537\",\"type\":\"SaveTool\"},{\"attributes\":{\"num_minor_ticks\":5,\"tickers\":[{\"id\":\"9926\",\"type\":\"AdaptiveTicker\"},{\"id\":\"9927\",\"type\":\"AdaptiveTicker\"},{\"id\":\"9928\",\"type\":\"AdaptiveTicker\"},{\"id\":\"9929\",\"type\":\"DaysTicker\"},{\"id\":\"9930\",\"type\":\"DaysTicker\"},{\"id\":\"9931\",\"type\":\"DaysTicker\"},{\"id\":\"9932\",\"type\":\"DaysTicker\"},{\"id\":\"9933\",\"type\":\"MonthsTicker\"},{\"id\":\"9934\",\"type\":\"MonthsTicker\"},{\"id\":\"9935\",\"type\":\"MonthsTicker\"},{\"id\":\"9936\",\"type\":\"MonthsTicker\"},{\"id\":\"9937\",\"type\":\"YearsTicker\"}]},\"id\":\"9433\",\"type\":\"DatetimeTicker\"},{\"attributes\":{},\"id\":\"9938\",\"type\":\"UnionRenderers\"},{\"attributes\":{\"num_minor_ticks\":5,\"tickers\":[{\"id\":\"9941\",\"type\":\"AdaptiveTicker\"},{\"id\":\"9942\",\"type\":\"AdaptiveTicker\"},{\"id\":\"9943\",\"type\":\"AdaptiveTicker\"},{\"id\":\"9944\",\"type\":\"DaysTicker\"},{\"id\":\"9945\",\"type\":\"DaysTicker\"},{\"id\":\"9946\",\"type\":\"DaysTicker\"},{\"id\":\"9947\",\"type\":\"DaysTicker\"},{\"id\":\"9948\",\"type\":\"MonthsTicker\"},{\"id\":\"9949\",\"type\":\"MonthsTicker\"},{\"id\":\"9950\",\"type\":\"MonthsTicker\"},{\"id\":\"9951\",\"type\":\"MonthsTicker\"},{\"id\":\"9952\",\"type\":\"YearsTicker\"}]},\"id\":\"9480\",\"type\":\"DatetimeTicker\"},{\"attributes\":{\"base\":60,\"mantissas\":[1,2,5,10,15,20,30],\"max_interval\":1800000.0,\"min_interval\":1000.0,\"num_minor_ticks\":0},\"id\":\"9927\",\"type\":\"AdaptiveTicker\"},{\"attributes\":{\"callback\":null,\"data\":{\"OCCURRED_ON_DATE\":{\"__ndarray__\":\"AAAANhzkdEIAAECIFu50QgAAgNoQ+HRCAAAAx7gBdUIAAEAZswt1QgAAwAVbFXVCAAAAWFUfdUIAAECqTyl1QgAAADGlMnVCAABAg588dUIAAMBvR0Z1QgAAAMJBUHVCAACArulZdUIAAMAA5GN1QgAAAFPebXVCAACAP4Z3dUIAAMCRgIF1QgAAQH4oi3VCAACA0CKVdUIAAMAiHZ91QgAAwEMgqHVCAAAAlhqydUIAAICCwrt1QgAAwNS8xXVCAABAwWTPdUIAAIATX9l1QgAAwGVZ43VCAABAUgHtdUIAAICk+/Z1QgAAAJGjAHZCAABA450KdkIAAIA1mBR2QgAAgFabHXZCAADAqJUndkIAAECVPTF2QgAAgOc3O3ZCAAAA1N9EdkIAAEAm2k52QgAAgHjUWHZCAAAAZXxidkI=\",\"dtype\":\"float64\",\"shape\":[40]},\"num_offenses\":[4191,8324,8342,8414,8308,7818,7991,7835,7308,8199,8101,8578,8558,8619,8938,8522,8583,7922,7951,7993,7408,8179,8069,8715,8985,9075,9206,8940,8846,7935,7535,7782,6937,7768,7916,8906,8834,8538,8337,667],\"shootings\":[12,41,38,22,15,21,36,17,13,12,13,22,34,28,28,21,33,28,30,22,23,18,38,22,41,39,22,37,38,23,47,31,16,9,20,27,34,27,21,0]},\"selected\":{\"id\":\"9939\",\"type\":\"Selection\"},\"selection_policy\":{\"id\":\"9938\",\"type\":\"UnionRenderers\"}},\"id\":\"9417\",\"type\":\"ColumnDataSource\"},{\"attributes\":{},\"id\":\"9531\",\"type\":\"CategoricalTicker\"},{\"attributes\":{\"below\":[{\"id\":\"9479\",\"type\":\"DatetimeAxis\"}],\"center\":[{\"id\":\"9483\",\"type\":\"Grid\"},{\"id\":\"9488\",\"type\":\"Grid\"},{\"id\":\"9513\",\"type\":\"Span\"}],\"left\":[{\"id\":\"9484\",\"type\":\"LinearAxis\"}],\"renderers\":[{\"id\":\"9506\",\"type\":\"GlyphRenderer\"},{\"id\":\"9511\",\"type\":\"GlyphRenderer\"}],\"sizing_mode\":\"stretch_width\",\"title\":{\"id\":\"9469\",\"type\":\"Title\"},\"toolbar\":{\"id\":\"9495\",\"type\":\"Toolbar\"},\"x_range\":{\"id\":\"9471\",\"type\":\"DataRange1d\"},\"x_scale\":{\"id\":\"9475\",\"type\":\"LinearScale\"},\"y_range\":{\"id\":\"9473\",\"type\":\"DataRange1d\"},\"y_scale\":{\"id\":\"9477\",\"type\":\"LinearScale\"}},\"id\":\"9468\",\"subtype\":\"Figure\",\"type\":\"Plot\"},{\"attributes\":{\"below\":[{\"id\":\"9525\",\"type\":\"LinearAxis\"}],\"center\":[{\"id\":\"9529\",\"type\":\"Grid\"},{\"id\":\"9533\",\"type\":\"Grid\"},{\"id\":\"9552\",\"type\":\"LabelSet\"}],\"left\":[{\"id\":\"9530\",\"type\":\"CategoricalAxis\"}],\"plot_width\":800,\"renderers\":[{\"id\":\"9550\",\"type\":\"GlyphRenderer\"}],\"sizing_mode\":\"stretch_width\",\"title\":{\"id\":\"9515\",\"type\":\"Title\"},\"toolbar\":{\"id\":\"9540\",\"type\":\"Toolbar\"},\"x_range\":{\"id\":\"9517\",\"type\":\"DataRange1d\"},\"x_scale\":{\"id\":\"9521\",\"type\":\"LinearScale\"},\"y_range\":{\"id\":\"9519\",\"type\":\"FactorRange\"},\"y_scale\":{\"id\":\"9523\",\"type\":\"CategoricalScale\"}},\"id\":\"9514\",\"subtype\":\"Figure\",\"type\":\"Plot\"},{\"attributes\":{},\"id\":\"9443\",\"type\":\"WheelZoomTool\"},{\"attributes\":{},\"id\":\"9921\",\"type\":\"CategoricalTickFormatter\"},{\"attributes\":{\"data_source\":{\"id\":\"9417\",\"type\":\"ColumnDataSource\"},\"glyph\":{\"id\":\"9456\",\"type\":\"Line\"},\"hover_glyph\":null,\"muted_glyph\":null,\"nonselection_glyph\":{\"id\":\"9457\",\"type\":\"Line\"},\"selection_glyph\":null,\"view\":{\"id\":\"9459\",\"type\":\"CDSView\"}},\"id\":\"9458\",\"type\":\"GlyphRenderer\"},{\"attributes\":{\"formatter\":{\"id\":\"9913\",\"type\":\"DatetimeTickFormatter\"},\"ticker\":{\"id\":\"9480\",\"type\":\"DatetimeTicker\"}},\"id\":\"9479\",\"type\":\"DatetimeAxis\"},{\"attributes\":{\"months\":[0,4,8]},\"id\":\"9950\",\"type\":\"MonthsTicker\"},{\"attributes\":{\"overlay\":{\"id\":\"9925\",\"type\":\"BoxAnnotation\"}},\"id\":\"9444\",\"type\":\"BoxZoomTool\"},{\"attributes\":{},\"id\":\"9952\",\"type\":\"YearsTicker\"},{\"attributes\":{\"formatter\":{\"id\":\"9919\",\"type\":\"CategoricalTickFormatter\"},\"ticker\":{\"id\":\"9531\",\"type\":\"CategoricalTicker\"}},\"id\":\"9530\",\"type\":\"CategoricalAxis\"},{\"attributes\":{},\"id\":\"9494\",\"type\":\"HelpTool\"},{\"attributes\":{\"line_alpha\":0.1,\"line_color\":\"#1f77b4\",\"line_width\":1.5,\"x\":{\"field\":\"OCCURRED_ON_DATE\"},\"y\":{\"field\":\"num_offenses\"}},\"id\":\"9457\",\"type\":\"Line\"},{\"attributes\":{\"source\":{\"id\":\"9418\",\"type\":\"ColumnDataSource\"}},\"id\":\"9551\",\"type\":\"CDSView\"},{\"attributes\":{\"months\":[0,6]},\"id\":\"9951\",\"type\":\"MonthsTicker\"},{\"attributes\":{\"text\":\"Number of Shootings per Month\"},\"id\":\"9469\",\"type\":\"Title\"},{\"attributes\":{\"line_color\":{\"value\":\"#e26855\"},\"line_dash\":[8,3],\"location\":25.475},\"id\":\"9513\",\"type\":\"Span\"},{\"attributes\":{\"fill_color\":{\"value\":\"black\"},\"x\":{\"field\":\"OCCURRED_ON_DATE\"},\"y\":{\"field\":\"shootings\"}},\"id\":\"9509\",\"type\":\"Circle\"},{\"attributes\":{\"callback\":null},\"id\":\"9473\",\"type\":\"DataRange1d\"},{\"attributes\":{},\"id\":\"9917\",\"type\":\"BasicTickFormatter\"},{\"attributes\":{\"months\":[0,2,4,6,8,10]},\"id\":\"9949\",\"type\":\"MonthsTicker\"},{\"attributes\":{\"bottom_units\":\"screen\",\"fill_alpha\":{\"value\":0.5},\"fill_color\":{\"value\":\"lightgrey\"},\"left_units\":\"screen\",\"level\":\"overlay\",\"line_alpha\":{\"value\":1.0},\"line_color\":{\"value\":\"black\"},\"line_dash\":[4,4],\"line_width\":{\"value\":2},\"render_mode\":\"css\",\"right_units\":\"screen\",\"top_units\":\"screen\"},\"id\":\"9925\",\"type\":\"BoxAnnotation\"},{\"attributes\":{\"months\":[0,6]},\"id\":\"9936\",\"type\":\"MonthsTicker\"},{\"attributes\":{},\"id\":\"9911\",\"type\":\"BasicTickFormatter\"},{\"attributes\":{},\"id\":\"9438\",\"type\":\"BasicTicker\"},{\"attributes\":{\"line_color\":\"#e26855\",\"line_width\":1.5,\"x\":{\"field\":\"OCCURRED_ON_DATE\"},\"y\":{\"field\":\"shootings\"}},\"id\":\"9504\",\"type\":\"Line\"},{\"attributes\":{\"months\":[0,1,2,3,4,5,6,7,8,9,10,11]},\"id\":\"9933\",\"type\":\"MonthsTicker\"},{\"attributes\":{\"dimension\":1,\"ticker\":{\"id\":\"9438\",\"type\":\"BasicTicker\"}},\"id\":\"9441\",\"type\":\"Grid\"},{\"attributes\":{},\"id\":\"9939\",\"type\":\"Selection\"},{\"attributes\":{\"months\":[0,2,4,6,8,10]},\"id\":\"9934\",\"type\":\"MonthsTicker\"},{\"attributes\":{\"days\":[1,15]},\"id\":\"9947\",\"type\":\"DaysTicker\"},{\"attributes\":{},\"id\":\"9442\",\"type\":\"PanTool\"},{\"attributes\":{\"callback\":null,\"data\":{\"DAY_OF_WEEK\":[\"Monday\",\"Monday\",\"Monday\",\"Monday\",\"Monday\",\"Monday\",\"Monday\",\"Monday\",\"Monday\",\"Monday\",\"Monday\",\"Monday\",\"Monday\",\"Monday\",\"Monday\",\"Monday\",\"Monday\",\"Monday\",\"Monday\",\"Monday\",\"Monday\",\"Monday\",\"Monday\",\"Monday\",\"Tuesday\",\"Tuesday\",\"Tuesday\",\"Tuesday\",\"Tuesday\",\"Tuesday\",\"Tuesday\",\"Tuesday\",\"Tuesday\",\"Tuesday\",\"Tuesday\",\"Tuesday\",\"Tuesday\",\"Tuesday\",\"Tuesday\",\"Tuesday\",\"Tuesday\",\"Tuesday\",\"Tuesday\",\"Tuesday\",\"Tuesday\",\"Tuesday\",\"Tuesday\",\"Tuesday\",\"Wednesday\",\"Wednesday\",\"Wednesday\",\"Wednesday\",\"Wednesday\",\"Wednesday\",\"Wednesday\",\"Wednesday\",\"Wednesday\",\"Wednesday\",\"Wednesday\",\"Wednesday\",\"Wednesday\",\"Wednesday\",\"Wednesday\",\"Wednesday\",\"Wednesday\",\"Wednesday\",\"Wednesday\",\"Wednesday\",\"Wednesday\",\"Wednesday\",\"Wednesday\",\"Wednesday\",\"Thursday\",\"Thursday\",\"Thursday\",\"Thursday\",\"Thursday\",\"Thursday\",\"Thursday\",\"Thursday\",\"Thursday\",\"Thursday\",\"Thursday\",\"Thursday\",\"Thursday\",\"Thursday\",\"Thursday\",\"Thursday\",\"Thursday\",\"Thursday\",\"Thursday\",\"Thursday\",\"Thursday\",\"Thursday\",\"Thursday\",\"Thursday\",\"Friday\",\"Friday\",\"Friday\",\"Friday\",\"Friday\",\"Friday\",\"Friday\",\"Friday\",\"Friday\",\"Friday\",\"Friday\",\"Friday\",\"Friday\",\"Friday\",\"Friday\",\"Friday\",\"Friday\",\"Friday\",\"Friday\",\"Friday\",\"Friday\",\"Friday\",\"Friday\",\"Friday\",\"Saturday\",\"Saturday\",\"Saturday\",\"Saturday\",\"Saturday\",\"Saturday\",\"Saturday\",\"Saturday\",\"Saturday\",\"Saturday\",\"Saturday\",\"Saturday\",\"Saturday\",\"Saturday\",\"Saturday\",\"Saturday\",\"Saturday\",\"Saturday\",\"Saturday\",\"Saturday\",\"Saturday\",\"Saturday\",\"Saturday\",\"Saturday\",\"Sunday\",\"Sunday\",\"Sunday\",\"Sunday\",\"Sunday\",\"Sunday\",\"Sunday\",\"Sunday\",\"Sunday\",\"Sunday\",\"Sunday\",\"Sunday\",\"Sunday\",\"Sunday\",\"Sunday\",\"Sunday\",\"Sunday\",\"Sunday\",\"Sunday\",\"Sunday\",\"Sunday\",\"Sunday\",\"Sunday\",\"Sunday\"],\"HOUR\":[\"0\",\"1\",\"10\",\"11\",\"12\",\"13\",\"14\",\"15\",\"16\",\"17\",\"18\",\"19\",\"2\",\"20\",\"21\",\"22\",\"23\",\"3\",\"4\",\"5\",\"6\",\"7\",\"8\",\"9\",\"0\",\"1\",\"10\",\"11\",\"12\",\"13\",\"14\",\"15\",\"16\",\"17\",\"18\",\"19\",\"2\",\"20\",\"21\",\"22\",\"23\",\"3\",\"4\",\"5\",\"6\",\"7\",\"8\",\"9\",\"0\",\"1\",\"10\",\"11\",\"12\",\"13\",\"14\",\"15\",\"16\",\"17\",\"18\",\"19\",\"2\",\"20\",\"21\",\"22\",\"23\",\"3\",\"4\",\"5\",\"6\",\"7\",\"8\",\"9\",\"0\",\"1\",\"10\",\"11\",\"12\",\"13\",\"14\",\"15\",\"16\",\"17\",\"18\",\"19\",\"2\",\"20\",\"21\",\"22\",\"23\",\"3\",\"4\",\"5\",\"6\",\"7\",\"8\",\"9\",\"0\",\"1\",\"10\",\"11\",\"12\",\"13\",\"14\",\"15\",\"16\",\"17\",\"18\",\"19\",\"2\",\"20\",\"21\",\"22\",\"23\",\"3\",\"4\",\"5\",\"6\",\"7\",\"8\",\"9\",\"0\",\"1\",\"10\",\"11\",\"12\",\"13\",\"14\",\"15\",\"16\",\"17\",\"18\",\"19\",\"2\",\"20\",\"21\",\"22\",\"23\",\"3\",\"4\",\"5\",\"6\",\"7\",\"8\",\"9\",\"0\",\"1\",\"10\",\"11\",\"12\",\"13\",\"14\",\"15\",\"16\",\"17\",\"18\",\"19\",\"2\",\"20\",\"21\",\"22\",\"23\",\"3\",\"4\",\"5\",\"6\",\"7\",\"8\",\"9\"],\"counts\":[2000,1059,2432,2375,2746,2479,2485,2438,3030,3254,3089,2606,846,2319,2003,1634,1243,583,386,417,709,1352,2046,2148,1897,1018,2415,2529,2682,2493,2555,2506,3080,3241,3218,2768,641,2369,1925,1757,1296,460,399,462,787,1418,2145,2322,1997,942,2493,2600,2845,2595,2605,2479,3053,3153,3098,2724,798,2265,2043,1739,1298,412,370,444,823,1441,2135,2377,2039,1077,2496,2548,2821,2577,2536,2531,2974,2931,3033,2510,774,2349,2070,1795,1492,526,436,508,866,1405,2037,2325,2161,1275,2669,2552,2862,2499,2601,2566,3073,3252,3010,2565,952,2307,2091,2160,1936,532,441,485,768,1398,2041,2299,2612,1855,2064,2042,2588,2223,2378,2084,2445,2555,2528,2301,1827,2132,2077,2113,1951,957,672,478,530,1078,1516,1812,2400,2043,1778,1802,2135,1980,2029,1918,2216,2377,2326,2114,1855,2109,1902,1728,1380,1119,704,517,543,758,1123,1457],\"index\":[0,1,2,3,4,5,6,7,8,9,10,11,12,13,14,15,16,17,18,19,20,21,22,23,24,25,26,27,28,29,30,31,32,33,34,35,36,37,38,39,40,41,42,43,44,45,46,47,48,49,50,51,52,53,54,55,56,57,58,59,60,61,62,63,64,65,66,67,68,69,70,71,72,73,74,75,76,77,78,79,80,81,82,83,84,85,86,87,88,89,90,91,92,93,94,95,96,97,98,99,100,101,102,103,104,105,106,107,108,109,110,111,112,113,114,115,116,117,118,119,120,121,122,123,124,125,126,127,128,129,130,131,132,133,134,135,136,137,138,139,140,141,142,143,144,145,146,147,148,149,150,151,152,153,154,155,156,157,158,159,160,161,162,163,164,165,166,167]},\"selected\":{\"id\":\"9957\",\"type\":\"Selection\"},\"selection_policy\":{\"id\":\"9956\",\"type\":\"UnionRenderers\"}},\"id\":\"9419\",\"type\":\"ColumnDataSource\"}],\"root_ids\":[\"10814\"]},\"title\":\"Bokeh Application\",\"version\":\"1.3.4\"}};\n",
       "  var render_items = [{\"docid\":\"66c3b7ba-f4ad-47c8-a1b5-c19afc4aa925\",\"roots\":{\"10814\":\"cc99d143-93a0-4252-8ee3-d715b0436fdc\"}}];\n",
       "  root.Bokeh.embed.embed_items_notebook(docs_json, render_items);\n",
       "\n",
       "  }\n",
       "  if (root.Bokeh !== undefined) {\n",
       "    embed_document(root);\n",
       "  } else {\n",
       "    var attempts = 0;\n",
       "    var timer = setInterval(function(root) {\n",
       "      if (root.Bokeh !== undefined) {\n",
       "        embed_document(root);\n",
       "        clearInterval(timer);\n",
       "      }\n",
       "      attempts++;\n",
       "      if (attempts > 100) {\n",
       "        console.log(\"Bokeh: ERROR: Unable to run BokehJS code because BokehJS library is missing\");\n",
       "        clearInterval(timer);\n",
       "      }\n",
       "    }, 10, root)\n",
       "  }\n",
       "})(window);"
      ],
      "application/vnd.bokehjs_exec.v0+json": ""
     },
     "metadata": {
      "application/vnd.bokehjs_exec.v0+json": {
       "id": "10814"
      }
     },
     "output_type": "display_data"
    }
   ],
   "source": [
    "show(dashboard)"
   ]
  }
 ],
 "metadata": {
  "kernelspec": {
   "display_name": "Python 3",
   "language": "python",
   "name": "python3"
  },
  "language_info": {
   "codemirror_mode": {
    "name": "ipython",
    "version": 3
   },
   "file_extension": ".py",
   "mimetype": "text/x-python",
   "name": "python",
   "nbconvert_exporter": "python",
   "pygments_lexer": "ipython3",
   "version": "3.7.3"
  }
 },
 "nbformat": 4,
 "nbformat_minor": 4
}
