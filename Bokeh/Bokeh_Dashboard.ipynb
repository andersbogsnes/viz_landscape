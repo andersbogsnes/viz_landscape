{
 "cells": [
  {
   "cell_type": "code",
   "execution_count": 2,
   "metadata": {},
   "outputs": [],
   "source": [
    "import os\n",
    "import sys\n",
    "\n",
    "sys.path.insert(0, os.path.dirname(os.getcwd()))"
   ]
  },
  {
   "cell_type": "code",
   "execution_count": 3,
   "metadata": {},
   "outputs": [],
   "source": [
    "from bokeh.plotting import figure, show, output_notebook, output_file\n",
    "from bokeh.models import ColumnDataSource, HoverTool, Span, BoxSelectTool, LabelSet, LinearColorMapper\n",
    "from bokeh.transform import transform\n",
    "from bokeh.palettes import Viridis11\n",
    "from bokeh.layouts import gridplot, layout\n",
    "from load_data import load_data\n",
    "from config import RED\n",
    "\n",
    "output_file('bokeh_dashboard.html')"
   ]
  },
  {
   "cell_type": "code",
   "execution_count": 4,
   "metadata": {},
   "outputs": [],
   "source": [
    "df = load_data()"
   ]
  },
  {
   "cell_type": "code",
   "execution_count": 5,
   "metadata": {},
   "outputs": [],
   "source": [
    "num_offenses_df = (df.resample('M', on='OCCURRED_ON_DATE').SHOOTING\n",
    "                .agg(num_offenses=\"count\", \n",
    "                     shootings=\"sum\")\n",
    "               )\n",
    "\n",
    "num_offenses_source = ColumnDataSource(num_offenses_df)\n",
    "\n",
    "top10_groups = df.OFFENSE_CODE_GROUP.value_counts().iloc[:10].sort_values(ascending=True).reset_index().rename(columns={\"index\": \"code_group\", \"OFFENSE_CODE_GROUP\": \"counts\"})\n",
    "top10_source = ColumnDataSource(top10_groups)\n",
    "\n",
    "per_day_hour = df.assign(HOUR=lambda x: x.HOUR.astype(str)).groupby(['DAY_OF_WEEK', 'HOUR']).size().rename('counts').reset_index()\n",
    "per_day_hour_source = ColumnDataSource(per_day_hour)\n",
    "\n",
    "day_of_week = ['Monday', 'Tuesday', 'Wednesday', 'Thursday', 'Friday', 'Saturday', 'Sunday']\n",
    "hours = [str(x) for x in range(0, 24)]"
   ]
  },
  {
   "cell_type": "code",
   "execution_count": 6,
   "metadata": {},
   "outputs": [],
   "source": [
    "offenses_tooltip = HoverTool(\n",
    "    tooltips=[('Date', '@OCCURRED_ON_DATE{%b %Y}'),\n",
    "              ('Number of Offenses', '@num_offenses')],\n",
    "    formatters={'OCCURRED_ON_DATE': 'datetime'},\n",
    "    mode=\"vline\"\n",
    ")\n",
    "\n",
    "num_offenses = figure(x_axis_type=\"datetime\", title=\"Number of Offenses per Month\")\n",
    "num_offenses.line(x='OCCURRED_ON_DATE', y='num_offenses', source=num_offenses_source, color=RED, line_width=1.5)\n",
    "num_offenses.add_tools(offenses_tooltip)\n",
    "num_offenses.circle(x='OCCURRED_ON_DATE', y='num_offenses', source=num_offenses_source, color=\"black\", size=4)\n",
    "num_offenses.yaxis.axis_label = 'Number of Offenses'\n",
    "mean_line = Span(location=num_offenses_source.data['num_offenses'].mean(), dimension='width', line_color=RED, line_dash=[8, 3])\n",
    "num_offenses.add_layout(mean_line)"
   ]
  },
  {
   "cell_type": "code",
   "execution_count": 7,
   "metadata": {},
   "outputs": [],
   "source": [
    "shootings_tooltip = HoverTool(\n",
    "    tooltips=[('Date', '@OCCURRED_ON_DATE{%b %Y}'),\n",
    "              ('Number of Shootings', '@shootings')],\n",
    "    formatters={'OCCURRED_ON_DATE': 'datetime'},\n",
    "    mode=\"vline\"\n",
    ")\n",
    "\n",
    "num_shootings = figure(x_axis_type=\"datetime\", title=\"Number of Shootings per Month\")\n",
    "num_shootings.add_tools(shootings_tooltip)\n",
    "num_shootings.line(x='OCCURRED_ON_DATE', y='shootings', source=num_offenses_source, color=RED, line_width=1.5)\n",
    "num_shootings.circle(x='OCCURRED_ON_DATE', y='shootings', source=num_offenses_source, color=\"black\", size=4)\n",
    "num_shootings.yaxis.axis_label = \"Number of Shootings\"\n",
    "mean_shootings = Span(location=num_offenses_source.data[\"shootings\"].mean(), dimension=\"width\", line_color=RED, line_dash=[8, 3])\n",
    "num_shootings.add_layout(mean_shootings)"
   ]
  },
  {
   "cell_type": "code",
   "execution_count": 8,
   "metadata": {},
   "outputs": [],
   "source": [
    "top10 = figure(y_range=top10_groups.code_group, title=\"Top 10 Offence Code Groups\")\n",
    "top10.hbar(right=\"counts\", y=\"code_group\", height=0.8, source=top10_source)\n",
    "labels = LabelSet(x=\"counts\", y=\"code_group\", text=\"counts\", source=top10_source, x_offset=5, y_offset=-10, text_font_size='1em')\n",
    "top10.add_layout(labels)\n",
    "top10.plot_width=800"
   ]
  },
  {
   "cell_type": "code",
   "execution_count": 9,
   "metadata": {},
   "outputs": [],
   "source": [
    "mapper = LinearColorMapper(palette=Viridis11, low=per_day_hour.counts.min(), high=per_day_hour.counts.max())\n",
    "heatmap = figure(title=\"Number of Offenses per Hour and Day Of Week\", x_range=day_of_week, y_range=hours, tools=\"hover\")\n",
    "heatmap.hover.tooltips = [(\"Day of Week\", \"@DAY_OF_WEEK\"),\n",
    "                         (\"Hour of Day\", \"@HOUR\"),\n",
    "                         (\"Number of Offenses\", \"@counts\")]\n",
    "heatmap.rect(x='DAY_OF_WEEK', y='HOUR', source=per_day_hour_source, width=1, height=1, fill_color=transform('counts', mapper), line_color=None)\n",
    "\n",
    "heatmap.axis.axis_line_color = None\n",
    "heatmap.axis.major_tick_line_color = None\n",
    "heatmap.axis.major_label_text_font_size = \"8pt\"\n",
    "heatmap.axis.major_label_standoff = 0"
   ]
  },
  {
   "cell_type": "code",
   "execution_count": 10,
   "metadata": {},
   "outputs": [],
   "source": [
    "# dashboard = gridplot([num_offenses, num_shootings, top10, heatmap], ncols=2, plot_width=600)"
   ]
  },
  {
   "cell_type": "code",
   "execution_count": 11,
   "metadata": {},
   "outputs": [],
   "source": [
    "dashboard = layout([[num_offenses, num_shootings], [top10], [heatmap]], sizing_mode='stretch_width')"
   ]
  },
  {
   "cell_type": "code",
   "execution_count": 12,
   "metadata": {},
   "outputs": [],
   "source": [
    "show(dashboard)"
   ]
  }
 ],
 "metadata": {
  "kernelspec": {
   "display_name": "Python 3",
   "language": "python",
   "name": "python3"
  },
  "language_info": {
   "codemirror_mode": {
    "name": "ipython",
    "version": 3
   },
   "file_extension": ".py",
   "mimetype": "text/x-python",
   "name": "python",
   "nbconvert_exporter": "python",
   "pygments_lexer": "ipython3",
   "version": "3.7.3"
  }
 },
 "nbformat": 4,
 "nbformat_minor": 4
}
