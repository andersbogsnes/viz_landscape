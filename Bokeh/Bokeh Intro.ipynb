{
 "cells": [
  {
   "cell_type": "markdown",
   "metadata": {},
   "source": [
    "# Bokeh Intro\n",
    "\n",
    "![bokeh_logo](../images/bokeh_logo.png)\n",
    "\n",
    "Bokeh was one of the first projects to implement the \"JavaScript rendering from Python\" idea, creating their own BokehJS library to handle the plotting. Bokeh was started by Anaconda and is fairly popular in the Data Science community as a result. Bokeh has a longer production history, and libraries like Dask use it to run their Dashboard Visualizations. It's definitely one of the more mature of the new breed.\n",
    "\n",
    "Let's get a feel for it with some basic plots by generating some numpy data"
   ]
  },
  {
   "cell_type": "code",
   "execution_count": 18,
   "metadata": {},
   "outputs": [],
   "source": [
    "from bokeh.plotting import figure, output_notebook\n",
    "from bokeh.io import show\n",
    "from bokeh.layouts import layout\n",
    "import numpy as np\n",
    "\n",
    "x = np.arange(1, 50)\n",
    "y = np.sin(x)"
   ]
  },
  {
   "cell_type": "markdown",
   "metadata": {},
   "source": [
    "Bokeh has had Notebook support from the beginning, just run one line and Bokeh sets up the JavaScript stuff needed to render the graphs"
   ]
  },
  {
   "cell_type": "code",
   "execution_count": 3,
   "metadata": {},
   "outputs": [
    {
     "data": {
      "text/html": [
       "\n",
       "    <div class=\"bk-root\">\n",
       "        <a href=\"https://bokeh.pydata.org\" target=\"_blank\" class=\"bk-logo bk-logo-small bk-logo-notebook\"></a>\n",
       "        <span id=\"1001\">Loading BokehJS ...</span>\n",
       "    </div>"
      ]
     },
     "metadata": {},
     "output_type": "display_data"
    },
    {
     "data": {
      "application/javascript": [
       "\n",
       "(function(root) {\n",
       "  function now() {\n",
       "    return new Date();\n",
       "  }\n",
       "\n",
       "  var force = true;\n",
       "\n",
       "  if (typeof root._bokeh_onload_callbacks === \"undefined\" || force === true) {\n",
       "    root._bokeh_onload_callbacks = [];\n",
       "    root._bokeh_is_loading = undefined;\n",
       "  }\n",
       "\n",
       "  var JS_MIME_TYPE = 'application/javascript';\n",
       "  var HTML_MIME_TYPE = 'text/html';\n",
       "  var EXEC_MIME_TYPE = 'application/vnd.bokehjs_exec.v0+json';\n",
       "  var CLASS_NAME = 'output_bokeh rendered_html';\n",
       "\n",
       "  /**\n",
       "   * Render data to the DOM node\n",
       "   */\n",
       "  function render(props, node) {\n",
       "    var script = document.createElement(\"script\");\n",
       "    node.appendChild(script);\n",
       "  }\n",
       "\n",
       "  /**\n",
       "   * Handle when an output is cleared or removed\n",
       "   */\n",
       "  function handleClearOutput(event, handle) {\n",
       "    var cell = handle.cell;\n",
       "\n",
       "    var id = cell.output_area._bokeh_element_id;\n",
       "    var server_id = cell.output_area._bokeh_server_id;\n",
       "    // Clean up Bokeh references\n",
       "    if (id != null && id in Bokeh.index) {\n",
       "      Bokeh.index[id].model.document.clear();\n",
       "      delete Bokeh.index[id];\n",
       "    }\n",
       "\n",
       "    if (server_id !== undefined) {\n",
       "      // Clean up Bokeh references\n",
       "      var cmd = \"from bokeh.io.state import curstate; print(curstate().uuid_to_server['\" + server_id + \"'].get_sessions()[0].document.roots[0]._id)\";\n",
       "      cell.notebook.kernel.execute(cmd, {\n",
       "        iopub: {\n",
       "          output: function(msg) {\n",
       "            var id = msg.content.text.trim();\n",
       "            if (id in Bokeh.index) {\n",
       "              Bokeh.index[id].model.document.clear();\n",
       "              delete Bokeh.index[id];\n",
       "            }\n",
       "          }\n",
       "        }\n",
       "      });\n",
       "      // Destroy server and session\n",
       "      var cmd = \"import bokeh.io.notebook as ion; ion.destroy_server('\" + server_id + \"')\";\n",
       "      cell.notebook.kernel.execute(cmd);\n",
       "    }\n",
       "  }\n",
       "\n",
       "  /**\n",
       "   * Handle when a new output is added\n",
       "   */\n",
       "  function handleAddOutput(event, handle) {\n",
       "    var output_area = handle.output_area;\n",
       "    var output = handle.output;\n",
       "\n",
       "    // limit handleAddOutput to display_data with EXEC_MIME_TYPE content only\n",
       "    if ((output.output_type != \"display_data\") || (!output.data.hasOwnProperty(EXEC_MIME_TYPE))) {\n",
       "      return\n",
       "    }\n",
       "\n",
       "    var toinsert = output_area.element.find(\".\" + CLASS_NAME.split(' ')[0]);\n",
       "\n",
       "    if (output.metadata[EXEC_MIME_TYPE][\"id\"] !== undefined) {\n",
       "      toinsert[toinsert.length - 1].firstChild.textContent = output.data[JS_MIME_TYPE];\n",
       "      // store reference to embed id on output_area\n",
       "      output_area._bokeh_element_id = output.metadata[EXEC_MIME_TYPE][\"id\"];\n",
       "    }\n",
       "    if (output.metadata[EXEC_MIME_TYPE][\"server_id\"] !== undefined) {\n",
       "      var bk_div = document.createElement(\"div\");\n",
       "      bk_div.innerHTML = output.data[HTML_MIME_TYPE];\n",
       "      var script_attrs = bk_div.children[0].attributes;\n",
       "      for (var i = 0; i < script_attrs.length; i++) {\n",
       "        toinsert[toinsert.length - 1].firstChild.setAttribute(script_attrs[i].name, script_attrs[i].value);\n",
       "      }\n",
       "      // store reference to server id on output_area\n",
       "      output_area._bokeh_server_id = output.metadata[EXEC_MIME_TYPE][\"server_id\"];\n",
       "    }\n",
       "  }\n",
       "\n",
       "  function register_renderer(events, OutputArea) {\n",
       "\n",
       "    function append_mime(data, metadata, element) {\n",
       "      // create a DOM node to render to\n",
       "      var toinsert = this.create_output_subarea(\n",
       "        metadata,\n",
       "        CLASS_NAME,\n",
       "        EXEC_MIME_TYPE\n",
       "      );\n",
       "      this.keyboard_manager.register_events(toinsert);\n",
       "      // Render to node\n",
       "      var props = {data: data, metadata: metadata[EXEC_MIME_TYPE]};\n",
       "      render(props, toinsert[toinsert.length - 1]);\n",
       "      element.append(toinsert);\n",
       "      return toinsert\n",
       "    }\n",
       "\n",
       "    /* Handle when an output is cleared or removed */\n",
       "    events.on('clear_output.CodeCell', handleClearOutput);\n",
       "    events.on('delete.Cell', handleClearOutput);\n",
       "\n",
       "    /* Handle when a new output is added */\n",
       "    events.on('output_added.OutputArea', handleAddOutput);\n",
       "\n",
       "    /**\n",
       "     * Register the mime type and append_mime function with output_area\n",
       "     */\n",
       "    OutputArea.prototype.register_mime_type(EXEC_MIME_TYPE, append_mime, {\n",
       "      /* Is output safe? */\n",
       "      safe: true,\n",
       "      /* Index of renderer in `output_area.display_order` */\n",
       "      index: 0\n",
       "    });\n",
       "  }\n",
       "\n",
       "  // register the mime type if in Jupyter Notebook environment and previously unregistered\n",
       "  if (root.Jupyter !== undefined) {\n",
       "    var events = require('base/js/events');\n",
       "    var OutputArea = require('notebook/js/outputarea').OutputArea;\n",
       "\n",
       "    if (OutputArea.prototype.mime_types().indexOf(EXEC_MIME_TYPE) == -1) {\n",
       "      register_renderer(events, OutputArea);\n",
       "    }\n",
       "  }\n",
       "\n",
       "  \n",
       "  if (typeof (root._bokeh_timeout) === \"undefined\" || force === true) {\n",
       "    root._bokeh_timeout = Date.now() + 5000;\n",
       "    root._bokeh_failed_load = false;\n",
       "  }\n",
       "\n",
       "  var NB_LOAD_WARNING = {'data': {'text/html':\n",
       "     \"<div style='background-color: #fdd'>\\n\"+\n",
       "     \"<p>\\n\"+\n",
       "     \"BokehJS does not appear to have successfully loaded. If loading BokehJS from CDN, this \\n\"+\n",
       "     \"may be due to a slow or bad network connection. Possible fixes:\\n\"+\n",
       "     \"</p>\\n\"+\n",
       "     \"<ul>\\n\"+\n",
       "     \"<li>re-rerun `output_notebook()` to attempt to load from CDN again, or</li>\\n\"+\n",
       "     \"<li>use INLINE resources instead, as so:</li>\\n\"+\n",
       "     \"</ul>\\n\"+\n",
       "     \"<code>\\n\"+\n",
       "     \"from bokeh.resources import INLINE\\n\"+\n",
       "     \"output_notebook(resources=INLINE)\\n\"+\n",
       "     \"</code>\\n\"+\n",
       "     \"</div>\"}};\n",
       "\n",
       "  function display_loaded() {\n",
       "    var el = document.getElementById(\"1001\");\n",
       "    if (el != null) {\n",
       "      el.textContent = \"BokehJS is loading...\";\n",
       "    }\n",
       "    if (root.Bokeh !== undefined) {\n",
       "      if (el != null) {\n",
       "        el.textContent = \"BokehJS \" + root.Bokeh.version + \" successfully loaded.\";\n",
       "      }\n",
       "    } else if (Date.now() < root._bokeh_timeout) {\n",
       "      setTimeout(display_loaded, 100)\n",
       "    }\n",
       "  }\n",
       "\n",
       "\n",
       "  function run_callbacks() {\n",
       "    try {\n",
       "      root._bokeh_onload_callbacks.forEach(function(callback) {\n",
       "        if (callback != null)\n",
       "          callback();\n",
       "      });\n",
       "    } finally {\n",
       "      delete root._bokeh_onload_callbacks\n",
       "    }\n",
       "    console.debug(\"Bokeh: all callbacks have finished\");\n",
       "  }\n",
       "\n",
       "  function load_libs(css_urls, js_urls, callback) {\n",
       "    if (css_urls == null) css_urls = [];\n",
       "    if (js_urls == null) js_urls = [];\n",
       "\n",
       "    root._bokeh_onload_callbacks.push(callback);\n",
       "    if (root._bokeh_is_loading > 0) {\n",
       "      console.debug(\"Bokeh: BokehJS is being loaded, scheduling callback at\", now());\n",
       "      return null;\n",
       "    }\n",
       "    if (js_urls == null || js_urls.length === 0) {\n",
       "      run_callbacks();\n",
       "      return null;\n",
       "    }\n",
       "    console.debug(\"Bokeh: BokehJS not loaded, scheduling load and callback at\", now());\n",
       "    root._bokeh_is_loading = css_urls.length + js_urls.length;\n",
       "\n",
       "    function on_load() {\n",
       "      root._bokeh_is_loading--;\n",
       "      if (root._bokeh_is_loading === 0) {\n",
       "        console.debug(\"Bokeh: all BokehJS libraries/stylesheets loaded\");\n",
       "        run_callbacks()\n",
       "      }\n",
       "    }\n",
       "\n",
       "    function on_error() {\n",
       "      console.error(\"failed to load \" + url);\n",
       "    }\n",
       "\n",
       "    for (var i = 0; i < css_urls.length; i++) {\n",
       "      var url = css_urls[i];\n",
       "      const element = document.createElement(\"link\");\n",
       "      element.onload = on_load;\n",
       "      element.onerror = on_error;\n",
       "      element.rel = \"stylesheet\";\n",
       "      element.type = \"text/css\";\n",
       "      element.href = url;\n",
       "      console.debug(\"Bokeh: injecting link tag for BokehJS stylesheet: \", url);\n",
       "      document.body.appendChild(element);\n",
       "    }\n",
       "\n",
       "    for (var i = 0; i < js_urls.length; i++) {\n",
       "      var url = js_urls[i];\n",
       "      var element = document.createElement('script');\n",
       "      element.onload = on_load;\n",
       "      element.onerror = on_error;\n",
       "      element.async = false;\n",
       "      element.src = url;\n",
       "      console.debug(\"Bokeh: injecting script tag for BokehJS library: \", url);\n",
       "      document.head.appendChild(element);\n",
       "    }\n",
       "  };var element = document.getElementById(\"1001\");\n",
       "  if (element == null) {\n",
       "    console.error(\"Bokeh: ERROR: autoload.js configured with elementid '1001' but no matching script tag was found. \")\n",
       "    return false;\n",
       "  }\n",
       "\n",
       "  function inject_raw_css(css) {\n",
       "    const element = document.createElement(\"style\");\n",
       "    element.appendChild(document.createTextNode(css));\n",
       "    document.body.appendChild(element);\n",
       "  }\n",
       "\n",
       "  var js_urls = [\"https://cdn.pydata.org/bokeh/release/bokeh-1.3.4.min.js\", \"https://cdn.pydata.org/bokeh/release/bokeh-widgets-1.3.4.min.js\", \"https://cdn.pydata.org/bokeh/release/bokeh-tables-1.3.4.min.js\", \"https://cdn.pydata.org/bokeh/release/bokeh-gl-1.3.4.min.js\"];\n",
       "  var css_urls = [];\n",
       "\n",
       "  var inline_js = [\n",
       "    function(Bokeh) {\n",
       "      Bokeh.set_log_level(\"info\");\n",
       "    },\n",
       "    \n",
       "    function(Bokeh) {\n",
       "      \n",
       "    },\n",
       "    function(Bokeh) {} // ensure no trailing comma for IE\n",
       "  ];\n",
       "\n",
       "  function run_inline_js() {\n",
       "    \n",
       "    if ((root.Bokeh !== undefined) || (force === true)) {\n",
       "      for (var i = 0; i < inline_js.length; i++) {\n",
       "        inline_js[i].call(root, root.Bokeh);\n",
       "      }if (force === true) {\n",
       "        display_loaded();\n",
       "      }} else if (Date.now() < root._bokeh_timeout) {\n",
       "      setTimeout(run_inline_js, 100);\n",
       "    } else if (!root._bokeh_failed_load) {\n",
       "      console.log(\"Bokeh: BokehJS failed to load within specified timeout.\");\n",
       "      root._bokeh_failed_load = true;\n",
       "    } else if (force !== true) {\n",
       "      var cell = $(document.getElementById(\"1001\")).parents('.cell').data().cell;\n",
       "      cell.output_area.append_execute_result(NB_LOAD_WARNING)\n",
       "    }\n",
       "\n",
       "  }\n",
       "\n",
       "  if (root._bokeh_is_loading === 0) {\n",
       "    console.debug(\"Bokeh: BokehJS loaded, going straight to plotting\");\n",
       "    run_inline_js();\n",
       "  } else {\n",
       "    load_libs(css_urls, js_urls, function() {\n",
       "      console.debug(\"Bokeh: BokehJS plotting callback run at\", now());\n",
       "      run_inline_js();\n",
       "    });\n",
       "  }\n",
       "}(window));"
      ],
      "application/vnd.bokehjs_load.v0+json": "\n(function(root) {\n  function now() {\n    return new Date();\n  }\n\n  var force = true;\n\n  if (typeof root._bokeh_onload_callbacks === \"undefined\" || force === true) {\n    root._bokeh_onload_callbacks = [];\n    root._bokeh_is_loading = undefined;\n  }\n\n  \n\n  \n  if (typeof (root._bokeh_timeout) === \"undefined\" || force === true) {\n    root._bokeh_timeout = Date.now() + 5000;\n    root._bokeh_failed_load = false;\n  }\n\n  var NB_LOAD_WARNING = {'data': {'text/html':\n     \"<div style='background-color: #fdd'>\\n\"+\n     \"<p>\\n\"+\n     \"BokehJS does not appear to have successfully loaded. If loading BokehJS from CDN, this \\n\"+\n     \"may be due to a slow or bad network connection. Possible fixes:\\n\"+\n     \"</p>\\n\"+\n     \"<ul>\\n\"+\n     \"<li>re-rerun `output_notebook()` to attempt to load from CDN again, or</li>\\n\"+\n     \"<li>use INLINE resources instead, as so:</li>\\n\"+\n     \"</ul>\\n\"+\n     \"<code>\\n\"+\n     \"from bokeh.resources import INLINE\\n\"+\n     \"output_notebook(resources=INLINE)\\n\"+\n     \"</code>\\n\"+\n     \"</div>\"}};\n\n  function display_loaded() {\n    var el = document.getElementById(\"1001\");\n    if (el != null) {\n      el.textContent = \"BokehJS is loading...\";\n    }\n    if (root.Bokeh !== undefined) {\n      if (el != null) {\n        el.textContent = \"BokehJS \" + root.Bokeh.version + \" successfully loaded.\";\n      }\n    } else if (Date.now() < root._bokeh_timeout) {\n      setTimeout(display_loaded, 100)\n    }\n  }\n\n\n  function run_callbacks() {\n    try {\n      root._bokeh_onload_callbacks.forEach(function(callback) {\n        if (callback != null)\n          callback();\n      });\n    } finally {\n      delete root._bokeh_onload_callbacks\n    }\n    console.debug(\"Bokeh: all callbacks have finished\");\n  }\n\n  function load_libs(css_urls, js_urls, callback) {\n    if (css_urls == null) css_urls = [];\n    if (js_urls == null) js_urls = [];\n\n    root._bokeh_onload_callbacks.push(callback);\n    if (root._bokeh_is_loading > 0) {\n      console.debug(\"Bokeh: BokehJS is being loaded, scheduling callback at\", now());\n      return null;\n    }\n    if (js_urls == null || js_urls.length === 0) {\n      run_callbacks();\n      return null;\n    }\n    console.debug(\"Bokeh: BokehJS not loaded, scheduling load and callback at\", now());\n    root._bokeh_is_loading = css_urls.length + js_urls.length;\n\n    function on_load() {\n      root._bokeh_is_loading--;\n      if (root._bokeh_is_loading === 0) {\n        console.debug(\"Bokeh: all BokehJS libraries/stylesheets loaded\");\n        run_callbacks()\n      }\n    }\n\n    function on_error() {\n      console.error(\"failed to load \" + url);\n    }\n\n    for (var i = 0; i < css_urls.length; i++) {\n      var url = css_urls[i];\n      const element = document.createElement(\"link\");\n      element.onload = on_load;\n      element.onerror = on_error;\n      element.rel = \"stylesheet\";\n      element.type = \"text/css\";\n      element.href = url;\n      console.debug(\"Bokeh: injecting link tag for BokehJS stylesheet: \", url);\n      document.body.appendChild(element);\n    }\n\n    for (var i = 0; i < js_urls.length; i++) {\n      var url = js_urls[i];\n      var element = document.createElement('script');\n      element.onload = on_load;\n      element.onerror = on_error;\n      element.async = false;\n      element.src = url;\n      console.debug(\"Bokeh: injecting script tag for BokehJS library: \", url);\n      document.head.appendChild(element);\n    }\n  };var element = document.getElementById(\"1001\");\n  if (element == null) {\n    console.error(\"Bokeh: ERROR: autoload.js configured with elementid '1001' but no matching script tag was found. \")\n    return false;\n  }\n\n  function inject_raw_css(css) {\n    const element = document.createElement(\"style\");\n    element.appendChild(document.createTextNode(css));\n    document.body.appendChild(element);\n  }\n\n  var js_urls = [\"https://cdn.pydata.org/bokeh/release/bokeh-1.3.4.min.js\", \"https://cdn.pydata.org/bokeh/release/bokeh-widgets-1.3.4.min.js\", \"https://cdn.pydata.org/bokeh/release/bokeh-tables-1.3.4.min.js\", \"https://cdn.pydata.org/bokeh/release/bokeh-gl-1.3.4.min.js\"];\n  var css_urls = [];\n\n  var inline_js = [\n    function(Bokeh) {\n      Bokeh.set_log_level(\"info\");\n    },\n    \n    function(Bokeh) {\n      \n    },\n    function(Bokeh) {} // ensure no trailing comma for IE\n  ];\n\n  function run_inline_js() {\n    \n    if ((root.Bokeh !== undefined) || (force === true)) {\n      for (var i = 0; i < inline_js.length; i++) {\n        inline_js[i].call(root, root.Bokeh);\n      }if (force === true) {\n        display_loaded();\n      }} else if (Date.now() < root._bokeh_timeout) {\n      setTimeout(run_inline_js, 100);\n    } else if (!root._bokeh_failed_load) {\n      console.log(\"Bokeh: BokehJS failed to load within specified timeout.\");\n      root._bokeh_failed_load = true;\n    } else if (force !== true) {\n      var cell = $(document.getElementById(\"1001\")).parents('.cell').data().cell;\n      cell.output_area.append_execute_result(NB_LOAD_WARNING)\n    }\n\n  }\n\n  if (root._bokeh_is_loading === 0) {\n    console.debug(\"Bokeh: BokehJS loaded, going straight to plotting\");\n    run_inline_js();\n  } else {\n    load_libs(css_urls, js_urls, function() {\n      console.debug(\"Bokeh: BokehJS plotting callback run at\", now());\n      run_inline_js();\n    });\n  }\n}(window));"
     },
     "metadata": {},
     "output_type": "display_data"
    }
   ],
   "source": [
    "output_notebook()"
   ]
  },
  {
   "cell_type": "code",
   "execution_count": 21,
   "metadata": {},
   "outputs": [
    {
     "data": {
      "text/html": [
       "\n",
       "\n",
       "\n",
       "\n",
       "\n",
       "\n",
       "  <div class=\"bk-root\" id=\"bfe96d94-5587-47e1-8af9-4d09f7daeb39\" data-root-id=\"1849\"></div>\n"
      ]
     },
     "metadata": {},
     "output_type": "display_data"
    },
    {
     "data": {
      "application/javascript": [
       "(function(root) {\n",
       "  function embed_document(root) {\n",
       "    \n",
       "  var docs_json = {\"b4414daa-e398-44be-b9ad-7ab0a5a4fa13\":{\"roots\":{\"references\":[{\"attributes\":{\"below\":[{\"id\":\"1858\",\"type\":\"LinearAxis\"}],\"center\":[{\"id\":\"1862\",\"type\":\"Grid\"},{\"id\":\"1867\",\"type\":\"Grid\"}],\"left\":[{\"id\":\"1863\",\"type\":\"LinearAxis\"}],\"renderers\":[{\"id\":\"1884\",\"type\":\"GlyphRenderer\"}],\"title\":{\"id\":\"1944\",\"type\":\"Title\"},\"toolbar\":{\"id\":\"1874\",\"type\":\"Toolbar\"},\"x_range\":{\"id\":\"1850\",\"type\":\"DataRange1d\"},\"x_scale\":{\"id\":\"1854\",\"type\":\"LinearScale\"},\"y_range\":{\"id\":\"1852\",\"type\":\"DataRange1d\"},\"y_scale\":{\"id\":\"1856\",\"type\":\"LinearScale\"}},\"id\":\"1849\",\"subtype\":\"Figure\",\"type\":\"Plot\"},{\"attributes\":{},\"id\":\"1864\",\"type\":\"BasicTicker\"},{\"attributes\":{\"callback\":null},\"id\":\"1850\",\"type\":\"DataRange1d\"},{\"attributes\":{},\"id\":\"1868\",\"type\":\"PanTool\"},{\"attributes\":{},\"id\":\"1859\",\"type\":\"BasicTicker\"},{\"attributes\":{},\"id\":\"1946\",\"type\":\"BasicTickFormatter\"},{\"attributes\":{\"source\":{\"id\":\"1881\",\"type\":\"ColumnDataSource\"}},\"id\":\"1885\",\"type\":\"CDSView\"},{\"attributes\":{\"dimension\":1,\"ticker\":{\"id\":\"1864\",\"type\":\"BasicTicker\"}},\"id\":\"1867\",\"type\":\"Grid\"},{\"attributes\":{\"data_source\":{\"id\":\"1881\",\"type\":\"ColumnDataSource\"},\"glyph\":{\"id\":\"1882\",\"type\":\"Line\"},\"hover_glyph\":null,\"muted_glyph\":null,\"nonselection_glyph\":{\"id\":\"1883\",\"type\":\"Line\"},\"selection_glyph\":null,\"view\":{\"id\":\"1885\",\"type\":\"CDSView\"}},\"id\":\"1884\",\"type\":\"GlyphRenderer\"},{\"attributes\":{\"bottom_units\":\"screen\",\"fill_alpha\":{\"value\":0.5},\"fill_color\":{\"value\":\"lightgrey\"},\"left_units\":\"screen\",\"level\":\"overlay\",\"line_alpha\":{\"value\":1.0},\"line_color\":{\"value\":\"black\"},\"line_dash\":[4,4],\"line_width\":{\"value\":2},\"render_mode\":\"css\",\"right_units\":\"screen\",\"top_units\":\"screen\"},\"id\":\"1949\",\"type\":\"BoxAnnotation\"},{\"attributes\":{},\"id\":\"1873\",\"type\":\"HelpTool\"},{\"attributes\":{\"formatter\":{\"id\":\"1946\",\"type\":\"BasicTickFormatter\"},\"ticker\":{\"id\":\"1859\",\"type\":\"BasicTicker\"}},\"id\":\"1858\",\"type\":\"LinearAxis\"},{\"attributes\":{},\"id\":\"1854\",\"type\":\"LinearScale\"},{\"attributes\":{\"overlay\":{\"id\":\"1949\",\"type\":\"BoxAnnotation\"}},\"id\":\"1870\",\"type\":\"BoxZoomTool\"},{\"attributes\":{\"callback\":null,\"data\":{\"x\":[1,2,3,4,5,6,7,8,9,10,11,12,13,14,15,16,17,18,19,20,21,22,23,24,25,26,27,28,29,30,31,32,33,34,35,36,37,38,39,40,41,42,43,44,45,46,47,48,49],\"y\":{\"__ndarray__\":\"7gwJj1Tt6j9GtNHq9hjtP1vVtm04EMI/rh7c3bk36L8zmeD1ga/uv8CisIrx4dG/CAptwggG5T97zyig0qjvP5EvDDYmYNo/Uk/z9Z5o4b/rky526//vv6Vl1/eaK+G/BsWBSATk2j9FXnwyDrPvP+jCznEoz+Q/+CBfCAJt0r8riEKsxMPuvyYeE2gWCOi/z4T1KC0vwz/gPF312DbtP+3XsAvixeo/9Llun6Iggr8CfSTQPBTrvw8UGXl/+uy/nYAe8+bwwL+DJcP64GboPzC65bChmu4/1hRFO4VW0T/nyaYgfTzlvz2QHH/0ne+/gfxAtsDb2b9mZUKRSaXhPzhiQShH/+8/oX040D7u4D/oy4xIWGfbv8ThjAGnvO+/D+mPSN2X5L+dmkfqs/fSP+oGBGxp1+4/AH8CjvfX5z/I0XVjv03Ev+0PTP8kVO2/E1GnEOad6r9BsJ0VdCCSPwObPQeaOus/sRiiPHPb7D/29tr4fKK/P4FPrMyKlei/12eCSCSF7r8=\",\"dtype\":\"float64\",\"shape\":[49]}},\"selected\":{\"id\":\"1951\",\"type\":\"Selection\"},\"selection_policy\":{\"id\":\"1950\",\"type\":\"UnionRenderers\"}},\"id\":\"1881\",\"type\":\"ColumnDataSource\"},{\"attributes\":{\"text\":\"\"},\"id\":\"1944\",\"type\":\"Title\"},{\"attributes\":{},\"id\":\"1856\",\"type\":\"LinearScale\"},{\"attributes\":{},\"id\":\"1950\",\"type\":\"UnionRenderers\"},{\"attributes\":{\"callback\":null},\"id\":\"1852\",\"type\":\"DataRange1d\"},{\"attributes\":{\"active_drag\":\"auto\",\"active_inspect\":\"auto\",\"active_multi\":null,\"active_scroll\":\"auto\",\"active_tap\":\"auto\",\"tools\":[{\"id\":\"1868\",\"type\":\"PanTool\"},{\"id\":\"1869\",\"type\":\"WheelZoomTool\"},{\"id\":\"1870\",\"type\":\"BoxZoomTool\"},{\"id\":\"1871\",\"type\":\"SaveTool\"},{\"id\":\"1872\",\"type\":\"ResetTool\"},{\"id\":\"1873\",\"type\":\"HelpTool\"}]},\"id\":\"1874\",\"type\":\"Toolbar\"},{\"attributes\":{},\"id\":\"1872\",\"type\":\"ResetTool\"},{\"attributes\":{\"formatter\":{\"id\":\"1948\",\"type\":\"BasicTickFormatter\"},\"ticker\":{\"id\":\"1864\",\"type\":\"BasicTicker\"}},\"id\":\"1863\",\"type\":\"LinearAxis\"},{\"attributes\":{},\"id\":\"1869\",\"type\":\"WheelZoomTool\"},{\"attributes\":{},\"id\":\"1951\",\"type\":\"Selection\"},{\"attributes\":{},\"id\":\"1871\",\"type\":\"SaveTool\"},{\"attributes\":{},\"id\":\"1948\",\"type\":\"BasicTickFormatter\"},{\"attributes\":{\"line_color\":\"#1f77b4\",\"x\":{\"field\":\"x\"},\"y\":{\"field\":\"y\"}},\"id\":\"1882\",\"type\":\"Line\"},{\"attributes\":{\"ticker\":{\"id\":\"1859\",\"type\":\"BasicTicker\"}},\"id\":\"1862\",\"type\":\"Grid\"},{\"attributes\":{\"line_alpha\":0.1,\"line_color\":\"#1f77b4\",\"x\":{\"field\":\"x\"},\"y\":{\"field\":\"y\"}},\"id\":\"1883\",\"type\":\"Line\"}],\"root_ids\":[\"1849\"]},\"title\":\"Bokeh Application\",\"version\":\"1.3.4\"}};\n",
       "  var render_items = [{\"docid\":\"b4414daa-e398-44be-b9ad-7ab0a5a4fa13\",\"roots\":{\"1849\":\"bfe96d94-5587-47e1-8af9-4d09f7daeb39\"}}];\n",
       "  root.Bokeh.embed.embed_items_notebook(docs_json, render_items);\n",
       "\n",
       "  }\n",
       "  if (root.Bokeh !== undefined) {\n",
       "    embed_document(root);\n",
       "  } else {\n",
       "    var attempts = 0;\n",
       "    var timer = setInterval(function(root) {\n",
       "      if (root.Bokeh !== undefined) {\n",
       "        embed_document(root);\n",
       "        clearInterval(timer);\n",
       "      }\n",
       "      attempts++;\n",
       "      if (attempts > 100) {\n",
       "        console.log(\"Bokeh: ERROR: Unable to run BokehJS code because BokehJS library is missing\");\n",
       "        clearInterval(timer);\n",
       "      }\n",
       "    }, 10, root)\n",
       "  }\n",
       "})(window);"
      ],
      "application/vnd.bokehjs_exec.v0+json": ""
     },
     "metadata": {
      "application/vnd.bokehjs_exec.v0+json": {
       "id": "1849"
      }
     },
     "output_type": "display_data"
    }
   ],
   "source": [
    "p = figure()\n",
    "p.line(x, y)\n",
    "show(p)"
   ]
  },
  {
   "cell_type": "markdown",
   "metadata": {},
   "source": [
    "Out of the box, we get a fair amount of interactivity - we are able to pan and zoom.\n",
    "\n",
    "The API also seems very matplotlib OOPish"
   ]
  },
  {
   "cell_type": "code",
   "execution_count": 17,
   "metadata": {},
   "outputs": [
    {
     "data": {
      "text/html": [
       "\n",
       "\n",
       "\n",
       "\n",
       "\n",
       "\n",
       "  <div class=\"bk-root\" id=\"d1f8740e-20b3-4f63-9c56-68259ea52932\" data-root-id=\"1518\"></div>\n"
      ]
     },
     "metadata": {},
     "output_type": "display_data"
    },
    {
     "data": {
      "application/javascript": [
       "(function(root) {\n",
       "  function embed_document(root) {\n",
       "    \n",
       "  var docs_json = {\"2c142853-3fc0-4fe6-9f70-98adb37e1dbd\":{\"roots\":{\"references\":[{\"attributes\":{\"below\":[{\"id\":\"1527\",\"type\":\"LinearAxis\"}],\"center\":[{\"id\":\"1531\",\"type\":\"Grid\"},{\"id\":\"1536\",\"type\":\"Grid\"}],\"left\":[{\"id\":\"1532\",\"type\":\"LinearAxis\"}],\"renderers\":[{\"id\":\"1553\",\"type\":\"GlyphRenderer\"}],\"title\":{\"id\":\"1580\",\"type\":\"Title\"},\"toolbar\":{\"id\":\"1543\",\"type\":\"Toolbar\"},\"x_range\":{\"id\":\"1519\",\"type\":\"DataRange1d\"},\"x_scale\":{\"id\":\"1523\",\"type\":\"LinearScale\"},\"y_range\":{\"id\":\"1521\",\"type\":\"DataRange1d\"},\"y_scale\":{\"id\":\"1525\",\"type\":\"LinearScale\"}},\"id\":\"1518\",\"subtype\":\"Figure\",\"type\":\"Plot\"},{\"attributes\":{},\"id\":\"1541\",\"type\":\"ResetTool\"},{\"attributes\":{},\"id\":\"1542\",\"type\":\"HelpTool\"},{\"attributes\":{\"callback\":null},\"id\":\"1521\",\"type\":\"DataRange1d\"},{\"attributes\":{},\"id\":\"1537\",\"type\":\"PanTool\"},{\"attributes\":{\"source\":{\"id\":\"1550\",\"type\":\"ColumnDataSource\"}},\"id\":\"1554\",\"type\":\"CDSView\"},{\"attributes\":{},\"id\":\"1540\",\"type\":\"SaveTool\"},{\"attributes\":{\"formatter\":{\"id\":\"1582\",\"type\":\"BasicTickFormatter\"},\"ticker\":{\"id\":\"1528\",\"type\":\"BasicTicker\"}},\"id\":\"1527\",\"type\":\"LinearAxis\"},{\"attributes\":{},\"id\":\"1525\",\"type\":\"LinearScale\"},{\"attributes\":{\"fill_alpha\":{\"value\":0.1},\"fill_color\":{\"value\":\"#1f77b4\"},\"line_alpha\":{\"value\":0.1},\"line_color\":{\"value\":\"#1f77b4\"},\"top\":{\"field\":\"top\"},\"width\":{\"value\":0.8},\"x\":{\"field\":\"x\"}},\"id\":\"1552\",\"type\":\"VBar\"},{\"attributes\":{},\"id\":\"1533\",\"type\":\"BasicTicker\"},{\"attributes\":{\"callback\":null,\"data\":{\"top\":{\"__ndarray__\":\"7gwJj1Tt6j9GtNHq9hjtP1vVtm04EMI/rh7c3bk36L8zmeD1ga/uv8CisIrx4dG/CAptwggG5T97zyig0qjvP5EvDDYmYNo/Uk/z9Z5o4b/rky526//vv6Vl1/eaK+G/BsWBSATk2j9FXnwyDrPvP+jCznEoz+Q/+CBfCAJt0r8riEKsxMPuvyYeE2gWCOi/z4T1KC0vwz/gPF312DbtP+3XsAvixeo/9Llun6Iggr8CfSTQPBTrvw8UGXl/+uy/nYAe8+bwwL+DJcP64GboPzC65bChmu4/1hRFO4VW0T/nyaYgfTzlvz2QHH/0ne+/gfxAtsDb2b9mZUKRSaXhPzhiQShH/+8/oX040D7u4D/oy4xIWGfbv8ThjAGnvO+/D+mPSN2X5L+dmkfqs/fSP+oGBGxp1+4/AH8CjvfX5z/I0XVjv03Ev+0PTP8kVO2/E1GnEOad6r9BsJ0VdCCSPwObPQeaOus/sRiiPHPb7D/29tr4fKK/P4FPrMyKlei/12eCSCSF7r8=\",\"dtype\":\"float64\",\"shape\":[49]},\"x\":[1,2,3,4,5,6,7,8,9,10,11,12,13,14,15,16,17,18,19,20,21,22,23,24,25,26,27,28,29,30,31,32,33,34,35,36,37,38,39,40,41,42,43,44,45,46,47,48,49]},\"selected\":{\"id\":\"1587\",\"type\":\"Selection\"},\"selection_policy\":{\"id\":\"1586\",\"type\":\"UnionRenderers\"}},\"id\":\"1550\",\"type\":\"ColumnDataSource\"},{\"attributes\":{\"formatter\":{\"id\":\"1584\",\"type\":\"BasicTickFormatter\"},\"ticker\":{\"id\":\"1533\",\"type\":\"BasicTicker\"}},\"id\":\"1532\",\"type\":\"LinearAxis\"},{\"attributes\":{},\"id\":\"1523\",\"type\":\"LinearScale\"},{\"attributes\":{\"dimension\":1,\"ticker\":{\"id\":\"1533\",\"type\":\"BasicTicker\"}},\"id\":\"1536\",\"type\":\"Grid\"},{\"attributes\":{\"ticker\":{\"id\":\"1528\",\"type\":\"BasicTicker\"}},\"id\":\"1531\",\"type\":\"Grid\"},{\"attributes\":{\"text\":\"\"},\"id\":\"1580\",\"type\":\"Title\"},{\"attributes\":{\"active_drag\":\"auto\",\"active_inspect\":\"auto\",\"active_multi\":null,\"active_scroll\":\"auto\",\"active_tap\":\"auto\",\"tools\":[{\"id\":\"1537\",\"type\":\"PanTool\"},{\"id\":\"1538\",\"type\":\"WheelZoomTool\"},{\"id\":\"1539\",\"type\":\"BoxZoomTool\"},{\"id\":\"1540\",\"type\":\"SaveTool\"},{\"id\":\"1541\",\"type\":\"ResetTool\"},{\"id\":\"1542\",\"type\":\"HelpTool\"}]},\"id\":\"1543\",\"type\":\"Toolbar\"},{\"attributes\":{},\"id\":\"1587\",\"type\":\"Selection\"},{\"attributes\":{},\"id\":\"1528\",\"type\":\"BasicTicker\"},{\"attributes\":{},\"id\":\"1582\",\"type\":\"BasicTickFormatter\"},{\"attributes\":{},\"id\":\"1586\",\"type\":\"UnionRenderers\"},{\"attributes\":{},\"id\":\"1538\",\"type\":\"WheelZoomTool\"},{\"attributes\":{\"data_source\":{\"id\":\"1550\",\"type\":\"ColumnDataSource\"},\"glyph\":{\"id\":\"1551\",\"type\":\"VBar\"},\"hover_glyph\":null,\"muted_glyph\":null,\"nonselection_glyph\":{\"id\":\"1552\",\"type\":\"VBar\"},\"selection_glyph\":null,\"view\":{\"id\":\"1554\",\"type\":\"CDSView\"}},\"id\":\"1553\",\"type\":\"GlyphRenderer\"},{\"attributes\":{\"overlay\":{\"id\":\"1585\",\"type\":\"BoxAnnotation\"}},\"id\":\"1539\",\"type\":\"BoxZoomTool\"},{\"attributes\":{},\"id\":\"1584\",\"type\":\"BasicTickFormatter\"},{\"attributes\":{\"bottom_units\":\"screen\",\"fill_alpha\":{\"value\":0.5},\"fill_color\":{\"value\":\"lightgrey\"},\"left_units\":\"screen\",\"level\":\"overlay\",\"line_alpha\":{\"value\":1.0},\"line_color\":{\"value\":\"black\"},\"line_dash\":[4,4],\"line_width\":{\"value\":2},\"render_mode\":\"css\",\"right_units\":\"screen\",\"top_units\":\"screen\"},\"id\":\"1585\",\"type\":\"BoxAnnotation\"},{\"attributes\":{\"callback\":null},\"id\":\"1519\",\"type\":\"DataRange1d\"},{\"attributes\":{\"fill_color\":{\"value\":\"#1f77b4\"},\"line_color\":{\"value\":\"#1f77b4\"},\"top\":{\"field\":\"top\"},\"width\":{\"value\":0.8},\"x\":{\"field\":\"x\"}},\"id\":\"1551\",\"type\":\"VBar\"}],\"root_ids\":[\"1518\"]},\"title\":\"Bokeh Application\",\"version\":\"1.3.4\"}};\n",
       "  var render_items = [{\"docid\":\"2c142853-3fc0-4fe6-9f70-98adb37e1dbd\",\"roots\":{\"1518\":\"d1f8740e-20b3-4f63-9c56-68259ea52932\"}}];\n",
       "  root.Bokeh.embed.embed_items_notebook(docs_json, render_items);\n",
       "\n",
       "  }\n",
       "  if (root.Bokeh !== undefined) {\n",
       "    embed_document(root);\n",
       "  } else {\n",
       "    var attempts = 0;\n",
       "    var timer = setInterval(function(root) {\n",
       "      if (root.Bokeh !== undefined) {\n",
       "        embed_document(root);\n",
       "        clearInterval(timer);\n",
       "      }\n",
       "      attempts++;\n",
       "      if (attempts > 100) {\n",
       "        console.log(\"Bokeh: ERROR: Unable to run BokehJS code because BokehJS library is missing\");\n",
       "        clearInterval(timer);\n",
       "      }\n",
       "    }, 10, root)\n",
       "  }\n",
       "})(window);"
      ],
      "application/vnd.bokehjs_exec.v0+json": ""
     },
     "metadata": {
      "application/vnd.bokehjs_exec.v0+json": {
       "id": "1518"
      }
     },
     "output_type": "display_data"
    }
   ],
   "source": [
    "p2 = figure()\n",
    "p2.vbar(x=x, width=0.8, top=y)\n",
    "show(p2)"
   ]
  },
  {
   "cell_type": "markdown",
   "metadata": {},
   "source": [
    "We can of course layout the graps together"
   ]
  },
  {
   "cell_type": "code",
   "execution_count": 22,
   "metadata": {},
   "outputs": [
    {
     "data": {
      "text/html": [
       "\n",
       "\n",
       "\n",
       "\n",
       "\n",
       "\n",
       "  <div class=\"bk-root\" id=\"76f1b671-117b-4a1f-8d10-ebd6c040b63f\" data-root-id=\"2007\"></div>\n"
      ]
     },
     "metadata": {},
     "output_type": "display_data"
    },
    {
     "data": {
      "application/javascript": [
       "(function(root) {\n",
       "  function embed_document(root) {\n",
       "    \n",
       "  var docs_json = {\"b22e8bd6-868c-487d-988f-289f839a9821\":{\"roots\":{\"references\":[{\"attributes\":{\"children\":[{\"id\":\"2006\",\"type\":\"Row\"}]},\"id\":\"2007\",\"type\":\"Column\"},{\"attributes\":{\"children\":[{\"id\":\"1849\",\"subtype\":\"Figure\",\"type\":\"Plot\"},{\"id\":\"1518\",\"subtype\":\"Figure\",\"type\":\"Plot\"}]},\"id\":\"2006\",\"type\":\"Row\"},{\"attributes\":{},\"id\":\"1864\",\"type\":\"BasicTicker\"},{\"attributes\":{},\"id\":\"1541\",\"type\":\"ResetTool\"},{\"attributes\":{},\"id\":\"1542\",\"type\":\"HelpTool\"},{\"attributes\":{\"callback\":null},\"id\":\"1850\",\"type\":\"DataRange1d\"},{\"attributes\":{\"callback\":null},\"id\":\"1521\",\"type\":\"DataRange1d\"},{\"attributes\":{},\"id\":\"1868\",\"type\":\"PanTool\"},{\"attributes\":{},\"id\":\"1859\",\"type\":\"BasicTicker\"},{\"attributes\":{},\"id\":\"1946\",\"type\":\"BasicTickFormatter\"},{\"attributes\":{\"source\":{\"id\":\"1881\",\"type\":\"ColumnDataSource\"}},\"id\":\"1885\",\"type\":\"CDSView\"},{\"attributes\":{},\"id\":\"1537\",\"type\":\"PanTool\"},{\"attributes\":{\"source\":{\"id\":\"1550\",\"type\":\"ColumnDataSource\"}},\"id\":\"1554\",\"type\":\"CDSView\"},{\"attributes\":{\"dimension\":1,\"ticker\":{\"id\":\"1864\",\"type\":\"BasicTicker\"}},\"id\":\"1867\",\"type\":\"Grid\"},{\"attributes\":{\"data_source\":{\"id\":\"1881\",\"type\":\"ColumnDataSource\"},\"glyph\":{\"id\":\"1882\",\"type\":\"Line\"},\"hover_glyph\":null,\"muted_glyph\":null,\"nonselection_glyph\":{\"id\":\"1883\",\"type\":\"Line\"},\"selection_glyph\":null,\"view\":{\"id\":\"1885\",\"type\":\"CDSView\"}},\"id\":\"1884\",\"type\":\"GlyphRenderer\"},{\"attributes\":{\"bottom_units\":\"screen\",\"fill_alpha\":{\"value\":0.5},\"fill_color\":{\"value\":\"lightgrey\"},\"left_units\":\"screen\",\"level\":\"overlay\",\"line_alpha\":{\"value\":1.0},\"line_color\":{\"value\":\"black\"},\"line_dash\":[4,4],\"line_width\":{\"value\":2},\"render_mode\":\"css\",\"right_units\":\"screen\",\"top_units\":\"screen\"},\"id\":\"1949\",\"type\":\"BoxAnnotation\"},{\"attributes\":{\"formatter\":{\"id\":\"1946\",\"type\":\"BasicTickFormatter\"},\"ticker\":{\"id\":\"1859\",\"type\":\"BasicTicker\"}},\"id\":\"1858\",\"type\":\"LinearAxis\"},{\"attributes\":{},\"id\":\"1873\",\"type\":\"HelpTool\"},{\"attributes\":{},\"id\":\"1540\",\"type\":\"SaveTool\"},{\"attributes\":{},\"id\":\"1854\",\"type\":\"LinearScale\"},{\"attributes\":{\"formatter\":{\"id\":\"1582\",\"type\":\"BasicTickFormatter\"},\"ticker\":{\"id\":\"1528\",\"type\":\"BasicTicker\"}},\"id\":\"1527\",\"type\":\"LinearAxis\"},{\"attributes\":{},\"id\":\"1525\",\"type\":\"LinearScale\"},{\"attributes\":{\"overlay\":{\"id\":\"1949\",\"type\":\"BoxAnnotation\"}},\"id\":\"1870\",\"type\":\"BoxZoomTool\"},{\"attributes\":{\"callback\":null,\"data\":{\"x\":[1,2,3,4,5,6,7,8,9,10,11,12,13,14,15,16,17,18,19,20,21,22,23,24,25,26,27,28,29,30,31,32,33,34,35,36,37,38,39,40,41,42,43,44,45,46,47,48,49],\"y\":{\"__ndarray__\":\"7gwJj1Tt6j9GtNHq9hjtP1vVtm04EMI/rh7c3bk36L8zmeD1ga/uv8CisIrx4dG/CAptwggG5T97zyig0qjvP5EvDDYmYNo/Uk/z9Z5o4b/rky526//vv6Vl1/eaK+G/BsWBSATk2j9FXnwyDrPvP+jCznEoz+Q/+CBfCAJt0r8riEKsxMPuvyYeE2gWCOi/z4T1KC0vwz/gPF312DbtP+3XsAvixeo/9Llun6Iggr8CfSTQPBTrvw8UGXl/+uy/nYAe8+bwwL+DJcP64GboPzC65bChmu4/1hRFO4VW0T/nyaYgfTzlvz2QHH/0ne+/gfxAtsDb2b9mZUKRSaXhPzhiQShH/+8/oX040D7u4D/oy4xIWGfbv8ThjAGnvO+/D+mPSN2X5L+dmkfqs/fSP+oGBGxp1+4/AH8CjvfX5z/I0XVjv03Ev+0PTP8kVO2/E1GnEOad6r9BsJ0VdCCSPwObPQeaOus/sRiiPHPb7D/29tr4fKK/P4FPrMyKlei/12eCSCSF7r8=\",\"dtype\":\"float64\",\"shape\":[49]}},\"selected\":{\"id\":\"1951\",\"type\":\"Selection\"},\"selection_policy\":{\"id\":\"1950\",\"type\":\"UnionRenderers\"}},\"id\":\"1881\",\"type\":\"ColumnDataSource\"},{\"attributes\":{\"fill_alpha\":{\"value\":0.1},\"fill_color\":{\"value\":\"#1f77b4\"},\"line_alpha\":{\"value\":0.1},\"line_color\":{\"value\":\"#1f77b4\"},\"top\":{\"field\":\"top\"},\"width\":{\"value\":0.8},\"x\":{\"field\":\"x\"}},\"id\":\"1552\",\"type\":\"VBar\"},{\"attributes\":{\"text\":\"\"},\"id\":\"1944\",\"type\":\"Title\"},{\"attributes\":{},\"id\":\"1856\",\"type\":\"LinearScale\"},{\"attributes\":{},\"id\":\"1533\",\"type\":\"BasicTicker\"},{\"attributes\":{\"callback\":null,\"data\":{\"top\":{\"__ndarray__\":\"7gwJj1Tt6j9GtNHq9hjtP1vVtm04EMI/rh7c3bk36L8zmeD1ga/uv8CisIrx4dG/CAptwggG5T97zyig0qjvP5EvDDYmYNo/Uk/z9Z5o4b/rky526//vv6Vl1/eaK+G/BsWBSATk2j9FXnwyDrPvP+jCznEoz+Q/+CBfCAJt0r8riEKsxMPuvyYeE2gWCOi/z4T1KC0vwz/gPF312DbtP+3XsAvixeo/9Llun6Iggr8CfSTQPBTrvw8UGXl/+uy/nYAe8+bwwL+DJcP64GboPzC65bChmu4/1hRFO4VW0T/nyaYgfTzlvz2QHH/0ne+/gfxAtsDb2b9mZUKRSaXhPzhiQShH/+8/oX040D7u4D/oy4xIWGfbv8ThjAGnvO+/D+mPSN2X5L+dmkfqs/fSP+oGBGxp1+4/AH8CjvfX5z/I0XVjv03Ev+0PTP8kVO2/E1GnEOad6r9BsJ0VdCCSPwObPQeaOus/sRiiPHPb7D/29tr4fKK/P4FPrMyKlei/12eCSCSF7r8=\",\"dtype\":\"float64\",\"shape\":[49]},\"x\":[1,2,3,4,5,6,7,8,9,10,11,12,13,14,15,16,17,18,19,20,21,22,23,24,25,26,27,28,29,30,31,32,33,34,35,36,37,38,39,40,41,42,43,44,45,46,47,48,49]},\"selected\":{\"id\":\"1587\",\"type\":\"Selection\"},\"selection_policy\":{\"id\":\"1586\",\"type\":\"UnionRenderers\"}},\"id\":\"1550\",\"type\":\"ColumnDataSource\"},{\"attributes\":{\"callback\":null},\"id\":\"1852\",\"type\":\"DataRange1d\"},{\"attributes\":{},\"id\":\"1950\",\"type\":\"UnionRenderers\"},{\"attributes\":{\"formatter\":{\"id\":\"1584\",\"type\":\"BasicTickFormatter\"},\"ticker\":{\"id\":\"1533\",\"type\":\"BasicTicker\"}},\"id\":\"1532\",\"type\":\"LinearAxis\"},{\"attributes\":{\"active_drag\":\"auto\",\"active_inspect\":\"auto\",\"active_multi\":null,\"active_scroll\":\"auto\",\"active_tap\":\"auto\",\"tools\":[{\"id\":\"1868\",\"type\":\"PanTool\"},{\"id\":\"1869\",\"type\":\"WheelZoomTool\"},{\"id\":\"1870\",\"type\":\"BoxZoomTool\"},{\"id\":\"1871\",\"type\":\"SaveTool\"},{\"id\":\"1872\",\"type\":\"ResetTool\"},{\"id\":\"1873\",\"type\":\"HelpTool\"}]},\"id\":\"1874\",\"type\":\"Toolbar\"},{\"attributes\":{},\"id\":\"1523\",\"type\":\"LinearScale\"},{\"attributes\":{},\"id\":\"1872\",\"type\":\"ResetTool\"},{\"attributes\":{\"formatter\":{\"id\":\"1948\",\"type\":\"BasicTickFormatter\"},\"ticker\":{\"id\":\"1864\",\"type\":\"BasicTicker\"}},\"id\":\"1863\",\"type\":\"LinearAxis\"},{\"attributes\":{\"dimension\":1,\"ticker\":{\"id\":\"1533\",\"type\":\"BasicTicker\"}},\"id\":\"1536\",\"type\":\"Grid\"},{\"attributes\":{\"ticker\":{\"id\":\"1528\",\"type\":\"BasicTicker\"}},\"id\":\"1531\",\"type\":\"Grid\"},{\"attributes\":{\"below\":[{\"id\":\"1527\",\"type\":\"LinearAxis\"}],\"center\":[{\"id\":\"1531\",\"type\":\"Grid\"},{\"id\":\"1536\",\"type\":\"Grid\"}],\"left\":[{\"id\":\"1532\",\"type\":\"LinearAxis\"}],\"renderers\":[{\"id\":\"1553\",\"type\":\"GlyphRenderer\"}],\"title\":{\"id\":\"1580\",\"type\":\"Title\"},\"toolbar\":{\"id\":\"1543\",\"type\":\"Toolbar\"},\"x_range\":{\"id\":\"1519\",\"type\":\"DataRange1d\"},\"x_scale\":{\"id\":\"1523\",\"type\":\"LinearScale\"},\"y_range\":{\"id\":\"1521\",\"type\":\"DataRange1d\"},\"y_scale\":{\"id\":\"1525\",\"type\":\"LinearScale\"}},\"id\":\"1518\",\"subtype\":\"Figure\",\"type\":\"Plot\"},{\"attributes\":{\"text\":\"\"},\"id\":\"1580\",\"type\":\"Title\"},{\"attributes\":{},\"id\":\"1869\",\"type\":\"WheelZoomTool\"},{\"attributes\":{\"active_drag\":\"auto\",\"active_inspect\":\"auto\",\"active_multi\":null,\"active_scroll\":\"auto\",\"active_tap\":\"auto\",\"tools\":[{\"id\":\"1537\",\"type\":\"PanTool\"},{\"id\":\"1538\",\"type\":\"WheelZoomTool\"},{\"id\":\"1539\",\"type\":\"BoxZoomTool\"},{\"id\":\"1540\",\"type\":\"SaveTool\"},{\"id\":\"1541\",\"type\":\"ResetTool\"},{\"id\":\"1542\",\"type\":\"HelpTool\"}]},\"id\":\"1543\",\"type\":\"Toolbar\"},{\"attributes\":{},\"id\":\"1951\",\"type\":\"Selection\"},{\"attributes\":{},\"id\":\"1587\",\"type\":\"Selection\"},{\"attributes\":{},\"id\":\"1528\",\"type\":\"BasicTicker\"},{\"attributes\":{},\"id\":\"1582\",\"type\":\"BasicTickFormatter\"},{\"attributes\":{},\"id\":\"1586\",\"type\":\"UnionRenderers\"},{\"attributes\":{},\"id\":\"1538\",\"type\":\"WheelZoomTool\"},{\"attributes\":{\"data_source\":{\"id\":\"1550\",\"type\":\"ColumnDataSource\"},\"glyph\":{\"id\":\"1551\",\"type\":\"VBar\"},\"hover_glyph\":null,\"muted_glyph\":null,\"nonselection_glyph\":{\"id\":\"1552\",\"type\":\"VBar\"},\"selection_glyph\":null,\"view\":{\"id\":\"1554\",\"type\":\"CDSView\"}},\"id\":\"1553\",\"type\":\"GlyphRenderer\"},{\"attributes\":{},\"id\":\"1871\",\"type\":\"SaveTool\"},{\"attributes\":{\"overlay\":{\"id\":\"1585\",\"type\":\"BoxAnnotation\"}},\"id\":\"1539\",\"type\":\"BoxZoomTool\"},{\"attributes\":{},\"id\":\"1584\",\"type\":\"BasicTickFormatter\"},{\"attributes\":{\"bottom_units\":\"screen\",\"fill_alpha\":{\"value\":0.5},\"fill_color\":{\"value\":\"lightgrey\"},\"left_units\":\"screen\",\"level\":\"overlay\",\"line_alpha\":{\"value\":1.0},\"line_color\":{\"value\":\"black\"},\"line_dash\":[4,4],\"line_width\":{\"value\":2},\"render_mode\":\"css\",\"right_units\":\"screen\",\"top_units\":\"screen\"},\"id\":\"1585\",\"type\":\"BoxAnnotation\"},{\"attributes\":{\"below\":[{\"id\":\"1858\",\"type\":\"LinearAxis\"}],\"center\":[{\"id\":\"1862\",\"type\":\"Grid\"},{\"id\":\"1867\",\"type\":\"Grid\"}],\"left\":[{\"id\":\"1863\",\"type\":\"LinearAxis\"}],\"renderers\":[{\"id\":\"1884\",\"type\":\"GlyphRenderer\"}],\"title\":{\"id\":\"1944\",\"type\":\"Title\"},\"toolbar\":{\"id\":\"1874\",\"type\":\"Toolbar\"},\"x_range\":{\"id\":\"1850\",\"type\":\"DataRange1d\"},\"x_scale\":{\"id\":\"1854\",\"type\":\"LinearScale\"},\"y_range\":{\"id\":\"1852\",\"type\":\"DataRange1d\"},\"y_scale\":{\"id\":\"1856\",\"type\":\"LinearScale\"}},\"id\":\"1849\",\"subtype\":\"Figure\",\"type\":\"Plot\"},{\"attributes\":{\"callback\":null},\"id\":\"1519\",\"type\":\"DataRange1d\"},{\"attributes\":{},\"id\":\"1948\",\"type\":\"BasicTickFormatter\"},{\"attributes\":{\"line_color\":\"#1f77b4\",\"x\":{\"field\":\"x\"},\"y\":{\"field\":\"y\"}},\"id\":\"1882\",\"type\":\"Line\"},{\"attributes\":{\"fill_color\":{\"value\":\"#1f77b4\"},\"line_color\":{\"value\":\"#1f77b4\"},\"top\":{\"field\":\"top\"},\"width\":{\"value\":0.8},\"x\":{\"field\":\"x\"}},\"id\":\"1551\",\"type\":\"VBar\"},{\"attributes\":{\"ticker\":{\"id\":\"1859\",\"type\":\"BasicTicker\"}},\"id\":\"1862\",\"type\":\"Grid\"},{\"attributes\":{\"line_alpha\":0.1,\"line_color\":\"#1f77b4\",\"x\":{\"field\":\"x\"},\"y\":{\"field\":\"y\"}},\"id\":\"1883\",\"type\":\"Line\"}],\"root_ids\":[\"2007\"]},\"title\":\"Bokeh Application\",\"version\":\"1.3.4\"}};\n",
       "  var render_items = [{\"docid\":\"b22e8bd6-868c-487d-988f-289f839a9821\",\"roots\":{\"2007\":\"76f1b671-117b-4a1f-8d10-ebd6c040b63f\"}}];\n",
       "  root.Bokeh.embed.embed_items_notebook(docs_json, render_items);\n",
       "\n",
       "  }\n",
       "  if (root.Bokeh !== undefined) {\n",
       "    embed_document(root);\n",
       "  } else {\n",
       "    var attempts = 0;\n",
       "    var timer = setInterval(function(root) {\n",
       "      if (root.Bokeh !== undefined) {\n",
       "        embed_document(root);\n",
       "        clearInterval(timer);\n",
       "      }\n",
       "      attempts++;\n",
       "      if (attempts > 100) {\n",
       "        console.log(\"Bokeh: ERROR: Unable to run BokehJS code because BokehJS library is missing\");\n",
       "        clearInterval(timer);\n",
       "      }\n",
       "    }, 10, root)\n",
       "  }\n",
       "})(window);"
      ],
      "application/vnd.bokehjs_exec.v0+json": ""
     },
     "metadata": {
      "application/vnd.bokehjs_exec.v0+json": {
       "id": "2007"
      }
     },
     "output_type": "display_data"
    }
   ],
   "source": [
    "show(layout([[p, p2]]))"
   ]
  },
  {
   "cell_type": "markdown",
   "metadata": {},
   "source": [
    "We can add some simple interactivity by setting properties of the graphs equal to each other"
   ]
  },
  {
   "cell_type": "code",
   "execution_count": 24,
   "metadata": {},
   "outputs": [],
   "source": [
    "p.x_range = p2.x_range"
   ]
  },
  {
   "cell_type": "code",
   "execution_count": 26,
   "metadata": {},
   "outputs": [
    {
     "data": {
      "text/html": [
       "\n",
       "\n",
       "\n",
       "\n",
       "\n",
       "\n",
       "  <div class=\"bk-root\" id=\"7dfa3f85-2464-4783-aeca-62053ec5cf2d\" data-root-id=\"2289\"></div>\n"
      ]
     },
     "metadata": {},
     "output_type": "display_data"
    },
    {
     "data": {
      "application/javascript": [
       "(function(root) {\n",
       "  function embed_document(root) {\n",
       "    \n",
       "  var docs_json = {\"9553ab68-446e-47af-98e7-0b3c06b01a0d\":{\"roots\":{\"references\":[{\"attributes\":{\"children\":[{\"id\":\"2288\",\"type\":\"Row\"}]},\"id\":\"2289\",\"type\":\"Column\"},{\"attributes\":{},\"id\":\"1864\",\"type\":\"BasicTicker\"},{\"attributes\":{},\"id\":\"1541\",\"type\":\"ResetTool\"},{\"attributes\":{},\"id\":\"1542\",\"type\":\"HelpTool\"},{\"attributes\":{\"callback\":null},\"id\":\"1521\",\"type\":\"DataRange1d\"},{\"attributes\":{},\"id\":\"1868\",\"type\":\"PanTool\"},{\"attributes\":{},\"id\":\"1859\",\"type\":\"BasicTicker\"},{\"attributes\":{},\"id\":\"1946\",\"type\":\"BasicTickFormatter\"},{\"attributes\":{\"source\":{\"id\":\"1881\",\"type\":\"ColumnDataSource\"}},\"id\":\"1885\",\"type\":\"CDSView\"},{\"attributes\":{},\"id\":\"1537\",\"type\":\"PanTool\"},{\"attributes\":{\"source\":{\"id\":\"1550\",\"type\":\"ColumnDataSource\"}},\"id\":\"1554\",\"type\":\"CDSView\"},{\"attributes\":{\"dimension\":1,\"ticker\":{\"id\":\"1864\",\"type\":\"BasicTicker\"}},\"id\":\"1867\",\"type\":\"Grid\"},{\"attributes\":{\"data_source\":{\"id\":\"1881\",\"type\":\"ColumnDataSource\"},\"glyph\":{\"id\":\"1882\",\"type\":\"Line\"},\"hover_glyph\":null,\"muted_glyph\":null,\"nonselection_glyph\":{\"id\":\"1883\",\"type\":\"Line\"},\"selection_glyph\":null,\"view\":{\"id\":\"1885\",\"type\":\"CDSView\"}},\"id\":\"1884\",\"type\":\"GlyphRenderer\"},{\"attributes\":{\"bottom_units\":\"screen\",\"fill_alpha\":{\"value\":0.5},\"fill_color\":{\"value\":\"lightgrey\"},\"left_units\":\"screen\",\"level\":\"overlay\",\"line_alpha\":{\"value\":1.0},\"line_color\":{\"value\":\"black\"},\"line_dash\":[4,4],\"line_width\":{\"value\":2},\"render_mode\":\"css\",\"right_units\":\"screen\",\"top_units\":\"screen\"},\"id\":\"1949\",\"type\":\"BoxAnnotation\"},{\"attributes\":{\"formatter\":{\"id\":\"1946\",\"type\":\"BasicTickFormatter\"},\"ticker\":{\"id\":\"1859\",\"type\":\"BasicTicker\"}},\"id\":\"1858\",\"type\":\"LinearAxis\"},{\"attributes\":{},\"id\":\"1873\",\"type\":\"HelpTool\"},{\"attributes\":{},\"id\":\"1540\",\"type\":\"SaveTool\"},{\"attributes\":{},\"id\":\"1854\",\"type\":\"LinearScale\"},{\"attributes\":{\"formatter\":{\"id\":\"1582\",\"type\":\"BasicTickFormatter\"},\"ticker\":{\"id\":\"1528\",\"type\":\"BasicTicker\"}},\"id\":\"1527\",\"type\":\"LinearAxis\"},{\"attributes\":{\"children\":[{\"id\":\"1849\",\"subtype\":\"Figure\",\"type\":\"Plot\"},{\"id\":\"1518\",\"subtype\":\"Figure\",\"type\":\"Plot\"}]},\"id\":\"2288\",\"type\":\"Row\"},{\"attributes\":{},\"id\":\"1525\",\"type\":\"LinearScale\"},{\"attributes\":{\"overlay\":{\"id\":\"1949\",\"type\":\"BoxAnnotation\"}},\"id\":\"1870\",\"type\":\"BoxZoomTool\"},{\"attributes\":{\"callback\":null,\"data\":{\"x\":[1,2,3,4,5,6,7,8,9,10,11,12,13,14,15,16,17,18,19,20,21,22,23,24,25,26,27,28,29,30,31,32,33,34,35,36,37,38,39,40,41,42,43,44,45,46,47,48,49],\"y\":{\"__ndarray__\":\"7gwJj1Tt6j9GtNHq9hjtP1vVtm04EMI/rh7c3bk36L8zmeD1ga/uv8CisIrx4dG/CAptwggG5T97zyig0qjvP5EvDDYmYNo/Uk/z9Z5o4b/rky526//vv6Vl1/eaK+G/BsWBSATk2j9FXnwyDrPvP+jCznEoz+Q/+CBfCAJt0r8riEKsxMPuvyYeE2gWCOi/z4T1KC0vwz/gPF312DbtP+3XsAvixeo/9Llun6Iggr8CfSTQPBTrvw8UGXl/+uy/nYAe8+bwwL+DJcP64GboPzC65bChmu4/1hRFO4VW0T/nyaYgfTzlvz2QHH/0ne+/gfxAtsDb2b9mZUKRSaXhPzhiQShH/+8/oX040D7u4D/oy4xIWGfbv8ThjAGnvO+/D+mPSN2X5L+dmkfqs/fSP+oGBGxp1+4/AH8CjvfX5z/I0XVjv03Ev+0PTP8kVO2/E1GnEOad6r9BsJ0VdCCSPwObPQeaOus/sRiiPHPb7D/29tr4fKK/P4FPrMyKlei/12eCSCSF7r8=\",\"dtype\":\"float64\",\"shape\":[49]}},\"selected\":{\"id\":\"1951\",\"type\":\"Selection\"},\"selection_policy\":{\"id\":\"1950\",\"type\":\"UnionRenderers\"}},\"id\":\"1881\",\"type\":\"ColumnDataSource\"},{\"attributes\":{\"fill_alpha\":{\"value\":0.1},\"fill_color\":{\"value\":\"#1f77b4\"},\"line_alpha\":{\"value\":0.1},\"line_color\":{\"value\":\"#1f77b4\"},\"top\":{\"field\":\"top\"},\"width\":{\"value\":0.8},\"x\":{\"field\":\"x\"}},\"id\":\"1552\",\"type\":\"VBar\"},{\"attributes\":{\"text\":\"\"},\"id\":\"1944\",\"type\":\"Title\"},{\"attributes\":{},\"id\":\"1856\",\"type\":\"LinearScale\"},{\"attributes\":{},\"id\":\"1533\",\"type\":\"BasicTicker\"},{\"attributes\":{\"callback\":null,\"data\":{\"top\":{\"__ndarray__\":\"7gwJj1Tt6j9GtNHq9hjtP1vVtm04EMI/rh7c3bk36L8zmeD1ga/uv8CisIrx4dG/CAptwggG5T97zyig0qjvP5EvDDYmYNo/Uk/z9Z5o4b/rky526//vv6Vl1/eaK+G/BsWBSATk2j9FXnwyDrPvP+jCznEoz+Q/+CBfCAJt0r8riEKsxMPuvyYeE2gWCOi/z4T1KC0vwz/gPF312DbtP+3XsAvixeo/9Llun6Iggr8CfSTQPBTrvw8UGXl/+uy/nYAe8+bwwL+DJcP64GboPzC65bChmu4/1hRFO4VW0T/nyaYgfTzlvz2QHH/0ne+/gfxAtsDb2b9mZUKRSaXhPzhiQShH/+8/oX040D7u4D/oy4xIWGfbv8ThjAGnvO+/D+mPSN2X5L+dmkfqs/fSP+oGBGxp1+4/AH8CjvfX5z/I0XVjv03Ev+0PTP8kVO2/E1GnEOad6r9BsJ0VdCCSPwObPQeaOus/sRiiPHPb7D/29tr4fKK/P4FPrMyKlei/12eCSCSF7r8=\",\"dtype\":\"float64\",\"shape\":[49]},\"x\":[1,2,3,4,5,6,7,8,9,10,11,12,13,14,15,16,17,18,19,20,21,22,23,24,25,26,27,28,29,30,31,32,33,34,35,36,37,38,39,40,41,42,43,44,45,46,47,48,49]},\"selected\":{\"id\":\"1587\",\"type\":\"Selection\"},\"selection_policy\":{\"id\":\"1586\",\"type\":\"UnionRenderers\"}},\"id\":\"1550\",\"type\":\"ColumnDataSource\"},{\"attributes\":{},\"id\":\"1950\",\"type\":\"UnionRenderers\"},{\"attributes\":{\"callback\":null},\"id\":\"1852\",\"type\":\"DataRange1d\"},{\"attributes\":{\"formatter\":{\"id\":\"1584\",\"type\":\"BasicTickFormatter\"},\"ticker\":{\"id\":\"1533\",\"type\":\"BasicTicker\"}},\"id\":\"1532\",\"type\":\"LinearAxis\"},{\"attributes\":{\"active_drag\":\"auto\",\"active_inspect\":\"auto\",\"active_multi\":null,\"active_scroll\":\"auto\",\"active_tap\":\"auto\",\"tools\":[{\"id\":\"1868\",\"type\":\"PanTool\"},{\"id\":\"1869\",\"type\":\"WheelZoomTool\"},{\"id\":\"1870\",\"type\":\"BoxZoomTool\"},{\"id\":\"1871\",\"type\":\"SaveTool\"},{\"id\":\"1872\",\"type\":\"ResetTool\"},{\"id\":\"1873\",\"type\":\"HelpTool\"}]},\"id\":\"1874\",\"type\":\"Toolbar\"},{\"attributes\":{},\"id\":\"1523\",\"type\":\"LinearScale\"},{\"attributes\":{},\"id\":\"1872\",\"type\":\"ResetTool\"},{\"attributes\":{\"formatter\":{\"id\":\"1948\",\"type\":\"BasicTickFormatter\"},\"ticker\":{\"id\":\"1864\",\"type\":\"BasicTicker\"}},\"id\":\"1863\",\"type\":\"LinearAxis\"},{\"attributes\":{\"dimension\":1,\"ticker\":{\"id\":\"1533\",\"type\":\"BasicTicker\"}},\"id\":\"1536\",\"type\":\"Grid\"},{\"attributes\":{\"ticker\":{\"id\":\"1528\",\"type\":\"BasicTicker\"}},\"id\":\"1531\",\"type\":\"Grid\"},{\"attributes\":{\"below\":[{\"id\":\"1527\",\"type\":\"LinearAxis\"}],\"center\":[{\"id\":\"1531\",\"type\":\"Grid\"},{\"id\":\"1536\",\"type\":\"Grid\"}],\"left\":[{\"id\":\"1532\",\"type\":\"LinearAxis\"}],\"renderers\":[{\"id\":\"1553\",\"type\":\"GlyphRenderer\"}],\"title\":{\"id\":\"1580\",\"type\":\"Title\"},\"toolbar\":{\"id\":\"1543\",\"type\":\"Toolbar\"},\"x_range\":{\"id\":\"1519\",\"type\":\"DataRange1d\"},\"x_scale\":{\"id\":\"1523\",\"type\":\"LinearScale\"},\"y_range\":{\"id\":\"1521\",\"type\":\"DataRange1d\"},\"y_scale\":{\"id\":\"1525\",\"type\":\"LinearScale\"}},\"id\":\"1518\",\"subtype\":\"Figure\",\"type\":\"Plot\"},{\"attributes\":{\"text\":\"\"},\"id\":\"1580\",\"type\":\"Title\"},{\"attributes\":{},\"id\":\"1869\",\"type\":\"WheelZoomTool\"},{\"attributes\":{\"active_drag\":\"auto\",\"active_inspect\":\"auto\",\"active_multi\":null,\"active_scroll\":\"auto\",\"active_tap\":\"auto\",\"tools\":[{\"id\":\"1537\",\"type\":\"PanTool\"},{\"id\":\"1538\",\"type\":\"WheelZoomTool\"},{\"id\":\"1539\",\"type\":\"BoxZoomTool\"},{\"id\":\"1540\",\"type\":\"SaveTool\"},{\"id\":\"1541\",\"type\":\"ResetTool\"},{\"id\":\"1542\",\"type\":\"HelpTool\"}]},\"id\":\"1543\",\"type\":\"Toolbar\"},{\"attributes\":{},\"id\":\"1951\",\"type\":\"Selection\"},{\"attributes\":{},\"id\":\"1587\",\"type\":\"Selection\"},{\"attributes\":{},\"id\":\"1528\",\"type\":\"BasicTicker\"},{\"attributes\":{},\"id\":\"1582\",\"type\":\"BasicTickFormatter\"},{\"attributes\":{},\"id\":\"1586\",\"type\":\"UnionRenderers\"},{\"attributes\":{},\"id\":\"1538\",\"type\":\"WheelZoomTool\"},{\"attributes\":{\"data_source\":{\"id\":\"1550\",\"type\":\"ColumnDataSource\"},\"glyph\":{\"id\":\"1551\",\"type\":\"VBar\"},\"hover_glyph\":null,\"muted_glyph\":null,\"nonselection_glyph\":{\"id\":\"1552\",\"type\":\"VBar\"},\"selection_glyph\":null,\"view\":{\"id\":\"1554\",\"type\":\"CDSView\"}},\"id\":\"1553\",\"type\":\"GlyphRenderer\"},{\"attributes\":{},\"id\":\"1871\",\"type\":\"SaveTool\"},{\"attributes\":{\"overlay\":{\"id\":\"1585\",\"type\":\"BoxAnnotation\"}},\"id\":\"1539\",\"type\":\"BoxZoomTool\"},{\"attributes\":{},\"id\":\"1584\",\"type\":\"BasicTickFormatter\"},{\"attributes\":{\"bottom_units\":\"screen\",\"fill_alpha\":{\"value\":0.5},\"fill_color\":{\"value\":\"lightgrey\"},\"left_units\":\"screen\",\"level\":\"overlay\",\"line_alpha\":{\"value\":1.0},\"line_color\":{\"value\":\"black\"},\"line_dash\":[4,4],\"line_width\":{\"value\":2},\"render_mode\":\"css\",\"right_units\":\"screen\",\"top_units\":\"screen\"},\"id\":\"1585\",\"type\":\"BoxAnnotation\"},{\"attributes\":{\"below\":[{\"id\":\"1858\",\"type\":\"LinearAxis\"}],\"center\":[{\"id\":\"1862\",\"type\":\"Grid\"},{\"id\":\"1867\",\"type\":\"Grid\"}],\"left\":[{\"id\":\"1863\",\"type\":\"LinearAxis\"}],\"renderers\":[{\"id\":\"1884\",\"type\":\"GlyphRenderer\"}],\"title\":{\"id\":\"1944\",\"type\":\"Title\"},\"toolbar\":{\"id\":\"1874\",\"type\":\"Toolbar\"},\"x_range\":{\"id\":\"1519\",\"type\":\"DataRange1d\"},\"x_scale\":{\"id\":\"1854\",\"type\":\"LinearScale\"},\"y_range\":{\"id\":\"1852\",\"type\":\"DataRange1d\"},\"y_scale\":{\"id\":\"1856\",\"type\":\"LinearScale\"}},\"id\":\"1849\",\"subtype\":\"Figure\",\"type\":\"Plot\"},{\"attributes\":{\"callback\":null},\"id\":\"1519\",\"type\":\"DataRange1d\"},{\"attributes\":{},\"id\":\"1948\",\"type\":\"BasicTickFormatter\"},{\"attributes\":{\"line_color\":\"#1f77b4\",\"x\":{\"field\":\"x\"},\"y\":{\"field\":\"y\"}},\"id\":\"1882\",\"type\":\"Line\"},{\"attributes\":{\"fill_color\":{\"value\":\"#1f77b4\"},\"line_color\":{\"value\":\"#1f77b4\"},\"top\":{\"field\":\"top\"},\"width\":{\"value\":0.8},\"x\":{\"field\":\"x\"}},\"id\":\"1551\",\"type\":\"VBar\"},{\"attributes\":{\"ticker\":{\"id\":\"1859\",\"type\":\"BasicTicker\"}},\"id\":\"1862\",\"type\":\"Grid\"},{\"attributes\":{\"line_alpha\":0.1,\"line_color\":\"#1f77b4\",\"x\":{\"field\":\"x\"},\"y\":{\"field\":\"y\"}},\"id\":\"1883\",\"type\":\"Line\"}],\"root_ids\":[\"2289\"]},\"title\":\"Bokeh Application\",\"version\":\"1.3.4\"}};\n",
       "  var render_items = [{\"docid\":\"9553ab68-446e-47af-98e7-0b3c06b01a0d\",\"roots\":{\"2289\":\"7dfa3f85-2464-4783-aeca-62053ec5cf2d\"}}];\n",
       "  root.Bokeh.embed.embed_items_notebook(docs_json, render_items);\n",
       "\n",
       "  }\n",
       "  if (root.Bokeh !== undefined) {\n",
       "    embed_document(root);\n",
       "  } else {\n",
       "    var attempts = 0;\n",
       "    var timer = setInterval(function(root) {\n",
       "      if (root.Bokeh !== undefined) {\n",
       "        embed_document(root);\n",
       "        clearInterval(timer);\n",
       "      }\n",
       "      attempts++;\n",
       "      if (attempts > 100) {\n",
       "        console.log(\"Bokeh: ERROR: Unable to run BokehJS code because BokehJS library is missing\");\n",
       "        clearInterval(timer);\n",
       "      }\n",
       "    }, 10, root)\n",
       "  }\n",
       "})(window);"
      ],
      "application/vnd.bokehjs_exec.v0+json": ""
     },
     "metadata": {
      "application/vnd.bokehjs_exec.v0+json": {
       "id": "2289"
      }
     },
     "output_type": "display_data"
    }
   ],
   "source": [
    "show(layout([[p, p2]]))"
   ]
  },
  {
   "cell_type": "markdown",
   "metadata": {},
   "source": [
    "There are two main sources of interactivity in Bokeh, sharing datasources and using the bokeh server. We can share datasources by using a ColumnDataSource, which can be built from a dataframe automatically. Let's build the same petal vs sepal comparison as before.\n",
    "\n",
    "By specifiying a source, we can just pass the name of the column we want to use. We can also specify what tools we want to be able to use in our graph"
   ]
  },
  {
   "cell_type": "code",
   "execution_count": 56,
   "metadata": {},
   "outputs": [],
   "source": [
    "from bokeh.models import ColumnDataSource\n",
    "from bokeh.palettes import Colorblind3\n",
    "from bokeh.transform import factor_cmap, CategoricalColorMapper\n",
    "from vega_datasets import data"
   ]
  },
  {
   "cell_type": "code",
   "execution_count": 29,
   "metadata": {},
   "outputs": [],
   "source": [
    "iris = data.iris()"
   ]
  },
  {
   "cell_type": "code",
   "execution_count": 60,
   "metadata": {},
   "outputs": [],
   "source": [
    "source = ColumnDataSource(iris)\n",
    "tools = \"box_select,lasso_select,help\""
   ]
  },
  {
   "cell_type": "code",
   "execution_count": 61,
   "metadata": {},
   "outputs": [
    {
     "data": {
      "text/html": [
       "\n",
       "\n",
       "\n",
       "\n",
       "\n",
       "\n",
       "  <div class=\"bk-root\" id=\"b6d56d87-1d2c-4441-9624-6d5d29cb6338\" data-root-id=\"6574\"></div>\n"
      ]
     },
     "metadata": {},
     "output_type": "display_data"
    },
    {
     "data": {
      "application/javascript": [
       "(function(root) {\n",
       "  function embed_document(root) {\n",
       "    \n",
       "  var docs_json = {\"052bbebe-51f5-43f2-9a44-34513c18360b\":{\"roots\":{\"references\":[{\"attributes\":{\"children\":[{\"id\":\"6573\",\"type\":\"Row\"}]},\"id\":\"6574\",\"type\":\"Column\"},{\"attributes\":{},\"id\":\"6815\",\"type\":\"BasicTickFormatter\"},{\"attributes\":{},\"id\":\"6523\",\"type\":\"WheelZoomTool\"},{\"attributes\":{},\"id\":\"6556\",\"type\":\"BasicTicker\"},{\"attributes\":{\"factors\":[\"setosa\",\"versicolor\",\"virginica\"],\"palette\":[\"#0072B2\",\"#E69F00\",\"#F0E442\"]},\"id\":\"6535\",\"type\":\"CategoricalColorMapper\"},{\"attributes\":{\"overlay\":{\"id\":\"6822\",\"type\":\"BoxAnnotation\"}},\"id\":\"6524\",\"type\":\"BoxZoomTool\"},{\"attributes\":{\"ticker\":{\"id\":\"6551\",\"type\":\"BasicTicker\"}},\"id\":\"6554\",\"type\":\"Grid\"},{\"attributes\":{},\"id\":\"6513\",\"type\":\"BasicTicker\"},{\"attributes\":{},\"id\":\"6525\",\"type\":\"SaveTool\"},{\"attributes\":{\"fill_color\":{\"field\":\"species\",\"transform\":{\"id\":\"6567\",\"type\":\"CategoricalColorMapper\"}},\"line_color\":{\"field\":\"species\",\"transform\":{\"id\":\"6567\",\"type\":\"CategoricalColorMapper\"}},\"x\":{\"field\":\"sepalLength\"},\"y\":{\"field\":\"sepalWidth\"}},\"id\":\"6569\",\"type\":\"Circle\"},{\"attributes\":{\"text\":\"\"},\"id\":\"6813\",\"type\":\"Title\"},{\"attributes\":{\"dimension\":1,\"ticker\":{\"id\":\"6556\",\"type\":\"BasicTicker\"}},\"id\":\"6559\",\"type\":\"Grid\"},{\"attributes\":{\"fill_alpha\":{\"value\":0.5},\"fill_color\":{\"value\":\"lightgrey\"},\"level\":\"overlay\",\"line_alpha\":{\"value\":1.0},\"line_color\":{\"value\":\"black\"},\"line_dash\":[4,4],\"line_width\":{\"value\":2},\"xs_units\":\"screen\",\"ys_units\":\"screen\"},\"id\":\"6826\",\"type\":\"PolyAnnotation\"},{\"attributes\":{\"factors\":[\"setosa\",\"versicolor\",\"virginica\"],\"palette\":[\"#0072B2\",\"#E69F00\",\"#F0E442\"]},\"id\":\"6567\",\"type\":\"CategoricalColorMapper\"},{\"attributes\":{\"below\":[{\"id\":\"6512\",\"type\":\"LinearAxis\"}],\"center\":[{\"id\":\"6516\",\"type\":\"Grid\"},{\"id\":\"6521\",\"type\":\"Grid\"}],\"left\":[{\"id\":\"6517\",\"type\":\"LinearAxis\"}],\"renderers\":[{\"id\":\"6539\",\"type\":\"GlyphRenderer\"}],\"title\":{\"id\":\"6811\",\"type\":\"Title\"},\"toolbar\":{\"id\":\"6528\",\"type\":\"Toolbar\"},\"x_range\":{\"id\":\"6504\",\"type\":\"DataRange1d\"},\"x_scale\":{\"id\":\"6508\",\"type\":\"LinearScale\"},\"y_range\":{\"id\":\"6506\",\"type\":\"DataRange1d\"},\"y_scale\":{\"id\":\"6510\",\"type\":\"LinearScale\"}},\"id\":\"6503\",\"subtype\":\"Figure\",\"type\":\"Plot\"},{\"attributes\":{\"formatter\":{\"id\":\"6821\",\"type\":\"BasicTickFormatter\"},\"ticker\":{\"id\":\"6556\",\"type\":\"BasicTicker\"}},\"id\":\"6555\",\"type\":\"LinearAxis\"},{\"attributes\":{},\"id\":\"6526\",\"type\":\"ResetTool\"},{\"attributes\":{\"bottom_units\":\"screen\",\"fill_alpha\":{\"value\":0.5},\"fill_color\":{\"value\":\"lightgrey\"},\"left_units\":\"screen\",\"level\":\"overlay\",\"line_alpha\":{\"value\":1.0},\"line_color\":{\"value\":\"black\"},\"line_dash\":[4,4],\"line_width\":{\"value\":2},\"render_mode\":\"css\",\"right_units\":\"screen\",\"top_units\":\"screen\"},\"id\":\"6822\",\"type\":\"BoxAnnotation\"},{\"attributes\":{\"callback\":null},\"id\":\"6504\",\"type\":\"DataRange1d\"},{\"attributes\":{},\"id\":\"6527\",\"type\":\"HelpTool\"},{\"attributes\":{\"active_drag\":\"auto\",\"active_inspect\":\"auto\",\"active_multi\":null,\"active_scroll\":\"auto\",\"active_tap\":\"auto\",\"tools\":[{\"id\":\"6560\",\"type\":\"BoxSelectTool\"},{\"id\":\"6561\",\"type\":\"LassoSelectTool\"},{\"id\":\"6562\",\"type\":\"HelpTool\"}]},\"id\":\"6563\",\"type\":\"Toolbar\"},{\"attributes\":{\"children\":[{\"id\":\"6503\",\"subtype\":\"Figure\",\"type\":\"Plot\"},{\"id\":\"6541\",\"subtype\":\"Figure\",\"type\":\"Plot\"}]},\"id\":\"6573\",\"type\":\"Row\"},{\"attributes\":{\"callback\":null},\"id\":\"6506\",\"type\":\"DataRange1d\"},{\"attributes\":{\"fill_alpha\":{\"value\":0.1},\"fill_color\":{\"value\":\"#1f77b4\"},\"line_alpha\":{\"value\":0.1},\"line_color\":{\"value\":\"#1f77b4\"},\"x\":{\"field\":\"petalLength\"},\"y\":{\"field\":\"petalWidth\"}},\"id\":\"6538\",\"type\":\"Circle\"},{\"attributes\":{\"callback\":null,\"data\":{\"index\":[0,1,2,3,4,5,6,7,8,9,10,11,12,13,14,15,16,17,18,19,20,21,22,23,24,25,26,27,28,29,30,31,32,33,34,35,36,37,38,39,40,41,42,43,44,45,46,47,48,49,50,51,52,53,54,55,56,57,58,59,60,61,62,63,64,65,66,67,68,69,70,71,72,73,74,75,76,77,78,79,80,81,82,83,84,85,86,87,88,89,90,91,92,93,94,95,96,97,98,99,100,101,102,103,104,105,106,107,108,109,110,111,112,113,114,115,116,117,118,119,120,121,122,123,124,125,126,127,128,129,130,131,132,133,134,135,136,137,138,139,140,141,142,143,144,145,146,147,148,149],\"petalLength\":{\"__ndarray__\":\"ZmZmZmZm9j9mZmZmZmb2P83MzMzMzPQ/AAAAAAAA+D9mZmZmZmb2PzQzMzMzM/s/ZmZmZmZm9j8AAAAAAAD4P2ZmZmZmZvY/AAAAAAAA+D8AAAAAAAD4P5qZmZmZmfk/ZmZmZmZm9j+amZmZmZnxPzMzMzMzM/M/AAAAAAAA+D/NzMzMzMz0P2ZmZmZmZvY/NDMzMzMz+z8AAAAAAAD4PzQzMzMzM/s/AAAAAAAA+D8AAAAAAADwPzQzMzMzM/s/ZmZmZmZm/j+amZmZmZn5P5qZmZmZmfk/AAAAAAAA+D9mZmZmZmb2P5qZmZmZmfk/mpmZmZmZ+T8AAAAAAAD4PwAAAAAAAPg/ZmZmZmZm9j8AAAAAAAD4PzMzMzMzM/M/zczMzMzM9D9mZmZmZmb2P83MzMzMzPQ/AAAAAAAA+D/NzMzMzMz0P83MzMzMzPQ/zczMzMzM9D+amZmZmZn5P2ZmZmZmZv4/ZmZmZmZm9j+amZmZmZn5P2ZmZmZmZvY/AAAAAAAA+D9mZmZmZmb2P83MzMzMzBJAAAAAAAAAEkCamZmZmZkTQAAAAAAAABBAZmZmZmZmEkAAAAAAAAASQM3MzMzMzBJAZmZmZmZmCkBmZmZmZmYSQDMzMzMzMw9AAAAAAAAADEDNzMzMzMwQQAAAAAAAABBAzczMzMzMEkDNzMzMzMwMQJqZmZmZmRFAAAAAAAAAEkBmZmZmZmYQQAAAAAAAABJAMzMzMzMzD0AzMzMzMzMTQAAAAAAAABBAmpmZmZmZE0DNzMzMzMwSQDMzMzMzMxFAmpmZmZmZEUAzMzMzMzMTQAAAAAAAABRAAAAAAAAAEkAAAAAAAAAMQGZmZmZmZg5AmpmZmZmZDUAzMzMzMzMPQGZmZmZmZhRAAAAAAAAAEkAAAAAAAAASQM3MzMzMzBJAmpmZmZmZEUBmZmZmZmYQQAAAAAAAABBAmpmZmZmZEUBmZmZmZmYSQAAAAAAAABBAZmZmZmZmCkDNzMzMzMwQQM3MzMzMzBBAzczMzMzMEEAzMzMzMzMRQAAAAAAAAAhAZmZmZmZmEEAAAAAAAAAYQGZmZmZmZhRAmpmZmZmZF0BmZmZmZmYWQDMzMzMzMxdAZmZmZmZmGkAAAAAAAAASQDMzMzMzMxlAMzMzMzMzF0BmZmZmZmYYQGZmZmZmZhRAMzMzMzMzFUAAAAAAAAAWQAAAAAAAABRAZmZmZmZmFEAzMzMzMzMVQAAAAAAAABZAzczMzMzMGkCamZmZmZkbQAAAAAAAABRAzczMzMzMFkCamZmZmZkTQM3MzMzMzBpAmpmZmZmZE0DNzMzMzMwWQAAAAAAAABhAMzMzMzMzE0CamZmZmZkTQGZmZmZmZhZAMzMzMzMzF0BmZmZmZmYYQJqZmZmZmRlAZmZmZmZmFkBmZmZmZmYUQGZmZmZmZhZAZmZmZmZmGEBmZmZmZmYWQAAAAAAAABZAMzMzMzMzE0CamZmZmZkVQGZmZmZmZhZAZmZmZmZmFEBmZmZmZmYUQJqZmZmZmRdAzczMzMzMFkDNzMzMzMwUQAAAAAAAABRAzczMzMzMFECamZmZmZkVQGZmZmZmZhRA\",\"dtype\":\"float64\",\"shape\":[150]},\"petalWidth\":{\"__ndarray__\":\"mpmZmZmZyT+amZmZmZnJP5qZmZmZmck/mpmZmZmZyT+amZmZmZnJP5qZmZmZmdk/NDMzMzMz0z+amZmZmZnJP5qZmZmZmck/mpmZmZmZuT+amZmZmZnJP5qZmZmZmck/mpmZmZmZuT+amZmZmZm5P5qZmZmZmck/mpmZmZmZ2T+amZmZmZnZPzQzMzMzM9M/NDMzMzMz0z80MzMzMzPTP5qZmZmZmck/mpmZmZmZ2T+amZmZmZnJPwAAAAAAAOA/mpmZmZmZyT+amZmZmZnJP5qZmZmZmdk/mpmZmZmZyT+amZmZmZnJP5qZmZmZmck/mpmZmZmZyT+amZmZmZnZP5qZmZmZmbk/mpmZmZmZyT+amZmZmZnJP5qZmZmZmck/mpmZmZmZyT+amZmZmZm5P5qZmZmZmck/mpmZmZmZyT80MzMzMzPTPzQzMzMzM9M/mpmZmZmZyT80MzMzMzPjP5qZmZmZmdk/NDMzMzMz0z+amZmZmZnJP5qZmZmZmck/mpmZmZmZyT+amZmZmZnJP2ZmZmZmZvY/AAAAAAAA+D8AAAAAAAD4P83MzMzMzPQ/AAAAAAAA+D/NzMzMzMz0P5qZmZmZmfk/AAAAAAAA8D/NzMzMzMz0P2ZmZmZmZvY/AAAAAAAA8D8AAAAAAAD4PwAAAAAAAPA/ZmZmZmZm9j/NzMzMzMz0P2ZmZmZmZvY/AAAAAAAA+D8AAAAAAADwPwAAAAAAAPg/mpmZmZmZ8T/NzMzMzMz8P83MzMzMzPQ/AAAAAAAA+D8zMzMzMzPzP83MzMzMzPQ/ZmZmZmZm9j9mZmZmZmb2PzQzMzMzM/s/AAAAAAAA+D8AAAAAAADwP5qZmZmZmfE/AAAAAAAA8D8zMzMzMzPzP5qZmZmZmfk/AAAAAAAA+D+amZmZmZn5PwAAAAAAAPg/zczMzMzM9D/NzMzMzMz0P83MzMzMzPQ/MzMzMzMz8z9mZmZmZmb2PzMzMzMzM/M/AAAAAAAA8D/NzMzMzMz0PzMzMzMzM/M/zczMzMzM9D/NzMzMzMz0P5qZmZmZmfE/zczMzMzM9D8AAAAAAAAEQGZmZmZmZv4/zczMzMzMAEDNzMzMzMz8P5qZmZmZmQFAzczMzMzMAEA0MzMzMzP7P83MzMzMzPw/zczMzMzM/D8AAAAAAAAEQAAAAAAAAABAZmZmZmZm/j/NzMzMzMwAQAAAAAAAAABAMzMzMzMzA0BmZmZmZmYCQM3MzMzMzPw/mpmZmZmZAUBmZmZmZmYCQAAAAAAAAPg/ZmZmZmZmAkAAAAAAAAAAQAAAAAAAAABAzczMzMzM/D/NzMzMzMwAQM3MzMzMzPw/zczMzMzM/D/NzMzMzMz8P83MzMzMzABAmpmZmZmZ+T9mZmZmZmb+PwAAAAAAAABAmpmZmZmZAUAAAAAAAAD4P2ZmZmZmZvY/ZmZmZmZmAkAzMzMzMzMDQM3MzMzMzPw/zczMzMzM/D/NzMzMzMwAQDMzMzMzMwNAZmZmZmZmAkBmZmZmZmb+P2ZmZmZmZgJAAAAAAAAABEBmZmZmZmYCQGZmZmZmZv4/AAAAAAAAAEBmZmZmZmYCQM3MzMzMzPw/\",\"dtype\":\"float64\",\"shape\":[150]},\"sepalLength\":{\"__ndarray__\":\"ZmZmZmZmFECamZmZmZkTQM3MzMzMzBJAZmZmZmZmEkAAAAAAAAAUQJqZmZmZmRVAZmZmZmZmEkAAAAAAAAAUQJqZmZmZmRFAmpmZmZmZE0CamZmZmZkVQDMzMzMzMxNAMzMzMzMzE0AzMzMzMzMRQDMzMzMzMxdAzczMzMzMFkCamZmZmZkVQGZmZmZmZhRAzczMzMzMFkBmZmZmZmYUQJqZmZmZmRVAZmZmZmZmFEBmZmZmZmYSQGZmZmZmZhRAMzMzMzMzE0AAAAAAAAAUQAAAAAAAABRAzczMzMzMFEDNzMzMzMwUQM3MzMzMzBJAMzMzMzMzE0CamZmZmZkVQM3MzMzMzBRAAAAAAAAAFkCamZmZmZkTQAAAAAAAABRAAAAAAAAAFkCamZmZmZkTQJqZmZmZmRFAZmZmZmZmFEAAAAAAAAAUQAAAAAAAABJAmpmZmZmZEUAAAAAAAAAUQGZmZmZmZhRAMzMzMzMzE0BmZmZmZmYUQGZmZmZmZhJAMzMzMzMzFUAAAAAAAAAUQAAAAAAAABxAmpmZmZmZGUCamZmZmZkbQAAAAAAAABZAAAAAAAAAGkDNzMzMzMwWQDMzMzMzMxlAmpmZmZmZE0BmZmZmZmYaQM3MzMzMzBRAAAAAAAAAFECamZmZmZkXQAAAAAAAABhAZmZmZmZmGEBmZmZmZmYWQM3MzMzMzBpAZmZmZmZmFkAzMzMzMzMXQM3MzMzMzBhAZmZmZmZmFkCamZmZmZkXQGZmZmZmZhhAMzMzMzMzGUBmZmZmZmYYQJqZmZmZmRlAZmZmZmZmGkAzMzMzMzMbQM3MzMzMzBpAAAAAAAAAGEDNzMzMzMwWQAAAAAAAABZAAAAAAAAAFkAzMzMzMzMXQAAAAAAAABhAmpmZmZmZFUAAAAAAAAAYQM3MzMzMzBpAMzMzMzMzGUBmZmZmZmYWQAAAAAAAABZAAAAAAAAAFkBmZmZmZmYYQDMzMzMzMxdAAAAAAAAAFEBmZmZmZmYWQM3MzMzMzBZAzczMzMzMFkDNzMzMzMwYQGZmZmZmZhRAzczMzMzMFkAzMzMzMzMZQDMzMzMzMxdAZmZmZmZmHEAzMzMzMzMZQAAAAAAAABpAZmZmZmZmHkCamZmZmZkTQDMzMzMzMx1AzczMzMzMGkDNzMzMzMwcQAAAAAAAABpAmpmZmZmZGUAzMzMzMzMbQM3MzMzMzBZAMzMzMzMzF0CamZmZmZkZQAAAAAAAABpAzczMzMzMHkDNzMzMzMweQAAAAAAAABhAmpmZmZmZG0BmZmZmZmYWQM3MzMzMzB5AMzMzMzMzGUDNzMzMzMwaQM3MzMzMzBxAzczMzMzMGEBmZmZmZmYYQJqZmZmZmRlAzczMzMzMHECamZmZmZkdQJqZmZmZmR9AmpmZmZmZGUAzMzMzMzMZQGZmZmZmZhhAzczMzMzMHkAzMzMzMzMZQJqZmZmZmRlAAAAAAAAAGECamZmZmZkbQM3MzMzMzBpAmpmZmZmZG0AzMzMzMzMXQDMzMzMzMxtAzczMzMzMGkDNzMzMzMwaQDMzMzMzMxlAAAAAAAAAGkDNzMzMzMwYQJqZmZmZmRdA\",\"dtype\":\"float64\",\"shape\":[150]},\"sepalWidth\":{\"__ndarray__\":\"AAAAAAAADEAAAAAAAAAIQJqZmZmZmQlAzczMzMzMCEDNzMzMzMwMQDMzMzMzMw9AMzMzMzMzC0AzMzMzMzMLQDMzMzMzMwdAzczMzMzMCECamZmZmZkNQDMzMzMzMwtAAAAAAAAACEAAAAAAAAAIQAAAAAAAABBAmpmZmZmZEUAzMzMzMzMPQAAAAAAAAAxAZmZmZmZmDkBmZmZmZmYOQDMzMzMzMwtAmpmZmZmZDUDNzMzMzMwMQGZmZmZmZgpAMzMzMzMzC0AAAAAAAAAIQDMzMzMzMwtAAAAAAAAADEAzMzMzMzMLQJqZmZmZmQlAzczMzMzMCEAzMzMzMzMLQGZmZmZmZhBAzczMzMzMEEDNzMzMzMwIQJqZmZmZmQlAAAAAAAAADEDNzMzMzMwMQAAAAAAAAAhAMzMzMzMzC0AAAAAAAAAMQGZmZmZmZgJAmpmZmZmZCUAAAAAAAAAMQGZmZmZmZg5AAAAAAAAACEBmZmZmZmYOQJqZmZmZmQlAmpmZmZmZDUBmZmZmZmYKQJqZmZmZmQlAmpmZmZmZCUDNzMzMzMwIQGZmZmZmZgJAZmZmZmZmBkBmZmZmZmYGQGZmZmZmZgpAMzMzMzMzA0AzMzMzMzMHQJqZmZmZmQVAAAAAAAAAAEAAAAAAAAAIQJqZmZmZmQFAMzMzMzMzB0AzMzMzMzMHQM3MzMzMzAhAAAAAAAAACECamZmZmZkFQJqZmZmZmQFAAAAAAAAABECamZmZmZkJQGZmZmZmZgZAAAAAAAAABEBmZmZmZmYGQDMzMzMzMwdAAAAAAAAACEBmZmZmZmYGQAAAAAAAAAhAMzMzMzMzB0DNzMzMzMwEQDMzMzMzMwNAMzMzMzMzA0CamZmZmZkFQJqZmZmZmQVAAAAAAAAACEAzMzMzMzMLQM3MzMzMzAhAZmZmZmZmAkAAAAAAAAAIQAAAAAAAAARAzczMzMzMBEAAAAAAAAAIQM3MzMzMzARAZmZmZmZmAkCamZmZmZkFQAAAAAAAAAhAMzMzMzMzB0AzMzMzMzMHQAAAAAAAAARAZmZmZmZmBkBmZmZmZmYKQJqZmZmZmQVAAAAAAAAACEAzMzMzMzMHQAAAAAAAAAhAAAAAAAAACEAAAAAAAAAEQDMzMzMzMwdAAAAAAAAABEDNzMzMzMwMQJqZmZmZmQlAmpmZmZmZBUAAAAAAAAAIQAAAAAAAAARAZmZmZmZmBkCamZmZmZkJQAAAAAAAAAhAZmZmZmZmDkDNzMzMzMwEQJqZmZmZmQFAmpmZmZmZCUBmZmZmZmYGQGZmZmZmZgZAmpmZmZmZBUBmZmZmZmYKQJqZmZmZmQlAZmZmZmZmBkAAAAAAAAAIQGZmZmZmZgZAAAAAAAAACEBmZmZmZmYGQGZmZmZmZg5AZmZmZmZmBkBmZmZmZmYGQM3MzMzMzARAAAAAAAAACEAzMzMzMzMLQM3MzMzMzAhAAAAAAAAACEDNzMzMzMwIQM3MzMzMzAhAzczMzMzMCECamZmZmZkFQJqZmZmZmQlAZmZmZmZmCkAAAAAAAAAIQAAAAAAAAARAAAAAAAAACEAzMzMzMzMLQAAAAAAAAAhA\",\"dtype\":\"float64\",\"shape\":[150]},\"species\":[\"setosa\",\"setosa\",\"setosa\",\"setosa\",\"setosa\",\"setosa\",\"setosa\",\"setosa\",\"setosa\",\"setosa\",\"setosa\",\"setosa\",\"setosa\",\"setosa\",\"setosa\",\"setosa\",\"setosa\",\"setosa\",\"setosa\",\"setosa\",\"setosa\",\"setosa\",\"setosa\",\"setosa\",\"setosa\",\"setosa\",\"setosa\",\"setosa\",\"setosa\",\"setosa\",\"setosa\",\"setosa\",\"setosa\",\"setosa\",\"setosa\",\"setosa\",\"setosa\",\"setosa\",\"setosa\",\"setosa\",\"setosa\",\"setosa\",\"setosa\",\"setosa\",\"setosa\",\"setosa\",\"setosa\",\"setosa\",\"setosa\",\"setosa\",\"versicolor\",\"versicolor\",\"versicolor\",\"versicolor\",\"versicolor\",\"versicolor\",\"versicolor\",\"versicolor\",\"versicolor\",\"versicolor\",\"versicolor\",\"versicolor\",\"versicolor\",\"versicolor\",\"versicolor\",\"versicolor\",\"versicolor\",\"versicolor\",\"versicolor\",\"versicolor\",\"versicolor\",\"versicolor\",\"versicolor\",\"versicolor\",\"versicolor\",\"versicolor\",\"versicolor\",\"versicolor\",\"versicolor\",\"versicolor\",\"versicolor\",\"versicolor\",\"versicolor\",\"versicolor\",\"versicolor\",\"versicolor\",\"versicolor\",\"versicolor\",\"versicolor\",\"versicolor\",\"versicolor\",\"versicolor\",\"versicolor\",\"versicolor\",\"versicolor\",\"versicolor\",\"versicolor\",\"versicolor\",\"versicolor\",\"versicolor\",\"virginica\",\"virginica\",\"virginica\",\"virginica\",\"virginica\",\"virginica\",\"virginica\",\"virginica\",\"virginica\",\"virginica\",\"virginica\",\"virginica\",\"virginica\",\"virginica\",\"virginica\",\"virginica\",\"virginica\",\"virginica\",\"virginica\",\"virginica\",\"virginica\",\"virginica\",\"virginica\",\"virginica\",\"virginica\",\"virginica\",\"virginica\",\"virginica\",\"virginica\",\"virginica\",\"virginica\",\"virginica\",\"virginica\",\"virginica\",\"virginica\",\"virginica\",\"virginica\",\"virginica\",\"virginica\",\"virginica\",\"virginica\",\"virginica\",\"virginica\",\"virginica\",\"virginica\",\"virginica\",\"virginica\",\"virginica\",\"virginica\",\"virginica\"]},\"selected\":{\"id\":\"6824\",\"type\":\"Selection\"},\"selection_policy\":{\"id\":\"6823\",\"type\":\"UnionRenderers\"}},\"id\":\"6502\",\"type\":\"ColumnDataSource\"},{\"attributes\":{\"callback\":null,\"overlay\":{\"id\":\"6825\",\"type\":\"BoxAnnotation\"}},\"id\":\"6560\",\"type\":\"BoxSelectTool\"},{\"attributes\":{},\"id\":\"6823\",\"type\":\"UnionRenderers\"},{\"attributes\":{\"callback\":null},\"id\":\"6542\",\"type\":\"DataRange1d\"},{\"attributes\":{},\"id\":\"6821\",\"type\":\"BasicTickFormatter\"},{\"attributes\":{},\"id\":\"6824\",\"type\":\"Selection\"},{\"attributes\":{\"callback\":null,\"overlay\":{\"id\":\"6826\",\"type\":\"PolyAnnotation\"}},\"id\":\"6561\",\"type\":\"LassoSelectTool\"},{\"attributes\":{},\"id\":\"6551\",\"type\":\"BasicTicker\"},{\"attributes\":{\"fill_alpha\":{\"value\":0.1},\"fill_color\":{\"value\":\"#1f77b4\"},\"line_alpha\":{\"value\":0.1},\"line_color\":{\"value\":\"#1f77b4\"},\"x\":{\"field\":\"sepalLength\"},\"y\":{\"field\":\"sepalWidth\"}},\"id\":\"6570\",\"type\":\"Circle\"},{\"attributes\":{},\"id\":\"6508\",\"type\":\"LinearScale\"},{\"attributes\":{\"ticker\":{\"id\":\"6513\",\"type\":\"BasicTicker\"}},\"id\":\"6516\",\"type\":\"Grid\"},{\"attributes\":{},\"id\":\"6518\",\"type\":\"BasicTicker\"},{\"attributes\":{},\"id\":\"6562\",\"type\":\"HelpTool\"},{\"attributes\":{\"formatter\":{\"id\":\"6815\",\"type\":\"BasicTickFormatter\"},\"ticker\":{\"id\":\"6513\",\"type\":\"BasicTicker\"}},\"id\":\"6512\",\"type\":\"LinearAxis\"},{\"attributes\":{\"source\":{\"id\":\"6502\",\"type\":\"ColumnDataSource\"}},\"id\":\"6540\",\"type\":\"CDSView\"},{\"attributes\":{},\"id\":\"6522\",\"type\":\"PanTool\"},{\"attributes\":{\"dimension\":1,\"ticker\":{\"id\":\"6518\",\"type\":\"BasicTicker\"}},\"id\":\"6521\",\"type\":\"Grid\"},{\"attributes\":{\"source\":{\"id\":\"6502\",\"type\":\"ColumnDataSource\"}},\"id\":\"6572\",\"type\":\"CDSView\"},{\"attributes\":{\"formatter\":{\"id\":\"6817\",\"type\":\"BasicTickFormatter\"},\"ticker\":{\"id\":\"6518\",\"type\":\"BasicTicker\"}},\"id\":\"6517\",\"type\":\"LinearAxis\"},{\"attributes\":{\"callback\":null},\"id\":\"6544\",\"type\":\"DataRange1d\"},{\"attributes\":{\"data_source\":{\"id\":\"6502\",\"type\":\"ColumnDataSource\"},\"glyph\":{\"id\":\"6569\",\"type\":\"Circle\"},\"hover_glyph\":null,\"muted_glyph\":null,\"nonselection_glyph\":{\"id\":\"6570\",\"type\":\"Circle\"},\"selection_glyph\":null,\"view\":{\"id\":\"6572\",\"type\":\"CDSView\"}},\"id\":\"6571\",\"type\":\"GlyphRenderer\"},{\"attributes\":{\"bottom_units\":\"screen\",\"fill_alpha\":{\"value\":0.5},\"fill_color\":{\"value\":\"lightgrey\"},\"left_units\":\"screen\",\"level\":\"overlay\",\"line_alpha\":{\"value\":1.0},\"line_color\":{\"value\":\"black\"},\"line_dash\":[4,4],\"line_width\":{\"value\":2},\"render_mode\":\"css\",\"right_units\":\"screen\",\"top_units\":\"screen\"},\"id\":\"6825\",\"type\":\"BoxAnnotation\"},{\"attributes\":{\"text\":\"\"},\"id\":\"6811\",\"type\":\"Title\"},{\"attributes\":{},\"id\":\"6546\",\"type\":\"LinearScale\"},{\"attributes\":{},\"id\":\"6817\",\"type\":\"BasicTickFormatter\"},{\"attributes\":{\"fill_color\":{\"field\":\"species\",\"transform\":{\"id\":\"6535\",\"type\":\"CategoricalColorMapper\"}},\"line_color\":{\"field\":\"species\",\"transform\":{\"id\":\"6535\",\"type\":\"CategoricalColorMapper\"}},\"x\":{\"field\":\"petalLength\"},\"y\":{\"field\":\"petalWidth\"}},\"id\":\"6537\",\"type\":\"Circle\"},{\"attributes\":{},\"id\":\"6819\",\"type\":\"BasicTickFormatter\"},{\"attributes\":{},\"id\":\"6510\",\"type\":\"LinearScale\"},{\"attributes\":{\"active_drag\":\"auto\",\"active_inspect\":\"auto\",\"active_multi\":null,\"active_scroll\":\"auto\",\"active_tap\":\"auto\",\"tools\":[{\"id\":\"6522\",\"type\":\"PanTool\"},{\"id\":\"6523\",\"type\":\"WheelZoomTool\"},{\"id\":\"6524\",\"type\":\"BoxZoomTool\"},{\"id\":\"6525\",\"type\":\"SaveTool\"},{\"id\":\"6526\",\"type\":\"ResetTool\"},{\"id\":\"6527\",\"type\":\"HelpTool\"}]},\"id\":\"6528\",\"type\":\"Toolbar\"},{\"attributes\":{\"below\":[{\"id\":\"6550\",\"type\":\"LinearAxis\"}],\"center\":[{\"id\":\"6554\",\"type\":\"Grid\"},{\"id\":\"6559\",\"type\":\"Grid\"}],\"left\":[{\"id\":\"6555\",\"type\":\"LinearAxis\"}],\"renderers\":[{\"id\":\"6571\",\"type\":\"GlyphRenderer\"}],\"title\":{\"id\":\"6813\",\"type\":\"Title\"},\"toolbar\":{\"id\":\"6563\",\"type\":\"Toolbar\"},\"x_range\":{\"id\":\"6542\",\"type\":\"DataRange1d\"},\"x_scale\":{\"id\":\"6546\",\"type\":\"LinearScale\"},\"y_range\":{\"id\":\"6544\",\"type\":\"DataRange1d\"},\"y_scale\":{\"id\":\"6548\",\"type\":\"LinearScale\"}},\"id\":\"6541\",\"subtype\":\"Figure\",\"type\":\"Plot\"},{\"attributes\":{},\"id\":\"6548\",\"type\":\"LinearScale\"},{\"attributes\":{\"data_source\":{\"id\":\"6502\",\"type\":\"ColumnDataSource\"},\"glyph\":{\"id\":\"6537\",\"type\":\"Circle\"},\"hover_glyph\":null,\"muted_glyph\":null,\"nonselection_glyph\":{\"id\":\"6538\",\"type\":\"Circle\"},\"selection_glyph\":null,\"view\":{\"id\":\"6540\",\"type\":\"CDSView\"}},\"id\":\"6539\",\"type\":\"GlyphRenderer\"},{\"attributes\":{\"formatter\":{\"id\":\"6819\",\"type\":\"BasicTickFormatter\"},\"ticker\":{\"id\":\"6551\",\"type\":\"BasicTicker\"}},\"id\":\"6550\",\"type\":\"LinearAxis\"}],\"root_ids\":[\"6574\"]},\"title\":\"Bokeh Application\",\"version\":\"1.3.4\"}};\n",
       "  var render_items = [{\"docid\":\"052bbebe-51f5-43f2-9a44-34513c18360b\",\"roots\":{\"6574\":\"b6d56d87-1d2c-4441-9624-6d5d29cb6338\"}}];\n",
       "  root.Bokeh.embed.embed_items_notebook(docs_json, render_items);\n",
       "\n",
       "  }\n",
       "  if (root.Bokeh !== undefined) {\n",
       "    embed_document(root);\n",
       "  } else {\n",
       "    var attempts = 0;\n",
       "    var timer = setInterval(function(root) {\n",
       "      if (root.Bokeh !== undefined) {\n",
       "        embed_document(root);\n",
       "        clearInterval(timer);\n",
       "      }\n",
       "      attempts++;\n",
       "      if (attempts > 100) {\n",
       "        console.log(\"Bokeh: ERROR: Unable to run BokehJS code because BokehJS library is missing\");\n",
       "        clearInterval(timer);\n",
       "      }\n",
       "    }, 10, root)\n",
       "  }\n",
       "})(window);"
      ],
      "application/vnd.bokehjs_exec.v0+json": ""
     },
     "metadata": {
      "application/vnd.bokehjs_exec.v0+json": {
       "id": "6574"
      }
     },
     "output_type": "display_data"
    }
   ],
   "source": [
    "petals = figure()\n",
    "petals.circle(x='petalLength', y='petalWidth', color=factor_cmap('species', Colorblind3, iris.species.unique()), source=source)\n",
    "sepal = figure(tools=tools)\n",
    "sepal.circle(x='sepalLength', y='sepalWidth', color=factor_cmap('species', Colorblind3, iris.species.unique()), source=source)\n",
    "\n",
    "show(layout([[petals, sepal]]))"
   ]
  },
  {
   "cell_type": "markdown",
   "metadata": {},
   "source": [
    "Just by sharing the same datasource, the graphs are now linked!\n",
    "\n",
    "A big part of Bokeh is the ability to run a bokeh server, which let's you setup callbacks between graphs and widgets - Bokeh has a ton of widgets set up"
   ]
  },
  {
   "cell_type": "code",
   "execution_count": 78,
   "metadata": {},
   "outputs": [],
   "source": [
    "from bokeh.models import Slider, Button, RangeSlider, Select, RadioButtonGroup\n",
    "from bokeh.layouts import column"
   ]
  },
  {
   "cell_type": "code",
   "execution_count": 79,
   "metadata": {},
   "outputs": [
    {
     "data": {
      "text/html": [
       "\n",
       "\n",
       "\n",
       "\n",
       "\n",
       "\n",
       "  <div class=\"bk-root\" id=\"001451fb-6f8e-4a76-b710-bfd4d643f122\" data-root-id=\"7732\"></div>\n"
      ]
     },
     "metadata": {},
     "output_type": "display_data"
    },
    {
     "data": {
      "application/javascript": [
       "(function(root) {\n",
       "  function embed_document(root) {\n",
       "    \n",
       "  var docs_json = {\"85edf803-4895-49f1-a0cc-c20a5955e08f\":{\"roots\":{\"references\":[{\"attributes\":{\"children\":[{\"id\":\"7730\",\"type\":\"Button\"},{\"id\":\"7727\",\"type\":\"Slider\"},{\"id\":\"7728\",\"type\":\"RadioButtonGroup\"},{\"id\":\"7729\",\"type\":\"Select\"},{\"id\":\"7731\",\"type\":\"Button\"}],\"width\":300},\"id\":\"7732\",\"type\":\"Column\"},{\"attributes\":{\"callback\":null,\"icon\":null,\"label\":\"Button 2\"},\"id\":\"7731\",\"type\":\"Button\"},{\"attributes\":{\"callback\":null,\"options\":[\"foo\",\"bar\",\"baz\",\"quux\"],\"title\":\"Option:\",\"value\":\"foo\"},\"id\":\"7729\",\"type\":\"Select\"},{\"attributes\":{\"callback\":null,\"icon\":null,\"label\":\"Button 1\"},\"id\":\"7730\",\"type\":\"Button\"},{\"attributes\":{\"active\":0,\"callback\":null,\"labels\":[\"Option 1\",\"Option 2\",\"Option 3\"]},\"id\":\"7728\",\"type\":\"RadioButtonGroup\"},{\"attributes\":{\"callback\":null,\"end\":10,\"start\":0,\"step\":0.1,\"title\":\"Slider\",\"value\":1},\"id\":\"7727\",\"type\":\"Slider\"}],\"root_ids\":[\"7732\"]},\"title\":\"Bokeh Application\",\"version\":\"1.3.4\"}};\n",
       "  var render_items = [{\"docid\":\"85edf803-4895-49f1-a0cc-c20a5955e08f\",\"roots\":{\"7732\":\"001451fb-6f8e-4a76-b710-bfd4d643f122\"}}];\n",
       "  root.Bokeh.embed.embed_items_notebook(docs_json, render_items);\n",
       "\n",
       "  }\n",
       "  if (root.Bokeh !== undefined) {\n",
       "    embed_document(root);\n",
       "  } else {\n",
       "    var attempts = 0;\n",
       "    var timer = setInterval(function(root) {\n",
       "      if (root.Bokeh !== undefined) {\n",
       "        embed_document(root);\n",
       "        clearInterval(timer);\n",
       "      }\n",
       "      attempts++;\n",
       "      if (attempts > 100) {\n",
       "        console.log(\"Bokeh: ERROR: Unable to run BokehJS code because BokehJS library is missing\");\n",
       "        clearInterval(timer);\n",
       "      }\n",
       "    }, 10, root)\n",
       "  }\n",
       "})(window);"
      ],
      "application/vnd.bokehjs_exec.v0+json": ""
     },
     "metadata": {
      "application/vnd.bokehjs_exec.v0+json": {
       "id": "7732"
      }
     },
     "output_type": "display_data"
    }
   ],
   "source": [
    "slider = Slider(start=0, end=10, value=1, step=.1, title=\"Slider\")\n",
    "button_group = RadioButtonGroup(labels=[\"Option 1\", \"Option 2\", \"Option 3\"], active=0)\n",
    "select = Select(title=\"Option:\", value=\"foo\", options=[\"foo\", \"bar\", \"baz\", \"quux\"])\n",
    "button_1 = Button(label=\"Button 1\")\n",
    "button_2 = Button(label=\"Button 2\")\n",
    "\n",
    "show(column(button_1, slider, button_group, select, button_2, width=300))"
   ]
  },
  {
   "cell_type": "markdown",
   "metadata": {},
   "source": [
    "Unfortunately, if you want to use them in a notebook, you have to use JavaScript callbacks,using the CustomJS class "
   ]
  },
  {
   "cell_type": "code",
   "execution_count": 80,
   "metadata": {},
   "outputs": [
    {
     "data": {
      "text/html": [
       "\n",
       "\n",
       "\n",
       "\n",
       "\n",
       "\n",
       "  <div class=\"bk-root\" id=\"5f212b70-36b2-4fd1-8e80-088629b61051\" data-root-id=\"8025\"></div>\n"
      ]
     },
     "metadata": {},
     "output_type": "display_data"
    },
    {
     "data": {
      "application/javascript": [
       "(function(root) {\n",
       "  function embed_document(root) {\n",
       "    \n",
       "  var docs_json = {\"2404c5cc-6849-4285-a883-be9959a17114\":{\"roots\":{\"references\":[{\"attributes\":{\"children\":[{\"id\":\"8023\",\"type\":\"Slider\"},{\"id\":\"7986\",\"subtype\":\"Figure\",\"type\":\"Plot\"}]},\"id\":\"8025\",\"type\":\"Column\"},{\"attributes\":{\"overlay\":{\"id\":\"8286\",\"type\":\"BoxAnnotation\"}},\"id\":\"8007\",\"type\":\"BoxZoomTool\"},{\"attributes\":{},\"id\":\"7993\",\"type\":\"LinearScale\"},{\"attributes\":{\"formatter\":{\"id\":\"8281\",\"type\":\"BasicTickFormatter\"},\"ticker\":{\"id\":\"7996\",\"type\":\"BasicTicker\"}},\"id\":\"7995\",\"type\":\"LinearAxis\"},{\"attributes\":{},\"id\":\"8281\",\"type\":\"BasicTickFormatter\"},{\"attributes\":{\"line_alpha\":0.1,\"line_color\":\"#1f77b4\",\"line_width\":3,\"x\":{\"field\":\"x\"},\"y\":{\"field\":\"y\"}},\"id\":\"8020\",\"type\":\"Line\"},{\"attributes\":{},\"id\":\"8009\",\"type\":\"ResetTool\"},{\"attributes\":{\"callback\":null,\"end\":6,\"js_property_callbacks\":{\"change:value\":[{\"id\":\"8024\",\"type\":\"CustomJS\"}]},\"start\":0.1,\"step\":0.1,\"title\":\"power\",\"value\":1},\"id\":\"8023\",\"type\":\"Slider\"},{\"attributes\":{},\"id\":\"8285\",\"type\":\"Selection\"},{\"attributes\":{},\"id\":\"8283\",\"type\":\"BasicTickFormatter\"},{\"attributes\":{\"below\":[{\"id\":\"7995\",\"type\":\"LinearAxis\"}],\"center\":[{\"id\":\"7999\",\"type\":\"Grid\"},{\"id\":\"8004\",\"type\":\"Grid\"}],\"left\":[{\"id\":\"8000\",\"type\":\"LinearAxis\"}],\"plot_height\":400,\"plot_width\":400,\"renderers\":[{\"id\":\"8021\",\"type\":\"GlyphRenderer\"}],\"title\":{\"id\":\"8279\",\"type\":\"Title\"},\"toolbar\":{\"id\":\"8011\",\"type\":\"Toolbar\"},\"x_range\":{\"id\":\"7987\",\"type\":\"DataRange1d\"},\"x_scale\":{\"id\":\"7991\",\"type\":\"LinearScale\"},\"y_range\":{\"id\":\"7989\",\"type\":\"DataRange1d\"},\"y_scale\":{\"id\":\"7993\",\"type\":\"LinearScale\"}},\"id\":\"7986\",\"subtype\":\"Figure\",\"type\":\"Plot\"},{\"attributes\":{\"data_source\":{\"id\":\"7985\",\"type\":\"ColumnDataSource\"},\"glyph\":{\"id\":\"8019\",\"type\":\"Line\"},\"hover_glyph\":null,\"muted_glyph\":null,\"nonselection_glyph\":{\"id\":\"8020\",\"type\":\"Line\"},\"selection_glyph\":null,\"view\":{\"id\":\"8022\",\"type\":\"CDSView\"}},\"id\":\"8021\",\"type\":\"GlyphRenderer\"},{\"attributes\":{\"line_alpha\":0.6,\"line_color\":\"#1f77b4\",\"line_width\":3,\"x\":{\"field\":\"x\"},\"y\":{\"field\":\"y\"}},\"id\":\"8019\",\"type\":\"Line\"},{\"attributes\":{},\"id\":\"8001\",\"type\":\"BasicTicker\"},{\"attributes\":{\"source\":{\"id\":\"7985\",\"type\":\"ColumnDataSource\"}},\"id\":\"8022\",\"type\":\"CDSView\"},{\"attributes\":{},\"id\":\"8284\",\"type\":\"UnionRenderers\"},{\"attributes\":{},\"id\":\"8010\",\"type\":\"HelpTool\"},{\"attributes\":{},\"id\":\"8008\",\"type\":\"SaveTool\"},{\"attributes\":{\"callback\":null,\"data\":{\"x\":[0.0,0.005,0.01,0.015,0.02,0.025,0.03,0.035,0.04,0.045,0.05,0.055,0.06,0.065,0.07,0.075,0.08,0.085,0.09,0.095,0.1,0.105,0.11,0.115,0.12,0.125,0.13,0.135,0.14,0.145,0.15,0.155,0.16,0.165,0.17,0.17500000000000002,0.18,0.185,0.19,0.195,0.2,0.20500000000000002,0.21,0.215,0.22,0.225,0.23,0.23500000000000001,0.24,0.245,0.25,0.255,0.26,0.265,0.27,0.275,0.28,0.28500000000000003,0.29,0.295,0.3,0.305,0.31,0.315,0.32,0.325,0.33,0.335,0.34,0.34500000000000003,0.35000000000000003,0.355,0.36,0.365,0.37,0.375,0.38,0.385,0.39,0.395,0.4,0.405,0.41000000000000003,0.41500000000000004,0.42,0.425,0.43,0.435,0.44,0.445,0.45,0.455,0.46,0.465,0.47000000000000003,0.47500000000000003,0.48,0.485,0.49,0.495,0.5,0.505,0.51,0.515,0.52,0.525,0.53,0.535,0.54,0.545,0.55,0.555,0.56,0.5650000000000001,0.5700000000000001,0.5750000000000001,0.58,0.585,0.59,0.595,0.6,0.605,0.61,0.615,0.62,0.625,0.63,0.635,0.64,0.645,0.65,0.655,0.66,0.665,0.67,0.675,0.68,0.685,0.6900000000000001,0.6950000000000001,0.7000000000000001,0.705,0.71,0.715,0.72,0.725,0.73,0.735,0.74,0.745,0.75,0.755,0.76,0.765,0.77,0.775,0.78,0.785,0.79,0.795,0.8,0.805,0.81,0.8150000000000001,0.8200000000000001,0.8250000000000001,0.8300000000000001,0.835,0.84,0.845,0.85,0.855,0.86,0.865,0.87,0.875,0.88,0.885,0.89,0.895,0.9,0.905,0.91,0.915,0.92,0.925,0.93,0.935,0.9400000000000001,0.9450000000000001,0.9500000000000001,0.9550000000000001,0.96,0.965,0.97,0.975,0.98,0.985,0.99,0.995,1.0],\"y\":[0.0,0.005,0.01,0.015,0.02,0.025,0.03,0.035,0.04,0.045,0.05,0.055,0.06,0.065,0.07,0.075,0.08,0.085,0.09,0.095,0.1,0.105,0.11,0.115,0.12,0.125,0.13,0.135,0.14,0.145,0.15,0.155,0.16,0.165,0.17,0.17500000000000002,0.18,0.185,0.19,0.195,0.2,0.20500000000000002,0.21,0.215,0.22,0.225,0.23,0.23500000000000001,0.24,0.245,0.25,0.255,0.26,0.265,0.27,0.275,0.28,0.28500000000000003,0.29,0.295,0.3,0.305,0.31,0.315,0.32,0.325,0.33,0.335,0.34,0.34500000000000003,0.35000000000000003,0.355,0.36,0.365,0.37,0.375,0.38,0.385,0.39,0.395,0.4,0.405,0.41000000000000003,0.41500000000000004,0.42,0.425,0.43,0.435,0.44,0.445,0.45,0.455,0.46,0.465,0.47000000000000003,0.47500000000000003,0.48,0.485,0.49,0.495,0.5,0.505,0.51,0.515,0.52,0.525,0.53,0.535,0.54,0.545,0.55,0.555,0.56,0.5650000000000001,0.5700000000000001,0.5750000000000001,0.58,0.585,0.59,0.595,0.6,0.605,0.61,0.615,0.62,0.625,0.63,0.635,0.64,0.645,0.65,0.655,0.66,0.665,0.67,0.675,0.68,0.685,0.6900000000000001,0.6950000000000001,0.7000000000000001,0.705,0.71,0.715,0.72,0.725,0.73,0.735,0.74,0.745,0.75,0.755,0.76,0.765,0.77,0.775,0.78,0.785,0.79,0.795,0.8,0.805,0.81,0.8150000000000001,0.8200000000000001,0.8250000000000001,0.8300000000000001,0.835,0.84,0.845,0.85,0.855,0.86,0.865,0.87,0.875,0.88,0.885,0.89,0.895,0.9,0.905,0.91,0.915,0.92,0.925,0.93,0.935,0.9400000000000001,0.9450000000000001,0.9500000000000001,0.9550000000000001,0.96,0.965,0.97,0.975,0.98,0.985,0.99,0.995,1.0]},\"selected\":{\"id\":\"8285\",\"type\":\"Selection\"},\"selection_policy\":{\"id\":\"8284\",\"type\":\"UnionRenderers\"}},\"id\":\"7985\",\"type\":\"ColumnDataSource\"},{\"attributes\":{},\"id\":\"8005\",\"type\":\"PanTool\"},{\"attributes\":{\"args\":{\"slider\":{\"id\":\"8023\",\"type\":\"Slider\"},\"source\":{\"id\":\"7985\",\"type\":\"ColumnDataSource\"}},\"code\":\"\\n    var data = source.data;\\n    var f = slider.value;\\n    x = data['x']\\n    y = data['y']\\n    for (i = 0; i < x.length; i++) {\\n        y[i] = Math.pow(x[i], f)\\n    }\\n    \\n    // necessary becasue we mutated source.data in-place\\n    source.change.emit();\\n\"},\"id\":\"8024\",\"type\":\"CustomJS\"},{\"attributes\":{},\"id\":\"7991\",\"type\":\"LinearScale\"},{\"attributes\":{\"ticker\":{\"id\":\"7996\",\"type\":\"BasicTicker\"}},\"id\":\"7999\",\"type\":\"Grid\"},{\"attributes\":{},\"id\":\"7996\",\"type\":\"BasicTicker\"},{\"attributes\":{\"formatter\":{\"id\":\"8283\",\"type\":\"BasicTickFormatter\"},\"ticker\":{\"id\":\"8001\",\"type\":\"BasicTicker\"}},\"id\":\"8000\",\"type\":\"LinearAxis\"},{\"attributes\":{},\"id\":\"8006\",\"type\":\"WheelZoomTool\"},{\"attributes\":{\"active_drag\":\"auto\",\"active_inspect\":\"auto\",\"active_multi\":null,\"active_scroll\":\"auto\",\"active_tap\":\"auto\",\"tools\":[{\"id\":\"8005\",\"type\":\"PanTool\"},{\"id\":\"8006\",\"type\":\"WheelZoomTool\"},{\"id\":\"8007\",\"type\":\"BoxZoomTool\"},{\"id\":\"8008\",\"type\":\"SaveTool\"},{\"id\":\"8009\",\"type\":\"ResetTool\"},{\"id\":\"8010\",\"type\":\"HelpTool\"}]},\"id\":\"8011\",\"type\":\"Toolbar\"},{\"attributes\":{\"dimension\":1,\"ticker\":{\"id\":\"8001\",\"type\":\"BasicTicker\"}},\"id\":\"8004\",\"type\":\"Grid\"},{\"attributes\":{\"callback\":null},\"id\":\"7989\",\"type\":\"DataRange1d\"},{\"attributes\":{\"text\":\"\"},\"id\":\"8279\",\"type\":\"Title\"},{\"attributes\":{\"callback\":null},\"id\":\"7987\",\"type\":\"DataRange1d\"},{\"attributes\":{\"bottom_units\":\"screen\",\"fill_alpha\":{\"value\":0.5},\"fill_color\":{\"value\":\"lightgrey\"},\"left_units\":\"screen\",\"level\":\"overlay\",\"line_alpha\":{\"value\":1.0},\"line_color\":{\"value\":\"black\"},\"line_dash\":[4,4],\"line_width\":{\"value\":2},\"render_mode\":\"css\",\"right_units\":\"screen\",\"top_units\":\"screen\"},\"id\":\"8286\",\"type\":\"BoxAnnotation\"}],\"root_ids\":[\"8025\"]},\"title\":\"Bokeh Application\",\"version\":\"1.3.4\"}};\n",
       "  var render_items = [{\"docid\":\"2404c5cc-6849-4285-a883-be9959a17114\",\"roots\":{\"8025\":\"5f212b70-36b2-4fd1-8e80-088629b61051\"}}];\n",
       "  root.Bokeh.embed.embed_items_notebook(docs_json, render_items);\n",
       "\n",
       "  }\n",
       "  if (root.Bokeh !== undefined) {\n",
       "    embed_document(root);\n",
       "  } else {\n",
       "    var attempts = 0;\n",
       "    var timer = setInterval(function(root) {\n",
       "      if (root.Bokeh !== undefined) {\n",
       "        embed_document(root);\n",
       "        clearInterval(timer);\n",
       "      }\n",
       "      attempts++;\n",
       "      if (attempts > 100) {\n",
       "        console.log(\"Bokeh: ERROR: Unable to run BokehJS code because BokehJS library is missing\");\n",
       "        clearInterval(timer);\n",
       "      }\n",
       "    }, 10, root)\n",
       "  }\n",
       "})(window);"
      ],
      "application/vnd.bokehjs_exec.v0+json": ""
     },
     "metadata": {
      "application/vnd.bokehjs_exec.v0+json": {
       "id": "8025"
      }
     },
     "output_type": "display_data"
    }
   ],
   "source": [
    "from bokeh.layouts import column\n",
    "from bokeh.models import CustomJS, ColumnDataSource, Slider\n",
    "\n",
    "x = [x*0.005 for x in range(0, 201)]\n",
    "\n",
    "source = ColumnDataSource(data=dict(x=x, y=x))\n",
    "\n",
    "plot = figure(plot_width=400, plot_height=400)\n",
    "plot.line('x', 'y', source=source, line_width=3, line_alpha=0.6)\n",
    "\n",
    "slider = Slider(start=0.1, end=6, value=1, step=.1, title=\"power\")\n",
    "\n",
    "update_curve = CustomJS(args=dict(source=source, slider=slider), code=\"\"\"\n",
    "    var data = source.data;\n",
    "    var f = slider.value;\n",
    "    x = data['x']\n",
    "    y = data['y']\n",
    "    for (i = 0; i < x.length; i++) {\n",
    "        y[i] = Math.pow(x[i], f)\n",
    "    }\n",
    "    \n",
    "    // necessary becasue we mutated source.data in-place\n",
    "    source.change.emit();\n",
    "\"\"\")\n",
    "slider.js_on_change('value', update_curve)\n",
    "\n",
    "\n",
    "show(column(slider, plot))"
   ]
  },
  {
   "cell_type": "markdown",
   "metadata": {},
   "source": [
    "Bokeh has a bokeh server, that lets you attach python callbacks to widgets instead of javascript - which is much nicer, as you can imagine!"
   ]
  }
 ],
 "metadata": {
  "kernelspec": {
   "display_name": "Python 3",
   "language": "python",
   "name": "python3"
  },
  "language_info": {
   "codemirror_mode": {
    "name": "ipython",
    "version": 3
   },
   "file_extension": ".py",
   "mimetype": "text/x-python",
   "name": "python",
   "nbconvert_exporter": "python",
   "pygments_lexer": "ipython3",
   "version": "3.7.4"
  }
 },
 "nbformat": 4,
 "nbformat_minor": 4
}
