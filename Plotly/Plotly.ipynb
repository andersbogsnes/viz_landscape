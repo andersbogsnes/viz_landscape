{
 "cells": [
  {
   "cell_type": "code",
   "execution_count": 4,
   "metadata": {},
   "outputs": [],
   "source": [
    "import os\n",
    "import sys\n",
    "\n",
    "sys.path.insert(0, os.path.dirname(os.getcwd()))"
   ]
  },
  {
   "cell_type": "code",
   "execution_count": 127,
   "metadata": {},
   "outputs": [],
   "source": [
    "import plotly.express as px\n",
    "import plotly.graph_objects as go\n",
    "from load_data import load_data\n",
    "from config import RED\n",
    "import pandas as pd\n",
    "import plotly.figure_factory as ff\n",
    "import plotly.io as pio"
   ]
  },
  {
   "cell_type": "code",
   "execution_count": 99,
   "metadata": {},
   "outputs": [],
   "source": [
    "pio.templates.default = 'ggplot2'"
   ]
  },
  {
   "cell_type": "code",
   "execution_count": 6,
   "metadata": {},
   "outputs": [],
   "source": [
    "df = load_data()"
   ]
  },
  {
   "cell_type": "code",
   "execution_count": 13,
   "metadata": {},
   "outputs": [],
   "source": [
    "num_offenses = df.resample('M', on='OCCURRED_ON_DATE')['INCIDENT_NUMBER'].agg(counts='count').reset_index()"
   ]
  },
  {
   "cell_type": "code",
   "execution_count": 102,
   "metadata": {},
   "outputs": [
    {
     "data": {
      "application/vnd.plotly.v1+json": {
       "config": {
        "plotlyServerURL": "https://plot.ly"
       },
       "data": [
        {
         "hovertemplate": "Number of Offenses: %{y:0d}<extra></extra>",
         "line": {
          "color": "#e26855"
         },
         "marker": {
          "color": "black"
         },
         "mode": "markers+lines",
         "type": "scatter",
         "x": [
          "2015-06-30T00:00:00",
          "2015-07-31T00:00:00",
          "2015-08-31T00:00:00",
          "2015-09-30T00:00:00",
          "2015-10-31T00:00:00",
          "2015-11-30T00:00:00",
          "2015-12-31T00:00:00",
          "2016-01-31T00:00:00",
          "2016-02-29T00:00:00",
          "2016-03-31T00:00:00",
          "2016-04-30T00:00:00",
          "2016-05-31T00:00:00",
          "2016-06-30T00:00:00",
          "2016-07-31T00:00:00",
          "2016-08-31T00:00:00",
          "2016-09-30T00:00:00",
          "2016-10-31T00:00:00",
          "2016-11-30T00:00:00",
          "2016-12-31T00:00:00",
          "2017-01-31T00:00:00",
          "2017-02-28T00:00:00",
          "2017-03-31T00:00:00",
          "2017-04-30T00:00:00",
          "2017-05-31T00:00:00",
          "2017-06-30T00:00:00",
          "2017-07-31T00:00:00",
          "2017-08-31T00:00:00",
          "2017-09-30T00:00:00",
          "2017-10-31T00:00:00",
          "2017-11-30T00:00:00",
          "2017-12-31T00:00:00",
          "2018-01-31T00:00:00",
          "2018-02-28T00:00:00",
          "2018-03-31T00:00:00",
          "2018-04-30T00:00:00",
          "2018-05-31T00:00:00",
          "2018-06-30T00:00:00",
          "2018-07-31T00:00:00",
          "2018-08-31T00:00:00",
          "2018-09-30T00:00:00"
         ],
         "y": [
          4191,
          8324,
          8342,
          8414,
          8308,
          7818,
          7991,
          7835,
          7308,
          8199,
          8101,
          8578,
          8558,
          8619,
          8938,
          8522,
          8583,
          7922,
          7951,
          7993,
          7408,
          8179,
          8069,
          8715,
          8985,
          9075,
          9206,
          8940,
          8846,
          7935,
          7535,
          7782,
          6937,
          7768,
          7916,
          8906,
          8834,
          8538,
          8337,
          667
         ]
        }
       ],
       "layout": {
        "autosize": true,
        "shapes": [
         {
          "line": {
           "color": "#e26855",
           "dash": "dash"
          },
          "type": "line",
          "x0": 0,
          "x1": 1,
          "xref": "paper",
          "y0": 7976.825,
          "y1": 7976.825
         }
        ],
        "template": {
         "data": {
          "bar": [
           {
            "error_x": {
             "color": "rgb(51,51,51)"
            },
            "error_y": {
             "color": "rgb(51,51,51)"
            },
            "marker": {
             "line": {
              "color": "rgb(237,237,237)",
              "width": 0.5
             }
            },
            "type": "bar"
           }
          ],
          "barpolar": [
           {
            "marker": {
             "line": {
              "color": "rgb(237,237,237)",
              "width": 0.5
             }
            },
            "type": "barpolar"
           }
          ],
          "carpet": [
           {
            "aaxis": {
             "endlinecolor": "rgb(51,51,51)",
             "gridcolor": "white",
             "linecolor": "white",
             "minorgridcolor": "white",
             "startlinecolor": "rgb(51,51,51)"
            },
            "baxis": {
             "endlinecolor": "rgb(51,51,51)",
             "gridcolor": "white",
             "linecolor": "white",
             "minorgridcolor": "white",
             "startlinecolor": "rgb(51,51,51)"
            },
            "type": "carpet"
           }
          ],
          "choropleth": [
           {
            "colorbar": {
             "outlinewidth": 0,
             "tickcolor": "rgb(237,237,237)",
             "ticklen": 6,
             "ticks": "inside"
            },
            "type": "choropleth"
           }
          ],
          "contour": [
           {
            "colorbar": {
             "outlinewidth": 0,
             "tickcolor": "rgb(237,237,237)",
             "ticklen": 6,
             "ticks": "inside"
            },
            "colorscale": [
             [
              0,
              "rgb(20,44,66)"
             ],
             [
              1,
              "rgb(90,179,244)"
             ]
            ],
            "type": "contour"
           }
          ],
          "contourcarpet": [
           {
            "colorbar": {
             "outlinewidth": 0,
             "tickcolor": "rgb(237,237,237)",
             "ticklen": 6,
             "ticks": "inside"
            },
            "type": "contourcarpet"
           }
          ],
          "heatmap": [
           {
            "colorbar": {
             "outlinewidth": 0,
             "tickcolor": "rgb(237,237,237)",
             "ticklen": 6,
             "ticks": "inside"
            },
            "colorscale": [
             [
              0,
              "rgb(20,44,66)"
             ],
             [
              1,
              "rgb(90,179,244)"
             ]
            ],
            "type": "heatmap"
           }
          ],
          "heatmapgl": [
           {
            "colorbar": {
             "outlinewidth": 0,
             "tickcolor": "rgb(237,237,237)",
             "ticklen": 6,
             "ticks": "inside"
            },
            "colorscale": [
             [
              0,
              "rgb(20,44,66)"
             ],
             [
              1,
              "rgb(90,179,244)"
             ]
            ],
            "type": "heatmapgl"
           }
          ],
          "histogram": [
           {
            "marker": {
             "colorbar": {
              "outlinewidth": 0,
              "tickcolor": "rgb(237,237,237)",
              "ticklen": 6,
              "ticks": "inside"
             }
            },
            "type": "histogram"
           }
          ],
          "histogram2d": [
           {
            "colorbar": {
             "outlinewidth": 0,
             "tickcolor": "rgb(237,237,237)",
             "ticklen": 6,
             "ticks": "inside"
            },
            "colorscale": [
             [
              0,
              "rgb(20,44,66)"
             ],
             [
              1,
              "rgb(90,179,244)"
             ]
            ],
            "type": "histogram2d"
           }
          ],
          "histogram2dcontour": [
           {
            "colorbar": {
             "outlinewidth": 0,
             "tickcolor": "rgb(237,237,237)",
             "ticklen": 6,
             "ticks": "inside"
            },
            "colorscale": [
             [
              0,
              "rgb(20,44,66)"
             ],
             [
              1,
              "rgb(90,179,244)"
             ]
            ],
            "type": "histogram2dcontour"
           }
          ],
          "mesh3d": [
           {
            "colorbar": {
             "outlinewidth": 0,
             "tickcolor": "rgb(237,237,237)",
             "ticklen": 6,
             "ticks": "inside"
            },
            "type": "mesh3d"
           }
          ],
          "parcoords": [
           {
            "line": {
             "colorbar": {
              "outlinewidth": 0,
              "tickcolor": "rgb(237,237,237)",
              "ticklen": 6,
              "ticks": "inside"
             }
            },
            "type": "parcoords"
           }
          ],
          "scatter": [
           {
            "marker": {
             "colorbar": {
              "outlinewidth": 0,
              "tickcolor": "rgb(237,237,237)",
              "ticklen": 6,
              "ticks": "inside"
             }
            },
            "type": "scatter"
           }
          ],
          "scatter3d": [
           {
            "line": {
             "colorbar": {
              "outlinewidth": 0,
              "tickcolor": "rgb(237,237,237)",
              "ticklen": 6,
              "ticks": "inside"
             }
            },
            "marker": {
             "colorbar": {
              "outlinewidth": 0,
              "tickcolor": "rgb(237,237,237)",
              "ticklen": 6,
              "ticks": "inside"
             }
            },
            "type": "scatter3d"
           }
          ],
          "scattercarpet": [
           {
            "marker": {
             "colorbar": {
              "outlinewidth": 0,
              "tickcolor": "rgb(237,237,237)",
              "ticklen": 6,
              "ticks": "inside"
             }
            },
            "type": "scattercarpet"
           }
          ],
          "scattergeo": [
           {
            "marker": {
             "colorbar": {
              "outlinewidth": 0,
              "tickcolor": "rgb(237,237,237)",
              "ticklen": 6,
              "ticks": "inside"
             }
            },
            "type": "scattergeo"
           }
          ],
          "scattergl": [
           {
            "marker": {
             "colorbar": {
              "outlinewidth": 0,
              "tickcolor": "rgb(237,237,237)",
              "ticklen": 6,
              "ticks": "inside"
             }
            },
            "type": "scattergl"
           }
          ],
          "scattermapbox": [
           {
            "marker": {
             "colorbar": {
              "outlinewidth": 0,
              "tickcolor": "rgb(237,237,237)",
              "ticklen": 6,
              "ticks": "inside"
             }
            },
            "type": "scattermapbox"
           }
          ],
          "scatterpolar": [
           {
            "marker": {
             "colorbar": {
              "outlinewidth": 0,
              "tickcolor": "rgb(237,237,237)",
              "ticklen": 6,
              "ticks": "inside"
             }
            },
            "type": "scatterpolar"
           }
          ],
          "scatterpolargl": [
           {
            "marker": {
             "colorbar": {
              "outlinewidth": 0,
              "tickcolor": "rgb(237,237,237)",
              "ticklen": 6,
              "ticks": "inside"
             }
            },
            "type": "scatterpolargl"
           }
          ],
          "scatterternary": [
           {
            "marker": {
             "colorbar": {
              "outlinewidth": 0,
              "tickcolor": "rgb(237,237,237)",
              "ticklen": 6,
              "ticks": "inside"
             }
            },
            "type": "scatterternary"
           }
          ],
          "surface": [
           {
            "colorbar": {
             "outlinewidth": 0,
             "tickcolor": "rgb(237,237,237)",
             "ticklen": 6,
             "ticks": "inside"
            },
            "colorscale": [
             [
              0,
              "rgb(20,44,66)"
             ],
             [
              1,
              "rgb(90,179,244)"
             ]
            ],
            "type": "surface"
           }
          ],
          "table": [
           {
            "cells": {
             "fill": {
              "color": "rgb(237,237,237)"
             },
             "line": {
              "color": "white"
             }
            },
            "header": {
             "fill": {
              "color": "rgb(217,217,217)"
             },
             "line": {
              "color": "white"
             }
            },
            "type": "table"
           }
          ]
         },
         "layout": {
          "annotationdefaults": {
           "arrowhead": 0,
           "arrowwidth": 1
          },
          "colorscale": {
           "sequential": [
            [
             0,
             "rgb(20,44,66)"
            ],
            [
             1,
             "rgb(90,179,244)"
            ]
           ],
           "sequentialminus": [
            [
             0,
             "rgb(20,44,66)"
            ],
            [
             1,
             "rgb(90,179,244)"
            ]
           ]
          },
          "colorway": [
           "#F8766D",
           "#A3A500",
           "#00BF7D",
           "#00B0F6",
           "#E76BF3"
          ],
          "font": {
           "color": "rgb(51,51,51)"
          },
          "geo": {
           "bgcolor": "white",
           "lakecolor": "white",
           "landcolor": "rgb(237,237,237)",
           "showlakes": true,
           "showland": true,
           "subunitcolor": "white"
          },
          "hoverlabel": {
           "align": "left"
          },
          "hovermode": "closest",
          "paper_bgcolor": "white",
          "plot_bgcolor": "rgb(237,237,237)",
          "polar": {
           "angularaxis": {
            "gridcolor": "white",
            "linecolor": "white",
            "showgrid": true,
            "tickcolor": "rgb(51,51,51)",
            "ticks": "outside"
           },
           "bgcolor": "rgb(237,237,237)",
           "radialaxis": {
            "gridcolor": "white",
            "linecolor": "white",
            "showgrid": true,
            "tickcolor": "rgb(51,51,51)",
            "ticks": "outside"
           }
          },
          "scene": {
           "xaxis": {
            "backgroundcolor": "rgb(237,237,237)",
            "gridcolor": "white",
            "gridwidth": 2,
            "linecolor": "white",
            "showbackground": true,
            "showgrid": true,
            "tickcolor": "rgb(51,51,51)",
            "ticks": "outside",
            "zerolinecolor": "white"
           },
           "yaxis": {
            "backgroundcolor": "rgb(237,237,237)",
            "gridcolor": "white",
            "gridwidth": 2,
            "linecolor": "white",
            "showbackground": true,
            "showgrid": true,
            "tickcolor": "rgb(51,51,51)",
            "ticks": "outside",
            "zerolinecolor": "white"
           },
           "zaxis": {
            "backgroundcolor": "rgb(237,237,237)",
            "gridcolor": "white",
            "gridwidth": 2,
            "linecolor": "white",
            "showbackground": true,
            "showgrid": true,
            "tickcolor": "rgb(51,51,51)",
            "ticks": "outside",
            "zerolinecolor": "white"
           }
          },
          "shapedefaults": {
           "fillcolor": "black",
           "line": {
            "width": 0
           },
           "opacity": 0.3
          },
          "ternary": {
           "aaxis": {
            "gridcolor": "white",
            "linecolor": "white",
            "showgrid": true,
            "tickcolor": "rgb(51,51,51)",
            "ticks": "outside"
           },
           "baxis": {
            "gridcolor": "white",
            "linecolor": "white",
            "showgrid": true,
            "tickcolor": "rgb(51,51,51)",
            "ticks": "outside"
           },
           "bgcolor": "rgb(237,237,237)",
           "caxis": {
            "gridcolor": "white",
            "linecolor": "white",
            "showgrid": true,
            "tickcolor": "rgb(51,51,51)",
            "ticks": "outside"
           }
          },
          "xaxis": {
           "automargin": true,
           "gridcolor": "white",
           "linecolor": "white",
           "showgrid": true,
           "tickcolor": "rgb(51,51,51)",
           "ticks": "outside",
           "zerolinecolor": "white"
          },
          "yaxis": {
           "automargin": true,
           "gridcolor": "white",
           "linecolor": "white",
           "showgrid": true,
           "tickcolor": "rgb(51,51,51)",
           "ticks": "outside",
           "zerolinecolor": "white"
          }
         }
        },
        "title": {
         "text": "Number of Offenses per Month"
        },
        "xaxis": {
         "autorange": true,
         "range": [
          "2015-04-21 09:28:49.6045",
          "2018-12-08 14:31:10.3955"
         ],
         "type": "date"
        },
        "yaxis": {
         "autorange": true,
         "range": [
          41.53184713375799,
          9831.468152866242
         ],
         "title": {
          "text": "Number of Offenses"
         },
         "type": "linear"
        }
       }
      },
      "image/png": "[encoded data removed]",
      "text/html": [
       "<div>\n",
       "        \n",
       "        \n",
       "            <div id=\"6ea5c5fb-4c73-45ff-be6a-312f14eb4e8f\" class=\"plotly-graph-div\" style=\"height:525px; width:100%;\"></div>\n",
       "            <script type=\"text/javascript\">\n",
       "                require([\"plotly\"], function(Plotly) {\n",
       "                    window.PLOTLYENV=window.PLOTLYENV || {};\n",
       "                    \n",
       "                if (document.getElementById(\"6ea5c5fb-4c73-45ff-be6a-312f14eb4e8f\")) {\n",
       "                    Plotly.newPlot(\n",
       "                        '6ea5c5fb-4c73-45ff-be6a-312f14eb4e8f',\n",
       "                        [{\"hovertemplate\": \"Number of Offenses: %{y:0d}<extra></extra>\", \"line\": {\"color\": \"#e26855\"}, \"marker\": {\"color\": \"black\"}, \"mode\": \"markers+lines\", \"type\": \"scatter\", \"x\": [\"2015-06-30T00:00:00\", \"2015-07-31T00:00:00\", \"2015-08-31T00:00:00\", \"2015-09-30T00:00:00\", \"2015-10-31T00:00:00\", \"2015-11-30T00:00:00\", \"2015-12-31T00:00:00\", \"2016-01-31T00:00:00\", \"2016-02-29T00:00:00\", \"2016-03-31T00:00:00\", \"2016-04-30T00:00:00\", \"2016-05-31T00:00:00\", \"2016-06-30T00:00:00\", \"2016-07-31T00:00:00\", \"2016-08-31T00:00:00\", \"2016-09-30T00:00:00\", \"2016-10-31T00:00:00\", \"2016-11-30T00:00:00\", \"2016-12-31T00:00:00\", \"2017-01-31T00:00:00\", \"2017-02-28T00:00:00\", \"2017-03-31T00:00:00\", \"2017-04-30T00:00:00\", \"2017-05-31T00:00:00\", \"2017-06-30T00:00:00\", \"2017-07-31T00:00:00\", \"2017-08-31T00:00:00\", \"2017-09-30T00:00:00\", \"2017-10-31T00:00:00\", \"2017-11-30T00:00:00\", \"2017-12-31T00:00:00\", \"2018-01-31T00:00:00\", \"2018-02-28T00:00:00\", \"2018-03-31T00:00:00\", \"2018-04-30T00:00:00\", \"2018-05-31T00:00:00\", \"2018-06-30T00:00:00\", \"2018-07-31T00:00:00\", \"2018-08-31T00:00:00\", \"2018-09-30T00:00:00\"], \"y\": [4191, 8324, 8342, 8414, 8308, 7818, 7991, 7835, 7308, 8199, 8101, 8578, 8558, 8619, 8938, 8522, 8583, 7922, 7951, 7993, 7408, 8179, 8069, 8715, 8985, 9075, 9206, 8940, 8846, 7935, 7535, 7782, 6937, 7768, 7916, 8906, 8834, 8538, 8337, 667]}],\n",
       "                        {\"shapes\": [{\"line\": {\"color\": \"#e26855\", \"dash\": \"dash\"}, \"type\": \"line\", \"x0\": 0, \"x1\": 1, \"xref\": \"paper\", \"y0\": 7976.825, \"y1\": 7976.825}], \"template\": {\"data\": {\"bar\": [{\"error_x\": {\"color\": \"rgb(51,51,51)\"}, \"error_y\": {\"color\": \"rgb(51,51,51)\"}, \"marker\": {\"line\": {\"color\": \"rgb(237,237,237)\", \"width\": 0.5}}, \"type\": \"bar\"}], \"barpolar\": [{\"marker\": {\"line\": {\"color\": \"rgb(237,237,237)\", \"width\": 0.5}}, \"type\": \"barpolar\"}], \"carpet\": [{\"aaxis\": {\"endlinecolor\": \"rgb(51,51,51)\", \"gridcolor\": \"white\", \"linecolor\": \"white\", \"minorgridcolor\": \"white\", \"startlinecolor\": \"rgb(51,51,51)\"}, \"baxis\": {\"endlinecolor\": \"rgb(51,51,51)\", \"gridcolor\": \"white\", \"linecolor\": \"white\", \"minorgridcolor\": \"white\", \"startlinecolor\": \"rgb(51,51,51)\"}, \"type\": \"carpet\"}], \"choropleth\": [{\"colorbar\": {\"outlinewidth\": 0, \"tickcolor\": \"rgb(237,237,237)\", \"ticklen\": 6, \"ticks\": \"inside\"}, \"type\": \"choropleth\"}], \"contour\": [{\"colorbar\": {\"outlinewidth\": 0, \"tickcolor\": \"rgb(237,237,237)\", \"ticklen\": 6, \"ticks\": \"inside\"}, \"colorscale\": [[0, \"rgb(20,44,66)\"], [1, \"rgb(90,179,244)\"]], \"type\": \"contour\"}], \"contourcarpet\": [{\"colorbar\": {\"outlinewidth\": 0, \"tickcolor\": \"rgb(237,237,237)\", \"ticklen\": 6, \"ticks\": \"inside\"}, \"type\": \"contourcarpet\"}], \"heatmap\": [{\"colorbar\": {\"outlinewidth\": 0, \"tickcolor\": \"rgb(237,237,237)\", \"ticklen\": 6, \"ticks\": \"inside\"}, \"colorscale\": [[0, \"rgb(20,44,66)\"], [1, \"rgb(90,179,244)\"]], \"type\": \"heatmap\"}], \"heatmapgl\": [{\"colorbar\": {\"outlinewidth\": 0, \"tickcolor\": \"rgb(237,237,237)\", \"ticklen\": 6, \"ticks\": \"inside\"}, \"colorscale\": [[0, \"rgb(20,44,66)\"], [1, \"rgb(90,179,244)\"]], \"type\": \"heatmapgl\"}], \"histogram\": [{\"marker\": {\"colorbar\": {\"outlinewidth\": 0, \"tickcolor\": \"rgb(237,237,237)\", \"ticklen\": 6, \"ticks\": \"inside\"}}, \"type\": \"histogram\"}], \"histogram2d\": [{\"colorbar\": {\"outlinewidth\": 0, \"tickcolor\": \"rgb(237,237,237)\", \"ticklen\": 6, \"ticks\": \"inside\"}, \"colorscale\": [[0, \"rgb(20,44,66)\"], [1, \"rgb(90,179,244)\"]], \"type\": \"histogram2d\"}], \"histogram2dcontour\": [{\"colorbar\": {\"outlinewidth\": 0, \"tickcolor\": \"rgb(237,237,237)\", \"ticklen\": 6, \"ticks\": \"inside\"}, \"colorscale\": [[0, \"rgb(20,44,66)\"], [1, \"rgb(90,179,244)\"]], \"type\": \"histogram2dcontour\"}], \"mesh3d\": [{\"colorbar\": {\"outlinewidth\": 0, \"tickcolor\": \"rgb(237,237,237)\", \"ticklen\": 6, \"ticks\": \"inside\"}, \"type\": \"mesh3d\"}], \"parcoords\": [{\"line\": {\"colorbar\": {\"outlinewidth\": 0, \"tickcolor\": \"rgb(237,237,237)\", \"ticklen\": 6, \"ticks\": \"inside\"}}, \"type\": \"parcoords\"}], \"scatter\": [{\"marker\": {\"colorbar\": {\"outlinewidth\": 0, \"tickcolor\": \"rgb(237,237,237)\", \"ticklen\": 6, \"ticks\": \"inside\"}}, \"type\": \"scatter\"}], \"scatter3d\": [{\"line\": {\"colorbar\": {\"outlinewidth\": 0, \"tickcolor\": \"rgb(237,237,237)\", \"ticklen\": 6, \"ticks\": \"inside\"}}, \"marker\": {\"colorbar\": {\"outlinewidth\": 0, \"tickcolor\": \"rgb(237,237,237)\", \"ticklen\": 6, \"ticks\": \"inside\"}}, \"type\": \"scatter3d\"}], \"scattercarpet\": [{\"marker\": {\"colorbar\": {\"outlinewidth\": 0, \"tickcolor\": \"rgb(237,237,237)\", \"ticklen\": 6, \"ticks\": \"inside\"}}, \"type\": \"scattercarpet\"}], \"scattergeo\": [{\"marker\": {\"colorbar\": {\"outlinewidth\": 0, \"tickcolor\": \"rgb(237,237,237)\", \"ticklen\": 6, \"ticks\": \"inside\"}}, \"type\": \"scattergeo\"}], \"scattergl\": [{\"marker\": {\"colorbar\": {\"outlinewidth\": 0, \"tickcolor\": \"rgb(237,237,237)\", \"ticklen\": 6, \"ticks\": \"inside\"}}, \"type\": \"scattergl\"}], \"scattermapbox\": [{\"marker\": {\"colorbar\": {\"outlinewidth\": 0, \"tickcolor\": \"rgb(237,237,237)\", \"ticklen\": 6, \"ticks\": \"inside\"}}, \"type\": \"scattermapbox\"}], \"scatterpolar\": [{\"marker\": {\"colorbar\": {\"outlinewidth\": 0, \"tickcolor\": \"rgb(237,237,237)\", \"ticklen\": 6, \"ticks\": \"inside\"}}, \"type\": \"scatterpolar\"}], \"scatterpolargl\": [{\"marker\": {\"colorbar\": {\"outlinewidth\": 0, \"tickcolor\": \"rgb(237,237,237)\", \"ticklen\": 6, \"ticks\": \"inside\"}}, \"type\": \"scatterpolargl\"}], \"scatterternary\": [{\"marker\": {\"colorbar\": {\"outlinewidth\": 0, \"tickcolor\": \"rgb(237,237,237)\", \"ticklen\": 6, \"ticks\": \"inside\"}}, \"type\": \"scatterternary\"}], \"surface\": [{\"colorbar\": {\"outlinewidth\": 0, \"tickcolor\": \"rgb(237,237,237)\", \"ticklen\": 6, \"ticks\": \"inside\"}, \"colorscale\": [[0, \"rgb(20,44,66)\"], [1, \"rgb(90,179,244)\"]], \"type\": \"surface\"}], \"table\": [{\"cells\": {\"fill\": {\"color\": \"rgb(237,237,237)\"}, \"line\": {\"color\": \"white\"}}, \"header\": {\"fill\": {\"color\": \"rgb(217,217,217)\"}, \"line\": {\"color\": \"white\"}}, \"type\": \"table\"}]}, \"layout\": {\"annotationdefaults\": {\"arrowhead\": 0, \"arrowwidth\": 1}, \"colorscale\": {\"sequential\": [[0, \"rgb(20,44,66)\"], [1, \"rgb(90,179,244)\"]], \"sequentialminus\": [[0, \"rgb(20,44,66)\"], [1, \"rgb(90,179,244)\"]]}, \"colorway\": [\"#F8766D\", \"#A3A500\", \"#00BF7D\", \"#00B0F6\", \"#E76BF3\"], \"font\": {\"color\": \"rgb(51,51,51)\"}, \"geo\": {\"bgcolor\": \"white\", \"lakecolor\": \"white\", \"landcolor\": \"rgb(237,237,237)\", \"showlakes\": true, \"showland\": true, \"subunitcolor\": \"white\"}, \"hoverlabel\": {\"align\": \"left\"}, \"hovermode\": \"closest\", \"paper_bgcolor\": \"white\", \"plot_bgcolor\": \"rgb(237,237,237)\", \"polar\": {\"angularaxis\": {\"gridcolor\": \"white\", \"linecolor\": \"white\", \"showgrid\": true, \"tickcolor\": \"rgb(51,51,51)\", \"ticks\": \"outside\"}, \"bgcolor\": \"rgb(237,237,237)\", \"radialaxis\": {\"gridcolor\": \"white\", \"linecolor\": \"white\", \"showgrid\": true, \"tickcolor\": \"rgb(51,51,51)\", \"ticks\": \"outside\"}}, \"scene\": {\"xaxis\": {\"backgroundcolor\": \"rgb(237,237,237)\", \"gridcolor\": \"white\", \"gridwidth\": 2, \"linecolor\": \"white\", \"showbackground\": true, \"showgrid\": true, \"tickcolor\": \"rgb(51,51,51)\", \"ticks\": \"outside\", \"zerolinecolor\": \"white\"}, \"yaxis\": {\"backgroundcolor\": \"rgb(237,237,237)\", \"gridcolor\": \"white\", \"gridwidth\": 2, \"linecolor\": \"white\", \"showbackground\": true, \"showgrid\": true, \"tickcolor\": \"rgb(51,51,51)\", \"ticks\": \"outside\", \"zerolinecolor\": \"white\"}, \"zaxis\": {\"backgroundcolor\": \"rgb(237,237,237)\", \"gridcolor\": \"white\", \"gridwidth\": 2, \"linecolor\": \"white\", \"showbackground\": true, \"showgrid\": true, \"tickcolor\": \"rgb(51,51,51)\", \"ticks\": \"outside\", \"zerolinecolor\": \"white\"}}, \"shapedefaults\": {\"fillcolor\": \"black\", \"line\": {\"width\": 0}, \"opacity\": 0.3}, \"ternary\": {\"aaxis\": {\"gridcolor\": \"white\", \"linecolor\": \"white\", \"showgrid\": true, \"tickcolor\": \"rgb(51,51,51)\", \"ticks\": \"outside\"}, \"baxis\": {\"gridcolor\": \"white\", \"linecolor\": \"white\", \"showgrid\": true, \"tickcolor\": \"rgb(51,51,51)\", \"ticks\": \"outside\"}, \"bgcolor\": \"rgb(237,237,237)\", \"caxis\": {\"gridcolor\": \"white\", \"linecolor\": \"white\", \"showgrid\": true, \"tickcolor\": \"rgb(51,51,51)\", \"ticks\": \"outside\"}}, \"xaxis\": {\"automargin\": true, \"gridcolor\": \"white\", \"linecolor\": \"white\", \"showgrid\": true, \"tickcolor\": \"rgb(51,51,51)\", \"ticks\": \"outside\", \"zerolinecolor\": \"white\"}, \"yaxis\": {\"automargin\": true, \"gridcolor\": \"white\", \"linecolor\": \"white\", \"showgrid\": true, \"tickcolor\": \"rgb(51,51,51)\", \"ticks\": \"outside\", \"zerolinecolor\": \"white\"}}}, \"title\": {\"text\": \"Number of Offenses per Month\"}, \"yaxis\": {\"title\": {\"text\": \"Number of Offenses\"}}},\n",
       "                        {\"responsive\": true}\n",
       "                    ).then(function(){\n",
       "                            \n",
       "var gd = document.getElementById('6ea5c5fb-4c73-45ff-be6a-312f14eb4e8f');\n",
       "var x = new MutationObserver(function (mutations, observer) {{\n",
       "        var display = window.getComputedStyle(gd).display;\n",
       "        if (!display || display === 'none') {{\n",
       "            console.log([gd, 'removed!']);\n",
       "            Plotly.purge(gd);\n",
       "            observer.disconnect();\n",
       "        }}\n",
       "}});\n",
       "\n",
       "// Listen for the removal of the full notebook cells\n",
       "var notebookContainer = gd.closest('#notebook-container');\n",
       "if (notebookContainer) {{\n",
       "    x.observe(notebookContainer, {childList: true});\n",
       "}}\n",
       "\n",
       "// Listen for the clearing of the current output cell\n",
       "var outputEl = gd.closest('.output');\n",
       "if (outputEl) {{\n",
       "    x.observe(outputEl, {childList: true});\n",
       "}}\n",
       "\n",
       "                        })\n",
       "                };\n",
       "                });\n",
       "            </script>\n",
       "        </div>"
      ]
     },
     "metadata": {},
     "output_type": "display_data"
    }
   ],
   "source": [
    "fig = go.Figure()\n",
    "(\n",
    "    fig\n",
    "    .update_layout(title_text=\"Number of Offenses per Month\",yaxis_title_text=\"Number of Offenses\")\n",
    "    .update_layout(shapes=[go.layout.Shape(type=\"line\", xref=\"paper\", x0=0, x1=1, y0=num_offenses.counts.mean(), y1=num_offenses.counts.mean(), line_color=RED, line_dash='dash')])\n",
    "    .add_scatter(x=num_offenses.OCCURRED_ON_DATE, y=num_offenses.counts,line_color=RED, mode='markers+lines', marker_color=\"black\", hovertemplate=\"Number of Offenses: %{y:0d}<extra></extra>\")\n",
    "    .show())"
   ]
  },
  {
   "cell_type": "code",
   "execution_count": 103,
   "metadata": {},
   "outputs": [],
   "source": [
    "num_shootings = df.resample('M', on='OCCURRED_ON_DATE')['SHOOTING'].agg(num_shootings='sum').reset_index()"
   ]
  },
  {
   "cell_type": "code",
   "execution_count": 104,
   "metadata": {},
   "outputs": [
    {
     "data": {
      "application/vnd.plotly.v1+json": {
       "config": {
        "plotlyServerURL": "https://plot.ly"
       },
       "data": [
        {
         "hovertemplate": "Number of Shootings: %{y:0d}<extra></extra>",
         "line": {
          "color": "#e26855"
         },
         "marker": {
          "color": "black"
         },
         "mode": "lines+markers",
         "type": "scatter",
         "x": [
          "2015-06-30T00:00:00",
          "2015-07-31T00:00:00",
          "2015-08-31T00:00:00",
          "2015-09-30T00:00:00",
          "2015-10-31T00:00:00",
          "2015-11-30T00:00:00",
          "2015-12-31T00:00:00",
          "2016-01-31T00:00:00",
          "2016-02-29T00:00:00",
          "2016-03-31T00:00:00",
          "2016-04-30T00:00:00",
          "2016-05-31T00:00:00",
          "2016-06-30T00:00:00",
          "2016-07-31T00:00:00",
          "2016-08-31T00:00:00",
          "2016-09-30T00:00:00",
          "2016-10-31T00:00:00",
          "2016-11-30T00:00:00",
          "2016-12-31T00:00:00",
          "2017-01-31T00:00:00",
          "2017-02-28T00:00:00",
          "2017-03-31T00:00:00",
          "2017-04-30T00:00:00",
          "2017-05-31T00:00:00",
          "2017-06-30T00:00:00",
          "2017-07-31T00:00:00",
          "2017-08-31T00:00:00",
          "2017-09-30T00:00:00",
          "2017-10-31T00:00:00",
          "2017-11-30T00:00:00",
          "2017-12-31T00:00:00",
          "2018-01-31T00:00:00",
          "2018-02-28T00:00:00",
          "2018-03-31T00:00:00",
          "2018-04-30T00:00:00",
          "2018-05-31T00:00:00",
          "2018-06-30T00:00:00",
          "2018-07-31T00:00:00",
          "2018-08-31T00:00:00",
          "2018-09-30T00:00:00"
         ],
         "y": [
          12,
          41,
          38,
          22,
          15,
          21,
          36,
          17,
          13,
          12,
          13,
          22,
          34,
          28,
          28,
          21,
          33,
          28,
          30,
          22,
          23,
          18,
          38,
          22,
          41,
          39,
          22,
          37,
          38,
          23,
          47,
          31,
          16,
          9,
          20,
          27,
          34,
          27,
          21,
          0
         ]
        }
       ],
       "layout": {
        "autosize": true,
        "shapes": [
         {
          "line": {
           "color": "#e26855",
           "dash": "dash"
          },
          "type": "line",
          "x0": 0,
          "x1": 1,
          "xref": "paper",
          "y0": 25.475,
          "y1": 25.475
         }
        ],
        "template": {
         "data": {
          "bar": [
           {
            "error_x": {
             "color": "rgb(51,51,51)"
            },
            "error_y": {
             "color": "rgb(51,51,51)"
            },
            "marker": {
             "line": {
              "color": "rgb(237,237,237)",
              "width": 0.5
             }
            },
            "type": "bar"
           }
          ],
          "barpolar": [
           {
            "marker": {
             "line": {
              "color": "rgb(237,237,237)",
              "width": 0.5
             }
            },
            "type": "barpolar"
           }
          ],
          "carpet": [
           {
            "aaxis": {
             "endlinecolor": "rgb(51,51,51)",
             "gridcolor": "white",
             "linecolor": "white",
             "minorgridcolor": "white",
             "startlinecolor": "rgb(51,51,51)"
            },
            "baxis": {
             "endlinecolor": "rgb(51,51,51)",
             "gridcolor": "white",
             "linecolor": "white",
             "minorgridcolor": "white",
             "startlinecolor": "rgb(51,51,51)"
            },
            "type": "carpet"
           }
          ],
          "choropleth": [
           {
            "colorbar": {
             "outlinewidth": 0,
             "tickcolor": "rgb(237,237,237)",
             "ticklen": 6,
             "ticks": "inside"
            },
            "type": "choropleth"
           }
          ],
          "contour": [
           {
            "colorbar": {
             "outlinewidth": 0,
             "tickcolor": "rgb(237,237,237)",
             "ticklen": 6,
             "ticks": "inside"
            },
            "colorscale": [
             [
              0,
              "rgb(20,44,66)"
             ],
             [
              1,
              "rgb(90,179,244)"
             ]
            ],
            "type": "contour"
           }
          ],
          "contourcarpet": [
           {
            "colorbar": {
             "outlinewidth": 0,
             "tickcolor": "rgb(237,237,237)",
             "ticklen": 6,
             "ticks": "inside"
            },
            "type": "contourcarpet"
           }
          ],
          "heatmap": [
           {
            "colorbar": {
             "outlinewidth": 0,
             "tickcolor": "rgb(237,237,237)",
             "ticklen": 6,
             "ticks": "inside"
            },
            "colorscale": [
             [
              0,
              "rgb(20,44,66)"
             ],
             [
              1,
              "rgb(90,179,244)"
             ]
            ],
            "type": "heatmap"
           }
          ],
          "heatmapgl": [
           {
            "colorbar": {
             "outlinewidth": 0,
             "tickcolor": "rgb(237,237,237)",
             "ticklen": 6,
             "ticks": "inside"
            },
            "colorscale": [
             [
              0,
              "rgb(20,44,66)"
             ],
             [
              1,
              "rgb(90,179,244)"
             ]
            ],
            "type": "heatmapgl"
           }
          ],
          "histogram": [
           {
            "marker": {
             "colorbar": {
              "outlinewidth": 0,
              "tickcolor": "rgb(237,237,237)",
              "ticklen": 6,
              "ticks": "inside"
             }
            },
            "type": "histogram"
           }
          ],
          "histogram2d": [
           {
            "colorbar": {
             "outlinewidth": 0,
             "tickcolor": "rgb(237,237,237)",
             "ticklen": 6,
             "ticks": "inside"
            },
            "colorscale": [
             [
              0,
              "rgb(20,44,66)"
             ],
             [
              1,
              "rgb(90,179,244)"
             ]
            ],
            "type": "histogram2d"
           }
          ],
          "histogram2dcontour": [
           {
            "colorbar": {
             "outlinewidth": 0,
             "tickcolor": "rgb(237,237,237)",
             "ticklen": 6,
             "ticks": "inside"
            },
            "colorscale": [
             [
              0,
              "rgb(20,44,66)"
             ],
             [
              1,
              "rgb(90,179,244)"
             ]
            ],
            "type": "histogram2dcontour"
           }
          ],
          "mesh3d": [
           {
            "colorbar": {
             "outlinewidth": 0,
             "tickcolor": "rgb(237,237,237)",
             "ticklen": 6,
             "ticks": "inside"
            },
            "type": "mesh3d"
           }
          ],
          "parcoords": [
           {
            "line": {
             "colorbar": {
              "outlinewidth": 0,
              "tickcolor": "rgb(237,237,237)",
              "ticklen": 6,
              "ticks": "inside"
             }
            },
            "type": "parcoords"
           }
          ],
          "scatter": [
           {
            "marker": {
             "colorbar": {
              "outlinewidth": 0,
              "tickcolor": "rgb(237,237,237)",
              "ticklen": 6,
              "ticks": "inside"
             }
            },
            "type": "scatter"
           }
          ],
          "scatter3d": [
           {
            "line": {
             "colorbar": {
              "outlinewidth": 0,
              "tickcolor": "rgb(237,237,237)",
              "ticklen": 6,
              "ticks": "inside"
             }
            },
            "marker": {
             "colorbar": {
              "outlinewidth": 0,
              "tickcolor": "rgb(237,237,237)",
              "ticklen": 6,
              "ticks": "inside"
             }
            },
            "type": "scatter3d"
           }
          ],
          "scattercarpet": [
           {
            "marker": {
             "colorbar": {
              "outlinewidth": 0,
              "tickcolor": "rgb(237,237,237)",
              "ticklen": 6,
              "ticks": "inside"
             }
            },
            "type": "scattercarpet"
           }
          ],
          "scattergeo": [
           {
            "marker": {
             "colorbar": {
              "outlinewidth": 0,
              "tickcolor": "rgb(237,237,237)",
              "ticklen": 6,
              "ticks": "inside"
             }
            },
            "type": "scattergeo"
           }
          ],
          "scattergl": [
           {
            "marker": {
             "colorbar": {
              "outlinewidth": 0,
              "tickcolor": "rgb(237,237,237)",
              "ticklen": 6,
              "ticks": "inside"
             }
            },
            "type": "scattergl"
           }
          ],
          "scattermapbox": [
           {
            "marker": {
             "colorbar": {
              "outlinewidth": 0,
              "tickcolor": "rgb(237,237,237)",
              "ticklen": 6,
              "ticks": "inside"
             }
            },
            "type": "scattermapbox"
           }
          ],
          "scatterpolar": [
           {
            "marker": {
             "colorbar": {
              "outlinewidth": 0,
              "tickcolor": "rgb(237,237,237)",
              "ticklen": 6,
              "ticks": "inside"
             }
            },
            "type": "scatterpolar"
           }
          ],
          "scatterpolargl": [
           {
            "marker": {
             "colorbar": {
              "outlinewidth": 0,
              "tickcolor": "rgb(237,237,237)",
              "ticklen": 6,
              "ticks": "inside"
             }
            },
            "type": "scatterpolargl"
           }
          ],
          "scatterternary": [
           {
            "marker": {
             "colorbar": {
              "outlinewidth": 0,
              "tickcolor": "rgb(237,237,237)",
              "ticklen": 6,
              "ticks": "inside"
             }
            },
            "type": "scatterternary"
           }
          ],
          "surface": [
           {
            "colorbar": {
             "outlinewidth": 0,
             "tickcolor": "rgb(237,237,237)",
             "ticklen": 6,
             "ticks": "inside"
            },
            "colorscale": [
             [
              0,
              "rgb(20,44,66)"
             ],
             [
              1,
              "rgb(90,179,244)"
             ]
            ],
            "type": "surface"
           }
          ],
          "table": [
           {
            "cells": {
             "fill": {
              "color": "rgb(237,237,237)"
             },
             "line": {
              "color": "white"
             }
            },
            "header": {
             "fill": {
              "color": "rgb(217,217,217)"
             },
             "line": {
              "color": "white"
             }
            },
            "type": "table"
           }
          ]
         },
         "layout": {
          "annotationdefaults": {
           "arrowhead": 0,
           "arrowwidth": 1
          },
          "colorscale": {
           "sequential": [
            [
             0,
             "rgb(20,44,66)"
            ],
            [
             1,
             "rgb(90,179,244)"
            ]
           ],
           "sequentialminus": [
            [
             0,
             "rgb(20,44,66)"
            ],
            [
             1,
             "rgb(90,179,244)"
            ]
           ]
          },
          "colorway": [
           "#F8766D",
           "#A3A500",
           "#00BF7D",
           "#00B0F6",
           "#E76BF3"
          ],
          "font": {
           "color": "rgb(51,51,51)"
          },
          "geo": {
           "bgcolor": "white",
           "lakecolor": "white",
           "landcolor": "rgb(237,237,237)",
           "showlakes": true,
           "showland": true,
           "subunitcolor": "white"
          },
          "hoverlabel": {
           "align": "left"
          },
          "hovermode": "closest",
          "paper_bgcolor": "white",
          "plot_bgcolor": "rgb(237,237,237)",
          "polar": {
           "angularaxis": {
            "gridcolor": "white",
            "linecolor": "white",
            "showgrid": true,
            "tickcolor": "rgb(51,51,51)",
            "ticks": "outside"
           },
           "bgcolor": "rgb(237,237,237)",
           "radialaxis": {
            "gridcolor": "white",
            "linecolor": "white",
            "showgrid": true,
            "tickcolor": "rgb(51,51,51)",
            "ticks": "outside"
           }
          },
          "scene": {
           "xaxis": {
            "backgroundcolor": "rgb(237,237,237)",
            "gridcolor": "white",
            "gridwidth": 2,
            "linecolor": "white",
            "showbackground": true,
            "showgrid": true,
            "tickcolor": "rgb(51,51,51)",
            "ticks": "outside",
            "zerolinecolor": "white"
           },
           "yaxis": {
            "backgroundcolor": "rgb(237,237,237)",
            "gridcolor": "white",
            "gridwidth": 2,
            "linecolor": "white",
            "showbackground": true,
            "showgrid": true,
            "tickcolor": "rgb(51,51,51)",
            "ticks": "outside",
            "zerolinecolor": "white"
           },
           "zaxis": {
            "backgroundcolor": "rgb(237,237,237)",
            "gridcolor": "white",
            "gridwidth": 2,
            "linecolor": "white",
            "showbackground": true,
            "showgrid": true,
            "tickcolor": "rgb(51,51,51)",
            "ticks": "outside",
            "zerolinecolor": "white"
           }
          },
          "shapedefaults": {
           "fillcolor": "black",
           "line": {
            "width": 0
           },
           "opacity": 0.3
          },
          "ternary": {
           "aaxis": {
            "gridcolor": "white",
            "linecolor": "white",
            "showgrid": true,
            "tickcolor": "rgb(51,51,51)",
            "ticks": "outside"
           },
           "baxis": {
            "gridcolor": "white",
            "linecolor": "white",
            "showgrid": true,
            "tickcolor": "rgb(51,51,51)",
            "ticks": "outside"
           },
           "bgcolor": "rgb(237,237,237)",
           "caxis": {
            "gridcolor": "white",
            "linecolor": "white",
            "showgrid": true,
            "tickcolor": "rgb(51,51,51)",
            "ticks": "outside"
           }
          },
          "xaxis": {
           "automargin": true,
           "gridcolor": "white",
           "linecolor": "white",
           "showgrid": true,
           "tickcolor": "rgb(51,51,51)",
           "ticks": "outside",
           "zerolinecolor": "white"
          },
          "yaxis": {
           "automargin": true,
           "gridcolor": "white",
           "linecolor": "white",
           "showgrid": true,
           "tickcolor": "rgb(51,51,51)",
           "ticks": "outside",
           "zerolinecolor": "white"
          }
         }
        },
        "title": {
         "text": "Number of Shootings per Month"
        },
        "xaxis": {
         "autorange": true,
         "range": [
          "2015-04-21 09:28:49.6045",
          "2018-12-08 14:31:10.3955"
         ],
         "type": "date"
        },
        "yaxis": {
         "autorange": true,
         "range": [
          -3.442675159235669,
          50.44267515923567
         ],
         "title": {
          "text": "Number of Shootings"
         },
         "type": "linear"
        }
       }
      },
      "image/png": "[encoded data removed]",
      "text/html": [
       "<div>\n",
       "        \n",
       "        \n",
       "            <div id=\"79e58891-a587-4e0f-a8dd-2c275ed359d7\" class=\"plotly-graph-div\" style=\"height:525px; width:100%;\"></div>\n",
       "            <script type=\"text/javascript\">\n",
       "                require([\"plotly\"], function(Plotly) {\n",
       "                    window.PLOTLYENV=window.PLOTLYENV || {};\n",
       "                    \n",
       "                if (document.getElementById(\"79e58891-a587-4e0f-a8dd-2c275ed359d7\")) {\n",
       "                    Plotly.newPlot(\n",
       "                        '79e58891-a587-4e0f-a8dd-2c275ed359d7',\n",
       "                        [{\"hovertemplate\": \"Number of Shootings: %{y:0d}<extra></extra>\", \"line\": {\"color\": \"#e26855\"}, \"marker\": {\"color\": \"black\"}, \"mode\": \"lines+markers\", \"type\": \"scatter\", \"x\": [\"2015-06-30T00:00:00\", \"2015-07-31T00:00:00\", \"2015-08-31T00:00:00\", \"2015-09-30T00:00:00\", \"2015-10-31T00:00:00\", \"2015-11-30T00:00:00\", \"2015-12-31T00:00:00\", \"2016-01-31T00:00:00\", \"2016-02-29T00:00:00\", \"2016-03-31T00:00:00\", \"2016-04-30T00:00:00\", \"2016-05-31T00:00:00\", \"2016-06-30T00:00:00\", \"2016-07-31T00:00:00\", \"2016-08-31T00:00:00\", \"2016-09-30T00:00:00\", \"2016-10-31T00:00:00\", \"2016-11-30T00:00:00\", \"2016-12-31T00:00:00\", \"2017-01-31T00:00:00\", \"2017-02-28T00:00:00\", \"2017-03-31T00:00:00\", \"2017-04-30T00:00:00\", \"2017-05-31T00:00:00\", \"2017-06-30T00:00:00\", \"2017-07-31T00:00:00\", \"2017-08-31T00:00:00\", \"2017-09-30T00:00:00\", \"2017-10-31T00:00:00\", \"2017-11-30T00:00:00\", \"2017-12-31T00:00:00\", \"2018-01-31T00:00:00\", \"2018-02-28T00:00:00\", \"2018-03-31T00:00:00\", \"2018-04-30T00:00:00\", \"2018-05-31T00:00:00\", \"2018-06-30T00:00:00\", \"2018-07-31T00:00:00\", \"2018-08-31T00:00:00\", \"2018-09-30T00:00:00\"], \"y\": [12, 41, 38, 22, 15, 21, 36, 17, 13, 12, 13, 22, 34, 28, 28, 21, 33, 28, 30, 22, 23, 18, 38, 22, 41, 39, 22, 37, 38, 23, 47, 31, 16, 9, 20, 27, 34, 27, 21, 0]}],\n",
       "                        {\"shapes\": [{\"line\": {\"color\": \"#e26855\", \"dash\": \"dash\"}, \"type\": \"line\", \"x0\": 0, \"x1\": 1, \"xref\": \"paper\", \"y0\": 25.475, \"y1\": 25.475}], \"template\": {\"data\": {\"bar\": [{\"error_x\": {\"color\": \"rgb(51,51,51)\"}, \"error_y\": {\"color\": \"rgb(51,51,51)\"}, \"marker\": {\"line\": {\"color\": \"rgb(237,237,237)\", \"width\": 0.5}}, \"type\": \"bar\"}], \"barpolar\": [{\"marker\": {\"line\": {\"color\": \"rgb(237,237,237)\", \"width\": 0.5}}, \"type\": \"barpolar\"}], \"carpet\": [{\"aaxis\": {\"endlinecolor\": \"rgb(51,51,51)\", \"gridcolor\": \"white\", \"linecolor\": \"white\", \"minorgridcolor\": \"white\", \"startlinecolor\": \"rgb(51,51,51)\"}, \"baxis\": {\"endlinecolor\": \"rgb(51,51,51)\", \"gridcolor\": \"white\", \"linecolor\": \"white\", \"minorgridcolor\": \"white\", \"startlinecolor\": \"rgb(51,51,51)\"}, \"type\": \"carpet\"}], \"choropleth\": [{\"colorbar\": {\"outlinewidth\": 0, \"tickcolor\": \"rgb(237,237,237)\", \"ticklen\": 6, \"ticks\": \"inside\"}, \"type\": \"choropleth\"}], \"contour\": [{\"colorbar\": {\"outlinewidth\": 0, \"tickcolor\": \"rgb(237,237,237)\", \"ticklen\": 6, \"ticks\": \"inside\"}, \"colorscale\": [[0, \"rgb(20,44,66)\"], [1, \"rgb(90,179,244)\"]], \"type\": \"contour\"}], \"contourcarpet\": [{\"colorbar\": {\"outlinewidth\": 0, \"tickcolor\": \"rgb(237,237,237)\", \"ticklen\": 6, \"ticks\": \"inside\"}, \"type\": \"contourcarpet\"}], \"heatmap\": [{\"colorbar\": {\"outlinewidth\": 0, \"tickcolor\": \"rgb(237,237,237)\", \"ticklen\": 6, \"ticks\": \"inside\"}, \"colorscale\": [[0, \"rgb(20,44,66)\"], [1, \"rgb(90,179,244)\"]], \"type\": \"heatmap\"}], \"heatmapgl\": [{\"colorbar\": {\"outlinewidth\": 0, \"tickcolor\": \"rgb(237,237,237)\", \"ticklen\": 6, \"ticks\": \"inside\"}, \"colorscale\": [[0, \"rgb(20,44,66)\"], [1, \"rgb(90,179,244)\"]], \"type\": \"heatmapgl\"}], \"histogram\": [{\"marker\": {\"colorbar\": {\"outlinewidth\": 0, \"tickcolor\": \"rgb(237,237,237)\", \"ticklen\": 6, \"ticks\": \"inside\"}}, \"type\": \"histogram\"}], \"histogram2d\": [{\"colorbar\": {\"outlinewidth\": 0, \"tickcolor\": \"rgb(237,237,237)\", \"ticklen\": 6, \"ticks\": \"inside\"}, \"colorscale\": [[0, \"rgb(20,44,66)\"], [1, \"rgb(90,179,244)\"]], \"type\": \"histogram2d\"}], \"histogram2dcontour\": [{\"colorbar\": {\"outlinewidth\": 0, \"tickcolor\": \"rgb(237,237,237)\", \"ticklen\": 6, \"ticks\": \"inside\"}, \"colorscale\": [[0, \"rgb(20,44,66)\"], [1, \"rgb(90,179,244)\"]], \"type\": \"histogram2dcontour\"}], \"mesh3d\": [{\"colorbar\": {\"outlinewidth\": 0, \"tickcolor\": \"rgb(237,237,237)\", \"ticklen\": 6, \"ticks\": \"inside\"}, \"type\": \"mesh3d\"}], \"parcoords\": [{\"line\": {\"colorbar\": {\"outlinewidth\": 0, \"tickcolor\": \"rgb(237,237,237)\", \"ticklen\": 6, \"ticks\": \"inside\"}}, \"type\": \"parcoords\"}], \"scatter\": [{\"marker\": {\"colorbar\": {\"outlinewidth\": 0, \"tickcolor\": \"rgb(237,237,237)\", \"ticklen\": 6, \"ticks\": \"inside\"}}, \"type\": \"scatter\"}], \"scatter3d\": [{\"line\": {\"colorbar\": {\"outlinewidth\": 0, \"tickcolor\": \"rgb(237,237,237)\", \"ticklen\": 6, \"ticks\": \"inside\"}}, \"marker\": {\"colorbar\": {\"outlinewidth\": 0, \"tickcolor\": \"rgb(237,237,237)\", \"ticklen\": 6, \"ticks\": \"inside\"}}, \"type\": \"scatter3d\"}], \"scattercarpet\": [{\"marker\": {\"colorbar\": {\"outlinewidth\": 0, \"tickcolor\": \"rgb(237,237,237)\", \"ticklen\": 6, \"ticks\": \"inside\"}}, \"type\": \"scattercarpet\"}], \"scattergeo\": [{\"marker\": {\"colorbar\": {\"outlinewidth\": 0, \"tickcolor\": \"rgb(237,237,237)\", \"ticklen\": 6, \"ticks\": \"inside\"}}, \"type\": \"scattergeo\"}], \"scattergl\": [{\"marker\": {\"colorbar\": {\"outlinewidth\": 0, \"tickcolor\": \"rgb(237,237,237)\", \"ticklen\": 6, \"ticks\": \"inside\"}}, \"type\": \"scattergl\"}], \"scattermapbox\": [{\"marker\": {\"colorbar\": {\"outlinewidth\": 0, \"tickcolor\": \"rgb(237,237,237)\", \"ticklen\": 6, \"ticks\": \"inside\"}}, \"type\": \"scattermapbox\"}], \"scatterpolar\": [{\"marker\": {\"colorbar\": {\"outlinewidth\": 0, \"tickcolor\": \"rgb(237,237,237)\", \"ticklen\": 6, \"ticks\": \"inside\"}}, \"type\": \"scatterpolar\"}], \"scatterpolargl\": [{\"marker\": {\"colorbar\": {\"outlinewidth\": 0, \"tickcolor\": \"rgb(237,237,237)\", \"ticklen\": 6, \"ticks\": \"inside\"}}, \"type\": \"scatterpolargl\"}], \"scatterternary\": [{\"marker\": {\"colorbar\": {\"outlinewidth\": 0, \"tickcolor\": \"rgb(237,237,237)\", \"ticklen\": 6, \"ticks\": \"inside\"}}, \"type\": \"scatterternary\"}], \"surface\": [{\"colorbar\": {\"outlinewidth\": 0, \"tickcolor\": \"rgb(237,237,237)\", \"ticklen\": 6, \"ticks\": \"inside\"}, \"colorscale\": [[0, \"rgb(20,44,66)\"], [1, \"rgb(90,179,244)\"]], \"type\": \"surface\"}], \"table\": [{\"cells\": {\"fill\": {\"color\": \"rgb(237,237,237)\"}, \"line\": {\"color\": \"white\"}}, \"header\": {\"fill\": {\"color\": \"rgb(217,217,217)\"}, \"line\": {\"color\": \"white\"}}, \"type\": \"table\"}]}, \"layout\": {\"annotationdefaults\": {\"arrowhead\": 0, \"arrowwidth\": 1}, \"colorscale\": {\"sequential\": [[0, \"rgb(20,44,66)\"], [1, \"rgb(90,179,244)\"]], \"sequentialminus\": [[0, \"rgb(20,44,66)\"], [1, \"rgb(90,179,244)\"]]}, \"colorway\": [\"#F8766D\", \"#A3A500\", \"#00BF7D\", \"#00B0F6\", \"#E76BF3\"], \"font\": {\"color\": \"rgb(51,51,51)\"}, \"geo\": {\"bgcolor\": \"white\", \"lakecolor\": \"white\", \"landcolor\": \"rgb(237,237,237)\", \"showlakes\": true, \"showland\": true, \"subunitcolor\": \"white\"}, \"hoverlabel\": {\"align\": \"left\"}, \"hovermode\": \"closest\", \"paper_bgcolor\": \"white\", \"plot_bgcolor\": \"rgb(237,237,237)\", \"polar\": {\"angularaxis\": {\"gridcolor\": \"white\", \"linecolor\": \"white\", \"showgrid\": true, \"tickcolor\": \"rgb(51,51,51)\", \"ticks\": \"outside\"}, \"bgcolor\": \"rgb(237,237,237)\", \"radialaxis\": {\"gridcolor\": \"white\", \"linecolor\": \"white\", \"showgrid\": true, \"tickcolor\": \"rgb(51,51,51)\", \"ticks\": \"outside\"}}, \"scene\": {\"xaxis\": {\"backgroundcolor\": \"rgb(237,237,237)\", \"gridcolor\": \"white\", \"gridwidth\": 2, \"linecolor\": \"white\", \"showbackground\": true, \"showgrid\": true, \"tickcolor\": \"rgb(51,51,51)\", \"ticks\": \"outside\", \"zerolinecolor\": \"white\"}, \"yaxis\": {\"backgroundcolor\": \"rgb(237,237,237)\", \"gridcolor\": \"white\", \"gridwidth\": 2, \"linecolor\": \"white\", \"showbackground\": true, \"showgrid\": true, \"tickcolor\": \"rgb(51,51,51)\", \"ticks\": \"outside\", \"zerolinecolor\": \"white\"}, \"zaxis\": {\"backgroundcolor\": \"rgb(237,237,237)\", \"gridcolor\": \"white\", \"gridwidth\": 2, \"linecolor\": \"white\", \"showbackground\": true, \"showgrid\": true, \"tickcolor\": \"rgb(51,51,51)\", \"ticks\": \"outside\", \"zerolinecolor\": \"white\"}}, \"shapedefaults\": {\"fillcolor\": \"black\", \"line\": {\"width\": 0}, \"opacity\": 0.3}, \"ternary\": {\"aaxis\": {\"gridcolor\": \"white\", \"linecolor\": \"white\", \"showgrid\": true, \"tickcolor\": \"rgb(51,51,51)\", \"ticks\": \"outside\"}, \"baxis\": {\"gridcolor\": \"white\", \"linecolor\": \"white\", \"showgrid\": true, \"tickcolor\": \"rgb(51,51,51)\", \"ticks\": \"outside\"}, \"bgcolor\": \"rgb(237,237,237)\", \"caxis\": {\"gridcolor\": \"white\", \"linecolor\": \"white\", \"showgrid\": true, \"tickcolor\": \"rgb(51,51,51)\", \"ticks\": \"outside\"}}, \"xaxis\": {\"automargin\": true, \"gridcolor\": \"white\", \"linecolor\": \"white\", \"showgrid\": true, \"tickcolor\": \"rgb(51,51,51)\", \"ticks\": \"outside\", \"zerolinecolor\": \"white\"}, \"yaxis\": {\"automargin\": true, \"gridcolor\": \"white\", \"linecolor\": \"white\", \"showgrid\": true, \"tickcolor\": \"rgb(51,51,51)\", \"ticks\": \"outside\", \"zerolinecolor\": \"white\"}}}, \"title\": {\"text\": \"Number of Shootings per Month\"}, \"yaxis\": {\"title\": {\"text\": \"Number of Shootings\"}}},\n",
       "                        {\"responsive\": true}\n",
       "                    ).then(function(){\n",
       "                            \n",
       "var gd = document.getElementById('79e58891-a587-4e0f-a8dd-2c275ed359d7');\n",
       "var x = new MutationObserver(function (mutations, observer) {{\n",
       "        var display = window.getComputedStyle(gd).display;\n",
       "        if (!display || display === 'none') {{\n",
       "            console.log([gd, 'removed!']);\n",
       "            Plotly.purge(gd);\n",
       "            observer.disconnect();\n",
       "        }}\n",
       "}});\n",
       "\n",
       "// Listen for the removal of the full notebook cells\n",
       "var notebookContainer = gd.closest('#notebook-container');\n",
       "if (notebookContainer) {{\n",
       "    x.observe(notebookContainer, {childList: true});\n",
       "}}\n",
       "\n",
       "// Listen for the clearing of the current output cell\n",
       "var outputEl = gd.closest('.output');\n",
       "if (outputEl) {{\n",
       "    x.observe(outputEl, {childList: true});\n",
       "}}\n",
       "\n",
       "                        })\n",
       "                };\n",
       "                });\n",
       "            </script>\n",
       "        </div>"
      ]
     },
     "metadata": {},
     "output_type": "display_data"
    }
   ],
   "source": [
    "fig = go.Figure()\n",
    "(\n",
    "    fig\n",
    "    .update_layout(title_text=\"Number of Shootings per Month\", yaxis_title_text=\"Number of Shootings\")\n",
    "    .update_layout(shapes=[go.layout.Shape(type=\"line\", xref=\"paper\", x0=0, x1=1, y0=num_shootings.num_shootings.mean(), y1=num_shootings.num_shootings.mean(), line_color=RED, line_dash=\"dash\")])\n",
    "    .add_scatter(x=num_shootings.OCCURRED_ON_DATE, y=num_shootings.num_shootings, line_color=RED, mode='lines+markers', marker_color=\"black\", hovertemplate=\"Number of Shootings: %{y:0d}<extra></extra>\")\n",
    "    .show()\n",
    "\n",
    ")"
   ]
  },
  {
   "cell_type": "code",
   "execution_count": 106,
   "metadata": {},
   "outputs": [],
   "source": [
    "top10_code_groups = df.OFFENSE_CODE_GROUP.value_counts().iloc[:10].sort_values(ascending=True)"
   ]
  },
  {
   "cell_type": "code",
   "execution_count": 107,
   "metadata": {},
   "outputs": [
    {
     "data": {
      "application/vnd.plotly.v1+json": {
       "config": {
        "plotlyServerURL": "https://plot.ly"
       },
       "data": [
        {
         "hovertemplate": "Number of Offenses: %{x:.3s}<extra></extra>",
         "orientation": "h",
         "type": "bar",
         "x": [
          11287,
          13099,
          15415,
          15826,
          16548,
          18075,
          18750,
          23540,
          25935,
          37132
         ],
         "y": [
          "Towed",
          "Verbal Disputes",
          "Vandalism",
          "Simple Assault",
          "Drug Violation",
          "Other",
          "Investigate Person",
          "Medical Assistance",
          "Larceny",
          "Motor Vehicle Accident Response"
         ]
        }
       ],
       "layout": {
        "autosize": true,
        "template": {
         "data": {
          "bar": [
           {
            "error_x": {
             "color": "rgb(51,51,51)"
            },
            "error_y": {
             "color": "rgb(51,51,51)"
            },
            "marker": {
             "line": {
              "color": "rgb(237,237,237)",
              "width": 0.5
             }
            },
            "type": "bar"
           }
          ],
          "barpolar": [
           {
            "marker": {
             "line": {
              "color": "rgb(237,237,237)",
              "width": 0.5
             }
            },
            "type": "barpolar"
           }
          ],
          "carpet": [
           {
            "aaxis": {
             "endlinecolor": "rgb(51,51,51)",
             "gridcolor": "white",
             "linecolor": "white",
             "minorgridcolor": "white",
             "startlinecolor": "rgb(51,51,51)"
            },
            "baxis": {
             "endlinecolor": "rgb(51,51,51)",
             "gridcolor": "white",
             "linecolor": "white",
             "minorgridcolor": "white",
             "startlinecolor": "rgb(51,51,51)"
            },
            "type": "carpet"
           }
          ],
          "choropleth": [
           {
            "colorbar": {
             "outlinewidth": 0,
             "tickcolor": "rgb(237,237,237)",
             "ticklen": 6,
             "ticks": "inside"
            },
            "type": "choropleth"
           }
          ],
          "contour": [
           {
            "colorbar": {
             "outlinewidth": 0,
             "tickcolor": "rgb(237,237,237)",
             "ticklen": 6,
             "ticks": "inside"
            },
            "colorscale": [
             [
              0,
              "rgb(20,44,66)"
             ],
             [
              1,
              "rgb(90,179,244)"
             ]
            ],
            "type": "contour"
           }
          ],
          "contourcarpet": [
           {
            "colorbar": {
             "outlinewidth": 0,
             "tickcolor": "rgb(237,237,237)",
             "ticklen": 6,
             "ticks": "inside"
            },
            "type": "contourcarpet"
           }
          ],
          "heatmap": [
           {
            "colorbar": {
             "outlinewidth": 0,
             "tickcolor": "rgb(237,237,237)",
             "ticklen": 6,
             "ticks": "inside"
            },
            "colorscale": [
             [
              0,
              "rgb(20,44,66)"
             ],
             [
              1,
              "rgb(90,179,244)"
             ]
            ],
            "type": "heatmap"
           }
          ],
          "heatmapgl": [
           {
            "colorbar": {
             "outlinewidth": 0,
             "tickcolor": "rgb(237,237,237)",
             "ticklen": 6,
             "ticks": "inside"
            },
            "colorscale": [
             [
              0,
              "rgb(20,44,66)"
             ],
             [
              1,
              "rgb(90,179,244)"
             ]
            ],
            "type": "heatmapgl"
           }
          ],
          "histogram": [
           {
            "marker": {
             "colorbar": {
              "outlinewidth": 0,
              "tickcolor": "rgb(237,237,237)",
              "ticklen": 6,
              "ticks": "inside"
             }
            },
            "type": "histogram"
           }
          ],
          "histogram2d": [
           {
            "colorbar": {
             "outlinewidth": 0,
             "tickcolor": "rgb(237,237,237)",
             "ticklen": 6,
             "ticks": "inside"
            },
            "colorscale": [
             [
              0,
              "rgb(20,44,66)"
             ],
             [
              1,
              "rgb(90,179,244)"
             ]
            ],
            "type": "histogram2d"
           }
          ],
          "histogram2dcontour": [
           {
            "colorbar": {
             "outlinewidth": 0,
             "tickcolor": "rgb(237,237,237)",
             "ticklen": 6,
             "ticks": "inside"
            },
            "colorscale": [
             [
              0,
              "rgb(20,44,66)"
             ],
             [
              1,
              "rgb(90,179,244)"
             ]
            ],
            "type": "histogram2dcontour"
           }
          ],
          "mesh3d": [
           {
            "colorbar": {
             "outlinewidth": 0,
             "tickcolor": "rgb(237,237,237)",
             "ticklen": 6,
             "ticks": "inside"
            },
            "type": "mesh3d"
           }
          ],
          "parcoords": [
           {
            "line": {
             "colorbar": {
              "outlinewidth": 0,
              "tickcolor": "rgb(237,237,237)",
              "ticklen": 6,
              "ticks": "inside"
             }
            },
            "type": "parcoords"
           }
          ],
          "scatter": [
           {
            "marker": {
             "colorbar": {
              "outlinewidth": 0,
              "tickcolor": "rgb(237,237,237)",
              "ticklen": 6,
              "ticks": "inside"
             }
            },
            "type": "scatter"
           }
          ],
          "scatter3d": [
           {
            "line": {
             "colorbar": {
              "outlinewidth": 0,
              "tickcolor": "rgb(237,237,237)",
              "ticklen": 6,
              "ticks": "inside"
             }
            },
            "marker": {
             "colorbar": {
              "outlinewidth": 0,
              "tickcolor": "rgb(237,237,237)",
              "ticklen": 6,
              "ticks": "inside"
             }
            },
            "type": "scatter3d"
           }
          ],
          "scattercarpet": [
           {
            "marker": {
             "colorbar": {
              "outlinewidth": 0,
              "tickcolor": "rgb(237,237,237)",
              "ticklen": 6,
              "ticks": "inside"
             }
            },
            "type": "scattercarpet"
           }
          ],
          "scattergeo": [
           {
            "marker": {
             "colorbar": {
              "outlinewidth": 0,
              "tickcolor": "rgb(237,237,237)",
              "ticklen": 6,
              "ticks": "inside"
             }
            },
            "type": "scattergeo"
           }
          ],
          "scattergl": [
           {
            "marker": {
             "colorbar": {
              "outlinewidth": 0,
              "tickcolor": "rgb(237,237,237)",
              "ticklen": 6,
              "ticks": "inside"
             }
            },
            "type": "scattergl"
           }
          ],
          "scattermapbox": [
           {
            "marker": {
             "colorbar": {
              "outlinewidth": 0,
              "tickcolor": "rgb(237,237,237)",
              "ticklen": 6,
              "ticks": "inside"
             }
            },
            "type": "scattermapbox"
           }
          ],
          "scatterpolar": [
           {
            "marker": {
             "colorbar": {
              "outlinewidth": 0,
              "tickcolor": "rgb(237,237,237)",
              "ticklen": 6,
              "ticks": "inside"
             }
            },
            "type": "scatterpolar"
           }
          ],
          "scatterpolargl": [
           {
            "marker": {
             "colorbar": {
              "outlinewidth": 0,
              "tickcolor": "rgb(237,237,237)",
              "ticklen": 6,
              "ticks": "inside"
             }
            },
            "type": "scatterpolargl"
           }
          ],
          "scatterternary": [
           {
            "marker": {
             "colorbar": {
              "outlinewidth": 0,
              "tickcolor": "rgb(237,237,237)",
              "ticklen": 6,
              "ticks": "inside"
             }
            },
            "type": "scatterternary"
           }
          ],
          "surface": [
           {
            "colorbar": {
             "outlinewidth": 0,
             "tickcolor": "rgb(237,237,237)",
             "ticklen": 6,
             "ticks": "inside"
            },
            "colorscale": [
             [
              0,
              "rgb(20,44,66)"
             ],
             [
              1,
              "rgb(90,179,244)"
             ]
            ],
            "type": "surface"
           }
          ],
          "table": [
           {
            "cells": {
             "fill": {
              "color": "rgb(237,237,237)"
             },
             "line": {
              "color": "white"
             }
            },
            "header": {
             "fill": {
              "color": "rgb(217,217,217)"
             },
             "line": {
              "color": "white"
             }
            },
            "type": "table"
           }
          ]
         },
         "layout": {
          "annotationdefaults": {
           "arrowhead": 0,
           "arrowwidth": 1
          },
          "colorscale": {
           "sequential": [
            [
             0,
             "rgb(20,44,66)"
            ],
            [
             1,
             "rgb(90,179,244)"
            ]
           ],
           "sequentialminus": [
            [
             0,
             "rgb(20,44,66)"
            ],
            [
             1,
             "rgb(90,179,244)"
            ]
           ]
          },
          "colorway": [
           "#F8766D",
           "#A3A500",
           "#00BF7D",
           "#00B0F6",
           "#E76BF3"
          ],
          "font": {
           "color": "rgb(51,51,51)"
          },
          "geo": {
           "bgcolor": "white",
           "lakecolor": "white",
           "landcolor": "rgb(237,237,237)",
           "showlakes": true,
           "showland": true,
           "subunitcolor": "white"
          },
          "hoverlabel": {
           "align": "left"
          },
          "hovermode": "closest",
          "paper_bgcolor": "white",
          "plot_bgcolor": "rgb(237,237,237)",
          "polar": {
           "angularaxis": {
            "gridcolor": "white",
            "linecolor": "white",
            "showgrid": true,
            "tickcolor": "rgb(51,51,51)",
            "ticks": "outside"
           },
           "bgcolor": "rgb(237,237,237)",
           "radialaxis": {
            "gridcolor": "white",
            "linecolor": "white",
            "showgrid": true,
            "tickcolor": "rgb(51,51,51)",
            "ticks": "outside"
           }
          },
          "scene": {
           "xaxis": {
            "backgroundcolor": "rgb(237,237,237)",
            "gridcolor": "white",
            "gridwidth": 2,
            "linecolor": "white",
            "showbackground": true,
            "showgrid": true,
            "tickcolor": "rgb(51,51,51)",
            "ticks": "outside",
            "zerolinecolor": "white"
           },
           "yaxis": {
            "backgroundcolor": "rgb(237,237,237)",
            "gridcolor": "white",
            "gridwidth": 2,
            "linecolor": "white",
            "showbackground": true,
            "showgrid": true,
            "tickcolor": "rgb(51,51,51)",
            "ticks": "outside",
            "zerolinecolor": "white"
           },
           "zaxis": {
            "backgroundcolor": "rgb(237,237,237)",
            "gridcolor": "white",
            "gridwidth": 2,
            "linecolor": "white",
            "showbackground": true,
            "showgrid": true,
            "tickcolor": "rgb(51,51,51)",
            "ticks": "outside",
            "zerolinecolor": "white"
           }
          },
          "shapedefaults": {
           "fillcolor": "black",
           "line": {
            "width": 0
           },
           "opacity": 0.3
          },
          "ternary": {
           "aaxis": {
            "gridcolor": "white",
            "linecolor": "white",
            "showgrid": true,
            "tickcolor": "rgb(51,51,51)",
            "ticks": "outside"
           },
           "baxis": {
            "gridcolor": "white",
            "linecolor": "white",
            "showgrid": true,
            "tickcolor": "rgb(51,51,51)",
            "ticks": "outside"
           },
           "bgcolor": "rgb(237,237,237)",
           "caxis": {
            "gridcolor": "white",
            "linecolor": "white",
            "showgrid": true,
            "tickcolor": "rgb(51,51,51)",
            "ticks": "outside"
           }
          },
          "xaxis": {
           "automargin": true,
           "gridcolor": "white",
           "linecolor": "white",
           "showgrid": true,
           "tickcolor": "rgb(51,51,51)",
           "ticks": "outside",
           "zerolinecolor": "white"
          },
          "yaxis": {
           "automargin": true,
           "gridcolor": "white",
           "linecolor": "white",
           "showgrid": true,
           "tickcolor": "rgb(51,51,51)",
           "ticks": "outside",
           "zerolinecolor": "white"
          }
         }
        },
        "title": {
         "text": "Top 10 Number of offenses by Offense Types"
        },
        "xaxis": {
         "autorange": true,
         "range": [
          0,
          39086.31578947369
         ],
         "title": {
          "text": "Offense Code Groups"
         },
         "type": "linear"
        },
        "yaxis": {
         "autorange": true,
         "range": [
          -0.5,
          9.5
         ],
         "type": "category"
        }
       }
      },
      "image/png": "[encoded data removed]",
      "text/html": [
       "<div>\n",
       "        \n",
       "        \n",
       "            <div id=\"529bfaa9-1a40-433f-8f63-8b12edb6fbb1\" class=\"plotly-graph-div\" style=\"height:525px; width:100%;\"></div>\n",
       "            <script type=\"text/javascript\">\n",
       "                require([\"plotly\"], function(Plotly) {\n",
       "                    window.PLOTLYENV=window.PLOTLYENV || {};\n",
       "                    \n",
       "                if (document.getElementById(\"529bfaa9-1a40-433f-8f63-8b12edb6fbb1\")) {\n",
       "                    Plotly.newPlot(\n",
       "                        '529bfaa9-1a40-433f-8f63-8b12edb6fbb1',\n",
       "                        [{\"hovertemplate\": \"Number of Offenses: %{x:.3s}<extra></extra>\", \"orientation\": \"h\", \"type\": \"bar\", \"x\": [11287, 13099, 15415, 15826, 16548, 18075, 18750, 23540, 25935, 37132], \"y\": [\"Towed\", \"Verbal Disputes\", \"Vandalism\", \"Simple Assault\", \"Drug Violation\", \"Other\", \"Investigate Person\", \"Medical Assistance\", \"Larceny\", \"Motor Vehicle Accident Response\"]}],\n",
       "                        {\"template\": {\"data\": {\"bar\": [{\"error_x\": {\"color\": \"rgb(51,51,51)\"}, \"error_y\": {\"color\": \"rgb(51,51,51)\"}, \"marker\": {\"line\": {\"color\": \"rgb(237,237,237)\", \"width\": 0.5}}, \"type\": \"bar\"}], \"barpolar\": [{\"marker\": {\"line\": {\"color\": \"rgb(237,237,237)\", \"width\": 0.5}}, \"type\": \"barpolar\"}], \"carpet\": [{\"aaxis\": {\"endlinecolor\": \"rgb(51,51,51)\", \"gridcolor\": \"white\", \"linecolor\": \"white\", \"minorgridcolor\": \"white\", \"startlinecolor\": \"rgb(51,51,51)\"}, \"baxis\": {\"endlinecolor\": \"rgb(51,51,51)\", \"gridcolor\": \"white\", \"linecolor\": \"white\", \"minorgridcolor\": \"white\", \"startlinecolor\": \"rgb(51,51,51)\"}, \"type\": \"carpet\"}], \"choropleth\": [{\"colorbar\": {\"outlinewidth\": 0, \"tickcolor\": \"rgb(237,237,237)\", \"ticklen\": 6, \"ticks\": \"inside\"}, \"type\": \"choropleth\"}], \"contour\": [{\"colorbar\": {\"outlinewidth\": 0, \"tickcolor\": \"rgb(237,237,237)\", \"ticklen\": 6, \"ticks\": \"inside\"}, \"colorscale\": [[0, \"rgb(20,44,66)\"], [1, \"rgb(90,179,244)\"]], \"type\": \"contour\"}], \"contourcarpet\": [{\"colorbar\": {\"outlinewidth\": 0, \"tickcolor\": \"rgb(237,237,237)\", \"ticklen\": 6, \"ticks\": \"inside\"}, \"type\": \"contourcarpet\"}], \"heatmap\": [{\"colorbar\": {\"outlinewidth\": 0, \"tickcolor\": \"rgb(237,237,237)\", \"ticklen\": 6, \"ticks\": \"inside\"}, \"colorscale\": [[0, \"rgb(20,44,66)\"], [1, \"rgb(90,179,244)\"]], \"type\": \"heatmap\"}], \"heatmapgl\": [{\"colorbar\": {\"outlinewidth\": 0, \"tickcolor\": \"rgb(237,237,237)\", \"ticklen\": 6, \"ticks\": \"inside\"}, \"colorscale\": [[0, \"rgb(20,44,66)\"], [1, \"rgb(90,179,244)\"]], \"type\": \"heatmapgl\"}], \"histogram\": [{\"marker\": {\"colorbar\": {\"outlinewidth\": 0, \"tickcolor\": \"rgb(237,237,237)\", \"ticklen\": 6, \"ticks\": \"inside\"}}, \"type\": \"histogram\"}], \"histogram2d\": [{\"colorbar\": {\"outlinewidth\": 0, \"tickcolor\": \"rgb(237,237,237)\", \"ticklen\": 6, \"ticks\": \"inside\"}, \"colorscale\": [[0, \"rgb(20,44,66)\"], [1, \"rgb(90,179,244)\"]], \"type\": \"histogram2d\"}], \"histogram2dcontour\": [{\"colorbar\": {\"outlinewidth\": 0, \"tickcolor\": \"rgb(237,237,237)\", \"ticklen\": 6, \"ticks\": \"inside\"}, \"colorscale\": [[0, \"rgb(20,44,66)\"], [1, \"rgb(90,179,244)\"]], \"type\": \"histogram2dcontour\"}], \"mesh3d\": [{\"colorbar\": {\"outlinewidth\": 0, \"tickcolor\": \"rgb(237,237,237)\", \"ticklen\": 6, \"ticks\": \"inside\"}, \"type\": \"mesh3d\"}], \"parcoords\": [{\"line\": {\"colorbar\": {\"outlinewidth\": 0, \"tickcolor\": \"rgb(237,237,237)\", \"ticklen\": 6, \"ticks\": \"inside\"}}, \"type\": \"parcoords\"}], \"scatter\": [{\"marker\": {\"colorbar\": {\"outlinewidth\": 0, \"tickcolor\": \"rgb(237,237,237)\", \"ticklen\": 6, \"ticks\": \"inside\"}}, \"type\": \"scatter\"}], \"scatter3d\": [{\"line\": {\"colorbar\": {\"outlinewidth\": 0, \"tickcolor\": \"rgb(237,237,237)\", \"ticklen\": 6, \"ticks\": \"inside\"}}, \"marker\": {\"colorbar\": {\"outlinewidth\": 0, \"tickcolor\": \"rgb(237,237,237)\", \"ticklen\": 6, \"ticks\": \"inside\"}}, \"type\": \"scatter3d\"}], \"scattercarpet\": [{\"marker\": {\"colorbar\": {\"outlinewidth\": 0, \"tickcolor\": \"rgb(237,237,237)\", \"ticklen\": 6, \"ticks\": \"inside\"}}, \"type\": \"scattercarpet\"}], \"scattergeo\": [{\"marker\": {\"colorbar\": {\"outlinewidth\": 0, \"tickcolor\": \"rgb(237,237,237)\", \"ticklen\": 6, \"ticks\": \"inside\"}}, \"type\": \"scattergeo\"}], \"scattergl\": [{\"marker\": {\"colorbar\": {\"outlinewidth\": 0, \"tickcolor\": \"rgb(237,237,237)\", \"ticklen\": 6, \"ticks\": \"inside\"}}, \"type\": \"scattergl\"}], \"scattermapbox\": [{\"marker\": {\"colorbar\": {\"outlinewidth\": 0, \"tickcolor\": \"rgb(237,237,237)\", \"ticklen\": 6, \"ticks\": \"inside\"}}, \"type\": \"scattermapbox\"}], \"scatterpolar\": [{\"marker\": {\"colorbar\": {\"outlinewidth\": 0, \"tickcolor\": \"rgb(237,237,237)\", \"ticklen\": 6, \"ticks\": \"inside\"}}, \"type\": \"scatterpolar\"}], \"scatterpolargl\": [{\"marker\": {\"colorbar\": {\"outlinewidth\": 0, \"tickcolor\": \"rgb(237,237,237)\", \"ticklen\": 6, \"ticks\": \"inside\"}}, \"type\": \"scatterpolargl\"}], \"scatterternary\": [{\"marker\": {\"colorbar\": {\"outlinewidth\": 0, \"tickcolor\": \"rgb(237,237,237)\", \"ticklen\": 6, \"ticks\": \"inside\"}}, \"type\": \"scatterternary\"}], \"surface\": [{\"colorbar\": {\"outlinewidth\": 0, \"tickcolor\": \"rgb(237,237,237)\", \"ticklen\": 6, \"ticks\": \"inside\"}, \"colorscale\": [[0, \"rgb(20,44,66)\"], [1, \"rgb(90,179,244)\"]], \"type\": \"surface\"}], \"table\": [{\"cells\": {\"fill\": {\"color\": \"rgb(237,237,237)\"}, \"line\": {\"color\": \"white\"}}, \"header\": {\"fill\": {\"color\": \"rgb(217,217,217)\"}, \"line\": {\"color\": \"white\"}}, \"type\": \"table\"}]}, \"layout\": {\"annotationdefaults\": {\"arrowhead\": 0, \"arrowwidth\": 1}, \"colorscale\": {\"sequential\": [[0, \"rgb(20,44,66)\"], [1, \"rgb(90,179,244)\"]], \"sequentialminus\": [[0, \"rgb(20,44,66)\"], [1, \"rgb(90,179,244)\"]]}, \"colorway\": [\"#F8766D\", \"#A3A500\", \"#00BF7D\", \"#00B0F6\", \"#E76BF3\"], \"font\": {\"color\": \"rgb(51,51,51)\"}, \"geo\": {\"bgcolor\": \"white\", \"lakecolor\": \"white\", \"landcolor\": \"rgb(237,237,237)\", \"showlakes\": true, \"showland\": true, \"subunitcolor\": \"white\"}, \"hoverlabel\": {\"align\": \"left\"}, \"hovermode\": \"closest\", \"paper_bgcolor\": \"white\", \"plot_bgcolor\": \"rgb(237,237,237)\", \"polar\": {\"angularaxis\": {\"gridcolor\": \"white\", \"linecolor\": \"white\", \"showgrid\": true, \"tickcolor\": \"rgb(51,51,51)\", \"ticks\": \"outside\"}, \"bgcolor\": \"rgb(237,237,237)\", \"radialaxis\": {\"gridcolor\": \"white\", \"linecolor\": \"white\", \"showgrid\": true, \"tickcolor\": \"rgb(51,51,51)\", \"ticks\": \"outside\"}}, \"scene\": {\"xaxis\": {\"backgroundcolor\": \"rgb(237,237,237)\", \"gridcolor\": \"white\", \"gridwidth\": 2, \"linecolor\": \"white\", \"showbackground\": true, \"showgrid\": true, \"tickcolor\": \"rgb(51,51,51)\", \"ticks\": \"outside\", \"zerolinecolor\": \"white\"}, \"yaxis\": {\"backgroundcolor\": \"rgb(237,237,237)\", \"gridcolor\": \"white\", \"gridwidth\": 2, \"linecolor\": \"white\", \"showbackground\": true, \"showgrid\": true, \"tickcolor\": \"rgb(51,51,51)\", \"ticks\": \"outside\", \"zerolinecolor\": \"white\"}, \"zaxis\": {\"backgroundcolor\": \"rgb(237,237,237)\", \"gridcolor\": \"white\", \"gridwidth\": 2, \"linecolor\": \"white\", \"showbackground\": true, \"showgrid\": true, \"tickcolor\": \"rgb(51,51,51)\", \"ticks\": \"outside\", \"zerolinecolor\": \"white\"}}, \"shapedefaults\": {\"fillcolor\": \"black\", \"line\": {\"width\": 0}, \"opacity\": 0.3}, \"ternary\": {\"aaxis\": {\"gridcolor\": \"white\", \"linecolor\": \"white\", \"showgrid\": true, \"tickcolor\": \"rgb(51,51,51)\", \"ticks\": \"outside\"}, \"baxis\": {\"gridcolor\": \"white\", \"linecolor\": \"white\", \"showgrid\": true, \"tickcolor\": \"rgb(51,51,51)\", \"ticks\": \"outside\"}, \"bgcolor\": \"rgb(237,237,237)\", \"caxis\": {\"gridcolor\": \"white\", \"linecolor\": \"white\", \"showgrid\": true, \"tickcolor\": \"rgb(51,51,51)\", \"ticks\": \"outside\"}}, \"xaxis\": {\"automargin\": true, \"gridcolor\": \"white\", \"linecolor\": \"white\", \"showgrid\": true, \"tickcolor\": \"rgb(51,51,51)\", \"ticks\": \"outside\", \"zerolinecolor\": \"white\"}, \"yaxis\": {\"automargin\": true, \"gridcolor\": \"white\", \"linecolor\": \"white\", \"showgrid\": true, \"tickcolor\": \"rgb(51,51,51)\", \"ticks\": \"outside\", \"zerolinecolor\": \"white\"}}}, \"title\": {\"text\": \"Top 10 Number of offenses by Offense Types\"}, \"xaxis\": {\"title\": {\"text\": \"Offense Code Groups\"}}},\n",
       "                        {\"responsive\": true}\n",
       "                    ).then(function(){\n",
       "                            \n",
       "var gd = document.getElementById('529bfaa9-1a40-433f-8f63-8b12edb6fbb1');\n",
       "var x = new MutationObserver(function (mutations, observer) {{\n",
       "        var display = window.getComputedStyle(gd).display;\n",
       "        if (!display || display === 'none') {{\n",
       "            console.log([gd, 'removed!']);\n",
       "            Plotly.purge(gd);\n",
       "            observer.disconnect();\n",
       "        }}\n",
       "}});\n",
       "\n",
       "// Listen for the removal of the full notebook cells\n",
       "var notebookContainer = gd.closest('#notebook-container');\n",
       "if (notebookContainer) {{\n",
       "    x.observe(notebookContainer, {childList: true});\n",
       "}}\n",
       "\n",
       "// Listen for the clearing of the current output cell\n",
       "var outputEl = gd.closest('.output');\n",
       "if (outputEl) {{\n",
       "    x.observe(outputEl, {childList: true});\n",
       "}}\n",
       "\n",
       "                        })\n",
       "                };\n",
       "                });\n",
       "            </script>\n",
       "        </div>"
      ]
     },
     "metadata": {},
     "output_type": "display_data"
    }
   ],
   "source": [
    "fig = go.Figure()\n",
    "\n",
    "(fig\n",
    " .update_layout(title_text=\"Top 10 Number of offen,\n",
    "                ses by Offense Types\", xaxis_title_text=\"Offense Code Groups\")\n",
    " .add_bar(y=top10_code_groups.index, x=top10_code_groups.values, orientation='h', hovertemplate=\"Number of Offenses: %{x:.3s}<extra></extra>\")\n",
    " .show()\n",
    ")"
   ]
  },
  {
   "cell_type": "code",
   "execution_count": 108,
   "metadata": {},
   "outputs": [],
   "source": [
    "heatmap = pd.crosstab(df.DAY_OF_WEEK, df.HOUR)"
   ]
  },
  {
   "cell_type": "code",
   "execution_count": 140,
   "metadata": {},
   "outputs": [
    {
     "data": {
      "application/vnd.plotly.v1+json": {
       "config": {
        "plotlyServerURL": "https://plot.ly"
       },
       "data": [
        {
         "colorscale": [
          [
           0,
           "#440154"
          ],
          [
           0.1111111111111111,
           "#482878"
          ],
          [
           0.2222222222222222,
           "#3e4989"
          ],
          [
           0.3333333333333333,
           "#31688e"
          ],
          [
           0.4444444444444444,
           "#26828e"
          ],
          [
           0.5555555555555556,
           "#1f9e89"
          ],
          [
           0.6666666666666666,
           "#35b779"
          ],
          [
           0.7777777777777778,
           "#6ece58"
          ],
          [
           0.8888888888888888,
           "#b5de2b"
          ],
          [
           1,
           "#fde725"
          ]
         ],
         "reversescale": false,
         "showscale": false,
         "type": "heatmap",
         "x": [
          0,
          1,
          2,
          3,
          4,
          5,
          6,
          7,
          8,
          9,
          10,
          11,
          12,
          13,
          14,
          15,
          16,
          17,
          18,
          19,
          20,
          21,
          22,
          23
         ],
         "y": [
          "Monday",
          "Tuesday",
          "Wednesday",
          "Thursday",
          "Friday",
          "Saturday",
          "Sunday"
         ],
         "z": [
          [
           2000,
           1059,
           846,
           583,
           386,
           417,
           709,
           1352,
           2046,
           2148,
           2432,
           2375,
           2746,
           2479,
           2485,
           2438,
           3030,
           3254,
           3089,
           2606,
           2319,
           2003,
           1634,
           1243
          ],
          [
           1897,
           1018,
           641,
           460,
           399,
           462,
           787,
           1418,
           2145,
           2322,
           2415,
           2529,
           2682,
           2493,
           2555,
           2506,
           3080,
           3241,
           3218,
           2768,
           2369,
           1925,
           1757,
           1296
          ],
          [
           1997,
           942,
           798,
           412,
           370,
           444,
           823,
           1441,
           2135,
           2377,
           2493,
           2600,
           2845,
           2595,
           2605,
           2479,
           3053,
           3153,
           3098,
           2724,
           2265,
           2043,
           1739,
           1298
          ],
          [
           2039,
           1077,
           774,
           526,
           436,
           508,
           866,
           1405,
           2037,
           2325,
           2496,
           2548,
           2821,
           2577,
           2536,
           2531,
           2974,
           2931,
           3033,
           2510,
           2349,
           2070,
           1795,
           1492
          ],
          [
           2161,
           1275,
           952,
           532,
           441,
           485,
           768,
           1398,
           2041,
           2299,
           2669,
           2552,
           2862,
           2499,
           2601,
           2566,
           3073,
           3252,
           3010,
           2565,
           2307,
           2091,
           2160,
           1936
          ],
          [
           2612,
           1855,
           1827,
           957,
           672,
           478,
           530,
           1078,
           1516,
           1812,
           2064,
           2042,
           2588,
           2223,
           2378,
           2084,
           2445,
           2555,
           2528,
           2301,
           2132,
           2077,
           2113,
           1951
          ],
          [
           2400,
           2043,
           1855,
           1119,
           704,
           517,
           543,
           758,
           1123,
           1457,
           1778,
           1802,
           2135,
           1980,
           2029,
           1918,
           2216,
           2377,
           2326,
           2114,
           2109,
           1902,
           1728,
           1380
          ]
         ]
        }
       ],
       "layout": {
        "annotations": [
         {
          "font": {
           "color": "#000000",
           "size": 8
          },
          "showarrow": false,
          "text": "2000",
          "x": 0,
          "xref": "x",
          "y": "Monday",
          "yref": "y"
         },
         {
          "font": {
           "color": "#FFFFFF",
           "size": 8
          },
          "showarrow": false,
          "text": "1059",
          "x": 1,
          "xref": "x",
          "y": "Monday",
          "yref": "y"
         },
         {
          "font": {
           "color": "#FFFFFF",
           "size": 8
          },
          "showarrow": false,
          "text": "846",
          "x": 2,
          "xref": "x",
          "y": "Monday",
          "yref": "y"
         },
         {
          "font": {
           "color": "#FFFFFF",
           "size": 8
          },
          "showarrow": false,
          "text": "583",
          "x": 3,
          "xref": "x",
          "y": "Monday",
          "yref": "y"
         },
         {
          "font": {
           "color": "#FFFFFF",
           "size": 8
          },
          "showarrow": false,
          "text": "386",
          "x": 4,
          "xref": "x",
          "y": "Monday",
          "yref": "y"
         },
         {
          "font": {
           "color": "#FFFFFF",
           "size": 8
          },
          "showarrow": false,
          "text": "417",
          "x": 5,
          "xref": "x",
          "y": "Monday",
          "yref": "y"
         },
         {
          "font": {
           "color": "#FFFFFF",
           "size": 8
          },
          "showarrow": false,
          "text": "709",
          "x": 6,
          "xref": "x",
          "y": "Monday",
          "yref": "y"
         },
         {
          "font": {
           "color": "#FFFFFF",
           "size": 8
          },
          "showarrow": false,
          "text": "1352",
          "x": 7,
          "xref": "x",
          "y": "Monday",
          "yref": "y"
         },
         {
          "font": {
           "color": "#000000",
           "size": 8
          },
          "showarrow": false,
          "text": "2046",
          "x": 8,
          "xref": "x",
          "y": "Monday",
          "yref": "y"
         },
         {
          "font": {
           "color": "#000000",
           "size": 8
          },
          "showarrow": false,
          "text": "2148",
          "x": 9,
          "xref": "x",
          "y": "Monday",
          "yref": "y"
         },
         {
          "font": {
           "color": "#000000",
           "size": 8
          },
          "showarrow": false,
          "text": "2432",
          "x": 10,
          "xref": "x",
          "y": "Monday",
          "yref": "y"
         },
         {
          "font": {
           "color": "#000000",
           "size": 8
          },
          "showarrow": false,
          "text": "2375",
          "x": 11,
          "xref": "x",
          "y": "Monday",
          "yref": "y"
         },
         {
          "font": {
           "color": "#000000",
           "size": 8
          },
          "showarrow": false,
          "text": "2746",
          "x": 12,
          "xref": "x",
          "y": "Monday",
          "yref": "y"
         },
         {
          "font": {
           "color": "#000000",
           "size": 8
          },
          "showarrow": false,
          "text": "2479",
          "x": 13,
          "xref": "x",
          "y": "Monday",
          "yref": "y"
         },
         {
          "font": {
           "color": "#000000",
           "size": 8
          },
          "showarrow": false,
          "text": "2485",
          "x": 14,
          "xref": "x",
          "y": "Monday",
          "yref": "y"
         },
         {
          "font": {
           "color": "#000000",
           "size": 8
          },
          "showarrow": false,
          "text": "2438",
          "x": 15,
          "xref": "x",
          "y": "Monday",
          "yref": "y"
         },
         {
          "font": {
           "color": "#000000",
           "size": 8
          },
          "showarrow": false,
          "text": "3030",
          "x": 16,
          "xref": "x",
          "y": "Monday",
          "yref": "y"
         },
         {
          "font": {
           "color": "#000000",
           "size": 8
          },
          "showarrow": false,
          "text": "3254",
          "x": 17,
          "xref": "x",
          "y": "Monday",
          "yref": "y"
         },
         {
          "font": {
           "color": "#000000",
           "size": 8
          },
          "showarrow": false,
          "text": "3089",
          "x": 18,
          "xref": "x",
          "y": "Monday",
          "yref": "y"
         },
         {
          "font": {
           "color": "#000000",
           "size": 8
          },
          "showarrow": false,
          "text": "2606",
          "x": 19,
          "xref": "x",
          "y": "Monday",
          "yref": "y"
         },
         {
          "font": {
           "color": "#000000",
           "size": 8
          },
          "showarrow": false,
          "text": "2319",
          "x": 20,
          "xref": "x",
          "y": "Monday",
          "yref": "y"
         },
         {
          "font": {
           "color": "#000000",
           "size": 8
          },
          "showarrow": false,
          "text": "2003",
          "x": 21,
          "xref": "x",
          "y": "Monday",
          "yref": "y"
         },
         {
          "font": {
           "color": "#FFFFFF",
           "size": 8
          },
          "showarrow": false,
          "text": "1634",
          "x": 22,
          "xref": "x",
          "y": "Monday",
          "yref": "y"
         },
         {
          "font": {
           "color": "#FFFFFF",
           "size": 8
          },
          "showarrow": false,
          "text": "1243",
          "x": 23,
          "xref": "x",
          "y": "Monday",
          "yref": "y"
         },
         {
          "font": {
           "color": "#000000",
           "size": 8
          },
          "showarrow": false,
          "text": "1897",
          "x": 0,
          "xref": "x",
          "y": "Tuesday",
          "yref": "y"
         },
         {
          "font": {
           "color": "#FFFFFF",
           "size": 8
          },
          "showarrow": false,
          "text": "1018",
          "x": 1,
          "xref": "x",
          "y": "Tuesday",
          "yref": "y"
         },
         {
          "font": {
           "color": "#FFFFFF",
           "size": 8
          },
          "showarrow": false,
          "text": "641",
          "x": 2,
          "xref": "x",
          "y": "Tuesday",
          "yref": "y"
         },
         {
          "font": {
           "color": "#FFFFFF",
           "size": 8
          },
          "showarrow": false,
          "text": "460",
          "x": 3,
          "xref": "x",
          "y": "Tuesday",
          "yref": "y"
         },
         {
          "font": {
           "color": "#FFFFFF",
           "size": 8
          },
          "showarrow": false,
          "text": "399",
          "x": 4,
          "xref": "x",
          "y": "Tuesday",
          "yref": "y"
         },
         {
          "font": {
           "color": "#FFFFFF",
           "size": 8
          },
          "showarrow": false,
          "text": "462",
          "x": 5,
          "xref": "x",
          "y": "Tuesday",
          "yref": "y"
         },
         {
          "font": {
           "color": "#FFFFFF",
           "size": 8
          },
          "showarrow": false,
          "text": "787",
          "x": 6,
          "xref": "x",
          "y": "Tuesday",
          "yref": "y"
         },
         {
          "font": {
           "color": "#FFFFFF",
           "size": 8
          },
          "showarrow": false,
          "text": "1418",
          "x": 7,
          "xref": "x",
          "y": "Tuesday",
          "yref": "y"
         },
         {
          "font": {
           "color": "#000000",
           "size": 8
          },
          "showarrow": false,
          "text": "2145",
          "x": 8,
          "xref": "x",
          "y": "Tuesday",
          "yref": "y"
         },
         {
          "font": {
           "color": "#000000",
           "size": 8
          },
          "showarrow": false,
          "text": "2322",
          "x": 9,
          "xref": "x",
          "y": "Tuesday",
          "yref": "y"
         },
         {
          "font": {
           "color": "#000000",
           "size": 8
          },
          "showarrow": false,
          "text": "2415",
          "x": 10,
          "xref": "x",
          "y": "Tuesday",
          "yref": "y"
         },
         {
          "font": {
           "color": "#000000",
           "size": 8
          },
          "showarrow": false,
          "text": "2529",
          "x": 11,
          "xref": "x",
          "y": "Tuesday",
          "yref": "y"
         },
         {
          "font": {
           "color": "#000000",
           "size": 8
          },
          "showarrow": false,
          "text": "2682",
          "x": 12,
          "xref": "x",
          "y": "Tuesday",
          "yref": "y"
         },
         {
          "font": {
           "color": "#000000",
           "size": 8
          },
          "showarrow": false,
          "text": "2493",
          "x": 13,
          "xref": "x",
          "y": "Tuesday",
          "yref": "y"
         },
         {
          "font": {
           "color": "#000000",
           "size": 8
          },
          "showarrow": false,
          "text": "2555",
          "x": 14,
          "xref": "x",
          "y": "Tuesday",
          "yref": "y"
         },
         {
          "font": {
           "color": "#000000",
           "size": 8
          },
          "showarrow": false,
          "text": "2506",
          "x": 15,
          "xref": "x",
          "y": "Tuesday",
          "yref": "y"
         },
         {
          "font": {
           "color": "#000000",
           "size": 8
          },
          "showarrow": false,
          "text": "3080",
          "x": 16,
          "xref": "x",
          "y": "Tuesday",
          "yref": "y"
         },
         {
          "font": {
           "color": "#000000",
           "size": 8
          },
          "showarrow": false,
          "text": "3241",
          "x": 17,
          "xref": "x",
          "y": "Tuesday",
          "yref": "y"
         },
         {
          "font": {
           "color": "#000000",
           "size": 8
          },
          "showarrow": false,
          "text": "3218",
          "x": 18,
          "xref": "x",
          "y": "Tuesday",
          "yref": "y"
         },
         {
          "font": {
           "color": "#000000",
           "size": 8
          },
          "showarrow": false,
          "text": "2768",
          "x": 19,
          "xref": "x",
          "y": "Tuesday",
          "yref": "y"
         },
         {
          "font": {
           "color": "#000000",
           "size": 8
          },
          "showarrow": false,
          "text": "2369",
          "x": 20,
          "xref": "x",
          "y": "Tuesday",
          "yref": "y"
         },
         {
          "font": {
           "color": "#000000",
           "size": 8
          },
          "showarrow": false,
          "text": "1925",
          "x": 21,
          "xref": "x",
          "y": "Tuesday",
          "yref": "y"
         },
         {
          "font": {
           "color": "#FFFFFF",
           "size": 8
          },
          "showarrow": false,
          "text": "1757",
          "x": 22,
          "xref": "x",
          "y": "Tuesday",
          "yref": "y"
         },
         {
          "font": {
           "color": "#FFFFFF",
           "size": 8
          },
          "showarrow": false,
          "text": "1296",
          "x": 23,
          "xref": "x",
          "y": "Tuesday",
          "yref": "y"
         },
         {
          "font": {
           "color": "#000000",
           "size": 8
          },
          "showarrow": false,
          "text": "1997",
          "x": 0,
          "xref": "x",
          "y": "Wednesday",
          "yref": "y"
         },
         {
          "font": {
           "color": "#FFFFFF",
           "size": 8
          },
          "showarrow": false,
          "text": "942",
          "x": 1,
          "xref": "x",
          "y": "Wednesday",
          "yref": "y"
         },
         {
          "font": {
           "color": "#FFFFFF",
           "size": 8
          },
          "showarrow": false,
          "text": "798",
          "x": 2,
          "xref": "x",
          "y": "Wednesday",
          "yref": "y"
         },
         {
          "font": {
           "color": "#FFFFFF",
           "size": 8
          },
          "showarrow": false,
          "text": "412",
          "x": 3,
          "xref": "x",
          "y": "Wednesday",
          "yref": "y"
         },
         {
          "font": {
           "color": "#FFFFFF",
           "size": 8
          },
          "showarrow": false,
          "text": "370",
          "x": 4,
          "xref": "x",
          "y": "Wednesday",
          "yref": "y"
         },
         {
          "font": {
           "color": "#FFFFFF",
           "size": 8
          },
          "showarrow": false,
          "text": "444",
          "x": 5,
          "xref": "x",
          "y": "Wednesday",
          "yref": "y"
         },
         {
          "font": {
           "color": "#FFFFFF",
           "size": 8
          },
          "showarrow": false,
          "text": "823",
          "x": 6,
          "xref": "x",
          "y": "Wednesday",
          "yref": "y"
         },
         {
          "font": {
           "color": "#FFFFFF",
           "size": 8
          },
          "showarrow": false,
          "text": "1441",
          "x": 7,
          "xref": "x",
          "y": "Wednesday",
          "yref": "y"
         },
         {
          "font": {
           "color": "#000000",
           "size": 8
          },
          "showarrow": false,
          "text": "2135",
          "x": 8,
          "xref": "x",
          "y": "Wednesday",
          "yref": "y"
         },
         {
          "font": {
           "color": "#000000",
           "size": 8
          },
          "showarrow": false,
          "text": "2377",
          "x": 9,
          "xref": "x",
          "y": "Wednesday",
          "yref": "y"
         },
         {
          "font": {
           "color": "#000000",
           "size": 8
          },
          "showarrow": false,
          "text": "2493",
          "x": 10,
          "xref": "x",
          "y": "Wednesday",
          "yref": "y"
         },
         {
          "font": {
           "color": "#000000",
           "size": 8
          },
          "showarrow": false,
          "text": "2600",
          "x": 11,
          "xref": "x",
          "y": "Wednesday",
          "yref": "y"
         },
         {
          "font": {
           "color": "#000000",
           "size": 8
          },
          "showarrow": false,
          "text": "2845",
          "x": 12,
          "xref": "x",
          "y": "Wednesday",
          "yref": "y"
         },
         {
          "font": {
           "color": "#000000",
           "size": 8
          },
          "showarrow": false,
          "text": "2595",
          "x": 13,
          "xref": "x",
          "y": "Wednesday",
          "yref": "y"
         },
         {
          "font": {
           "color": "#000000",
           "size": 8
          },
          "showarrow": false,
          "text": "2605",
          "x": 14,
          "xref": "x",
          "y": "Wednesday",
          "yref": "y"
         },
         {
          "font": {
           "color": "#000000",
           "size": 8
          },
          "showarrow": false,
          "text": "2479",
          "x": 15,
          "xref": "x",
          "y": "Wednesday",
          "yref": "y"
         },
         {
          "font": {
           "color": "#000000",
           "size": 8
          },
          "showarrow": false,
          "text": "3053",
          "x": 16,
          "xref": "x",
          "y": "Wednesday",
          "yref": "y"
         },
         {
          "font": {
           "color": "#000000",
           "size": 8
          },
          "showarrow": false,
          "text": "3153",
          "x": 17,
          "xref": "x",
          "y": "Wednesday",
          "yref": "y"
         },
         {
          "font": {
           "color": "#000000",
           "size": 8
          },
          "showarrow": false,
          "text": "3098",
          "x": 18,
          "xref": "x",
          "y": "Wednesday",
          "yref": "y"
         },
         {
          "font": {
           "color": "#000000",
           "size": 8
          },
          "showarrow": false,
          "text": "2724",
          "x": 19,
          "xref": "x",
          "y": "Wednesday",
          "yref": "y"
         },
         {
          "font": {
           "color": "#000000",
           "size": 8
          },
          "showarrow": false,
          "text": "2265",
          "x": 20,
          "xref": "x",
          "y": "Wednesday",
          "yref": "y"
         },
         {
          "font": {
           "color": "#000000",
           "size": 8
          },
          "showarrow": false,
          "text": "2043",
          "x": 21,
          "xref": "x",
          "y": "Wednesday",
          "yref": "y"
         },
         {
          "font": {
           "color": "#FFFFFF",
           "size": 8
          },
          "showarrow": false,
          "text": "1739",
          "x": 22,
          "xref": "x",
          "y": "Wednesday",
          "yref": "y"
         },
         {
          "font": {
           "color": "#FFFFFF",
           "size": 8
          },
          "showarrow": false,
          "text": "1298",
          "x": 23,
          "xref": "x",
          "y": "Wednesday",
          "yref": "y"
         },
         {
          "font": {
           "color": "#000000",
           "size": 8
          },
          "showarrow": false,
          "text": "2039",
          "x": 0,
          "xref": "x",
          "y": "Thursday",
          "yref": "y"
         },
         {
          "font": {
           "color": "#FFFFFF",
           "size": 8
          },
          "showarrow": false,
          "text": "1077",
          "x": 1,
          "xref": "x",
          "y": "Thursday",
          "yref": "y"
         },
         {
          "font": {
           "color": "#FFFFFF",
           "size": 8
          },
          "showarrow": false,
          "text": "774",
          "x": 2,
          "xref": "x",
          "y": "Thursday",
          "yref": "y"
         },
         {
          "font": {
           "color": "#FFFFFF",
           "size": 8
          },
          "showarrow": false,
          "text": "526",
          "x": 3,
          "xref": "x",
          "y": "Thursday",
          "yref": "y"
         },
         {
          "font": {
           "color": "#FFFFFF",
           "size": 8
          },
          "showarrow": false,
          "text": "436",
          "x": 4,
          "xref": "x",
          "y": "Thursday",
          "yref": "y"
         },
         {
          "font": {
           "color": "#FFFFFF",
           "size": 8
          },
          "showarrow": false,
          "text": "508",
          "x": 5,
          "xref": "x",
          "y": "Thursday",
          "yref": "y"
         },
         {
          "font": {
           "color": "#FFFFFF",
           "size": 8
          },
          "showarrow": false,
          "text": "866",
          "x": 6,
          "xref": "x",
          "y": "Thursday",
          "yref": "y"
         },
         {
          "font": {
           "color": "#FFFFFF",
           "size": 8
          },
          "showarrow": false,
          "text": "1405",
          "x": 7,
          "xref": "x",
          "y": "Thursday",
          "yref": "y"
         },
         {
          "font": {
           "color": "#000000",
           "size": 8
          },
          "showarrow": false,
          "text": "2037",
          "x": 8,
          "xref": "x",
          "y": "Thursday",
          "yref": "y"
         },
         {
          "font": {
           "color": "#000000",
           "size": 8
          },
          "showarrow": false,
          "text": "2325",
          "x": 9,
          "xref": "x",
          "y": "Thursday",
          "yref": "y"
         },
         {
          "font": {
           "color": "#000000",
           "size": 8
          },
          "showarrow": false,
          "text": "2496",
          "x": 10,
          "xref": "x",
          "y": "Thursday",
          "yref": "y"
         },
         {
          "font": {
           "color": "#000000",
           "size": 8
          },
          "showarrow": false,
          "text": "2548",
          "x": 11,
          "xref": "x",
          "y": "Thursday",
          "yref": "y"
         },
         {
          "font": {
           "color": "#000000",
           "size": 8
          },
          "showarrow": false,
          "text": "2821",
          "x": 12,
          "xref": "x",
          "y": "Thursday",
          "yref": "y"
         },
         {
          "font": {
           "color": "#000000",
           "size": 8
          },
          "showarrow": false,
          "text": "2577",
          "x": 13,
          "xref": "x",
          "y": "Thursday",
          "yref": "y"
         },
         {
          "font": {
           "color": "#000000",
           "size": 8
          },
          "showarrow": false,
          "text": "2536",
          "x": 14,
          "xref": "x",
          "y": "Thursday",
          "yref": "y"
         },
         {
          "font": {
           "color": "#000000",
           "size": 8
          },
          "showarrow": false,
          "text": "2531",
          "x": 15,
          "xref": "x",
          "y": "Thursday",
          "yref": "y"
         },
         {
          "font": {
           "color": "#000000",
           "size": 8
          },
          "showarrow": false,
          "text": "2974",
          "x": 16,
          "xref": "x",
          "y": "Thursday",
          "yref": "y"
         },
         {
          "font": {
           "color": "#000000",
           "size": 8
          },
          "showarrow": false,
          "text": "2931",
          "x": 17,
          "xref": "x",
          "y": "Thursday",
          "yref": "y"
         },
         {
          "font": {
           "color": "#000000",
           "size": 8
          },
          "showarrow": false,
          "text": "3033",
          "x": 18,
          "xref": "x",
          "y": "Thursday",
          "yref": "y"
         },
         {
          "font": {
           "color": "#000000",
           "size": 8
          },
          "showarrow": false,
          "text": "2510",
          "x": 19,
          "xref": "x",
          "y": "Thursday",
          "yref": "y"
         },
         {
          "font": {
           "color": "#000000",
           "size": 8
          },
          "showarrow": false,
          "text": "2349",
          "x": 20,
          "xref": "x",
          "y": "Thursday",
          "yref": "y"
         },
         {
          "font": {
           "color": "#000000",
           "size": 8
          },
          "showarrow": false,
          "text": "2070",
          "x": 21,
          "xref": "x",
          "y": "Thursday",
          "yref": "y"
         },
         {
          "font": {
           "color": "#FFFFFF",
           "size": 8
          },
          "showarrow": false,
          "text": "1795",
          "x": 22,
          "xref": "x",
          "y": "Thursday",
          "yref": "y"
         },
         {
          "font": {
           "color": "#FFFFFF",
           "size": 8
          },
          "showarrow": false,
          "text": "1492",
          "x": 23,
          "xref": "x",
          "y": "Thursday",
          "yref": "y"
         },
         {
          "font": {
           "color": "#000000",
           "size": 8
          },
          "showarrow": false,
          "text": "2161",
          "x": 0,
          "xref": "x",
          "y": "Friday",
          "yref": "y"
         },
         {
          "font": {
           "color": "#FFFFFF",
           "size": 8
          },
          "showarrow": false,
          "text": "1275",
          "x": 1,
          "xref": "x",
          "y": "Friday",
          "yref": "y"
         },
         {
          "font": {
           "color": "#FFFFFF",
           "size": 8
          },
          "showarrow": false,
          "text": "952",
          "x": 2,
          "xref": "x",
          "y": "Friday",
          "yref": "y"
         },
         {
          "font": {
           "color": "#FFFFFF",
           "size": 8
          },
          "showarrow": false,
          "text": "532",
          "x": 3,
          "xref": "x",
          "y": "Friday",
          "yref": "y"
         },
         {
          "font": {
           "color": "#FFFFFF",
           "size": 8
          },
          "showarrow": false,
          "text": "441",
          "x": 4,
          "xref": "x",
          "y": "Friday",
          "yref": "y"
         },
         {
          "font": {
           "color": "#FFFFFF",
           "size": 8
          },
          "showarrow": false,
          "text": "485",
          "x": 5,
          "xref": "x",
          "y": "Friday",
          "yref": "y"
         },
         {
          "font": {
           "color": "#FFFFFF",
           "size": 8
          },
          "showarrow": false,
          "text": "768",
          "x": 6,
          "xref": "x",
          "y": "Friday",
          "yref": "y"
         },
         {
          "font": {
           "color": "#FFFFFF",
           "size": 8
          },
          "showarrow": false,
          "text": "1398",
          "x": 7,
          "xref": "x",
          "y": "Friday",
          "yref": "y"
         },
         {
          "font": {
           "color": "#000000",
           "size": 8
          },
          "showarrow": false,
          "text": "2041",
          "x": 8,
          "xref": "x",
          "y": "Friday",
          "yref": "y"
         },
         {
          "font": {
           "color": "#000000",
           "size": 8
          },
          "showarrow": false,
          "text": "2299",
          "x": 9,
          "xref": "x",
          "y": "Friday",
          "yref": "y"
         },
         {
          "font": {
           "color": "#000000",
           "size": 8
          },
          "showarrow": false,
          "text": "2669",
          "x": 10,
          "xref": "x",
          "y": "Friday",
          "yref": "y"
         },
         {
          "font": {
           "color": "#000000",
           "size": 8
          },
          "showarrow": false,
          "text": "2552",
          "x": 11,
          "xref": "x",
          "y": "Friday",
          "yref": "y"
         },
         {
          "font": {
           "color": "#000000",
           "size": 8
          },
          "showarrow": false,
          "text": "2862",
          "x": 12,
          "xref": "x",
          "y": "Friday",
          "yref": "y"
         },
         {
          "font": {
           "color": "#000000",
           "size": 8
          },
          "showarrow": false,
          "text": "2499",
          "x": 13,
          "xref": "x",
          "y": "Friday",
          "yref": "y"
         },
         {
          "font": {
           "color": "#000000",
           "size": 8
          },
          "showarrow": false,
          "text": "2601",
          "x": 14,
          "xref": "x",
          "y": "Friday",
          "yref": "y"
         },
         {
          "font": {
           "color": "#000000",
           "size": 8
          },
          "showarrow": false,
          "text": "2566",
          "x": 15,
          "xref": "x",
          "y": "Friday",
          "yref": "y"
         },
         {
          "font": {
           "color": "#000000",
           "size": 8
          },
          "showarrow": false,
          "text": "3073",
          "x": 16,
          "xref": "x",
          "y": "Friday",
          "yref": "y"
         },
         {
          "font": {
           "color": "#000000",
           "size": 8
          },
          "showarrow": false,
          "text": "3252",
          "x": 17,
          "xref": "x",
          "y": "Friday",
          "yref": "y"
         },
         {
          "font": {
           "color": "#000000",
           "size": 8
          },
          "showarrow": false,
          "text": "3010",
          "x": 18,
          "xref": "x",
          "y": "Friday",
          "yref": "y"
         },
         {
          "font": {
           "color": "#000000",
           "size": 8
          },
          "showarrow": false,
          "text": "2565",
          "x": 19,
          "xref": "x",
          "y": "Friday",
          "yref": "y"
         },
         {
          "font": {
           "color": "#000000",
           "size": 8
          },
          "showarrow": false,
          "text": "2307",
          "x": 20,
          "xref": "x",
          "y": "Friday",
          "yref": "y"
         },
         {
          "font": {
           "color": "#000000",
           "size": 8
          },
          "showarrow": false,
          "text": "2091",
          "x": 21,
          "xref": "x",
          "y": "Friday",
          "yref": "y"
         },
         {
          "font": {
           "color": "#000000",
           "size": 8
          },
          "showarrow": false,
          "text": "2160",
          "x": 22,
          "xref": "x",
          "y": "Friday",
          "yref": "y"
         },
         {
          "font": {
           "color": "#000000",
           "size": 8
          },
          "showarrow": false,
          "text": "1936",
          "x": 23,
          "xref": "x",
          "y": "Friday",
          "yref": "y"
         },
         {
          "font": {
           "color": "#000000",
           "size": 8
          },
          "showarrow": false,
          "text": "2612",
          "x": 0,
          "xref": "x",
          "y": "Saturday",
          "yref": "y"
         },
         {
          "font": {
           "color": "#000000",
           "size": 8
          },
          "showarrow": false,
          "text": "1855",
          "x": 1,
          "xref": "x",
          "y": "Saturday",
          "yref": "y"
         },
         {
          "font": {
           "color": "#000000",
           "size": 8
          },
          "showarrow": false,
          "text": "1827",
          "x": 2,
          "xref": "x",
          "y": "Saturday",
          "yref": "y"
         },
         {
          "font": {
           "color": "#FFFFFF",
           "size": 8
          },
          "showarrow": false,
          "text": "957",
          "x": 3,
          "xref": "x",
          "y": "Saturday",
          "yref": "y"
         },
         {
          "font": {
           "color": "#FFFFFF",
           "size": 8
          },
          "showarrow": false,
          "text": "672",
          "x": 4,
          "xref": "x",
          "y": "Saturday",
          "yref": "y"
         },
         {
          "font": {
           "color": "#FFFFFF",
           "size": 8
          },
          "showarrow": false,
          "text": "478",
          "x": 5,
          "xref": "x",
          "y": "Saturday",
          "yref": "y"
         },
         {
          "font": {
           "color": "#FFFFFF",
           "size": 8
          },
          "showarrow": false,
          "text": "530",
          "x": 6,
          "xref": "x",
          "y": "Saturday",
          "yref": "y"
         },
         {
          "font": {
           "color": "#FFFFFF",
           "size": 8
          },
          "showarrow": false,
          "text": "1078",
          "x": 7,
          "xref": "x",
          "y": "Saturday",
          "yref": "y"
         },
         {
          "font": {
           "color": "#FFFFFF",
           "size": 8
          },
          "showarrow": false,
          "text": "1516",
          "x": 8,
          "xref": "x",
          "y": "Saturday",
          "yref": "y"
         },
         {
          "font": {
           "color": "#000000",
           "size": 8
          },
          "showarrow": false,
          "text": "1812",
          "x": 9,
          "xref": "x",
          "y": "Saturday",
          "yref": "y"
         },
         {
          "font": {
           "color": "#000000",
           "size": 8
          },
          "showarrow": false,
          "text": "2064",
          "x": 10,
          "xref": "x",
          "y": "Saturday",
          "yref": "y"
         },
         {
          "font": {
           "color": "#000000",
           "size": 8
          },
          "showarrow": false,
          "text": "2042",
          "x": 11,
          "xref": "x",
          "y": "Saturday",
          "yref": "y"
         },
         {
          "font": {
           "color": "#000000",
           "size": 8
          },
          "showarrow": false,
          "text": "2588",
          "x": 12,
          "xref": "x",
          "y": "Saturday",
          "yref": "y"
         },
         {
          "font": {
           "color": "#000000",
           "size": 8
          },
          "showarrow": false,
          "text": "2223",
          "x": 13,
          "xref": "x",
          "y": "Saturday",
          "yref": "y"
         },
         {
          "font": {
           "color": "#000000",
           "size": 8
          },
          "showarrow": false,
          "text": "2378",
          "x": 14,
          "xref": "x",
          "y": "Saturday",
          "yref": "y"
         },
         {
          "font": {
           "color": "#000000",
           "size": 8
          },
          "showarrow": false,
          "text": "2084",
          "x": 15,
          "xref": "x",
          "y": "Saturday",
          "yref": "y"
         },
         {
          "font": {
           "color": "#000000",
           "size": 8
          },
          "showarrow": false,
          "text": "2445",
          "x": 16,
          "xref": "x",
          "y": "Saturday",
          "yref": "y"
         },
         {
          "font": {
           "color": "#000000",
           "size": 8
          },
          "showarrow": false,
          "text": "2555",
          "x": 17,
          "xref": "x",
          "y": "Saturday",
          "yref": "y"
         },
         {
          "font": {
           "color": "#000000",
           "size": 8
          },
          "showarrow": false,
          "text": "2528",
          "x": 18,
          "xref": "x",
          "y": "Saturday",
          "yref": "y"
         },
         {
          "font": {
           "color": "#000000",
           "size": 8
          },
          "showarrow": false,
          "text": "2301",
          "x": 19,
          "xref": "x",
          "y": "Saturday",
          "yref": "y"
         },
         {
          "font": {
           "color": "#000000",
           "size": 8
          },
          "showarrow": false,
          "text": "2132",
          "x": 20,
          "xref": "x",
          "y": "Saturday",
          "yref": "y"
         },
         {
          "font": {
           "color": "#000000",
           "size": 8
          },
          "showarrow": false,
          "text": "2077",
          "x": 21,
          "xref": "x",
          "y": "Saturday",
          "yref": "y"
         },
         {
          "font": {
           "color": "#000000",
           "size": 8
          },
          "showarrow": false,
          "text": "2113",
          "x": 22,
          "xref": "x",
          "y": "Saturday",
          "yref": "y"
         },
         {
          "font": {
           "color": "#000000",
           "size": 8
          },
          "showarrow": false,
          "text": "1951",
          "x": 23,
          "xref": "x",
          "y": "Saturday",
          "yref": "y"
         },
         {
          "font": {
           "color": "#000000",
           "size": 8
          },
          "showarrow": false,
          "text": "2400",
          "x": 0,
          "xref": "x",
          "y": "Sunday",
          "yref": "y"
         },
         {
          "font": {
           "color": "#000000",
           "size": 8
          },
          "showarrow": false,
          "text": "2043",
          "x": 1,
          "xref": "x",
          "y": "Sunday",
          "yref": "y"
         },
         {
          "font": {
           "color": "#000000",
           "size": 8
          },
          "showarrow": false,
          "text": "1855",
          "x": 2,
          "xref": "x",
          "y": "Sunday",
          "yref": "y"
         },
         {
          "font": {
           "color": "#FFFFFF",
           "size": 8
          },
          "showarrow": false,
          "text": "1119",
          "x": 3,
          "xref": "x",
          "y": "Sunday",
          "yref": "y"
         },
         {
          "font": {
           "color": "#FFFFFF",
           "size": 8
          },
          "showarrow": false,
          "text": "704",
          "x": 4,
          "xref": "x",
          "y": "Sunday",
          "yref": "y"
         },
         {
          "font": {
           "color": "#FFFFFF",
           "size": 8
          },
          "showarrow": false,
          "text": "517",
          "x": 5,
          "xref": "x",
          "y": "Sunday",
          "yref": "y"
         },
         {
          "font": {
           "color": "#FFFFFF",
           "size": 8
          },
          "showarrow": false,
          "text": "543",
          "x": 6,
          "xref": "x",
          "y": "Sunday",
          "yref": "y"
         },
         {
          "font": {
           "color": "#FFFFFF",
           "size": 8
          },
          "showarrow": false,
          "text": "758",
          "x": 7,
          "xref": "x",
          "y": "Sunday",
          "yref": "y"
         },
         {
          "font": {
           "color": "#FFFFFF",
           "size": 8
          },
          "showarrow": false,
          "text": "1123",
          "x": 8,
          "xref": "x",
          "y": "Sunday",
          "yref": "y"
         },
         {
          "font": {
           "color": "#FFFFFF",
           "size": 8
          },
          "showarrow": false,
          "text": "1457",
          "x": 9,
          "xref": "x",
          "y": "Sunday",
          "yref": "y"
         },
         {
          "font": {
           "color": "#FFFFFF",
           "size": 8
          },
          "showarrow": false,
          "text": "1778",
          "x": 10,
          "xref": "x",
          "y": "Sunday",
          "yref": "y"
         },
         {
          "font": {
           "color": "#FFFFFF",
           "size": 8
          },
          "showarrow": false,
          "text": "1802",
          "x": 11,
          "xref": "x",
          "y": "Sunday",
          "yref": "y"
         },
         {
          "font": {
           "color": "#000000",
           "size": 8
          },
          "showarrow": false,
          "text": "2135",
          "x": 12,
          "xref": "x",
          "y": "Sunday",
          "yref": "y"
         },
         {
          "font": {
           "color": "#000000",
           "size": 8
          },
          "showarrow": false,
          "text": "1980",
          "x": 13,
          "xref": "x",
          "y": "Sunday",
          "yref": "y"
         },
         {
          "font": {
           "color": "#000000",
           "size": 8
          },
          "showarrow": false,
          "text": "2029",
          "x": 14,
          "xref": "x",
          "y": "Sunday",
          "yref": "y"
         },
         {
          "font": {
           "color": "#000000",
           "size": 8
          },
          "showarrow": false,
          "text": "1918",
          "x": 15,
          "xref": "x",
          "y": "Sunday",
          "yref": "y"
         },
         {
          "font": {
           "color": "#000000",
           "size": 8
          },
          "showarrow": false,
          "text": "2216",
          "x": 16,
          "xref": "x",
          "y": "Sunday",
          "yref": "y"
         },
         {
          "font": {
           "color": "#000000",
           "size": 8
          },
          "showarrow": false,
          "text": "2377",
          "x": 17,
          "xref": "x",
          "y": "Sunday",
          "yref": "y"
         },
         {
          "font": {
           "color": "#000000",
           "size": 8
          },
          "showarrow": false,
          "text": "2326",
          "x": 18,
          "xref": "x",
          "y": "Sunday",
          "yref": "y"
         },
         {
          "font": {
           "color": "#000000",
           "size": 8
          },
          "showarrow": false,
          "text": "2114",
          "x": 19,
          "xref": "x",
          "y": "Sunday",
          "yref": "y"
         },
         {
          "font": {
           "color": "#000000",
           "size": 8
          },
          "showarrow": false,
          "text": "2109",
          "x": 20,
          "xref": "x",
          "y": "Sunday",
          "yref": "y"
         },
         {
          "font": {
           "color": "#000000",
           "size": 8
          },
          "showarrow": false,
          "text": "1902",
          "x": 21,
          "xref": "x",
          "y": "Sunday",
          "yref": "y"
         },
         {
          "font": {
           "color": "#FFFFFF",
           "size": 8
          },
          "showarrow": false,
          "text": "1728",
          "x": 22,
          "xref": "x",
          "y": "Sunday",
          "yref": "y"
         },
         {
          "font": {
           "color": "#FFFFFF",
           "size": 8
          },
          "showarrow": false,
          "text": "1380",
          "x": 23,
          "xref": "x",
          "y": "Sunday",
          "yref": "y"
         }
        ],
        "autosize": true,
        "template": {
         "data": {
          "bar": [
           {
            "error_x": {
             "color": "rgb(51,51,51)"
            },
            "error_y": {
             "color": "rgb(51,51,51)"
            },
            "marker": {
             "line": {
              "color": "rgb(237,237,237)",
              "width": 0.5
             }
            },
            "type": "bar"
           }
          ],
          "barpolar": [
           {
            "marker": {
             "line": {
              "color": "rgb(237,237,237)",
              "width": 0.5
             }
            },
            "type": "barpolar"
           }
          ],
          "carpet": [
           {
            "aaxis": {
             "endlinecolor": "rgb(51,51,51)",
             "gridcolor": "white",
             "linecolor": "white",
             "minorgridcolor": "white",
             "startlinecolor": "rgb(51,51,51)"
            },
            "baxis": {
             "endlinecolor": "rgb(51,51,51)",
             "gridcolor": "white",
             "linecolor": "white",
             "minorgridcolor": "white",
             "startlinecolor": "rgb(51,51,51)"
            },
            "type": "carpet"
           }
          ],
          "choropleth": [
           {
            "colorbar": {
             "outlinewidth": 0,
             "tickcolor": "rgb(237,237,237)",
             "ticklen": 6,
             "ticks": "inside"
            },
            "type": "choropleth"
           }
          ],
          "contour": [
           {
            "colorbar": {
             "outlinewidth": 0,
             "tickcolor": "rgb(237,237,237)",
             "ticklen": 6,
             "ticks": "inside"
            },
            "colorscale": [
             [
              0,
              "rgb(20,44,66)"
             ],
             [
              1,
              "rgb(90,179,244)"
             ]
            ],
            "type": "contour"
           }
          ],
          "contourcarpet": [
           {
            "colorbar": {
             "outlinewidth": 0,
             "tickcolor": "rgb(237,237,237)",
             "ticklen": 6,
             "ticks": "inside"
            },
            "type": "contourcarpet"
           }
          ],
          "heatmap": [
           {
            "colorbar": {
             "outlinewidth": 0,
             "tickcolor": "rgb(237,237,237)",
             "ticklen": 6,
             "ticks": "inside"
            },
            "colorscale": [
             [
              0,
              "rgb(20,44,66)"
             ],
             [
              1,
              "rgb(90,179,244)"
             ]
            ],
            "type": "heatmap"
           }
          ],
          "heatmapgl": [
           {
            "colorbar": {
             "outlinewidth": 0,
             "tickcolor": "rgb(237,237,237)",
             "ticklen": 6,
             "ticks": "inside"
            },
            "colorscale": [
             [
              0,
              "rgb(20,44,66)"
             ],
             [
              1,
              "rgb(90,179,244)"
             ]
            ],
            "type": "heatmapgl"
           }
          ],
          "histogram": [
           {
            "marker": {
             "colorbar": {
              "outlinewidth": 0,
              "tickcolor": "rgb(237,237,237)",
              "ticklen": 6,
              "ticks": "inside"
             }
            },
            "type": "histogram"
           }
          ],
          "histogram2d": [
           {
            "colorbar": {
             "outlinewidth": 0,
             "tickcolor": "rgb(237,237,237)",
             "ticklen": 6,
             "ticks": "inside"
            },
            "colorscale": [
             [
              0,
              "rgb(20,44,66)"
             ],
             [
              1,
              "rgb(90,179,244)"
             ]
            ],
            "type": "histogram2d"
           }
          ],
          "histogram2dcontour": [
           {
            "colorbar": {
             "outlinewidth": 0,
             "tickcolor": "rgb(237,237,237)",
             "ticklen": 6,
             "ticks": "inside"
            },
            "colorscale": [
             [
              0,
              "rgb(20,44,66)"
             ],
             [
              1,
              "rgb(90,179,244)"
             ]
            ],
            "type": "histogram2dcontour"
           }
          ],
          "mesh3d": [
           {
            "colorbar": {
             "outlinewidth": 0,
             "tickcolor": "rgb(237,237,237)",
             "ticklen": 6,
             "ticks": "inside"
            },
            "type": "mesh3d"
           }
          ],
          "parcoords": [
           {
            "line": {
             "colorbar": {
              "outlinewidth": 0,
              "tickcolor": "rgb(237,237,237)",
              "ticklen": 6,
              "ticks": "inside"
             }
            },
            "type": "parcoords"
           }
          ],
          "scatter": [
           {
            "marker": {
             "colorbar": {
              "outlinewidth": 0,
              "tickcolor": "rgb(237,237,237)",
              "ticklen": 6,
              "ticks": "inside"
             }
            },
            "type": "scatter"
           }
          ],
          "scatter3d": [
           {
            "line": {
             "colorbar": {
              "outlinewidth": 0,
              "tickcolor": "rgb(237,237,237)",
              "ticklen": 6,
              "ticks": "inside"
             }
            },
            "marker": {
             "colorbar": {
              "outlinewidth": 0,
              "tickcolor": "rgb(237,237,237)",
              "ticklen": 6,
              "ticks": "inside"
             }
            },
            "type": "scatter3d"
           }
          ],
          "scattercarpet": [
           {
            "marker": {
             "colorbar": {
              "outlinewidth": 0,
              "tickcolor": "rgb(237,237,237)",
              "ticklen": 6,
              "ticks": "inside"
             }
            },
            "type": "scattercarpet"
           }
          ],
          "scattergeo": [
           {
            "marker": {
             "colorbar": {
              "outlinewidth": 0,
              "tickcolor": "rgb(237,237,237)",
              "ticklen": 6,
              "ticks": "inside"
             }
            },
            "type": "scattergeo"
           }
          ],
          "scattergl": [
           {
            "marker": {
             "colorbar": {
              "outlinewidth": 0,
              "tickcolor": "rgb(237,237,237)",
              "ticklen": 6,
              "ticks": "inside"
             }
            },
            "type": "scattergl"
           }
          ],
          "scattermapbox": [
           {
            "marker": {
             "colorbar": {
              "outlinewidth": 0,
              "tickcolor": "rgb(237,237,237)",
              "ticklen": 6,
              "ticks": "inside"
             }
            },
            "type": "scattermapbox"
           }
          ],
          "scatterpolar": [
           {
            "marker": {
             "colorbar": {
              "outlinewidth": 0,
              "tickcolor": "rgb(237,237,237)",
              "ticklen": 6,
              "ticks": "inside"
             }
            },
            "type": "scatterpolar"
           }
          ],
          "scatterpolargl": [
           {
            "marker": {
             "colorbar": {
              "outlinewidth": 0,
              "tickcolor": "rgb(237,237,237)",
              "ticklen": 6,
              "ticks": "inside"
             }
            },
            "type": "scatterpolargl"
           }
          ],
          "scatterternary": [
           {
            "marker": {
             "colorbar": {
              "outlinewidth": 0,
              "tickcolor": "rgb(237,237,237)",
              "ticklen": 6,
              "ticks": "inside"
             }
            },
            "type": "scatterternary"
           }
          ],
          "surface": [
           {
            "colorbar": {
             "outlinewidth": 0,
             "tickcolor": "rgb(237,237,237)",
             "ticklen": 6,
             "ticks": "inside"
            },
            "colorscale": [
             [
              0,
              "rgb(20,44,66)"
             ],
             [
              1,
              "rgb(90,179,244)"
             ]
            ],
            "type": "surface"
           }
          ],
          "table": [
           {
            "cells": {
             "fill": {
              "color": "rgb(237,237,237)"
             },
             "line": {
              "color": "white"
             }
            },
            "header": {
             "fill": {
              "color": "rgb(217,217,217)"
             },
             "line": {
              "color": "white"
             }
            },
            "type": "table"
           }
          ]
         },
         "layout": {
          "annotationdefaults": {
           "arrowhead": 0,
           "arrowwidth": 1
          },
          "colorscale": {
           "sequential": [
            [
             0,
             "rgb(20,44,66)"
            ],
            [
             1,
             "rgb(90,179,244)"
            ]
           ],
           "sequentialminus": [
            [
             0,
             "rgb(20,44,66)"
            ],
            [
             1,
             "rgb(90,179,244)"
            ]
           ]
          },
          "colorway": [
           "#F8766D",
           "#A3A500",
           "#00BF7D",
           "#00B0F6",
           "#E76BF3"
          ],
          "font": {
           "color": "rgb(51,51,51)"
          },
          "geo": {
           "bgcolor": "white",
           "lakecolor": "white",
           "landcolor": "rgb(237,237,237)",
           "showlakes": true,
           "showland": true,
           "subunitcolor": "white"
          },
          "hoverlabel": {
           "align": "left"
          },
          "hovermode": "closest",
          "paper_bgcolor": "white",
          "plot_bgcolor": "rgb(237,237,237)",
          "polar": {
           "angularaxis": {
            "gridcolor": "white",
            "linecolor": "white",
            "showgrid": true,
            "tickcolor": "rgb(51,51,51)",
            "ticks": "outside"
           },
           "bgcolor": "rgb(237,237,237)",
           "radialaxis": {
            "gridcolor": "white",
            "linecolor": "white",
            "showgrid": true,
            "tickcolor": "rgb(51,51,51)",
            "ticks": "outside"
           }
          },
          "scene": {
           "xaxis": {
            "backgroundcolor": "rgb(237,237,237)",
            "gridcolor": "white",
            "gridwidth": 2,
            "linecolor": "white",
            "showbackground": true,
            "showgrid": true,
            "tickcolor": "rgb(51,51,51)",
            "ticks": "outside",
            "zerolinecolor": "white"
           },
           "yaxis": {
            "backgroundcolor": "rgb(237,237,237)",
            "gridcolor": "white",
            "gridwidth": 2,
            "linecolor": "white",
            "showbackground": true,
            "showgrid": true,
            "tickcolor": "rgb(51,51,51)",
            "ticks": "outside",
            "zerolinecolor": "white"
           },
           "zaxis": {
            "backgroundcolor": "rgb(237,237,237)",
            "gridcolor": "white",
            "gridwidth": 2,
            "linecolor": "white",
            "showbackground": true,
            "showgrid": true,
            "tickcolor": "rgb(51,51,51)",
            "ticks": "outside",
            "zerolinecolor": "white"
           }
          },
          "shapedefaults": {
           "fillcolor": "black",
           "line": {
            "width": 0
           },
           "opacity": 0.3
          },
          "ternary": {
           "aaxis": {
            "gridcolor": "white",
            "linecolor": "white",
            "showgrid": true,
            "tickcolor": "rgb(51,51,51)",
            "ticks": "outside"
           },
           "baxis": {
            "gridcolor": "white",
            "linecolor": "white",
            "showgrid": true,
            "tickcolor": "rgb(51,51,51)",
            "ticks": "outside"
           },
           "bgcolor": "rgb(237,237,237)",
           "caxis": {
            "gridcolor": "white",
            "linecolor": "white",
            "showgrid": true,
            "tickcolor": "rgb(51,51,51)",
            "ticks": "outside"
           }
          },
          "xaxis": {
           "automargin": true,
           "gridcolor": "white",
           "linecolor": "white",
           "showgrid": true,
           "tickcolor": "rgb(51,51,51)",
           "ticks": "outside",
           "zerolinecolor": "white"
          },
          "yaxis": {
           "automargin": true,
           "gridcolor": "white",
           "linecolor": "white",
           "showgrid": true,
           "tickcolor": "rgb(51,51,51)",
           "ticks": "outside",
           "zerolinecolor": "white"
          }
         }
        },
        "title": {
         "text": "Number of Offenses by Day of Week and Hour of Day"
        },
        "xaxis": {
         "autorange": true,
         "dtick": 1,
         "gridcolor": "rgb(0, 0, 0)",
         "nticks": 24,
         "range": [
          -0.5,
          23.5
         ],
         "side": "top",
         "ticks": "",
         "type": "linear"
        },
        "yaxis": {
         "autorange": true,
         "dtick": 1,
         "range": [
          -0.5,
          6.5
         ],
         "ticks": "",
         "ticksuffix": "  ",
         "type": "category"
        }
       }
      },
      "image/png": "[encoded data removed]",
      "text/html": [
       "<div>\n",
       "        \n",
       "        \n",
       "            <div id=\"9c7fae5b-5eaf-43a8-8a20-3740694e2f59\" class=\"plotly-graph-div\" style=\"height:525px; width:100%;\"></div>\n",
       "            <script type=\"text/javascript\">\n",
       "                require([\"plotly\"], function(Plotly) {\n",
       "                    window.PLOTLYENV=window.PLOTLYENV || {};\n",
       "                    \n",
       "                if (document.getElementById(\"9c7fae5b-5eaf-43a8-8a20-3740694e2f59\")) {\n",
       "                    Plotly.newPlot(\n",
       "                        '9c7fae5b-5eaf-43a8-8a20-3740694e2f59',\n",
       "                        [{\"colorscale\": [[0.0, \"#440154\"], [0.1111111111111111, \"#482878\"], [0.2222222222222222, \"#3e4989\"], [0.3333333333333333, \"#31688e\"], [0.4444444444444444, \"#26828e\"], [0.5555555555555556, \"#1f9e89\"], [0.6666666666666666, \"#35b779\"], [0.7777777777777778, \"#6ece58\"], [0.8888888888888888, \"#b5de2b\"], [1.0, \"#fde725\"]], \"reversescale\": false, \"showscale\": false, \"type\": \"heatmap\", \"x\": [0, 1, 2, 3, 4, 5, 6, 7, 8, 9, 10, 11, 12, 13, 14, 15, 16, 17, 18, 19, 20, 21, 22, 23], \"y\": [\"Monday\", \"Tuesday\", \"Wednesday\", \"Thursday\", \"Friday\", \"Saturday\", \"Sunday\"], \"z\": [[2000, 1059, 846, 583, 386, 417, 709, 1352, 2046, 2148, 2432, 2375, 2746, 2479, 2485, 2438, 3030, 3254, 3089, 2606, 2319, 2003, 1634, 1243], [1897, 1018, 641, 460, 399, 462, 787, 1418, 2145, 2322, 2415, 2529, 2682, 2493, 2555, 2506, 3080, 3241, 3218, 2768, 2369, 1925, 1757, 1296], [1997, 942, 798, 412, 370, 444, 823, 1441, 2135, 2377, 2493, 2600, 2845, 2595, 2605, 2479, 3053, 3153, 3098, 2724, 2265, 2043, 1739, 1298], [2039, 1077, 774, 526, 436, 508, 866, 1405, 2037, 2325, 2496, 2548, 2821, 2577, 2536, 2531, 2974, 2931, 3033, 2510, 2349, 2070, 1795, 1492], [2161, 1275, 952, 532, 441, 485, 768, 1398, 2041, 2299, 2669, 2552, 2862, 2499, 2601, 2566, 3073, 3252, 3010, 2565, 2307, 2091, 2160, 1936], [2612, 1855, 1827, 957, 672, 478, 530, 1078, 1516, 1812, 2064, 2042, 2588, 2223, 2378, 2084, 2445, 2555, 2528, 2301, 2132, 2077, 2113, 1951], [2400, 2043, 1855, 1119, 704, 517, 543, 758, 1123, 1457, 1778, 1802, 2135, 1980, 2029, 1918, 2216, 2377, 2326, 2114, 2109, 1902, 1728, 1380]]}],\n",
       "                        {\"annotations\": [{\"font\": {\"color\": \"#000000\", \"size\": 8}, \"showarrow\": false, \"text\": \"2000\", \"x\": 0, \"xref\": \"x\", \"y\": \"Monday\", \"yref\": \"y\"}, {\"font\": {\"color\": \"#FFFFFF\", \"size\": 8}, \"showarrow\": false, \"text\": \"1059\", \"x\": 1, \"xref\": \"x\", \"y\": \"Monday\", \"yref\": \"y\"}, {\"font\": {\"color\": \"#FFFFFF\", \"size\": 8}, \"showarrow\": false, \"text\": \"846\", \"x\": 2, \"xref\": \"x\", \"y\": \"Monday\", \"yref\": \"y\"}, {\"font\": {\"color\": \"#FFFFFF\", \"size\": 8}, \"showarrow\": false, \"text\": \"583\", \"x\": 3, \"xref\": \"x\", \"y\": \"Monday\", \"yref\": \"y\"}, {\"font\": {\"color\": \"#FFFFFF\", \"size\": 8}, \"showarrow\": false, \"text\": \"386\", \"x\": 4, \"xref\": \"x\", \"y\": \"Monday\", \"yref\": \"y\"}, {\"font\": {\"color\": \"#FFFFFF\", \"size\": 8}, \"showarrow\": false, \"text\": \"417\", \"x\": 5, \"xref\": \"x\", \"y\": \"Monday\", \"yref\": \"y\"}, {\"font\": {\"color\": \"#FFFFFF\", \"size\": 8}, \"showarrow\": false, \"text\": \"709\", \"x\": 6, \"xref\": \"x\", \"y\": \"Monday\", \"yref\": \"y\"}, {\"font\": {\"color\": \"#FFFFFF\", \"size\": 8}, \"showarrow\": false, \"text\": \"1352\", \"x\": 7, \"xref\": \"x\", \"y\": \"Monday\", \"yref\": \"y\"}, {\"font\": {\"color\": \"#000000\", \"size\": 8}, \"showarrow\": false, \"text\": \"2046\", \"x\": 8, \"xref\": \"x\", \"y\": \"Monday\", \"yref\": \"y\"}, {\"font\": {\"color\": \"#000000\", \"size\": 8}, \"showarrow\": false, \"text\": \"2148\", \"x\": 9, \"xref\": \"x\", \"y\": \"Monday\", \"yref\": \"y\"}, {\"font\": {\"color\": \"#000000\", \"size\": 8}, \"showarrow\": false, \"text\": \"2432\", \"x\": 10, \"xref\": \"x\", \"y\": \"Monday\", \"yref\": \"y\"}, {\"font\": {\"color\": \"#000000\", \"size\": 8}, \"showarrow\": false, \"text\": \"2375\", \"x\": 11, \"xref\": \"x\", \"y\": \"Monday\", \"yref\": \"y\"}, {\"font\": {\"color\": \"#000000\", \"size\": 8}, \"showarrow\": false, \"text\": \"2746\", \"x\": 12, \"xref\": \"x\", \"y\": \"Monday\", \"yref\": \"y\"}, {\"font\": {\"color\": \"#000000\", \"size\": 8}, \"showarrow\": false, \"text\": \"2479\", \"x\": 13, \"xref\": \"x\", \"y\": \"Monday\", \"yref\": \"y\"}, {\"font\": {\"color\": \"#000000\", \"size\": 8}, \"showarrow\": false, \"text\": \"2485\", \"x\": 14, \"xref\": \"x\", \"y\": \"Monday\", \"yref\": \"y\"}, {\"font\": {\"color\": \"#000000\", \"size\": 8}, \"showarrow\": false, \"text\": \"2438\", \"x\": 15, \"xref\": \"x\", \"y\": \"Monday\", \"yref\": \"y\"}, {\"font\": {\"color\": \"#000000\", \"size\": 8}, \"showarrow\": false, \"text\": \"3030\", \"x\": 16, \"xref\": \"x\", \"y\": \"Monday\", \"yref\": \"y\"}, {\"font\": {\"color\": \"#000000\", \"size\": 8}, \"showarrow\": false, \"text\": \"3254\", \"x\": 17, \"xref\": \"x\", \"y\": \"Monday\", \"yref\": \"y\"}, {\"font\": {\"color\": \"#000000\", \"size\": 8}, \"showarrow\": false, \"text\": \"3089\", \"x\": 18, \"xref\": \"x\", \"y\": \"Monday\", \"yref\": \"y\"}, {\"font\": {\"color\": \"#000000\", \"size\": 8}, \"showarrow\": false, \"text\": \"2606\", \"x\": 19, \"xref\": \"x\", \"y\": \"Monday\", \"yref\": \"y\"}, {\"font\": {\"color\": \"#000000\", \"size\": 8}, \"showarrow\": false, \"text\": \"2319\", \"x\": 20, \"xref\": \"x\", \"y\": \"Monday\", \"yref\": \"y\"}, {\"font\": {\"color\": \"#000000\", \"size\": 8}, \"showarrow\": false, \"text\": \"2003\", \"x\": 21, \"xref\": \"x\", \"y\": \"Monday\", \"yref\": \"y\"}, {\"font\": {\"color\": \"#FFFFFF\", \"size\": 8}, \"showarrow\": false, \"text\": \"1634\", \"x\": 22, \"xref\": \"x\", \"y\": \"Monday\", \"yref\": \"y\"}, {\"font\": {\"color\": \"#FFFFFF\", \"size\": 8}, \"showarrow\": false, \"text\": \"1243\", \"x\": 23, \"xref\": \"x\", \"y\": \"Monday\", \"yref\": \"y\"}, {\"font\": {\"color\": \"#000000\", \"size\": 8}, \"showarrow\": false, \"text\": \"1897\", \"x\": 0, \"xref\": \"x\", \"y\": \"Tuesday\", \"yref\": \"y\"}, {\"font\": {\"color\": \"#FFFFFF\", \"size\": 8}, \"showarrow\": false, \"text\": \"1018\", \"x\": 1, \"xref\": \"x\", \"y\": \"Tuesday\", \"yref\": \"y\"}, {\"font\": {\"color\": \"#FFFFFF\", \"size\": 8}, \"showarrow\": false, \"text\": \"641\", \"x\": 2, \"xref\": \"x\", \"y\": \"Tuesday\", \"yref\": \"y\"}, {\"font\": {\"color\": \"#FFFFFF\", \"size\": 8}, \"showarrow\": false, \"text\": \"460\", \"x\": 3, \"xref\": \"x\", \"y\": \"Tuesday\", \"yref\": \"y\"}, {\"font\": {\"color\": \"#FFFFFF\", \"size\": 8}, \"showarrow\": false, \"text\": \"399\", \"x\": 4, \"xref\": \"x\", \"y\": \"Tuesday\", \"yref\": \"y\"}, {\"font\": {\"color\": \"#FFFFFF\", \"size\": 8}, \"showarrow\": false, \"text\": \"462\", \"x\": 5, \"xref\": \"x\", \"y\": \"Tuesday\", \"yref\": \"y\"}, {\"font\": {\"color\": \"#FFFFFF\", \"size\": 8}, \"showarrow\": false, \"text\": \"787\", \"x\": 6, \"xref\": \"x\", \"y\": \"Tuesday\", \"yref\": \"y\"}, {\"font\": {\"color\": \"#FFFFFF\", \"size\": 8}, \"showarrow\": false, \"text\": \"1418\", \"x\": 7, \"xref\": \"x\", \"y\": \"Tuesday\", \"yref\": \"y\"}, {\"font\": {\"color\": \"#000000\", \"size\": 8}, \"showarrow\": false, \"text\": \"2145\", \"x\": 8, \"xref\": \"x\", \"y\": \"Tuesday\", \"yref\": \"y\"}, {\"font\": {\"color\": \"#000000\", \"size\": 8}, \"showarrow\": false, \"text\": \"2322\", \"x\": 9, \"xref\": \"x\", \"y\": \"Tuesday\", \"yref\": \"y\"}, {\"font\": {\"color\": \"#000000\", \"size\": 8}, \"showarrow\": false, \"text\": \"2415\", \"x\": 10, \"xref\": \"x\", \"y\": \"Tuesday\", \"yref\": \"y\"}, {\"font\": {\"color\": \"#000000\", \"size\": 8}, \"showarrow\": false, \"text\": \"2529\", \"x\": 11, \"xref\": \"x\", \"y\": \"Tuesday\", \"yref\": \"y\"}, {\"font\": {\"color\": \"#000000\", \"size\": 8}, \"showarrow\": false, \"text\": \"2682\", \"x\": 12, \"xref\": \"x\", \"y\": \"Tuesday\", \"yref\": \"y\"}, {\"font\": {\"color\": \"#000000\", \"size\": 8}, \"showarrow\": false, \"text\": \"2493\", \"x\": 13, \"xref\": \"x\", \"y\": \"Tuesday\", \"yref\": \"y\"}, {\"font\": {\"color\": \"#000000\", \"size\": 8}, \"showarrow\": false, \"text\": \"2555\", \"x\": 14, \"xref\": \"x\", \"y\": \"Tuesday\", \"yref\": \"y\"}, {\"font\": {\"color\": \"#000000\", \"size\": 8}, \"showarrow\": false, \"text\": \"2506\", \"x\": 15, \"xref\": \"x\", \"y\": \"Tuesday\", \"yref\": \"y\"}, {\"font\": {\"color\": \"#000000\", \"size\": 8}, \"showarrow\": false, \"text\": \"3080\", \"x\": 16, \"xref\": \"x\", \"y\": \"Tuesday\", \"yref\": \"y\"}, {\"font\": {\"color\": \"#000000\", \"size\": 8}, \"showarrow\": false, \"text\": \"3241\", \"x\": 17, \"xref\": \"x\", \"y\": \"Tuesday\", \"yref\": \"y\"}, {\"font\": {\"color\": \"#000000\", \"size\": 8}, \"showarrow\": false, \"text\": \"3218\", \"x\": 18, \"xref\": \"x\", \"y\": \"Tuesday\", \"yref\": \"y\"}, {\"font\": {\"color\": \"#000000\", \"size\": 8}, \"showarrow\": false, \"text\": \"2768\", \"x\": 19, \"xref\": \"x\", \"y\": \"Tuesday\", \"yref\": \"y\"}, {\"font\": {\"color\": \"#000000\", \"size\": 8}, \"showarrow\": false, \"text\": \"2369\", \"x\": 20, \"xref\": \"x\", \"y\": \"Tuesday\", \"yref\": \"y\"}, {\"font\": {\"color\": \"#000000\", \"size\": 8}, \"showarrow\": false, \"text\": \"1925\", \"x\": 21, \"xref\": \"x\", \"y\": \"Tuesday\", \"yref\": \"y\"}, {\"font\": {\"color\": \"#FFFFFF\", \"size\": 8}, \"showarrow\": false, \"text\": \"1757\", \"x\": 22, \"xref\": \"x\", \"y\": \"Tuesday\", \"yref\": \"y\"}, {\"font\": {\"color\": \"#FFFFFF\", \"size\": 8}, \"showarrow\": false, \"text\": \"1296\", \"x\": 23, \"xref\": \"x\", \"y\": \"Tuesday\", \"yref\": \"y\"}, {\"font\": {\"color\": \"#000000\", \"size\": 8}, \"showarrow\": false, \"text\": \"1997\", \"x\": 0, \"xref\": \"x\", \"y\": \"Wednesday\", \"yref\": \"y\"}, {\"font\": {\"color\": \"#FFFFFF\", \"size\": 8}, \"showarrow\": false, \"text\": \"942\", \"x\": 1, \"xref\": \"x\", \"y\": \"Wednesday\", \"yref\": \"y\"}, {\"font\": {\"color\": \"#FFFFFF\", \"size\": 8}, \"showarrow\": false, \"text\": \"798\", \"x\": 2, \"xref\": \"x\", \"y\": \"Wednesday\", \"yref\": \"y\"}, {\"font\": {\"color\": \"#FFFFFF\", \"size\": 8}, \"showarrow\": false, \"text\": \"412\", \"x\": 3, \"xref\": \"x\", \"y\": \"Wednesday\", \"yref\": \"y\"}, {\"font\": {\"color\": \"#FFFFFF\", \"size\": 8}, \"showarrow\": false, \"text\": \"370\", \"x\": 4, \"xref\": \"x\", \"y\": \"Wednesday\", \"yref\": \"y\"}, {\"font\": {\"color\": \"#FFFFFF\", \"size\": 8}, \"showarrow\": false, \"text\": \"444\", \"x\": 5, \"xref\": \"x\", \"y\": \"Wednesday\", \"yref\": \"y\"}, {\"font\": {\"color\": \"#FFFFFF\", \"size\": 8}, \"showarrow\": false, \"text\": \"823\", \"x\": 6, \"xref\": \"x\", \"y\": \"Wednesday\", \"yref\": \"y\"}, {\"font\": {\"color\": \"#FFFFFF\", \"size\": 8}, \"showarrow\": false, \"text\": \"1441\", \"x\": 7, \"xref\": \"x\", \"y\": \"Wednesday\", \"yref\": \"y\"}, {\"font\": {\"color\": \"#000000\", \"size\": 8}, \"showarrow\": false, \"text\": \"2135\", \"x\": 8, \"xref\": \"x\", \"y\": \"Wednesday\", \"yref\": \"y\"}, {\"font\": {\"color\": \"#000000\", \"size\": 8}, \"showarrow\": false, \"text\": \"2377\", \"x\": 9, \"xref\": \"x\", \"y\": \"Wednesday\", \"yref\": \"y\"}, {\"font\": {\"color\": \"#000000\", \"size\": 8}, \"showarrow\": false, \"text\": \"2493\", \"x\": 10, \"xref\": \"x\", \"y\": \"Wednesday\", \"yref\": \"y\"}, {\"font\": {\"color\": \"#000000\", \"size\": 8}, \"showarrow\": false, \"text\": \"2600\", \"x\": 11, \"xref\": \"x\", \"y\": \"Wednesday\", \"yref\": \"y\"}, {\"font\": {\"color\": \"#000000\", \"size\": 8}, \"showarrow\": false, \"text\": \"2845\", \"x\": 12, \"xref\": \"x\", \"y\": \"Wednesday\", \"yref\": \"y\"}, {\"font\": {\"color\": \"#000000\", \"size\": 8}, \"showarrow\": false, \"text\": \"2595\", \"x\": 13, \"xref\": \"x\", \"y\": \"Wednesday\", \"yref\": \"y\"}, {\"font\": {\"color\": \"#000000\", \"size\": 8}, \"showarrow\": false, \"text\": \"2605\", \"x\": 14, \"xref\": \"x\", \"y\": \"Wednesday\", \"yref\": \"y\"}, {\"font\": {\"color\": \"#000000\", \"size\": 8}, \"showarrow\": false, \"text\": \"2479\", \"x\": 15, \"xref\": \"x\", \"y\": \"Wednesday\", \"yref\": \"y\"}, {\"font\": {\"color\": \"#000000\", \"size\": 8}, \"showarrow\": false, \"text\": \"3053\", \"x\": 16, \"xref\": \"x\", \"y\": \"Wednesday\", \"yref\": \"y\"}, {\"font\": {\"color\": \"#000000\", \"size\": 8}, \"showarrow\": false, \"text\": \"3153\", \"x\": 17, \"xref\": \"x\", \"y\": \"Wednesday\", \"yref\": \"y\"}, {\"font\": {\"color\": \"#000000\", \"size\": 8}, \"showarrow\": false, \"text\": \"3098\", \"x\": 18, \"xref\": \"x\", \"y\": \"Wednesday\", \"yref\": \"y\"}, {\"font\": {\"color\": \"#000000\", \"size\": 8}, \"showarrow\": false, \"text\": \"2724\", \"x\": 19, \"xref\": \"x\", \"y\": \"Wednesday\", \"yref\": \"y\"}, {\"font\": {\"color\": \"#000000\", \"size\": 8}, \"showarrow\": false, \"text\": \"2265\", \"x\": 20, \"xref\": \"x\", \"y\": \"Wednesday\", \"yref\": \"y\"}, {\"font\": {\"color\": \"#000000\", \"size\": 8}, \"showarrow\": false, \"text\": \"2043\", \"x\": 21, \"xref\": \"x\", \"y\": \"Wednesday\", \"yref\": \"y\"}, {\"font\": {\"color\": \"#FFFFFF\", \"size\": 8}, \"showarrow\": false, \"text\": \"1739\", \"x\": 22, \"xref\": \"x\", \"y\": \"Wednesday\", \"yref\": \"y\"}, {\"font\": {\"color\": \"#FFFFFF\", \"size\": 8}, \"showarrow\": false, \"text\": \"1298\", \"x\": 23, \"xref\": \"x\", \"y\": \"Wednesday\", \"yref\": \"y\"}, {\"font\": {\"color\": \"#000000\", \"size\": 8}, \"showarrow\": false, \"text\": \"2039\", \"x\": 0, \"xref\": \"x\", \"y\": \"Thursday\", \"yref\": \"y\"}, {\"font\": {\"color\": \"#FFFFFF\", \"size\": 8}, \"showarrow\": false, \"text\": \"1077\", \"x\": 1, \"xref\": \"x\", \"y\": \"Thursday\", \"yref\": \"y\"}, {\"font\": {\"color\": \"#FFFFFF\", \"size\": 8}, \"showarrow\": false, \"text\": \"774\", \"x\": 2, \"xref\": \"x\", \"y\": \"Thursday\", \"yref\": \"y\"}, {\"font\": {\"color\": \"#FFFFFF\", \"size\": 8}, \"showarrow\": false, \"text\": \"526\", \"x\": 3, \"xref\": \"x\", \"y\": \"Thursday\", \"yref\": \"y\"}, {\"font\": {\"color\": \"#FFFFFF\", \"size\": 8}, \"showarrow\": false, \"text\": \"436\", \"x\": 4, \"xref\": \"x\", \"y\": \"Thursday\", \"yref\": \"y\"}, {\"font\": {\"color\": \"#FFFFFF\", \"size\": 8}, \"showarrow\": false, \"text\": \"508\", \"x\": 5, \"xref\": \"x\", \"y\": \"Thursday\", \"yref\": \"y\"}, {\"font\": {\"color\": \"#FFFFFF\", \"size\": 8}, \"showarrow\": false, \"text\": \"866\", \"x\": 6, \"xref\": \"x\", \"y\": \"Thursday\", \"yref\": \"y\"}, {\"font\": {\"color\": \"#FFFFFF\", \"size\": 8}, \"showarrow\": false, \"text\": \"1405\", \"x\": 7, \"xref\": \"x\", \"y\": \"Thursday\", \"yref\": \"y\"}, {\"font\": {\"color\": \"#000000\", \"size\": 8}, \"showarrow\": false, \"text\": \"2037\", \"x\": 8, \"xref\": \"x\", \"y\": \"Thursday\", \"yref\": \"y\"}, {\"font\": {\"color\": \"#000000\", \"size\": 8}, \"showarrow\": false, \"text\": \"2325\", \"x\": 9, \"xref\": \"x\", \"y\": \"Thursday\", \"yref\": \"y\"}, {\"font\": {\"color\": \"#000000\", \"size\": 8}, \"showarrow\": false, \"text\": \"2496\", \"x\": 10, \"xref\": \"x\", \"y\": \"Thursday\", \"yref\": \"y\"}, {\"font\": {\"color\": \"#000000\", \"size\": 8}, \"showarrow\": false, \"text\": \"2548\", \"x\": 11, \"xref\": \"x\", \"y\": \"Thursday\", \"yref\": \"y\"}, {\"font\": {\"color\": \"#000000\", \"size\": 8}, \"showarrow\": false, \"text\": \"2821\", \"x\": 12, \"xref\": \"x\", \"y\": \"Thursday\", \"yref\": \"y\"}, {\"font\": {\"color\": \"#000000\", \"size\": 8}, \"showarrow\": false, \"text\": \"2577\", \"x\": 13, \"xref\": \"x\", \"y\": \"Thursday\", \"yref\": \"y\"}, {\"font\": {\"color\": \"#000000\", \"size\": 8}, \"showarrow\": false, \"text\": \"2536\", \"x\": 14, \"xref\": \"x\", \"y\": \"Thursday\", \"yref\": \"y\"}, {\"font\": {\"color\": \"#000000\", \"size\": 8}, \"showarrow\": false, \"text\": \"2531\", \"x\": 15, \"xref\": \"x\", \"y\": \"Thursday\", \"yref\": \"y\"}, {\"font\": {\"color\": \"#000000\", \"size\": 8}, \"showarrow\": false, \"text\": \"2974\", \"x\": 16, \"xref\": \"x\", \"y\": \"Thursday\", \"yref\": \"y\"}, {\"font\": {\"color\": \"#000000\", \"size\": 8}, \"showarrow\": false, \"text\": \"2931\", \"x\": 17, \"xref\": \"x\", \"y\": \"Thursday\", \"yref\": \"y\"}, {\"font\": {\"color\": \"#000000\", \"size\": 8}, \"showarrow\": false, \"text\": \"3033\", \"x\": 18, \"xref\": \"x\", \"y\": \"Thursday\", \"yref\": \"y\"}, {\"font\": {\"color\": \"#000000\", \"size\": 8}, \"showarrow\": false, \"text\": \"2510\", \"x\": 19, \"xref\": \"x\", \"y\": \"Thursday\", \"yref\": \"y\"}, {\"font\": {\"color\": \"#000000\", \"size\": 8}, \"showarrow\": false, \"text\": \"2349\", \"x\": 20, \"xref\": \"x\", \"y\": \"Thursday\", \"yref\": \"y\"}, {\"font\": {\"color\": \"#000000\", \"size\": 8}, \"showarrow\": false, \"text\": \"2070\", \"x\": 21, \"xref\": \"x\", \"y\": \"Thursday\", \"yref\": \"y\"}, {\"font\": {\"color\": \"#FFFFFF\", \"size\": 8}, \"showarrow\": false, \"text\": \"1795\", \"x\": 22, \"xref\": \"x\", \"y\": \"Thursday\", \"yref\": \"y\"}, {\"font\": {\"color\": \"#FFFFFF\", \"size\": 8}, \"showarrow\": false, \"text\": \"1492\", \"x\": 23, \"xref\": \"x\", \"y\": \"Thursday\", \"yref\": \"y\"}, {\"font\": {\"color\": \"#000000\", \"size\": 8}, \"showarrow\": false, \"text\": \"2161\", \"x\": 0, \"xref\": \"x\", \"y\": \"Friday\", \"yref\": \"y\"}, {\"font\": {\"color\": \"#FFFFFF\", \"size\": 8}, \"showarrow\": false, \"text\": \"1275\", \"x\": 1, \"xref\": \"x\", \"y\": \"Friday\", \"yref\": \"y\"}, {\"font\": {\"color\": \"#FFFFFF\", \"size\": 8}, \"showarrow\": false, \"text\": \"952\", \"x\": 2, \"xref\": \"x\", \"y\": \"Friday\", \"yref\": \"y\"}, {\"font\": {\"color\": \"#FFFFFF\", \"size\": 8}, \"showarrow\": false, \"text\": \"532\", \"x\": 3, \"xref\": \"x\", \"y\": \"Friday\", \"yref\": \"y\"}, {\"font\": {\"color\": \"#FFFFFF\", \"size\": 8}, \"showarrow\": false, \"text\": \"441\", \"x\": 4, \"xref\": \"x\", \"y\": \"Friday\", \"yref\": \"y\"}, {\"font\": {\"color\": \"#FFFFFF\", \"size\": 8}, \"showarrow\": false, \"text\": \"485\", \"x\": 5, \"xref\": \"x\", \"y\": \"Friday\", \"yref\": \"y\"}, {\"font\": {\"color\": \"#FFFFFF\", \"size\": 8}, \"showarrow\": false, \"text\": \"768\", \"x\": 6, \"xref\": \"x\", \"y\": \"Friday\", \"yref\": \"y\"}, {\"font\": {\"color\": \"#FFFFFF\", \"size\": 8}, \"showarrow\": false, \"text\": \"1398\", \"x\": 7, \"xref\": \"x\", \"y\": \"Friday\", \"yref\": \"y\"}, {\"font\": {\"color\": \"#000000\", \"size\": 8}, \"showarrow\": false, \"text\": \"2041\", \"x\": 8, \"xref\": \"x\", \"y\": \"Friday\", \"yref\": \"y\"}, {\"font\": {\"color\": \"#000000\", \"size\": 8}, \"showarrow\": false, \"text\": \"2299\", \"x\": 9, \"xref\": \"x\", \"y\": \"Friday\", \"yref\": \"y\"}, {\"font\": {\"color\": \"#000000\", \"size\": 8}, \"showarrow\": false, \"text\": \"2669\", \"x\": 10, \"xref\": \"x\", \"y\": \"Friday\", \"yref\": \"y\"}, {\"font\": {\"color\": \"#000000\", \"size\": 8}, \"showarrow\": false, \"text\": \"2552\", \"x\": 11, \"xref\": \"x\", \"y\": \"Friday\", \"yref\": \"y\"}, {\"font\": {\"color\": \"#000000\", \"size\": 8}, \"showarrow\": false, \"text\": \"2862\", \"x\": 12, \"xref\": \"x\", \"y\": \"Friday\", \"yref\": \"y\"}, {\"font\": {\"color\": \"#000000\", \"size\": 8}, \"showarrow\": false, \"text\": \"2499\", \"x\": 13, \"xref\": \"x\", \"y\": \"Friday\", \"yref\": \"y\"}, {\"font\": {\"color\": \"#000000\", \"size\": 8}, \"showarrow\": false, \"text\": \"2601\", \"x\": 14, \"xref\": \"x\", \"y\": \"Friday\", \"yref\": \"y\"}, {\"font\": {\"color\": \"#000000\", \"size\": 8}, \"showarrow\": false, \"text\": \"2566\", \"x\": 15, \"xref\": \"x\", \"y\": \"Friday\", \"yref\": \"y\"}, {\"font\": {\"color\": \"#000000\", \"size\": 8}, \"showarrow\": false, \"text\": \"3073\", \"x\": 16, \"xref\": \"x\", \"y\": \"Friday\", \"yref\": \"y\"}, {\"font\": {\"color\": \"#000000\", \"size\": 8}, \"showarrow\": false, \"text\": \"3252\", \"x\": 17, \"xref\": \"x\", \"y\": \"Friday\", \"yref\": \"y\"}, {\"font\": {\"color\": \"#000000\", \"size\": 8}, \"showarrow\": false, \"text\": \"3010\", \"x\": 18, \"xref\": \"x\", \"y\": \"Friday\", \"yref\": \"y\"}, {\"font\": {\"color\": \"#000000\", \"size\": 8}, \"showarrow\": false, \"text\": \"2565\", \"x\": 19, \"xref\": \"x\", \"y\": \"Friday\", \"yref\": \"y\"}, {\"font\": {\"color\": \"#000000\", \"size\": 8}, \"showarrow\": false, \"text\": \"2307\", \"x\": 20, \"xref\": \"x\", \"y\": \"Friday\", \"yref\": \"y\"}, {\"font\": {\"color\": \"#000000\", \"size\": 8}, \"showarrow\": false, \"text\": \"2091\", \"x\": 21, \"xref\": \"x\", \"y\": \"Friday\", \"yref\": \"y\"}, {\"font\": {\"color\": \"#000000\", \"size\": 8}, \"showarrow\": false, \"text\": \"2160\", \"x\": 22, \"xref\": \"x\", \"y\": \"Friday\", \"yref\": \"y\"}, {\"font\": {\"color\": \"#000000\", \"size\": 8}, \"showarrow\": false, \"text\": \"1936\", \"x\": 23, \"xref\": \"x\", \"y\": \"Friday\", \"yref\": \"y\"}, {\"font\": {\"color\": \"#000000\", \"size\": 8}, \"showarrow\": false, \"text\": \"2612\", \"x\": 0, \"xref\": \"x\", \"y\": \"Saturday\", \"yref\": \"y\"}, {\"font\": {\"color\": \"#000000\", \"size\": 8}, \"showarrow\": false, \"text\": \"1855\", \"x\": 1, \"xref\": \"x\", \"y\": \"Saturday\", \"yref\": \"y\"}, {\"font\": {\"color\": \"#000000\", \"size\": 8}, \"showarrow\": false, \"text\": \"1827\", \"x\": 2, \"xref\": \"x\", \"y\": \"Saturday\", \"yref\": \"y\"}, {\"font\": {\"color\": \"#FFFFFF\", \"size\": 8}, \"showarrow\": false, \"text\": \"957\", \"x\": 3, \"xref\": \"x\", \"y\": \"Saturday\", \"yref\": \"y\"}, {\"font\": {\"color\": \"#FFFFFF\", \"size\": 8}, \"showarrow\": false, \"text\": \"672\", \"x\": 4, \"xref\": \"x\", \"y\": \"Saturday\", \"yref\": \"y\"}, {\"font\": {\"color\": \"#FFFFFF\", \"size\": 8}, \"showarrow\": false, \"text\": \"478\", \"x\": 5, \"xref\": \"x\", \"y\": \"Saturday\", \"yref\": \"y\"}, {\"font\": {\"color\": \"#FFFFFF\", \"size\": 8}, \"showarrow\": false, \"text\": \"530\", \"x\": 6, \"xref\": \"x\", \"y\": \"Saturday\", \"yref\": \"y\"}, {\"font\": {\"color\": \"#FFFFFF\", \"size\": 8}, \"showarrow\": false, \"text\": \"1078\", \"x\": 7, \"xref\": \"x\", \"y\": \"Saturday\", \"yref\": \"y\"}, {\"font\": {\"color\": \"#FFFFFF\", \"size\": 8}, \"showarrow\": false, \"text\": \"1516\", \"x\": 8, \"xref\": \"x\", \"y\": \"Saturday\", \"yref\": \"y\"}, {\"font\": {\"color\": \"#000000\", \"size\": 8}, \"showarrow\": false, \"text\": \"1812\", \"x\": 9, \"xref\": \"x\", \"y\": \"Saturday\", \"yref\": \"y\"}, {\"font\": {\"color\": \"#000000\", \"size\": 8}, \"showarrow\": false, \"text\": \"2064\", \"x\": 10, \"xref\": \"x\", \"y\": \"Saturday\", \"yref\": \"y\"}, {\"font\": {\"color\": \"#000000\", \"size\": 8}, \"showarrow\": false, \"text\": \"2042\", \"x\": 11, \"xref\": \"x\", \"y\": \"Saturday\", \"yref\": \"y\"}, {\"font\": {\"color\": \"#000000\", \"size\": 8}, \"showarrow\": false, \"text\": \"2588\", \"x\": 12, \"xref\": \"x\", \"y\": \"Saturday\", \"yref\": \"y\"}, {\"font\": {\"color\": \"#000000\", \"size\": 8}, \"showarrow\": false, \"text\": \"2223\", \"x\": 13, \"xref\": \"x\", \"y\": \"Saturday\", \"yref\": \"y\"}, {\"font\": {\"color\": \"#000000\", \"size\": 8}, \"showarrow\": false, \"text\": \"2378\", \"x\": 14, \"xref\": \"x\", \"y\": \"Saturday\", \"yref\": \"y\"}, {\"font\": {\"color\": \"#000000\", \"size\": 8}, \"showarrow\": false, \"text\": \"2084\", \"x\": 15, \"xref\": \"x\", \"y\": \"Saturday\", \"yref\": \"y\"}, {\"font\": {\"color\": \"#000000\", \"size\": 8}, \"showarrow\": false, \"text\": \"2445\", \"x\": 16, \"xref\": \"x\", \"y\": \"Saturday\", \"yref\": \"y\"}, {\"font\": {\"color\": \"#000000\", \"size\": 8}, \"showarrow\": false, \"text\": \"2555\", \"x\": 17, \"xref\": \"x\", \"y\": \"Saturday\", \"yref\": \"y\"}, {\"font\": {\"color\": \"#000000\", \"size\": 8}, \"showarrow\": false, \"text\": \"2528\", \"x\": 18, \"xref\": \"x\", \"y\": \"Saturday\", \"yref\": \"y\"}, {\"font\": {\"color\": \"#000000\", \"size\": 8}, \"showarrow\": false, \"text\": \"2301\", \"x\": 19, \"xref\": \"x\", \"y\": \"Saturday\", \"yref\": \"y\"}, {\"font\": {\"color\": \"#000000\", \"size\": 8}, \"showarrow\": false, \"text\": \"2132\", \"x\": 20, \"xref\": \"x\", \"y\": \"Saturday\", \"yref\": \"y\"}, {\"font\": {\"color\": \"#000000\", \"size\": 8}, \"showarrow\": false, \"text\": \"2077\", \"x\": 21, \"xref\": \"x\", \"y\": \"Saturday\", \"yref\": \"y\"}, {\"font\": {\"color\": \"#000000\", \"size\": 8}, \"showarrow\": false, \"text\": \"2113\", \"x\": 22, \"xref\": \"x\", \"y\": \"Saturday\", \"yref\": \"y\"}, {\"font\": {\"color\": \"#000000\", \"size\": 8}, \"showarrow\": false, \"text\": \"1951\", \"x\": 23, \"xref\": \"x\", \"y\": \"Saturday\", \"yref\": \"y\"}, {\"font\": {\"color\": \"#000000\", \"size\": 8}, \"showarrow\": false, \"text\": \"2400\", \"x\": 0, \"xref\": \"x\", \"y\": \"Sunday\", \"yref\": \"y\"}, {\"font\": {\"color\": \"#000000\", \"size\": 8}, \"showarrow\": false, \"text\": \"2043\", \"x\": 1, \"xref\": \"x\", \"y\": \"Sunday\", \"yref\": \"y\"}, {\"font\": {\"color\": \"#000000\", \"size\": 8}, \"showarrow\": false, \"text\": \"1855\", \"x\": 2, \"xref\": \"x\", \"y\": \"Sunday\", \"yref\": \"y\"}, {\"font\": {\"color\": \"#FFFFFF\", \"size\": 8}, \"showarrow\": false, \"text\": \"1119\", \"x\": 3, \"xref\": \"x\", \"y\": \"Sunday\", \"yref\": \"y\"}, {\"font\": {\"color\": \"#FFFFFF\", \"size\": 8}, \"showarrow\": false, \"text\": \"704\", \"x\": 4, \"xref\": \"x\", \"y\": \"Sunday\", \"yref\": \"y\"}, {\"font\": {\"color\": \"#FFFFFF\", \"size\": 8}, \"showarrow\": false, \"text\": \"517\", \"x\": 5, \"xref\": \"x\", \"y\": \"Sunday\", \"yref\": \"y\"}, {\"font\": {\"color\": \"#FFFFFF\", \"size\": 8}, \"showarrow\": false, \"text\": \"543\", \"x\": 6, \"xref\": \"x\", \"y\": \"Sunday\", \"yref\": \"y\"}, {\"font\": {\"color\": \"#FFFFFF\", \"size\": 8}, \"showarrow\": false, \"text\": \"758\", \"x\": 7, \"xref\": \"x\", \"y\": \"Sunday\", \"yref\": \"y\"}, {\"font\": {\"color\": \"#FFFFFF\", \"size\": 8}, \"showarrow\": false, \"text\": \"1123\", \"x\": 8, \"xref\": \"x\", \"y\": \"Sunday\", \"yref\": \"y\"}, {\"font\": {\"color\": \"#FFFFFF\", \"size\": 8}, \"showarrow\": false, \"text\": \"1457\", \"x\": 9, \"xref\": \"x\", \"y\": \"Sunday\", \"yref\": \"y\"}, {\"font\": {\"color\": \"#FFFFFF\", \"size\": 8}, \"showarrow\": false, \"text\": \"1778\", \"x\": 10, \"xref\": \"x\", \"y\": \"Sunday\", \"yref\": \"y\"}, {\"font\": {\"color\": \"#FFFFFF\", \"size\": 8}, \"showarrow\": false, \"text\": \"1802\", \"x\": 11, \"xref\": \"x\", \"y\": \"Sunday\", \"yref\": \"y\"}, {\"font\": {\"color\": \"#000000\", \"size\": 8}, \"showarrow\": false, \"text\": \"2135\", \"x\": 12, \"xref\": \"x\", \"y\": \"Sunday\", \"yref\": \"y\"}, {\"font\": {\"color\": \"#000000\", \"size\": 8}, \"showarrow\": false, \"text\": \"1980\", \"x\": 13, \"xref\": \"x\", \"y\": \"Sunday\", \"yref\": \"y\"}, {\"font\": {\"color\": \"#000000\", \"size\": 8}, \"showarrow\": false, \"text\": \"2029\", \"x\": 14, \"xref\": \"x\", \"y\": \"Sunday\", \"yref\": \"y\"}, {\"font\": {\"color\": \"#000000\", \"size\": 8}, \"showarrow\": false, \"text\": \"1918\", \"x\": 15, \"xref\": \"x\", \"y\": \"Sunday\", \"yref\": \"y\"}, {\"font\": {\"color\": \"#000000\", \"size\": 8}, \"showarrow\": false, \"text\": \"2216\", \"x\": 16, \"xref\": \"x\", \"y\": \"Sunday\", \"yref\": \"y\"}, {\"font\": {\"color\": \"#000000\", \"size\": 8}, \"showarrow\": false, \"text\": \"2377\", \"x\": 17, \"xref\": \"x\", \"y\": \"Sunday\", \"yref\": \"y\"}, {\"font\": {\"color\": \"#000000\", \"size\": 8}, \"showarrow\": false, \"text\": \"2326\", \"x\": 18, \"xref\": \"x\", \"y\": \"Sunday\", \"yref\": \"y\"}, {\"font\": {\"color\": \"#000000\", \"size\": 8}, \"showarrow\": false, \"text\": \"2114\", \"x\": 19, \"xref\": \"x\", \"y\": \"Sunday\", \"yref\": \"y\"}, {\"font\": {\"color\": \"#000000\", \"size\": 8}, \"showarrow\": false, \"text\": \"2109\", \"x\": 20, \"xref\": \"x\", \"y\": \"Sunday\", \"yref\": \"y\"}, {\"font\": {\"color\": \"#000000\", \"size\": 8}, \"showarrow\": false, \"text\": \"1902\", \"x\": 21, \"xref\": \"x\", \"y\": \"Sunday\", \"yref\": \"y\"}, {\"font\": {\"color\": \"#FFFFFF\", \"size\": 8}, \"showarrow\": false, \"text\": \"1728\", \"x\": 22, \"xref\": \"x\", \"y\": \"Sunday\", \"yref\": \"y\"}, {\"font\": {\"color\": \"#FFFFFF\", \"size\": 8}, \"showarrow\": false, \"text\": \"1380\", \"x\": 23, \"xref\": \"x\", \"y\": \"Sunday\", \"yref\": \"y\"}], \"template\": {\"data\": {\"bar\": [{\"error_x\": {\"color\": \"rgb(51,51,51)\"}, \"error_y\": {\"color\": \"rgb(51,51,51)\"}, \"marker\": {\"line\": {\"color\": \"rgb(237,237,237)\", \"width\": 0.5}}, \"type\": \"bar\"}], \"barpolar\": [{\"marker\": {\"line\": {\"color\": \"rgb(237,237,237)\", \"width\": 0.5}}, \"type\": \"barpolar\"}], \"carpet\": [{\"aaxis\": {\"endlinecolor\": \"rgb(51,51,51)\", \"gridcolor\": \"white\", \"linecolor\": \"white\", \"minorgridcolor\": \"white\", \"startlinecolor\": \"rgb(51,51,51)\"}, \"baxis\": {\"endlinecolor\": \"rgb(51,51,51)\", \"gridcolor\": \"white\", \"linecolor\": \"white\", \"minorgridcolor\": \"white\", \"startlinecolor\": \"rgb(51,51,51)\"}, \"type\": \"carpet\"}], \"choropleth\": [{\"colorbar\": {\"outlinewidth\": 0, \"tickcolor\": \"rgb(237,237,237)\", \"ticklen\": 6, \"ticks\": \"inside\"}, \"type\": \"choropleth\"}], \"contour\": [{\"colorbar\": {\"outlinewidth\": 0, \"tickcolor\": \"rgb(237,237,237)\", \"ticklen\": 6, \"ticks\": \"inside\"}, \"colorscale\": [[0, \"rgb(20,44,66)\"], [1, \"rgb(90,179,244)\"]], \"type\": \"contour\"}], \"contourcarpet\": [{\"colorbar\": {\"outlinewidth\": 0, \"tickcolor\": \"rgb(237,237,237)\", \"ticklen\": 6, \"ticks\": \"inside\"}, \"type\": \"contourcarpet\"}], \"heatmap\": [{\"colorbar\": {\"outlinewidth\": 0, \"tickcolor\": \"rgb(237,237,237)\", \"ticklen\": 6, \"ticks\": \"inside\"}, \"colorscale\": [[0, \"rgb(20,44,66)\"], [1, \"rgb(90,179,244)\"]], \"type\": \"heatmap\"}], \"heatmapgl\": [{\"colorbar\": {\"outlinewidth\": 0, \"tickcolor\": \"rgb(237,237,237)\", \"ticklen\": 6, \"ticks\": \"inside\"}, \"colorscale\": [[0, \"rgb(20,44,66)\"], [1, \"rgb(90,179,244)\"]], \"type\": \"heatmapgl\"}], \"histogram\": [{\"marker\": {\"colorbar\": {\"outlinewidth\": 0, \"tickcolor\": \"rgb(237,237,237)\", \"ticklen\": 6, \"ticks\": \"inside\"}}, \"type\": \"histogram\"}], \"histogram2d\": [{\"colorbar\": {\"outlinewidth\": 0, \"tickcolor\": \"rgb(237,237,237)\", \"ticklen\": 6, \"ticks\": \"inside\"}, \"colorscale\": [[0, \"rgb(20,44,66)\"], [1, \"rgb(90,179,244)\"]], \"type\": \"histogram2d\"}], \"histogram2dcontour\": [{\"colorbar\": {\"outlinewidth\": 0, \"tickcolor\": \"rgb(237,237,237)\", \"ticklen\": 6, \"ticks\": \"inside\"}, \"colorscale\": [[0, \"rgb(20,44,66)\"], [1, \"rgb(90,179,244)\"]], \"type\": \"histogram2dcontour\"}], \"mesh3d\": [{\"colorbar\": {\"outlinewidth\": 0, \"tickcolor\": \"rgb(237,237,237)\", \"ticklen\": 6, \"ticks\": \"inside\"}, \"type\": \"mesh3d\"}], \"parcoords\": [{\"line\": {\"colorbar\": {\"outlinewidth\": 0, \"tickcolor\": \"rgb(237,237,237)\", \"ticklen\": 6, \"ticks\": \"inside\"}}, \"type\": \"parcoords\"}], \"scatter\": [{\"marker\": {\"colorbar\": {\"outlinewidth\": 0, \"tickcolor\": \"rgb(237,237,237)\", \"ticklen\": 6, \"ticks\": \"inside\"}}, \"type\": \"scatter\"}], \"scatter3d\": [{\"line\": {\"colorbar\": {\"outlinewidth\": 0, \"tickcolor\": \"rgb(237,237,237)\", \"ticklen\": 6, \"ticks\": \"inside\"}}, \"marker\": {\"colorbar\": {\"outlinewidth\": 0, \"tickcolor\": \"rgb(237,237,237)\", \"ticklen\": 6, \"ticks\": \"inside\"}}, \"type\": \"scatter3d\"}], \"scattercarpet\": [{\"marker\": {\"colorbar\": {\"outlinewidth\": 0, \"tickcolor\": \"rgb(237,237,237)\", \"ticklen\": 6, \"ticks\": \"inside\"}}, \"type\": \"scattercarpet\"}], \"scattergeo\": [{\"marker\": {\"colorbar\": {\"outlinewidth\": 0, \"tickcolor\": \"rgb(237,237,237)\", \"ticklen\": 6, \"ticks\": \"inside\"}}, \"type\": \"scattergeo\"}], \"scattergl\": [{\"marker\": {\"colorbar\": {\"outlinewidth\": 0, \"tickcolor\": \"rgb(237,237,237)\", \"ticklen\": 6, \"ticks\": \"inside\"}}, \"type\": \"scattergl\"}], \"scattermapbox\": [{\"marker\": {\"colorbar\": {\"outlinewidth\": 0, \"tickcolor\": \"rgb(237,237,237)\", \"ticklen\": 6, \"ticks\": \"inside\"}}, \"type\": \"scattermapbox\"}], \"scatterpolar\": [{\"marker\": {\"colorbar\": {\"outlinewidth\": 0, \"tickcolor\": \"rgb(237,237,237)\", \"ticklen\": 6, \"ticks\": \"inside\"}}, \"type\": \"scatterpolar\"}], \"scatterpolargl\": [{\"marker\": {\"colorbar\": {\"outlinewidth\": 0, \"tickcolor\": \"rgb(237,237,237)\", \"ticklen\": 6, \"ticks\": \"inside\"}}, \"type\": \"scatterpolargl\"}], \"scatterternary\": [{\"marker\": {\"colorbar\": {\"outlinewidth\": 0, \"tickcolor\": \"rgb(237,237,237)\", \"ticklen\": 6, \"ticks\": \"inside\"}}, \"type\": \"scatterternary\"}], \"surface\": [{\"colorbar\": {\"outlinewidth\": 0, \"tickcolor\": \"rgb(237,237,237)\", \"ticklen\": 6, \"ticks\": \"inside\"}, \"colorscale\": [[0, \"rgb(20,44,66)\"], [1, \"rgb(90,179,244)\"]], \"type\": \"surface\"}], \"table\": [{\"cells\": {\"fill\": {\"color\": \"rgb(237,237,237)\"}, \"line\": {\"color\": \"white\"}}, \"header\": {\"fill\": {\"color\": \"rgb(217,217,217)\"}, \"line\": {\"color\": \"white\"}}, \"type\": \"table\"}]}, \"layout\": {\"annotationdefaults\": {\"arrowhead\": 0, \"arrowwidth\": 1}, \"colorscale\": {\"sequential\": [[0, \"rgb(20,44,66)\"], [1, \"rgb(90,179,244)\"]], \"sequentialminus\": [[0, \"rgb(20,44,66)\"], [1, \"rgb(90,179,244)\"]]}, \"colorway\": [\"#F8766D\", \"#A3A500\", \"#00BF7D\", \"#00B0F6\", \"#E76BF3\"], \"font\": {\"color\": \"rgb(51,51,51)\"}, \"geo\": {\"bgcolor\": \"white\", \"lakecolor\": \"white\", \"landcolor\": \"rgb(237,237,237)\", \"showlakes\": true, \"showland\": true, \"subunitcolor\": \"white\"}, \"hoverlabel\": {\"align\": \"left\"}, \"hovermode\": \"closest\", \"paper_bgcolor\": \"white\", \"plot_bgcolor\": \"rgb(237,237,237)\", \"polar\": {\"angularaxis\": {\"gridcolor\": \"white\", \"linecolor\": \"white\", \"showgrid\": true, \"tickcolor\": \"rgb(51,51,51)\", \"ticks\": \"outside\"}, \"bgcolor\": \"rgb(237,237,237)\", \"radialaxis\": {\"gridcolor\": \"white\", \"linecolor\": \"white\", \"showgrid\": true, \"tickcolor\": \"rgb(51,51,51)\", \"ticks\": \"outside\"}}, \"scene\": {\"xaxis\": {\"backgroundcolor\": \"rgb(237,237,237)\", \"gridcolor\": \"white\", \"gridwidth\": 2, \"linecolor\": \"white\", \"showbackground\": true, \"showgrid\": true, \"tickcolor\": \"rgb(51,51,51)\", \"ticks\": \"outside\", \"zerolinecolor\": \"white\"}, \"yaxis\": {\"backgroundcolor\": \"rgb(237,237,237)\", \"gridcolor\": \"white\", \"gridwidth\": 2, \"linecolor\": \"white\", \"showbackground\": true, \"showgrid\": true, \"tickcolor\": \"rgb(51,51,51)\", \"ticks\": \"outside\", \"zerolinecolor\": \"white\"}, \"zaxis\": {\"backgroundcolor\": \"rgb(237,237,237)\", \"gridcolor\": \"white\", \"gridwidth\": 2, \"linecolor\": \"white\", \"showbackground\": true, \"showgrid\": true, \"tickcolor\": \"rgb(51,51,51)\", \"ticks\": \"outside\", \"zerolinecolor\": \"white\"}}, \"shapedefaults\": {\"fillcolor\": \"black\", \"line\": {\"width\": 0}, \"opacity\": 0.3}, \"ternary\": {\"aaxis\": {\"gridcolor\": \"white\", \"linecolor\": \"white\", \"showgrid\": true, \"tickcolor\": \"rgb(51,51,51)\", \"ticks\": \"outside\"}, \"baxis\": {\"gridcolor\": \"white\", \"linecolor\": \"white\", \"showgrid\": true, \"tickcolor\": \"rgb(51,51,51)\", \"ticks\": \"outside\"}, \"bgcolor\": \"rgb(237,237,237)\", \"caxis\": {\"gridcolor\": \"white\", \"linecolor\": \"white\", \"showgrid\": true, \"tickcolor\": \"rgb(51,51,51)\", \"ticks\": \"outside\"}}, \"xaxis\": {\"automargin\": true, \"gridcolor\": \"white\", \"linecolor\": \"white\", \"showgrid\": true, \"tickcolor\": \"rgb(51,51,51)\", \"ticks\": \"outside\", \"zerolinecolor\": \"white\"}, \"yaxis\": {\"automargin\": true, \"gridcolor\": \"white\", \"linecolor\": \"white\", \"showgrid\": true, \"tickcolor\": \"rgb(51,51,51)\", \"ticks\": \"outside\", \"zerolinecolor\": \"white\"}}}, \"title\": {\"text\": \"Number of Offenses by Day of Week and Hour of Day\"}, \"xaxis\": {\"dtick\": 1, \"gridcolor\": \"rgb(0, 0, 0)\", \"nticks\": 24, \"side\": \"top\", \"ticks\": \"\"}, \"yaxis\": {\"dtick\": 1, \"ticks\": \"\", \"ticksuffix\": \"  \"}},\n",
       "                        {\"responsive\": true}\n",
       "                    ).then(function(){\n",
       "                            \n",
       "var gd = document.getElementById('9c7fae5b-5eaf-43a8-8a20-3740694e2f59');\n",
       "var x = new MutationObserver(function (mutations, observer) {{\n",
       "        var display = window.getComputedStyle(gd).display;\n",
       "        if (!display || display === 'none') {{\n",
       "            console.log([gd, 'removed!']);\n",
       "            Plotly.purge(gd);\n",
       "            observer.disconnect();\n",
       "        }}\n",
       "}});\n",
       "\n",
       "// Listen for the removal of the full notebook cells\n",
       "var notebookContainer = gd.closest('#notebook-container');\n",
       "if (notebookContainer) {{\n",
       "    x.observe(notebookContainer, {childList: true});\n",
       "}}\n",
       "\n",
       "// Listen for the clearing of the current output cell\n",
       "var outputEl = gd.closest('.output');\n",
       "if (outputEl) {{\n",
       "    x.observe(outputEl, {childList: true});\n",
       "}}\n",
       "\n",
       "                        })\n",
       "                };\n",
       "                });\n",
       "            </script>\n",
       "        </div>"
      ]
     },
     "metadata": {},
     "output_type": "display_data"
    }
   ],
   "source": [
    "fig = ff.create_annotated_heatmap(heatmap.values, x=heatmap.columns.to_list(), y=heatmap.index.to_list(), annotation_text=heatmap.values, colorscale='viridis')\n",
    "(fig\n",
    " .update_layout(title_text=\"Number of Offenses by Day of Week and Hour of Day\", xaxis_nticks=24)\n",
    ")\n",
    "for i in range(len(fig.layout.annotations)):\n",
    "    fig.layout.annotations[i].font.size = 8\n",
    "fig.show()"
   ]
  }
 ],
 "metadata": {
  "kernelspec": {
   "display_name": "Python 3",
   "language": "python",
   "name": "python3"
  },
  "language_info": {
   "codemirror_mode": {
    "name": "ipython",
    "version": 3
   },
   "file_extension": ".py",
   "mimetype": "text/x-python",
   "name": "python",
   "nbconvert_exporter": "python",
   "pygments_lexer": "ipython3",
   "version": "3.7.4"
  }
 },
 "nbformat": 4,
 "nbformat_minor": 4
}
