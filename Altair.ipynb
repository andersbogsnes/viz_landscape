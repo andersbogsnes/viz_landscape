{
 "cells": [
  {
   "cell_type": "code",
   "execution_count": 1,
   "metadata": {},
   "outputs": [],
   "source": [
    "import altair as alt\n",
    "from load_data import load_data"
   ]
  },
  {
   "cell_type": "code",
   "execution_count": 2,
   "metadata": {},
   "outputs": [
    {
     "data": {
      "text/plain": [
       "ThemeRegistry.enable('ggplot2')"
      ]
     },
     "execution_count": 2,
     "metadata": {},
     "output_type": "execute_result"
    }
   ],
   "source": [
    "alt.themes.enable('ggplot2')"
   ]
  },
  {
   "cell_type": "code",
   "execution_count": 3,
   "metadata": {},
   "outputs": [
    {
     "data": {
      "text/plain": [
       "DataTransformerRegistry.enable('json')"
      ]
     },
     "execution_count": 3,
     "metadata": {},
     "output_type": "execute_result"
    }
   ],
   "source": [
    "alt.data_transformers.enable('json')"
   ]
  },
  {
   "cell_type": "code",
   "execution_count": 9,
   "metadata": {},
   "outputs": [],
   "source": [
    "df = load_data().query('YEAR == 2018')"
   ]
  },
  {
   "cell_type": "code",
   "execution_count": 10,
   "metadata": {},
   "outputs": [
    {
     "data": {
      "text/html": [
       "<div>\n",
       "<style scoped>\n",
       "    .dataframe tbody tr th:only-of-type {\n",
       "        vertical-align: middle;\n",
       "    }\n",
       "\n",
       "    .dataframe tbody tr th {\n",
       "        vertical-align: top;\n",
       "    }\n",
       "\n",
       "    .dataframe thead th {\n",
       "        text-align: right;\n",
       "    }\n",
       "</style>\n",
       "<table border=\"1\" class=\"dataframe\">\n",
       "  <thead>\n",
       "    <tr style=\"text-align: right;\">\n",
       "      <th></th>\n",
       "      <th>INCIDENT_NUMBER</th>\n",
       "      <th>OFFENSE_CODE</th>\n",
       "      <th>OFFENSE_CODE_GROUP</th>\n",
       "      <th>OFFENSE_DESCRIPTION</th>\n",
       "      <th>DISTRICT</th>\n",
       "      <th>REPORTING_AREA</th>\n",
       "      <th>SHOOTING</th>\n",
       "      <th>OCCURRED_ON_DATE</th>\n",
       "      <th>YEAR</th>\n",
       "      <th>MONTH</th>\n",
       "      <th>DAY_OF_WEEK</th>\n",
       "      <th>HOUR</th>\n",
       "      <th>UCR_PART</th>\n",
       "      <th>STREET</th>\n",
       "      <th>Lat</th>\n",
       "      <th>Long</th>\n",
       "      <th>Location</th>\n",
       "    </tr>\n",
       "  </thead>\n",
       "  <tbody>\n",
       "    <tr>\n",
       "      <th>0</th>\n",
       "      <td>I182070945</td>\n",
       "      <td>619</td>\n",
       "      <td>Larceny</td>\n",
       "      <td>LARCENY ALL OTHERS</td>\n",
       "      <td>D14</td>\n",
       "      <td>808</td>\n",
       "      <td>0</td>\n",
       "      <td>2018-09-02 13:00:00</td>\n",
       "      <td>2018</td>\n",
       "      <td>9</td>\n",
       "      <td>Sunday</td>\n",
       "      <td>13</td>\n",
       "      <td>Part One</td>\n",
       "      <td>LINCOLN ST</td>\n",
       "      <td>42.357791</td>\n",
       "      <td>-71.139371</td>\n",
       "      <td>(42.35779134, -71.13937053)</td>\n",
       "    </tr>\n",
       "    <tr>\n",
       "      <th>1</th>\n",
       "      <td>I182070943</td>\n",
       "      <td>1402</td>\n",
       "      <td>Vandalism</td>\n",
       "      <td>VANDALISM</td>\n",
       "      <td>C11</td>\n",
       "      <td>347</td>\n",
       "      <td>0</td>\n",
       "      <td>2018-08-21 00:00:00</td>\n",
       "      <td>2018</td>\n",
       "      <td>8</td>\n",
       "      <td>Tuesday</td>\n",
       "      <td>0</td>\n",
       "      <td>Part Two</td>\n",
       "      <td>HECLA ST</td>\n",
       "      <td>42.306821</td>\n",
       "      <td>-71.060300</td>\n",
       "      <td>(42.30682138, -71.06030035)</td>\n",
       "    </tr>\n",
       "    <tr>\n",
       "      <th>2</th>\n",
       "      <td>I182070941</td>\n",
       "      <td>3410</td>\n",
       "      <td>Towed</td>\n",
       "      <td>TOWED MOTOR VEHICLE</td>\n",
       "      <td>D4</td>\n",
       "      <td>151</td>\n",
       "      <td>0</td>\n",
       "      <td>2018-09-03 19:27:00</td>\n",
       "      <td>2018</td>\n",
       "      <td>9</td>\n",
       "      <td>Monday</td>\n",
       "      <td>19</td>\n",
       "      <td>Part Three</td>\n",
       "      <td>CAZENOVE ST</td>\n",
       "      <td>42.346589</td>\n",
       "      <td>-71.072429</td>\n",
       "      <td>(42.34658879, -71.07242943)</td>\n",
       "    </tr>\n",
       "    <tr>\n",
       "      <th>3</th>\n",
       "      <td>I182070940</td>\n",
       "      <td>3114</td>\n",
       "      <td>Investigate Property</td>\n",
       "      <td>INVESTIGATE PROPERTY</td>\n",
       "      <td>D4</td>\n",
       "      <td>272</td>\n",
       "      <td>0</td>\n",
       "      <td>2018-09-03 21:16:00</td>\n",
       "      <td>2018</td>\n",
       "      <td>9</td>\n",
       "      <td>Monday</td>\n",
       "      <td>21</td>\n",
       "      <td>Part Three</td>\n",
       "      <td>NEWCOMB ST</td>\n",
       "      <td>42.334182</td>\n",
       "      <td>-71.078664</td>\n",
       "      <td>(42.33418175, -71.07866441)</td>\n",
       "    </tr>\n",
       "    <tr>\n",
       "      <th>4</th>\n",
       "      <td>I182070938</td>\n",
       "      <td>3114</td>\n",
       "      <td>Investigate Property</td>\n",
       "      <td>INVESTIGATE PROPERTY</td>\n",
       "      <td>B3</td>\n",
       "      <td>421</td>\n",
       "      <td>0</td>\n",
       "      <td>2018-09-03 21:05:00</td>\n",
       "      <td>2018</td>\n",
       "      <td>9</td>\n",
       "      <td>Monday</td>\n",
       "      <td>21</td>\n",
       "      <td>Part Three</td>\n",
       "      <td>DELHI ST</td>\n",
       "      <td>42.275365</td>\n",
       "      <td>-71.090361</td>\n",
       "      <td>(42.27536542, -71.09036101)</td>\n",
       "    </tr>\n",
       "  </tbody>\n",
       "</table>\n",
       "</div>"
      ],
      "text/plain": [
       "  INCIDENT_NUMBER  OFFENSE_CODE    OFFENSE_CODE_GROUP   OFFENSE_DESCRIPTION  \\\n",
       "0      I182070945           619               Larceny    LARCENY ALL OTHERS   \n",
       "1      I182070943          1402             Vandalism             VANDALISM   \n",
       "2      I182070941          3410                 Towed   TOWED MOTOR VEHICLE   \n",
       "3      I182070940          3114  Investigate Property  INVESTIGATE PROPERTY   \n",
       "4      I182070938          3114  Investigate Property  INVESTIGATE PROPERTY   \n",
       "\n",
       "  DISTRICT REPORTING_AREA  SHOOTING    OCCURRED_ON_DATE  YEAR  MONTH  \\\n",
       "0      D14            808         0 2018-09-02 13:00:00  2018      9   \n",
       "1      C11            347         0 2018-08-21 00:00:00  2018      8   \n",
       "2       D4            151         0 2018-09-03 19:27:00  2018      9   \n",
       "3       D4            272         0 2018-09-03 21:16:00  2018      9   \n",
       "4       B3            421         0 2018-09-03 21:05:00  2018      9   \n",
       "\n",
       "  DAY_OF_WEEK  HOUR    UCR_PART       STREET        Lat       Long  \\\n",
       "0      Sunday    13    Part One   LINCOLN ST  42.357791 -71.139371   \n",
       "1     Tuesday     0    Part Two     HECLA ST  42.306821 -71.060300   \n",
       "2      Monday    19  Part Three  CAZENOVE ST  42.346589 -71.072429   \n",
       "3      Monday    21  Part Three   NEWCOMB ST  42.334182 -71.078664   \n",
       "4      Monday    21  Part Three     DELHI ST  42.275365 -71.090361   \n",
       "\n",
       "                      Location  \n",
       "0  (42.35779134, -71.13937053)  \n",
       "1  (42.30682138, -71.06030035)  \n",
       "2  (42.34658879, -71.07242943)  \n",
       "3  (42.33418175, -71.07866441)  \n",
       "4  (42.27536542, -71.09036101)  "
      ]
     },
     "execution_count": 10,
     "metadata": {},
     "output_type": "execute_result"
    }
   ],
   "source": [
    "df.head()"
   ]
  },
  {
   "cell_type": "code",
   "execution_count": 57,
   "metadata": {},
   "outputs": [],
   "source": [
    "brush = alt.selection_interval(encodings=['x'], empty='all')\n",
    "data = alt.Chart(df).properties(\n",
    "    height=300,\n",
    "    width=600\n",
    ").transform_timeunit(month=\"yearmonth(OCCURRED_ON_DATE)\")\n",
    "\n"
   ]
  },
  {
   "cell_type": "markdown",
   "metadata": {},
   "source": [
    "# Offenses per month"
   ]
  },
  {
   "cell_type": "code",
   "execution_count": 65,
   "metadata": {},
   "outputs": [
    {
     "data": {
      "application/vnd.vegalite.v3+json": {
       "$schema": "https://vega.github.io/schema/vega-lite/v3.4.0.json",
       "config": {
        "mark": {
         "tooltip": null
        },
        "view": {
         "height": 300,
         "width": 400
        }
       },
       "data": {
        "format": {
         "type": "json"
        },
        "url": "altair-data-9ce9a51ad60e4e9c242ee2cdc552fdf8.json"
       },
       "layer": [
        {
         "encoding": {
          "tooltip": [
           {
            "field": "month",
            "title": "Date",
            "type": "temporal"
           },
           {
            "aggregate": "count",
            "title": "Number of Offenses",
            "type": "quantitative"
           }
          ],
          "x": {
           "axis": {
            "title": null
           },
           "field": "month",
           "timeUnit": "yearmonth",
           "type": "temporal"
          },
          "y": {
           "axis": {
            "title": "Monthly Offenses"
           },
           "field": "num_offenses",
           "scale": {
            "zero": false
           },
           "type": "quantitative"
          }
         },
         "height": 300,
         "mark": {
          "color": "#e26855",
          "interpolate": "monotone",
          "type": "line"
         },
         "selection": {
          "selector011": {
           "empty": "all",
           "encodings": [
            "x"
           ],
           "type": "interval"
          }
         },
         "title": "Offenses per Month",
         "transform": [
          {
           "as": "month",
           "field": "OCCURRED_ON_DATE",
           "timeUnit": "yearmonth"
          },
          {
           "aggregate": [
            {
             "as": "num_offenses",
             "op": "count"
            }
           ],
           "groupby": [
            "month"
           ]
          }
         ],
         "width": 600
        },
        {
         "encoding": {
          "tooltip": [
           {
            "field": "month",
            "title": "Date",
            "type": "temporal"
           },
           {
            "aggregate": "count",
            "title": "Number of Offenses",
            "type": "quantitative"
           }
          ],
          "x": {
           "axis": {
            "title": null
           },
           "field": "month",
           "timeUnit": "yearmonth",
           "type": "temporal"
          },
          "y": {
           "axis": {
            "title": "Monthly Offenses"
           },
           "field": "num_offenses",
           "scale": {
            "zero": false
           },
           "type": "quantitative"
          }
         },
         "height": 300,
         "mark": {
          "color": "black",
          "type": "circle"
         },
         "title": "Offenses per Month",
         "transform": [
          {
           "as": "month",
           "field": "OCCURRED_ON_DATE",
           "timeUnit": "yearmonth"
          },
          {
           "aggregate": [
            {
             "as": "num_offenses",
             "op": "count"
            }
           ],
           "groupby": [
            "month"
           ]
          }
         ],
         "width": 600
        },
        {
         "encoding": {
          "color": {
           "value": "#e26855"
          },
          "size": {
           "value": 1.5
          },
          "y": {
           "aggregate": "mean",
           "field": "num_offenses",
           "type": "quantitative"
          }
         },
         "height": 300,
         "mark": {
          "strokeDash": [
           8,
           3
          ],
          "type": "rule"
         },
         "title": "Offenses per Month",
         "transform": [
          {
           "as": "month",
           "field": "OCCURRED_ON_DATE",
           "timeUnit": "yearmonth"
          },
          {
           "aggregate": [
            {
             "as": "num_offenses",
             "op": "count"
            }
           ],
           "groupby": [
            "month"
           ]
          },
          {
           "filter": {
            "selection": "selector011"
           }
          }
         ],
         "width": 600
        }
       ],
       "usermeta": {
        "embedOptions": {
         "theme": "ggplot2"
        }
       }
      },
      "image/png": "[encoded data removed]",
      "text/plain": [
       "<VegaLite 3 object>\n",
       "\n",
       "If you see this message, it means the renderer has not been properly enabled\n",
       "for the frontend that you are using. For more information, see\n",
       "https://altair-viz.github.io/user_guide/troubleshooting.html\n"
      ]
     },
     "execution_count": 65,
     "metadata": {},
     "output_type": "execute_result"
    }
   ],
   "source": [
    "offenses_base = (\n",
    "    data\n",
    "    .properties(title=\"Offenses per Month\")\n",
    "    .transform_aggregate(num_offenses='count()', groupby=[\"month\"])\n",
    ")\n",
    "\n",
    "offenses_line = (offenses_base\n",
    "                 .encode(\n",
    "                     x=alt.X(\"month:T\", timeUnit=\"yearmonth\", axis=alt.Axis(title=None)),\n",
    "                     y=alt.Y(\"num_offenses:Q\",scale=alt.Scale(zero=False), axis=alt.Axis(title=\"Monthly Offenses\")),\n",
    "                     tooltip=[alt.Tooltip(\"month:T\", title=\"Date\"),\n",
    "                              alt.Tooltip(\"count()\", title=\"Number of Offenses\")])\n",
    "                )\n",
    "\n",
    "\n",
    "offenses_mean = (\n",
    "    offenses_base\n",
    "    .mark_rule(strokeDash=[8, 3])\n",
    "    .transform_filter(brush)\n",
    "    .encode(\n",
    "        y=\"mean(num_offenses):Q\",\n",
    "        size=alt.value(1.5),\n",
    "        color=alt.value(\"#e26855\")\n",
    "    )\n",
    ")\n",
    "\n",
    "num_monthly_offenses = offenses_line.mark_line(interpolate='monotone', color=\"#e26855\").add_selection(brush) + offenses_line.mark_circle(color=\"black\") + offenses_mean\n",
    "num_monthly_offenses"
   ]
  },
  {
   "cell_type": "code",
   "execution_count": 70,
   "metadata": {},
   "outputs": [],
   "source": [
    "shooting_base = (data\n",
    "        .properties(title=\"Monthly Shootings\")\n",
    "        .transform_aggregate(\n",
    "            number_of_shootings=\"sum(SHOOTING)\",\n",
    "            groupby=[\"month\"])\n",
    "       )\n",
    "\n",
    "shootings = (shooting_base\n",
    "             .mark_line(interpolate='monotone', color=\"#e26855\")\n",
    "             .encode(x=alt.X(\"month:T\", timeUnit=\"yearmonth\", axis=alt.Axis(title=None)),\n",
    "                     y=alt.Y(\"number_of_shootings:Q\", axis=alt.Axis(title=\"Shootings pr Month\")),\n",
    "                     tooltip=[alt.Tooltip(\"number_of_shootings:Q\", title=\"Number of Shootings\"),\n",
    "                              alt.Tooltip(\"yearmonth(month)\", title=\"Date\")])\n",
    "             \n",
    "            )\n",
    "\n",
    "shootings_mean_line = shooting_base.encode(\n",
    "    y=\"mean(number_of_shootings):Q\",\n",
    "    color=alt.value(\"#e26855\"),\n",
    "    size=alt.value(1.5)\n",
    ").mark_rule(strokeDash=[8, 3]).transform_filter(brush)\n",
    "\n",
    "\n",
    "shootings_per_month =  shootings.add_selection(brush) + shootings.mark_circle(color=\"black\") + shootings_mean_line"
   ]
  },
  {
   "cell_type": "code",
   "execution_count": 70,
   "metadata": {},
   "outputs": [
    {
     "data": {
      "application/vnd.vegalite.v3+json": {
       "$schema": "https://vega.github.io/schema/vega-lite/v3.4.0.json",
       "config": {
        "mark": {
         "tooltip": null
        },
        "view": {
         "height": 300,
         "width": 400
        }
       },
       "data": {
        "format": {
         "type": "json"
        },
        "url": "altair-data-9ce9a51ad60e4e9c242ee2cdc552fdf8.json"
       },
       "usermeta": {
        "embedOptions": {
         "theme": "ggplot2"
        }
       },
       "vconcat": [
        {
         "layer": [
          {
           "encoding": {
            "text": {
             "field": "count",
             "type": "quantitative"
            },
            "x": {
             "field": "count",
             "type": "quantitative"
            },
            "y": {
             "field": "OFFENSE_CODE_GROUP",
             "sort": {
              "field": "count",
              "op": "sum",
              "order": "descending"
             },
             "title": "Code Group",
             "type": "nominal"
            }
           },
           "height": 300,
           "mark": {
            "align": "left",
            "baseline": "middle",
            "dx": 3,
            "type": "text"
           },
           "title": "Top 10 Offense Code Groups",
           "transform": [
            {
             "as": "month",
             "field": "OCCURRED_ON_DATE",
             "timeUnit": "yearmonth"
            },
            {
             "filter": {
              "selection": "selector011"
             }
            },
            {
             "aggregate": [
              {
               "as": "count",
               "op": "count"
              }
             ],
             "groupby": [
              "OFFENSE_CODE_GROUP"
             ]
            },
            {
             "sort": [
              {
               "field": "count",
               "order": "descending"
              }
             ],
             "window": [
              {
               "as": "rank",
               "field": "count",
               "op": "rank"
              }
             ]
            },
            {
             "filter": "(datum.rank < 10)"
            }
           ],
           "width": 600
          },
          {
           "encoding": {
            "x": {
             "field": "count",
             "type": "quantitative"
            },
            "y": {
             "field": "OFFENSE_CODE_GROUP",
             "sort": {
              "field": "count",
              "op": "sum",
              "order": "descending"
             },
             "title": "Code Group",
             "type": "nominal"
            }
           },
           "height": 300,
           "mark": "bar",
           "title": "Top 10 Offense Code Groups",
           "transform": [
            {
             "as": "month",
             "field": "OCCURRED_ON_DATE",
             "timeUnit": "yearmonth"
            },
            {
             "filter": {
              "selection": "selector011"
             }
            },
            {
             "aggregate": [
              {
               "as": "count",
               "op": "count"
              }
             ],
             "groupby": [
              "OFFENSE_CODE_GROUP"
             ]
            },
            {
             "sort": [
              {
               "field": "count",
               "order": "descending"
              }
             ],
             "window": [
              {
               "as": "rank",
               "field": "count",
               "op": "rank"
              }
             ]
            },
            {
             "filter": "(datum.rank < 10)"
            }
           ],
           "width": 600
          }
         ]
        },
        {
         "layer": [
          {
           "encoding": {
            "tooltip": [
             {
              "field": "number_of_shootings",
              "title": "Number of Shootings",
              "type": "quantitative"
             },
             {
              "field": "month",
              "timeUnit": "yearmonth",
              "title": "Date",
              "type": "temporal"
             }
            ],
            "x": {
             "axis": {
              "title": null
             },
             "field": "month",
             "timeUnit": "yearmonth",
             "type": "temporal"
            },
            "y": {
             "axis": {
              "title": "Shootings pr Month"
             },
             "field": "number_of_shootings",
             "type": "quantitative"
            }
           },
           "height": 300,
           "mark": {
            "color": "#e26855",
            "interpolate": "monotone",
            "type": "line"
           },
           "selection": {
            "selector011": {
             "empty": "all",
             "encodings": [
              "x"
             ],
             "type": "interval"
            }
           },
           "title": "Monthly Shootings",
           "transform": [
            {
             "as": "month",
             "field": "OCCURRED_ON_DATE",
             "timeUnit": "yearmonth"
            },
            {
             "aggregate": [
              {
               "as": "number_of_shootings",
               "field": "SHOOTING",
               "op": "sum"
              }
             ],
             "groupby": [
              "month"
             ]
            }
           ],
           "width": 600
          },
          {
           "encoding": {
            "tooltip": [
             {
              "field": "number_of_shootings",
              "title": "Number of Shootings",
              "type": "quantitative"
             },
             {
              "field": "month",
              "timeUnit": "yearmonth",
              "title": "Date",
              "type": "temporal"
             }
            ],
            "x": {
             "axis": {
              "title": null
             },
             "field": "month",
             "timeUnit": "yearmonth",
             "type": "temporal"
            },
            "y": {
             "axis": {
              "title": "Shootings pr Month"
             },
             "field": "number_of_shootings",
             "type": "quantitative"
            }
           },
           "height": 300,
           "mark": {
            "color": "black",
            "type": "circle"
           },
           "title": "Monthly Shootings",
           "transform": [
            {
             "as": "month",
             "field": "OCCURRED_ON_DATE",
             "timeUnit": "yearmonth"
            },
            {
             "aggregate": [
              {
               "as": "number_of_shootings",
               "field": "SHOOTING",
               "op": "sum"
              }
             ],
             "groupby": [
              "month"
             ]
            }
           ],
           "width": 600
          },
          {
           "encoding": {
            "color": {
             "value": "#e26855"
            },
            "size": {
             "value": 1.5
            },
            "y": {
             "aggregate": "mean",
             "field": "number_of_shootings",
             "type": "quantitative"
            }
           },
           "height": 300,
           "mark": {
            "strokeDash": [
             8,
             3
            ],
            "type": "rule"
           },
           "title": "Monthly Shootings",
           "transform": [
            {
             "as": "month",
             "field": "OCCURRED_ON_DATE",
             "timeUnit": "yearmonth"
            },
            {
             "aggregate": [
              {
               "as": "number_of_shootings",
               "field": "SHOOTING",
               "op": "sum"
              }
             ],
             "groupby": [
              "month"
             ]
            },
            {
             "filter": {
              "selection": "selector011"
             }
            }
           ],
           "width": 600
          }
         ]
        }
       ]
      },
      "image/png": "[encoded data removed]",
      "text/plain": [
       "<VegaLite 3 object>\n",
       "\n",
       "If you see this message, it means the renderer has not been properly enabled\n",
       "for the frontend that you are using. For more information, see\n",
       "https://altair-viz.github.io/user_guide/troubleshooting.html\n"
      ]
     },
     "execution_count": 70,
     "metadata": {},
     "output_type": "execute_result"
    }
   ],
   "source": [
    "top10 = (data\n",
    "         .properties(title=\"Top 10 Offense Code Groups\")\n",
    "         .transform_aggregate(\n",
    "            count='count()',\n",
    "            groupby=['OFFENSE_CODE_GROUP'])\n",
    "         .transform_window(\n",
    "             rank='rank(count)',\n",
    "             sort=[alt.SortField('count', order='descending')])\n",
    "         .transform_filter(alt.datum.rank < 10)\n",
    "         .mark_bar()\n",
    "         .encode(\n",
    "             y=alt.Y('OFFENSE_CODE_GROUP:N', sort=alt.EncodingSortField(field='count', op='sum', order='descending'), title=\"Code Group\"),\n",
    "             x='count:Q')\n",
    "        )\n",
    "\n",
    "labels = top10.mark_text(\n",
    "    baseline='middle',\n",
    "    align='left',\n",
    "    dx=3\n",
    ").encode(\n",
    "    text='count:Q'\n",
    ")\n",
    "top10_code_groups = labels + top10"
   ]
  },
  {
   "cell_type": "code",
   "execution_count": null,
   "metadata": {},
   "outputs": [],
   "source": [
    "heatmap_base = (\n",
    "    data\n",
    "    .properties(title=\"Counts by Day and Hour\", height=600, width=400)\n",
    "    .transform_aggregate(\n",
    "        num_offenses=\"count()\",\n",
    "        groupby=[\"HOUR\", \"DAY_OF_WEEK\"]\n",
    "    )\n",
    "    .encode(\n",
    "        x=alt.X(\"DAY_OF_WEEK:O\", title=\"Day of Week\"),\n",
    "        y=alt.Y(\"HOUR:O\", title=\"Hour of Day\"),\n",
    "        tooltip=[alt.Tooltip(\"DAY_OF_WEEK\", title=\"Day of Week\"),\n",
    "                alt.Tooltip(\"HOUR\", title=\"Hour of Day\"),\n",
    "                alt.Tooltip(\"num_offenses:Q\", title=\"Number of Offenses\")],\n",
    "        color=\"num_offenses:Q\"\n",
    "))\n",
    "\n",
    "heatmap = heatmap_base.mark_rect()\n",
    "heatmap_text = heatmap_base.mark_text(baseline='middle').encode(\n",
    "    text='num_offenses:Q',\n",
    "    color=alt.condition(\n",
    "        alt.datum.num_offenses < 1000,\n",
    "        alt.value('black'),\n",
    "        alt.value('white')\n",
    "    )\n",
    ")\n",
    "day_hour_counts = heatmap + heatmap_text\n",
    "day_hour_counts"
   ]
  }
 ],
 "metadata": {
  "kernelspec": {
   "display_name": "Python 3",
   "language": "python",
   "name": "python3"
  },
  "language_info": {
   "codemirror_mode": {
    "name": "ipython",
    "version": 3
   },
   "file_extension": ".py",
   "mimetype": "text/x-python",
   "name": "python",
   "nbconvert_exporter": "python",
   "pygments_lexer": "ipython3",
   "version": "3.7.3"
  }
 },
 "nbformat": 4,
 "nbformat_minor": 4
}
