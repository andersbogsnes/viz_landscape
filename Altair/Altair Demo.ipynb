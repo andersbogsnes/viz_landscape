{
 "cells": [
  {
   "cell_type": "code",
   "execution_count": 1,
   "metadata": {},
   "outputs": [],
   "source": [
    "import os\n",
    "import sys\n",
    "\n",
    "sys.path.insert(0, os.path.dirname(os.getcwd()))"
   ]
  },
  {
   "cell_type": "markdown",
   "metadata": {},
   "source": [
    "# Altair Demo\n",
    "\n",
    "We're using the same dataset as before, but Altair has one dirty little secret - all it does when you plot is generate a JSON file with all your data,\n",
    "and mappings and embed that into the html of your notebook, using Vega-lite to render that JSON into pretty D3.\n",
    "\n",
    "That means that for each plot you have, you're embedding a JSON copy of your data into the notebook - not good if your dataset is 300,000 rows like ours is.\n",
    "\n",
    "Luckily, Altair has solutions - it can stream from a file or from a url and Altair has mechanisms for doing that automatically.\n",
    "\n",
    "By setting the backend to `json`, I tell Altair to save my data to disk as a JSON and use a reference to that. There's also a [altair_data_server](https://github.com/altair-viz/altair_data_server) you can run to serve the data from. Or you can of course dump your DataFrame to JSON and reference that directly.\n",
    "\n",
    "Either way, Altair is not for Big Data™\n",
    "\n",
    "Back on track: We will be making four plots again:\n",
    "\n",
    "- [Number of Offenses per Month](#Number-of-Offenses-per-Month)\n",
    "- [Number of Shootings per Month](#Number-of-Shootings-per-Month)\n",
    "- [Top 10 Offense Code Groups](#Top-10-Offense-Code-Groups)\n",
    "- [Number of Offenses per Day of Week and Hour of Day](#Number-of-Offenses-per-Day-of-Week-and-Hour-of-Day)"
   ]
  },
  {
   "cell_type": "markdown",
   "metadata": {},
   "source": [
    "For some reason the ggplot2 theme colors are different here than in matplotlib?"
   ]
  },
  {
   "cell_type": "code",
   "execution_count": 4,
   "metadata": {},
   "outputs": [
    {
     "data": {
      "text/plain": [
       "DataTransformerRegistry.enable('json')"
      ]
     },
     "execution_count": 4,
     "metadata": {},
     "output_type": "execute_result"
    }
   ],
   "source": [
    "import altair as alt\n",
    "from load_data import load_data\n",
    "from config import RED\n",
    "\n",
    "alt.themes.enable('ggplot2')\n",
    "\n",
    "alt.data_transformers.enable('json')"
   ]
  },
  {
   "cell_type": "markdown",
   "metadata": {},
   "source": [
    "Due to the performance issue, I'm going to be using data only from 2018, otherwise I can't show you cool interactive stuff and that would suck ;-)"
   ]
  },
  {
   "cell_type": "code",
   "execution_count": 6,
   "metadata": {},
   "outputs": [
    {
     "data": {
      "text/html": [
       "<div>\n",
       "<style scoped>\n",
       "    .dataframe tbody tr th:only-of-type {\n",
       "        vertical-align: middle;\n",
       "    }\n",
       "\n",
       "    .dataframe tbody tr th {\n",
       "        vertical-align: top;\n",
       "    }\n",
       "\n",
       "    .dataframe thead th {\n",
       "        text-align: right;\n",
       "    }\n",
       "</style>\n",
       "<table border=\"1\" class=\"dataframe\">\n",
       "  <thead>\n",
       "    <tr style=\"text-align: right;\">\n",
       "      <th></th>\n",
       "      <th>INCIDENT_NUMBER</th>\n",
       "      <th>OFFENSE_CODE</th>\n",
       "      <th>OFFENSE_CODE_GROUP</th>\n",
       "      <th>OFFENSE_DESCRIPTION</th>\n",
       "      <th>DISTRICT</th>\n",
       "      <th>REPORTING_AREA</th>\n",
       "      <th>SHOOTING</th>\n",
       "      <th>OCCURRED_ON_DATE</th>\n",
       "      <th>YEAR</th>\n",
       "      <th>MONTH</th>\n",
       "      <th>DAY_OF_WEEK</th>\n",
       "      <th>HOUR</th>\n",
       "      <th>UCR_PART</th>\n",
       "      <th>STREET</th>\n",
       "      <th>Lat</th>\n",
       "      <th>Long</th>\n",
       "      <th>Location</th>\n",
       "    </tr>\n",
       "  </thead>\n",
       "  <tbody>\n",
       "    <tr>\n",
       "      <th>0</th>\n",
       "      <td>I182070945</td>\n",
       "      <td>619</td>\n",
       "      <td>Larceny</td>\n",
       "      <td>LARCENY ALL OTHERS</td>\n",
       "      <td>D14</td>\n",
       "      <td>808</td>\n",
       "      <td>0</td>\n",
       "      <td>2018-09-02 13:00:00</td>\n",
       "      <td>2018</td>\n",
       "      <td>9</td>\n",
       "      <td>Sunday</td>\n",
       "      <td>13</td>\n",
       "      <td>Part One</td>\n",
       "      <td>LINCOLN ST</td>\n",
       "      <td>42.357791</td>\n",
       "      <td>-71.139371</td>\n",
       "      <td>(42.35779134, -71.13937053)</td>\n",
       "    </tr>\n",
       "    <tr>\n",
       "      <th>1</th>\n",
       "      <td>I182070943</td>\n",
       "      <td>1402</td>\n",
       "      <td>Vandalism</td>\n",
       "      <td>VANDALISM</td>\n",
       "      <td>C11</td>\n",
       "      <td>347</td>\n",
       "      <td>0</td>\n",
       "      <td>2018-08-21 00:00:00</td>\n",
       "      <td>2018</td>\n",
       "      <td>8</td>\n",
       "      <td>Tuesday</td>\n",
       "      <td>0</td>\n",
       "      <td>Part Two</td>\n",
       "      <td>HECLA ST</td>\n",
       "      <td>42.306821</td>\n",
       "      <td>-71.060300</td>\n",
       "      <td>(42.30682138, -71.06030035)</td>\n",
       "    </tr>\n",
       "    <tr>\n",
       "      <th>2</th>\n",
       "      <td>I182070941</td>\n",
       "      <td>3410</td>\n",
       "      <td>Towed</td>\n",
       "      <td>TOWED MOTOR VEHICLE</td>\n",
       "      <td>D4</td>\n",
       "      <td>151</td>\n",
       "      <td>0</td>\n",
       "      <td>2018-09-03 19:27:00</td>\n",
       "      <td>2018</td>\n",
       "      <td>9</td>\n",
       "      <td>Monday</td>\n",
       "      <td>19</td>\n",
       "      <td>Part Three</td>\n",
       "      <td>CAZENOVE ST</td>\n",
       "      <td>42.346589</td>\n",
       "      <td>-71.072429</td>\n",
       "      <td>(42.34658879, -71.07242943)</td>\n",
       "    </tr>\n",
       "    <tr>\n",
       "      <th>3</th>\n",
       "      <td>I182070940</td>\n",
       "      <td>3114</td>\n",
       "      <td>Investigate Property</td>\n",
       "      <td>INVESTIGATE PROPERTY</td>\n",
       "      <td>D4</td>\n",
       "      <td>272</td>\n",
       "      <td>0</td>\n",
       "      <td>2018-09-03 21:16:00</td>\n",
       "      <td>2018</td>\n",
       "      <td>9</td>\n",
       "      <td>Monday</td>\n",
       "      <td>21</td>\n",
       "      <td>Part Three</td>\n",
       "      <td>NEWCOMB ST</td>\n",
       "      <td>42.334182</td>\n",
       "      <td>-71.078664</td>\n",
       "      <td>(42.33418175, -71.07866441)</td>\n",
       "    </tr>\n",
       "    <tr>\n",
       "      <th>4</th>\n",
       "      <td>I182070938</td>\n",
       "      <td>3114</td>\n",
       "      <td>Investigate Property</td>\n",
       "      <td>INVESTIGATE PROPERTY</td>\n",
       "      <td>B3</td>\n",
       "      <td>421</td>\n",
       "      <td>0</td>\n",
       "      <td>2018-09-03 21:05:00</td>\n",
       "      <td>2018</td>\n",
       "      <td>9</td>\n",
       "      <td>Monday</td>\n",
       "      <td>21</td>\n",
       "      <td>Part Three</td>\n",
       "      <td>DELHI ST</td>\n",
       "      <td>42.275365</td>\n",
       "      <td>-71.090361</td>\n",
       "      <td>(42.27536542, -71.09036101)</td>\n",
       "    </tr>\n",
       "  </tbody>\n",
       "</table>\n",
       "</div>"
      ],
      "text/plain": [
       "  INCIDENT_NUMBER  OFFENSE_CODE    OFFENSE_CODE_GROUP   OFFENSE_DESCRIPTION  \\\n",
       "0      I182070945           619               Larceny    LARCENY ALL OTHERS   \n",
       "1      I182070943          1402             Vandalism             VANDALISM   \n",
       "2      I182070941          3410                 Towed   TOWED MOTOR VEHICLE   \n",
       "3      I182070940          3114  Investigate Property  INVESTIGATE PROPERTY   \n",
       "4      I182070938          3114  Investigate Property  INVESTIGATE PROPERTY   \n",
       "\n",
       "  DISTRICT REPORTING_AREA  SHOOTING    OCCURRED_ON_DATE  YEAR  MONTH  \\\n",
       "0      D14            808         0 2018-09-02 13:00:00  2018      9   \n",
       "1      C11            347         0 2018-08-21 00:00:00  2018      8   \n",
       "2       D4            151         0 2018-09-03 19:27:00  2018      9   \n",
       "3       D4            272         0 2018-09-03 21:16:00  2018      9   \n",
       "4       B3            421         0 2018-09-03 21:05:00  2018      9   \n",
       "\n",
       "  DAY_OF_WEEK  HOUR    UCR_PART       STREET        Lat       Long  \\\n",
       "0      Sunday    13    Part One   LINCOLN ST  42.357791 -71.139371   \n",
       "1     Tuesday     0    Part Two     HECLA ST  42.306821 -71.060300   \n",
       "2      Monday    19  Part Three  CAZENOVE ST  42.346589 -71.072429   \n",
       "3      Monday    21  Part Three   NEWCOMB ST  42.334182 -71.078664   \n",
       "4      Monday    21  Part Three     DELHI ST  42.275365 -71.090361   \n",
       "\n",
       "                      Location  \n",
       "0  (42.35779134, -71.13937053)  \n",
       "1  (42.30682138, -71.06030035)  \n",
       "2  (42.34658879, -71.07242943)  \n",
       "3  (42.33418175, -71.07866441)  \n",
       "4  (42.27536542, -71.09036101)  "
      ]
     },
     "execution_count": 6,
     "metadata": {},
     "output_type": "execute_result"
    }
   ],
   "source": [
    "df = load_data().query('YEAR == 2018')\n",
    "\n",
    "df.head()"
   ]
  },
  {
   "cell_type": "code",
   "execution_count": 7,
   "metadata": {},
   "outputs": [],
   "source": [
    "brush = alt.selection_interval(encodings=['x'], empty='all')"
   ]
  },
  {
   "cell_type": "markdown",
   "metadata": {},
   "source": [
    "Since Altair is building up a JSON behind the scenes, it's easy to set up common bits and simply overwrite the properties as needed.\n",
    "Here we setup a common base, defining the size and something new. \n",
    "\n",
    "Altair supports data transformations as part of its grammar, so we can actually pass it raw data and declare data transformations in the plotting definition. \n",
    "\n",
    "Here I setup our chart with height and width defitions, and a new column called `month` containing a yearmonth version of our datetime, which all my other graphs can use - just as if I had added it to my dataframe upfront. Remember to DRY your code!"
   ]
  },
  {
   "cell_type": "code",
   "execution_count": 9,
   "metadata": {},
   "outputs": [],
   "source": [
    "data = alt.Chart(df).properties(\n",
    "    height=300,\n",
    "    width=600\n",
    ").transform_timeunit(month=\"yearmonth(OCCURRED_ON_DATE)\")"
   ]
  },
  {
   "cell_type": "markdown",
   "metadata": {},
   "source": [
    "# Number of Offenses per Month\n",
    "\n",
    "Now I can setup a base chart for my number of offenses graph by building on my data definition.\n",
    "\n",
    "I add a column called num_offenses by asking Altair to make a new column called `num_offenses` which is a simple count grouped by our previously defined `month` column"
   ]
  },
  {
   "cell_type": "code",
   "execution_count": 11,
   "metadata": {},
   "outputs": [],
   "source": [
    "offenses_base = (\n",
    "    data\n",
    "    .properties(title=\"Offenses per Month\")\n",
    "    .transform_aggregate(num_offenses='count()', groupby=[\"month\"])\n",
    ")"
   ]
  },
  {
   "cell_type": "markdown",
   "metadata": {},
   "source": [
    "Building on the base we just defined, I specify my encodings. If we want to give more details about our encodings, we can use the corresponding altair classes to specify additional options. Altair has a notion of type of data - whether it's Nominal, Ordinal, Quantitative or Time and will use that information to draw its plots. Often it can infer from the Dataframe dtypes, but our calculcated columns have to be specified. \n",
    "\n",
    "Note that I don't specify what mark to use - I want to have both circles and lines based on the same encoding, so I can just define the stuff they have in common here"
   ]
  },
  {
   "cell_type": "code",
   "execution_count": 12,
   "metadata": {},
   "outputs": [],
   "source": [
    "offenses_line = (offenses_base\n",
    "                 .encode(\n",
    "                     x=alt.X(\"month:T\", axis=alt.Axis(title=None)),\n",
    "                     y=alt.Y(\"num_offenses:Q\",scale=alt.Scale(zero=False), axis=alt.Axis(title=\"Monthly Offenses\")),\n",
    "                     tooltip=[alt.Tooltip(\"month:T\", title=\"Date\"),\n",
    "                              alt.Tooltip(\"count()\", title=\"Number of Offenses\")])\n",
    "                )"
   ]
  },
  {
   "cell_type": "markdown",
   "metadata": {},
   "source": [
    "Finally we also declare a mean line. Altair provides us with some shortcuts, so I can specify I want the mean of offenses directly - no calculated column needed."
   ]
  },
  {
   "cell_type": "code",
   "execution_count": 13,
   "metadata": {},
   "outputs": [],
   "source": [
    "offenses_mean = (\n",
    "    offenses_base\n",
    "    .mark_rule(strokeDash=[8, 3])\n",
    "    .transform_filter(brush)\n",
    "    .encode(\n",
    "        y=\"mean(num_offenses):Q\",\n",
    "        size=alt.value(1.5),\n",
    "        color=alt.value(RED)\n",
    "    )\n",
    ")"
   ]
  },
  {
   "cell_type": "markdown",
   "metadata": {},
   "source": [
    "Finally we add it all together (literally!). The `+` means _draw these on top of each other_ much like plotting on the same axis in matplotlib."
   ]
  },
  {
   "cell_type": "code",
   "execution_count": 14,
   "metadata": {},
   "outputs": [
    {
     "data": {
      "application/vnd.vegalite.v3+json": {
       "$schema": "https://vega.github.io/schema/vega-lite/v3.4.0.json",
       "config": {
        "mark": {
         "tooltip": null
        },
        "view": {
         "height": 300,
         "width": 400
        }
       },
       "data": {
        "format": {
         "type": "json"
        },
        "url": "altair-data-9ce9a51ad60e4e9c242ee2cdc552fdf8.json"
       },
       "layer": [
        {
         "encoding": {
          "tooltip": [
           {
            "field": "month",
            "title": "Date",
            "type": "temporal"
           },
           {
            "aggregate": "count",
            "title": "Number of Offenses",
            "type": "quantitative"
           }
          ],
          "x": {
           "axis": {
            "title": null
           },
           "field": "month",
           "type": "temporal"
          },
          "y": {
           "axis": {
            "title": "Monthly Offenses"
           },
           "field": "num_offenses",
           "scale": {
            "zero": false
           },
           "type": "quantitative"
          }
         },
         "height": 300,
         "mark": {
          "color": "#e26855",
          "interpolate": "monotone",
          "type": "line"
         },
         "selection": {
          "selector001": {
           "empty": "all",
           "encodings": [
            "x"
           ],
           "type": "interval"
          }
         },
         "title": "Offenses per Month",
         "transform": [
          {
           "as": "month",
           "field": "OCCURRED_ON_DATE",
           "timeUnit": "yearmonth"
          },
          {
           "aggregate": [
            {
             "as": "num_offenses",
             "op": "count"
            }
           ],
           "groupby": [
            "month"
           ]
          }
         ],
         "width": 600
        },
        {
         "encoding": {
          "tooltip": [
           {
            "field": "month",
            "title": "Date",
            "type": "temporal"
           },
           {
            "aggregate": "count",
            "title": "Number of Offenses",
            "type": "quantitative"
           }
          ],
          "x": {
           "axis": {
            "title": null
           },
           "field": "month",
           "type": "temporal"
          },
          "y": {
           "axis": {
            "title": "Monthly Offenses"
           },
           "field": "num_offenses",
           "scale": {
            "zero": false
           },
           "type": "quantitative"
          }
         },
         "height": 300,
         "mark": {
          "color": "black",
          "type": "circle"
         },
         "title": "Offenses per Month",
         "transform": [
          {
           "as": "month",
           "field": "OCCURRED_ON_DATE",
           "timeUnit": "yearmonth"
          },
          {
           "aggregate": [
            {
             "as": "num_offenses",
             "op": "count"
            }
           ],
           "groupby": [
            "month"
           ]
          }
         ],
         "width": 600
        },
        {
         "encoding": {
          "color": {
           "value": "#e26855"
          },
          "size": {
           "value": 1.5
          },
          "y": {
           "aggregate": "mean",
           "field": "num_offenses",
           "type": "quantitative"
          }
         },
         "height": 300,
         "mark": {
          "strokeDash": [
           8,
           3
          ],
          "type": "rule"
         },
         "title": "Offenses per Month",
         "transform": [
          {
           "as": "month",
           "field": "OCCURRED_ON_DATE",
           "timeUnit": "yearmonth"
          },
          {
           "aggregate": [
            {
             "as": "num_offenses",
             "op": "count"
            }
           ],
           "groupby": [
            "month"
           ]
          },
          {
           "filter": {
            "selection": "selector001"
           }
          }
         ],
         "width": 600
        }
       ],
       "usermeta": {
        "embedOptions": {
         "theme": "ggplot2"
        }
       }
      },
      "image/png": "[encoded data removed]",
      "text/plain": [
       "<VegaLite 3 object>\n",
       "\n",
       "If you see this message, it means the renderer has not been properly enabled\n",
       "for the frontend that you are using. For more information, see\n",
       "https://altair-viz.github.io/user_guide/troubleshooting.html\n"
      ]
     },
     "execution_count": 14,
     "metadata": {},
     "output_type": "execute_result"
    }
   ],
   "source": [
    "\n",
    "num_monthly_offenses = offenses_line.mark_line(interpolate='monotone', color=RED).add_selection(brush) + offenses_line.mark_circle(color=\"black\") + offenses_mean\n",
    "num_monthly_offenses"
   ]
  },
  {
   "cell_type": "markdown",
   "metadata": {},
   "source": [
    "That's some pretty neat interactivity! And it cost us three lines of code total!"
   ]
  },
  {
   "cell_type": "markdown",
   "metadata": {},
   "source": [
    "# Number of Shootings per Month\n",
    "\n",
    "The number of shootings graph looks pretty much the same:"
   ]
  },
  {
   "cell_type": "code",
   "execution_count": 15,
   "metadata": {},
   "outputs": [
    {
     "data": {
      "application/vnd.vegalite.v3+json": {
       "$schema": "https://vega.github.io/schema/vega-lite/v3.4.0.json",
       "config": {
        "mark": {
         "tooltip": null
        },
        "view": {
         "height": 300,
         "width": 400
        }
       },
       "data": {
        "format": {
         "type": "json"
        },
        "url": "altair-data-9ce9a51ad60e4e9c242ee2cdc552fdf8.json"
       },
       "layer": [
        {
         "encoding": {
          "tooltip": [
           {
            "field": "number_of_shootings",
            "title": "Number of Shootings",
            "type": "quantitative"
           },
           {
            "field": "month",
            "timeUnit": "yearmonth",
            "title": "Date",
            "type": "temporal"
           }
          ],
          "x": {
           "axis": {
            "title": null
           },
           "field": "month",
           "timeUnit": "yearmonth",
           "type": "temporal"
          },
          "y": {
           "axis": {
            "title": "Shootings pr Month"
           },
           "field": "number_of_shootings",
           "type": "quantitative"
          }
         },
         "height": 300,
         "mark": {
          "color": "#e26855",
          "interpolate": "monotone",
          "type": "line"
         },
         "selection": {
          "selector001": {
           "empty": "all",
           "encodings": [
            "x"
           ],
           "type": "interval"
          }
         },
         "title": "Monthly Shootings",
         "transform": [
          {
           "as": "month",
           "field": "OCCURRED_ON_DATE",
           "timeUnit": "yearmonth"
          },
          {
           "aggregate": [
            {
             "as": "number_of_shootings",
             "field": "SHOOTING",
             "op": "sum"
            }
           ],
           "groupby": [
            "month"
           ]
          }
         ],
         "width": 600
        },
        {
         "encoding": {
          "tooltip": [
           {
            "field": "number_of_shootings",
            "title": "Number of Shootings",
            "type": "quantitative"
           },
           {
            "field": "month",
            "timeUnit": "yearmonth",
            "title": "Date",
            "type": "temporal"
           }
          ],
          "x": {
           "axis": {
            "title": null
           },
           "field": "month",
           "timeUnit": "yearmonth",
           "type": "temporal"
          },
          "y": {
           "axis": {
            "title": "Shootings pr Month"
           },
           "field": "number_of_shootings",
           "type": "quantitative"
          }
         },
         "height": 300,
         "mark": {
          "color": "black",
          "type": "circle"
         },
         "title": "Monthly Shootings",
         "transform": [
          {
           "as": "month",
           "field": "OCCURRED_ON_DATE",
           "timeUnit": "yearmonth"
          },
          {
           "aggregate": [
            {
             "as": "number_of_shootings",
             "field": "SHOOTING",
             "op": "sum"
            }
           ],
           "groupby": [
            "month"
           ]
          }
         ],
         "width": 600
        },
        {
         "encoding": {
          "color": {
           "value": "#e26855"
          },
          "size": {
           "value": 1.5
          },
          "y": {
           "aggregate": "mean",
           "field": "number_of_shootings",
           "type": "quantitative"
          }
         },
         "height": 300,
         "mark": {
          "strokeDash": [
           8,
           3
          ],
          "type": "rule"
         },
         "title": "Monthly Shootings",
         "transform": [
          {
           "as": "month",
           "field": "OCCURRED_ON_DATE",
           "timeUnit": "yearmonth"
          },
          {
           "aggregate": [
            {
             "as": "number_of_shootings",
             "field": "SHOOTING",
             "op": "sum"
            }
           ],
           "groupby": [
            "month"
           ]
          },
          {
           "filter": {
            "selection": "selector001"
           }
          }
         ],
         "width": 600
        }
       ],
       "usermeta": {
        "embedOptions": {
         "theme": "ggplot2"
        }
       }
      },
      "image/png": "[encoded data removed]",
      "text/plain": [
       "<VegaLite 3 object>\n",
       "\n",
       "If you see this message, it means the renderer has not been properly enabled\n",
       "for the frontend that you are using. For more information, see\n",
       "https://altair-viz.github.io/user_guide/troubleshooting.html\n"
      ]
     },
     "execution_count": 15,
     "metadata": {},
     "output_type": "execute_result"
    }
   ],
   "source": [
    "shooting_base = (data\n",
    "        .properties(title=\"Monthly Shootings\")\n",
    "        .transform_aggregate(\n",
    "            number_of_shootings=\"sum(SHOOTING)\",\n",
    "            groupby=[\"month\"])\n",
    "       )\n",
    "\n",
    "shootings = (shooting_base\n",
    "             .mark_line(interpolate='monotone', color=RED)\n",
    "             .encode(x=alt.X(\"month:T\", timeUnit=\"yearmonth\", axis=alt.Axis(title=None)),\n",
    "                     y=alt.Y(\"number_of_shootings:Q\", axis=alt.Axis(title=\"Shootings pr Month\")),\n",
    "                     tooltip=[alt.Tooltip(\"number_of_shootings:Q\", title=\"Number of Shootings\"),\n",
    "                              alt.Tooltip(\"yearmonth(month)\", title=\"Date\")])\n",
    "             \n",
    "            )\n",
    "\n",
    "shootings_mean_line = shooting_base.encode(\n",
    "    y=\"mean(number_of_shootings):Q\",\n",
    "    color=alt.value(RED),\n",
    "    size=alt.value(1.5)\n",
    ").mark_rule(strokeDash=[8, 3]).transform_filter(brush)\n",
    "\n",
    "\n",
    "shootings_per_month =  shootings.add_selection(brush) + shootings.mark_circle(color=\"black\") + shootings_mean_line\n",
    "shootings_per_month"
   ]
  },
  {
   "cell_type": "markdown",
   "metadata": {},
   "source": [
    "# Top 10 Offense Code Groups\n",
    "\n",
    "Here Altair shows off some of it's data transformation capabilities. We aggregate by doing a count per OFFENSE_CODE_GROUP, use a transform_window to get a ranking of the sorted counts and then we filter out all the rows where rank < 10 \n",
    "\n",
    "_Note: datum is a generic row accessor - imagine it as the `i` of an iterator_\n",
    "\n",
    "It's easy to miss, but nowhere have I said I want a barh. By specifying that my y encoding is the OFFENSE_CODE_GROUP column, Altair figures out that a horizontal bar chart is the way to represent my encodings.\n",
    "\n",
    "Also, how much easier was it to add text labels? I simply built on top of my existing graph, defining an additional encoding and mark, `+` them together and voila!"
   ]
  },
  {
   "cell_type": "code",
   "execution_count": 16,
   "metadata": {},
   "outputs": [
    {
     "data": {
      "application/vnd.vegalite.v3+json": {
       "$schema": "https://vega.github.io/schema/vega-lite/v3.4.0.json",
       "config": {
        "mark": {
         "tooltip": null
        },
        "view": {
         "height": 300,
         "width": 400
        }
       },
       "data": {
        "format": {
         "type": "json"
        },
        "url": "altair-data-9ce9a51ad60e4e9c242ee2cdc552fdf8.json"
       },
       "layer": [
        {
         "encoding": {
          "text": {
           "field": "count",
           "type": "quantitative"
          },
          "x": {
           "field": "count",
           "type": "quantitative"
          },
          "y": {
           "field": "OFFENSE_CODE_GROUP",
           "sort": {
            "field": "count",
            "op": "sum",
            "order": "descending"
           },
           "title": "Code Group",
           "type": "nominal"
          }
         },
         "height": 300,
         "mark": {
          "align": "left",
          "baseline": "middle",
          "dx": 3,
          "type": "text"
         },
         "title": "Top 10 Offense Code Groups",
         "transform": [
          {
           "as": "month",
           "field": "OCCURRED_ON_DATE",
           "timeUnit": "yearmonth"
          },
          {
           "aggregate": [
            {
             "as": "count",
             "op": "count"
            }
           ],
           "groupby": [
            "OFFENSE_CODE_GROUP"
           ]
          },
          {
           "sort": [
            {
             "field": "count",
             "order": "descending"
            }
           ],
           "window": [
            {
             "as": "rank",
             "field": "count",
             "op": "rank"
            }
           ]
          },
          {
           "filter": "(datum.rank < 10)"
          }
         ],
         "width": 600
        },
        {
         "encoding": {
          "x": {
           "field": "count",
           "type": "quantitative"
          },
          "y": {
           "field": "OFFENSE_CODE_GROUP",
           "sort": {
            "field": "count",
            "op": "sum",
            "order": "descending"
           },
           "title": "Code Group",
           "type": "nominal"
          }
         },
         "height": 300,
         "mark": "bar",
         "title": "Top 10 Offense Code Groups",
         "transform": [
          {
           "as": "month",
           "field": "OCCURRED_ON_DATE",
           "timeUnit": "yearmonth"
          },
          {
           "aggregate": [
            {
             "as": "count",
             "op": "count"
            }
           ],
           "groupby": [
            "OFFENSE_CODE_GROUP"
           ]
          },
          {
           "sort": [
            {
             "field": "count",
             "order": "descending"
            }
           ],
           "window": [
            {
             "as": "rank",
             "field": "count",
             "op": "rank"
            }
           ]
          },
          {
           "filter": "(datum.rank < 10)"
          }
         ],
         "width": 600
        }
       ],
       "usermeta": {
        "embedOptions": {
         "theme": "ggplot2"
        }
       }
      },
      "image/png": "[encoded data removed]",
      "text/plain": [
       "<VegaLite 3 object>\n",
       "\n",
       "If you see this message, it means the renderer has not been properly enabled\n",
       "for the frontend that you are using. For more information, see\n",
       "https://altair-viz.github.io/user_guide/troubleshooting.html\n"
      ]
     },
     "execution_count": 16,
     "metadata": {},
     "output_type": "execute_result"
    }
   ],
   "source": [
    "top10 = (data\n",
    "         .properties(title=\"Top 10 Offense Code Groups\")\n",
    "         .transform_aggregate(\n",
    "            count='count()',\n",
    "            groupby=['OFFENSE_CODE_GROUP'])\n",
    "         .transform_window(\n",
    "             rank='rank(count)',\n",
    "             sort=[alt.SortField('count', order='descending')])\n",
    "         .transform_filter(alt.datum.rank < 10)\n",
    "         .mark_bar()\n",
    "         .encode(\n",
    "             y=alt.Y('OFFENSE_CODE_GROUP:N', sort=alt.EncodingSortField(field='count', op='sum', order='descending'), title=\"Code Group\"),\n",
    "             x='count:Q')\n",
    "        )\n",
    "\n",
    "labels = top10.mark_text(\n",
    "    baseline='middle',\n",
    "    align='left',\n",
    "    dx=3\n",
    ").encode(\n",
    "    text='count:Q'\n",
    ")\n",
    "top10_code_groups = labels + top10\n",
    "top10_code_groups"
   ]
  },
  {
   "cell_type": "markdown",
   "metadata": {},
   "source": [
    "# Number of Offenses per Day of Week and Hour of Day\n",
    "\n",
    "The heatmap works on the same principles, just taking advantage of the fact that I can group by two columns and swap out my `mark_bar` with a `mark_rect`\n",
    "\n",
    "Note that I tell Altair to treat my HOUR column as an ordinal, even though its an int. Otherwise Altair would think HOUR is quantitative, and draw me a different graph.\n",
    "\n",
    "Declarative is fun!"
   ]
  },
  {
   "cell_type": "code",
   "execution_count": 32,
   "metadata": {},
   "outputs": [
    {
     "data": {
      "application/vnd.vegalite.v3+json": {
       "$schema": "https://vega.github.io/schema/vega-lite/v3.4.0.json",
       "config": {
        "mark": {
         "tooltip": null
        },
        "view": {
         "height": 300,
         "width": 400
        }
       },
       "data": {
        "format": {
         "type": "json"
        },
        "url": "altair-data-9ce9a51ad60e4e9c242ee2cdc552fdf8.json"
       },
       "layer": [
        {
         "encoding": {
          "color": {
           "field": "num_offenses",
           "type": "quantitative"
          },
          "tooltip": [
           {
            "field": "DAY_OF_WEEK",
            "title": "Day of Week",
            "type": "nominal"
           },
           {
            "field": "HOUR",
            "title": "Hour of Day",
            "type": "quantitative"
           },
           {
            "field": "num_offenses",
            "title": "Number of Offenses",
            "type": "quantitative"
           }
          ],
          "x": {
           "field": "DAY_OF_WEEK",
           "title": "Day of Week",
           "type": "ordinal"
          },
          "y": {
           "field": "HOUR",
           "title": "Hour of Day",
           "type": "ordinal"
          }
         },
         "height": 600,
         "mark": "rect",
         "title": "Counts by Day and Hour",
         "transform": [
          {
           "as": "month",
           "field": "OCCURRED_ON_DATE",
           "timeUnit": "yearmonth"
          },
          {
           "aggregate": [
            {
             "as": "num_offenses",
             "op": "count"
            }
           ],
           "groupby": [
            "HOUR",
            "DAY_OF_WEEK"
           ]
          }
         ],
         "width": 400
        },
        {
         "encoding": {
          "color": {
           "condition": {
            "test": "(datum.num_offenses < 500)",
            "value": "black"
           },
           "value": "white"
          },
          "text": {
           "field": "num_offenses",
           "type": "quantitative"
          },
          "tooltip": [
           {
            "field": "DAY_OF_WEEK",
            "title": "Day of Week",
            "type": "nominal"
           },
           {
            "field": "HOUR",
            "title": "Hour of Day",
            "type": "quantitative"
           },
           {
            "field": "num_offenses",
            "title": "Number of Offenses",
            "type": "quantitative"
           }
          ],
          "x": {
           "field": "DAY_OF_WEEK",
           "title": "Day of Week",
           "type": "ordinal"
          },
          "y": {
           "field": "HOUR",
           "title": "Hour of Day",
           "type": "ordinal"
          }
         },
         "height": 600,
         "mark": {
          "baseline": "middle",
          "type": "text"
         },
         "title": "Counts by Day and Hour",
         "transform": [
          {
           "as": "month",
           "field": "OCCURRED_ON_DATE",
           "timeUnit": "yearmonth"
          },
          {
           "aggregate": [
            {
             "as": "num_offenses",
             "op": "count"
            }
           ],
           "groupby": [
            "HOUR",
            "DAY_OF_WEEK"
           ]
          }
         ],
         "width": 400
        }
       ],
       "usermeta": {
        "embedOptions": {
         "theme": "ggplot2"
        }
       }
      },
      "image/png": "[encoded data removed]",
      "text/plain": [
       "<VegaLite 3 object>\n",
       "\n",
       "If you see this message, it means the renderer has not been properly enabled\n",
       "for the frontend that you are using. For more information, see\n",
       "https://altair-viz.github.io/user_guide/troubleshooting.html\n"
      ]
     },
     "execution_count": 32,
     "metadata": {},
     "output_type": "execute_result"
    }
   ],
   "source": [
    "heatmap_base = (\n",
    "    data\n",
    "    .properties(title=\"Counts by Day and Hour\", height=600, width=400)\n",
    "    .transform_aggregate(\n",
    "        num_offenses=\"count()\",\n",
    "        groupby=[\"HOUR\", \"DAY_OF_WEEK\"]\n",
    "    )\n",
    "    .encode(\n",
    "        x=alt.X(\"DAY_OF_WEEK:O\", title=\"Day of Week\"),\n",
    "        y=alt.Y(\"HOUR:O\", title=\"Hour of Day\"),\n",
    "        tooltip=[alt.Tooltip(\"DAY_OF_WEEK\", title=\"Day of Week\"),\n",
    "                alt.Tooltip(\"HOUR\", title=\"Hour of Day\"),\n",
    "                alt.Tooltip(\"num_offenses:Q\", title=\"Number of Offenses\")],\n",
    "        color=\"num_offenses:Q\"\n",
    "))\n",
    "\n",
    "heatmap = heatmap_base.mark_rect()\n",
    "heatmap_text = heatmap_base.mark_text(baseline='middle').encode(\n",
    "    text='num_offenses:Q',\n",
    "    color=alt.condition(\n",
    "        alt.datum.num_offenses < 500,\n",
    "        alt.value('black'),\n",
    "        alt.value('white')\n",
    "    )\n",
    ")\n",
    "day_hour_counts = heatmap + heatmap_text\n",
    "day_hour_counts"
   ]
  }
 ],
 "metadata": {
  "kernelspec": {
   "display_name": "Python 3",
   "language": "python",
   "name": "python3"
  },
  "language_info": {
   "codemirror_mode": {
    "name": "ipython",
    "version": 3
   },
   "file_extension": ".py",
   "mimetype": "text/x-python",
   "name": "python",
   "nbconvert_exporter": "python",
   "pygments_lexer": "ipython3",
   "version": "3.7.4"
  }
 },
 "nbformat": 4,
 "nbformat_minor": 4
}
